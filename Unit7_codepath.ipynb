{
  "nbformat": 4,
  "nbformat_minor": 0,
  "metadata": {
    "colab": {
      "provenance": [],
      "authorship_tag": "ABX9TyOXzjlRCKVnlnz1dfXlrLVB",
      "include_colab_link": true
    },
    "kernelspec": {
      "name": "python3",
      "display_name": "Python 3"
    },
    "language_info": {
      "name": "python"
    }
  },
  "cells": [
    {
      "cell_type": "markdown",
      "metadata": {
        "id": "view-in-github",
        "colab_type": "text"
      },
      "source": [
        "<a href=\"https://colab.research.google.com/github/RuiyuHuang50/TIP102_Solution_Codepath/blob/main/Unit7_codepath.ipynb\" target=\"_parent\"><img src=\"https://colab.research.google.com/assets/colab-badge.svg\" alt=\"Open In Colab\"/></a>"
      ]
    },
    {
      "cell_type": "markdown",
      "source": [
        "#Cheatsheet\n"
      ],
      "metadata": {
        "id": "1YCCQ-xS3aRL"
      }
    },
    {
      "cell_type": "markdown",
      "source": [
        "##Recursion"
      ],
      "metadata": {
        "id": "Nn8Cxdeg8sOO"
      }
    },
    {
      "cell_type": "code",
      "execution_count": null,
      "metadata": {
        "id": "g867vGZQWbYR"
      },
      "outputs": [],
      "source": [
        "#recursion\n",
        "\n",
        "def recursive_crash():\n",
        "    print(\"I will run forever\")\n",
        "    recursive_crash()\n"
      ]
    },
    {
      "cell_type": "code",
      "source": [
        "##recursion use top down approach, take the overall problem into small subproblems\n",
        "def count_iterative(num):\n",
        "  i =1\n",
        "  while i <= num:\n",
        "    print(f\"Count {i}\")\n",
        "    i += 1\n",
        "\n",
        "print(count_iterative(5))\n"
      ],
      "metadata": {
        "colab": {
          "base_uri": "https://localhost:8080/"
        },
        "id": "gQFpOrV33slP",
        "outputId": "e427ab33-cc59-4714-a412-d5885b265749"
      },
      "execution_count": null,
      "outputs": [
        {
          "output_type": "stream",
          "name": "stdout",
          "text": [
            "Count 1\n",
            "Count 2\n",
            "Count 3\n",
            "Count 4\n",
            "None\n"
          ]
        }
      ]
    },
    {
      "cell_type": "code",
      "source": [
        "from re import L\n",
        "def count_recursive(num):\n",
        "  print(f\"Count {num}\")\n",
        "  if num == 5:\n",
        "    return\n",
        "  else:\n",
        "    count_recursive(num + 1)\n",
        "\n",
        "\n",
        "print(count_iterative(5))"
      ],
      "metadata": {
        "colab": {
          "base_uri": "https://localhost:8080/"
        },
        "id": "Dl1zQ7Hb4WX-",
        "outputId": "707faf9f-d82d-4a16-f9ef-23c96c23d585"
      },
      "execution_count": null,
      "outputs": [
        {
          "output_type": "stream",
          "name": "stdout",
          "text": [
            "Count 1\n",
            "Count 2\n",
            "Count 3\n",
            "Count 4\n",
            "None\n"
          ]
        }
      ]
    },
    {
      "cell_type": "markdown",
      "source": [
        "Every recursive frunction have two parts:\n",
        "1. the base case, which is the end condition, to end the loo. Often the base case is the smallest subproblem of the overall\n",
        "2. the recursive case, the recursive case calls the function again\n"
      ],
      "metadata": {
        "id": "G5v7xvOw436E"
      }
    },
    {
      "cell_type": "code",
      "source": [
        "def count_recursive(num):\n",
        "    # Action to repeat\n",
        "    print(f\"Count {num}!\")\n",
        "\n",
        "    # Base Case: If num is 1 we want to stop counting down\n",
        "    if num == 1:\n",
        "        # Terminate the function by returning\n",
        "        return\n",
        "\n",
        "    # Recursive Case: If num is larger than 1\n",
        "    else:\n",
        "       # Call count_recursive() again, but decrement the input value by 1\n",
        "       count_recursive(num - 1)"
      ],
      "metadata": {
        "id": "BgC9sWay5VzU"
      },
      "execution_count": null,
      "outputs": []
    },
    {
      "cell_type": "code",
      "source": [
        "# Check if a given value is odd\n",
        "def is_odd(n):\n",
        "\n",
        "  # Base Case 1: n is 0, which is not odd\n",
        "  if n == 0:\n",
        "    # Return False\n",
        "    return False\n",
        "  # Base Case 2: n is 1, which is odd\n",
        "  if n == 1:\n",
        "    # Return True\n",
        "    return True\n",
        "\n",
        "  # Recursive case: n is greater than 1\n",
        "  else:\n",
        "    # Check if the input subtracted by 2 is odd\n",
        "    # If n - 2 is odd, n must also be odd\n",
        "    return is_odd(n - 2)\n",
        "\n",
        "test_odd_value = is_odd(5)\n",
        "test_even_value = is_odd(6)\n",
        "\n",
        "print(test_odd_value) # Prints True\n",
        "print(test_even_value) # Prints False"
      ],
      "metadata": {
        "colab": {
          "base_uri": "https://localhost:8080/"
        },
        "id": "r2giI9H35gCb",
        "outputId": "8b863cd5-3463-49e9-80ee-7bc242530c7c"
      },
      "execution_count": null,
      "outputs": [
        {
          "output_type": "stream",
          "name": "stdout",
          "text": [
            "True\n",
            "False\n"
          ]
        }
      ]
    },
    {
      "cell_type": "code",
      "source": [
        "# Count the number of even values in a list\n",
        "def count_evens(lst):\n",
        "  # Base case: The list is empty\n",
        "  if not lst:\n",
        "    # There are 0 even values in the list\n",
        "    return 0\n",
        "\n",
        "  # Recursive Case 1: The first value in the list is even\n",
        "  if lst[0] % 2 == 0:\n",
        "    # Count of even values is 1 + the count of evens in the rest of the list\n",
        "    return 1 + count_evens(lst[1:])\n",
        "  # Recursive Case 2: The first value in the list is odd\n",
        "  else:\n",
        "    # Count of even values is the count of evens in the rest of the list\n",
        "    return count_evens(lst[1:])\n",
        "\n",
        "output = count_evens([1, 2, 3, 4,5, 7,8,10,12,14,16])\n",
        "print(output)"
      ],
      "metadata": {
        "colab": {
          "base_uri": "https://localhost:8080/"
        },
        "id": "cGEsNo2q5grW",
        "outputId": "547ce008-db1e-4113-eaad-af937ee32085"
      },
      "execution_count": null,
      "outputs": [
        {
          "output_type": "stream",
          "name": "stdout",
          "text": [
            "7\n"
          ]
        }
      ]
    },
    {
      "cell_type": "code",
      "source": [
        "### Usually the iterative algo would have the ACCUMULATOR to collect the final result\n",
        "def count_evens_iterative(lst):\n",
        "    # Accumulator variable\n",
        "    count = 0\n",
        "    for num in lst:\n",
        "        if num % 2 == 0:\n",
        "            count += 1\n",
        "    return count\n",
        "\n",
        "## this is the recursive one\n",
        "def count_evens(lst):\n",
        "  if lst[0] % 2 == 0:\n",
        "    # Count of even values is 1 + the count of evens in the rest of the list\n",
        "    return 1 + count_evens(lst[1:])\n"
      ],
      "metadata": {
        "id": "SqYO9j2x6FLW"
      },
      "execution_count": null,
      "outputs": []
    },
    {
      "cell_type": "code",
      "source": [
        "##recursive driver and helper function\n",
        "\n",
        "def partition_evens_odds(lst):\n",
        "  return recurse_partition(lst, [], [])\n",
        "\n",
        "def recurse_partition(lst, evens, odds):\n",
        "  if not lst:\n",
        "      return evens, odds\n",
        "  if lst[0] % 2 == 0:\n",
        "      evens.append(lst[0])\n",
        "  else:\n",
        "      odds.append(lst[0])\n",
        "  return recurse_partition(lst[1:], evens, odds)\n",
        "\n",
        "\n",
        "lst = [1, 2, 3, 4, 5, 6, 7, 8, 9,11,14,15,17]\n",
        "evens, odds = partition_evens_odds(lst)\n",
        "print(evens)\n",
        "print(odds)"
      ],
      "metadata": {
        "colab": {
          "base_uri": "https://localhost:8080/"
        },
        "id": "r-gdwe5B62mU",
        "outputId": "a4d95dc1-2846-4e53-dcbc-a4db4d922f6c"
      },
      "execution_count": null,
      "outputs": [
        {
          "output_type": "stream",
          "name": "stdout",
          "text": [
            "[2, 4, 6, 8, 14]\n",
            "[1, 3, 5, 7, 9, 11, 15, 17]\n"
          ]
        }
      ]
    },
    {
      "cell_type": "code",
      "source": [
        "evens = []\n",
        "odds = []\n",
        "\n",
        "def partition_evens_odds(lst):\n",
        " # if being put inside here, the evens and odds becomes an empty list every time we call the function\n",
        "    if not lst:\n",
        "        return evens, odds\n",
        "    if lst[0] % 2 == 0:\n",
        "        evens.append(lst[0])\n",
        "    else:\n",
        "        odds.append(lst[0])\n",
        "    return partition_evens_odds(lst[1:])\n",
        "\n",
        "\n",
        "lst = [1, 2, 3, 4, 5, 6, 7, 8, 9,11,14,15,17]\n",
        "evens, odds = partition_evens_odds(lst)\n",
        "print(evens)\n",
        "print(odds)"
      ],
      "metadata": {
        "colab": {
          "base_uri": "https://localhost:8080/"
        },
        "id": "UWaTs2bm7c2M",
        "outputId": "945ba724-e780-4a49-97fe-fd6b35ebb659"
      },
      "execution_count": null,
      "outputs": [
        {
          "output_type": "stream",
          "name": "stdout",
          "text": [
            "[2, 4, 6, 8, 14]\n",
            "[1, 3, 5, 7, 9, 11, 15, 17]\n"
          ]
        }
      ]
    },
    {
      "cell_type": "code",
      "source": [
        "#another way\n",
        "def partition_evens_odds(lst, evens, odds):\n",
        "  if not lst:\n",
        "      return evens, odds\n",
        "  if lst[0] % 2 == 0:\n",
        "      evens.append(lst[0])\n",
        "  else:\n",
        "      odds.append(lst[0])\n",
        "  return partition_evens_odds(lst[1:], evens, odds)\n",
        "\n",
        "\n",
        "lst = [1, 2, 3, 4, 5, 6, 7, 8, 9]\n",
        "evens, odds = partition_evens_odds(lst, [], []) # User has to pass in empty lists to hold result\n",
        "print(evens) # Prints: [2, 4, 6, 8]\n",
        "print(odds)  # Prints: [1, 3, 5, 7, 9]"
      ],
      "metadata": {
        "colab": {
          "base_uri": "https://localhost:8080/"
        },
        "id": "6Rafx8n98lzN",
        "outputId": "9d8949aa-5f89-4b3b-830c-ba9cc57b290d"
      },
      "execution_count": null,
      "outputs": [
        {
          "output_type": "stream",
          "name": "stdout",
          "text": [
            "[2, 4, 6, 8]\n",
            "[1, 3, 5, 7, 9]\n"
          ]
        }
      ]
    },
    {
      "cell_type": "markdown",
      "source": [
        "##Divide and Conquer Algo\n",
        "The method to solve the problem by breaking the overall problem down into subproblems, solve each subproblem and then combining the results to find the final answer.\n",
        "\n",
        "1. Binary search\n",
        "The time complexity is O(logn)\n",
        "* check weather the middle value of the list is the target\n",
        "* if the middle value is the target value, return the index of the middle value\n",
        "* Determine wether target would be in the left or the right\n",
        "2. Merge Sort\n",
        "* Divide the list into two halve at each step until we have sublist of length 1\n",
        "* Conquer each subproblem and then sort each sublist\n",
        "* Combine the sorted list be merge them together\n",
        "\n",
        "Time complexity\n",
        "Logn"
      ],
      "metadata": {
        "id": "zRQT3Xed8wH8"
      }
    },
    {
      "cell_type": "code",
      "source": [
        "def binary_search(numbers, value):\n",
        "    low = 0\n",
        "    high = len(numbers) - 1\n",
        "    while low <= high:\n",
        "        mid = (low + high) // 2\n",
        "        if numbers[mid] > value:\n",
        "            high = mid - 1\n",
        "        elif numbers[mid] < value:\n",
        "            low = mid + 1\n",
        "        else:\n",
        "            return mid\n",
        "    return None\n",
        "\n",
        "a_list= [1,2,3,4,5,6,8]\n",
        "print(binary_search(a_list, 6))"
      ],
      "metadata": {
        "colab": {
          "base_uri": "https://localhost:8080/"
        },
        "id": "Xuf-m9WH7HRS",
        "outputId": "8c087c75-95c7-4340-f495-53156d7ec609"
      },
      "execution_count": null,
      "outputs": [
        {
          "output_type": "stream",
          "name": "stdout",
          "text": [
            "5\n"
          ]
        }
      ]
    },
    {
      "cell_type": "markdown",
      "source": [
        "Merge Sort algo time complexity is O(nlogn), most often seen with merge sort and quick sort algorithm. The n in O(nlog) is a linear pass through all element in the input, the logn is the number of time the input is split or reduced in size."
      ],
      "metadata": {
        "id": "A5lzyEqB8dpm"
      }
    },
    {
      "cell_type": "code",
      "source": [
        "def merge_sort(arr):\n",
        "  if len(arr) <= 1:\n",
        "      return arr  # Base case: arrays with 1 or no elements are already sorted\n",
        "\n",
        "  # Divide the array into two halves\n",
        "  mid = len(arr) // 2\n",
        "  left_half = merge_sort(arr[:mid])\n",
        "  right_half = merge_sort(arr[mid:])\n",
        "\n",
        "  # Merge the soprint(can_attend([1, 3, 7, 10, 12], 12))\n",
        "print(can_attend([1, 3, 7, 10, 12], 5))rted halves\n",
        "  return merge(left_half, right_half)\n",
        "\n",
        "def merge(left, right):\n",
        "    result = []\n",
        "    i = 0  # Pointer for left half\n",
        "    j = 0  # Pointer for right half\n",
        "\n",
        "    # Compare elements from both halves and merge them in sorted order\n",
        "    while i < len(left) and j < len(right):\n",
        "        if left[i] < right[j]:\n",
        "            result.append(left[i])\n",
        "            i += 1\n",
        "        else:\n",
        "            result.append(right[j])\n",
        "            j += 1\n",
        "\n",
        "    # Append any remaining elements in the left or right half\n",
        "    result.extend(left[i:])\n",
        "    result.extend(right[j:])\n",
        "\n",
        "    return result"
      ],
      "metadata": {
        "id": "2M0Xa7A68Uf7"
      },
      "execution_count": null,
      "outputs": []
    },
    {
      "cell_type": "markdown",
      "source": [
        "#Session1\n"
      ],
      "metadata": {
        "id": "g_hF0PFk-hct"
      }
    },
    {
      "cell_type": "markdown",
      "source": [
        "##Standard1\n"
      ],
      "metadata": {
        "id": "AQ8bBhvP-mIC"
      }
    },
    {
      "cell_type": "code",
      "source": [
        "###problem1\n",
        "def count_suits_iterative(suits):\n",
        "    cnt = 0\n",
        "    for suit in suits:\n",
        "      cnt += 1\n",
        "    return cnt\n",
        "\n",
        "def count_suits_recursive(suits):\n",
        "    if not suits: # Base case: an empty list has 0 suits\n",
        "        return 0\n",
        "    if suits:\n",
        "      return 1 + count_suits_recursive(suits[1:])\n",
        "\n",
        "print(count_suits_iterative([\"Mark I\", \"Mark II\", \"Mark III\"]))\n",
        "print(count_suits_recursive([\"Mark I\", \"Mark I\", \"Mark III\", \"Mark IV\"]))"
      ],
      "metadata": {
        "colab": {
          "base_uri": "https://localhost:8080/"
        },
        "id": "xLtnD2iw-mtd",
        "outputId": "fcedef25-1f26-4ca0-daf1-4c79d46eb0b7"
      },
      "execution_count": null,
      "outputs": [
        {
          "output_type": "stream",
          "name": "stdout",
          "text": [
            "3\n",
            "4\n"
          ]
        }
      ]
    },
    {
      "cell_type": "code",
      "source": [
        "\n",
        "###problem2\n",
        "def sum_stones(stones):\n",
        "  if not stones:\n",
        "    return 0\n",
        "  return stones[0] + sum_stones(stones[1:])\n",
        "\n",
        "print(sum_stones([5, 10, 15, 20, 25, 30]))\n",
        "print(sum_stones([12, 8, 22, 16, 10]))\n"
      ],
      "metadata": {
        "colab": {
          "base_uri": "https://localhost:8080/"
        },
        "id": "p9syOvZQ-hGm",
        "outputId": "31490f0c-c47d-4ec8-d721-7760c4073308"
      },
      "execution_count": null,
      "outputs": [
        {
          "output_type": "stream",
          "name": "stdout",
          "text": [
            "105\n",
            "68\n"
          ]
        }
      ]
    },
    {
      "cell_type": "code",
      "source": [
        "###problem3\n",
        "def count_suits_iterative(suits):\n",
        "    cnt = {}\n",
        "    for suit in suits:\n",
        "      if suit in cnt:\n",
        "        cnt[suit] += 1\n",
        "      else:\n",
        "        cnt[suit] = 1\n",
        "    return len(cnt)\n",
        "\n",
        "\n",
        "def count_suits_recursive(suits):\n",
        "\n",
        "    if not suits:\n",
        "      return 0\n",
        "    first = suits[0]\n",
        "    rest = count_suits_recursive(suits[1:])\n",
        "    if first in suits[1:]:\n",
        "      return rest\n",
        "    else:\n",
        "      return 1 + rest\n",
        "\n",
        "print(count_suits_iterative([\"Mark I\", \"Mark II\", \"Mark III\"]))\n",
        "print(count_suits_recursive([\"Mark I\", \"Mark I\", \"Mark III\", \"Mark IV\"]))"
      ],
      "metadata": {
        "colab": {
          "base_uri": "https://localhost:8080/"
        },
        "id": "DLVfyyoU-eVR",
        "outputId": "8dbdab6c-778e-4ba5-88e6-151773364548"
      },
      "execution_count": null,
      "outputs": [
        {
          "output_type": "stream",
          "name": "stdout",
          "text": [
            "3\n",
            "3\n"
          ]
        }
      ]
    },
    {
      "cell_type": "code",
      "source": [
        "###problem 4\n",
        "# Time complexity of recursive is On and the space complexity of it is On too\n",
        "def fibonacci_growth(n):\n",
        "  if n == 0:\n",
        "    return 0\n",
        "  elif n ==1:\n",
        "    return 1\n",
        "  else:\n",
        "    return fibonacci_growth(n-1) + fibonacci_growth(n-2)\n",
        "\n",
        "\n",
        "print(fibonacci_growth(5))\n",
        "print(fibonacci_growth(8))"
      ],
      "metadata": {
        "colab": {
          "base_uri": "https://localhost:8080/"
        },
        "id": "cRzw_mQfEs5B",
        "outputId": "ee42188a-307a-4d65-ca97-4d9fd49dadc0"
      },
      "execution_count": null,
      "outputs": [
        {
          "output_type": "stream",
          "name": "stdout",
          "text": [
            "5\n",
            "21\n"
          ]
        }
      ]
    },
    {
      "cell_type": "code",
      "metadata": {
        "colab": {
          "base_uri": "https://localhost:8080/"
        },
        "id": "cef4089d",
        "outputId": "710f85b8-ff4f-4178-8ba7-aa90ca3ba39b"
      },
      "source": [
        "# Corrected problem5\n",
        "# Calculate 4 to the power of n\n",
        "def power_of_four_recursive(n):\n",
        "  # Base Case: 4 to the power of 0 is 1\n",
        "  if n == 0:\n",
        "    return 1\n",
        "  # Handle negative exponents (optional, depends on requirements)\n",
        "  elif n < 0:\n",
        "      return 1 / power_of_four_recursive(-n)\n",
        "  # Recursive Case: 4^n = 4 * 4^(n-1)\n",
        "  else:\n",
        "    return 4 * power_of_four_recursive(n - 1)\n",
        "\n",
        "print(power_of_four_recursive(2)) # Should print 16\n",
        "print(power_of_four_recursive(0)) # Should print 1\n",
        "print(power_of_four_recursive(3)) # Should print 64\n",
        "print(power_of_four_recursive(-1)) # Should print 0.25"
      ],
      "execution_count": null,
      "outputs": [
        {
          "output_type": "stream",
          "name": "stdout",
          "text": [
            "16\n",
            "1\n",
            "64\n",
            "0.25\n"
          ]
        }
      ]
    },
    {
      "cell_type": "code",
      "source": [
        "#problem6\n",
        "def strongest_avenger(strengths):\n",
        "\n",
        "  if  len(strengths) == 1:\n",
        "    return strengths[0]\n",
        "  else:\n",
        "    max_of_rest = strongest_avenger(strengths[1:])\n",
        "    return strengths[0] if max_of_rest < strengths[0] else max_of_rest\n",
        "\n",
        "print(strongest_avenger([88, 92, 95, 99, 97, 100, 94]))\n",
        "print(strongest_avenger([50, 75, 85, 60, 90]))"
      ],
      "metadata": {
        "colab": {
          "base_uri": "https://localhost:8080/"
        },
        "id": "C4l2eHMIHxDb",
        "outputId": "9bc24413-695e-44a8-a9f3-f6b31e625f41"
      },
      "execution_count": null,
      "outputs": [
        {
          "output_type": "stream",
          "name": "stdout",
          "text": [
            "100\n",
            "90\n"
          ]
        }
      ]
    },
    {
      "cell_type": "code",
      "source": [
        "#problem 8\n",
        "# Compare the head of the two lists and recursively buyild the merged list by attaching the smaller node to the merged list\n",
        "class Node:\n",
        "  def __init__(self, value, next=None):\n",
        "      self.value = value\n",
        "      self.next = next\n",
        "\n",
        "# For testing\n",
        "def print_linked_list(head):\n",
        "    current = head\n",
        "    while current:\n",
        "        print(current.value, end=\" -> \" if current.next else \"\\n\")\n",
        "        current = current.next\n",
        "\n",
        "def merge_missions(mission1, mission2):\n",
        "  if not mission1:\n",
        "    return mission2\n",
        "  if not mission2:\n",
        "    return mission1\n",
        "  if mission1.value < mission2.value:\n",
        "    mission1.next = merge_missions(mission1.next, mission2)\n",
        "    return mission1\n",
        "  else:\n",
        "    mission2.next = merge_missions(mission1, mission2.next)\n",
        "    return mission2\n",
        "## return the mission1 if the mission1 head is smaller and then begin with the smaller.next and other continue\n",
        "\n",
        "\n",
        "\n",
        "mission1 = Node(1, Node(2, Node(4)))\n",
        "mission2 = Node(1, Node(3, Node(4)))\n",
        "\n",
        "print_linked_list(merge_missions(mission1, mission2))"
      ],
      "metadata": {
        "colab": {
          "base_uri": "https://localhost:8080/"
        },
        "id": "5VfveoU5JVhM",
        "outputId": "d2d6eb20-edac-41e4-ba4f-333d9e4c6d70"
      },
      "execution_count": null,
      "outputs": [
        {
          "output_type": "stream",
          "name": "stdout",
          "text": [
            "1 -> 1 -> 2 -> 3 -> 4 -> 4\n"
          ]
        }
      ]
    },
    {
      "cell_type": "code",
      "source": [
        "###problem9\n",
        "class Node:\n",
        "    def __init__(self, value=0, next=None):\n",
        "        self.value = value\n",
        "        self.next = next\n",
        "\n",
        "# For testing\n",
        "def print_linked_list(head):\n",
        "    current = head\n",
        "    while current:\n",
        "        print(current.value, end=\" -> \" if current.next else \"\\n\")\n",
        "        current = current.next\n",
        "\n",
        "def merge_missions_iterative(mission1, mission2):\n",
        "    temp = Node()  # Temporary node to simplify the merging process\n",
        "    tail = temp\n",
        "\n",
        "    while mission1 and mission2:\n",
        "        if mission1.value < mission2.value:\n",
        "            tail.next = mission1\n",
        "            mission1 = mission1.next\n",
        "        else:\n",
        "            tail.next = mission2\n",
        "            mission2 = mission2.next\n",
        "        tail = tail.next\n",
        "\n",
        "    # Attach the remaining nodes, if any\n",
        "    if mission1:\n",
        "        tail.next = mission1\n",
        "    elif mission2:\n",
        "        tail.next = mission2\n",
        "\n",
        "    return temp.next  # Return the head of the merged linked list\n",
        "\n",
        "\n",
        "mission1 = Node(1, Node(2, Node(4)))\n",
        "mission2 = Node(1, Node(3, Node(4)))\n",
        "\n",
        "print_linked_list(merge_missions(mission1, mission2))"
      ],
      "metadata": {
        "colab": {
          "base_uri": "https://localhost:8080/"
        },
        "id": "mZiQfHI6Lh-5",
        "outputId": "2df312fc-327d-4dc4-ea3e-ad8a4f3e6d54"
      },
      "execution_count": null,
      "outputs": [
        {
          "output_type": "stream",
          "name": "stdout",
          "text": [
            "1 -> 1 -> 2 -> 3 -> 4 -> 4\n"
          ]
        }
      ]
    },
    {
      "cell_type": "markdown",
      "source": [
        "The iterative solution use a loop to traverse both linked lists, adjust pointers interatively until one of the list is exhausted\n",
        "The recursive solution call itself to handle the next node in the list, build the merged list through successive recursive calls.\n",
        "\n",
        "The complexity:\n",
        "* space complexity: The iterative approach has space complexity O1, the recursive complexity is O(m+n), which m and n is the length of the lists\n",
        "* time complexity: Both has the time complexity of O(n+m)\n",
        "\n",
        "Performance:\n",
        "\n",
        "The iterative approach may be more efficient in practice due to its constant space complexity. This makes it preferable for very large lists where the depth of recursion could become a concern.\n",
        "The recursive approach, while elegant and easier to understand conceptually, could lead to stack overflow errors if the lists are very long, especially in environments with limited stack size.\n",
        "\n",
        "Preference Discussion:\n",
        "\n",
        "Personal Preference: The choice between iterative and recursive solutions depends on the context. For **smaller lists** or in environments where recursion depth isn't an issue, the recursive approach is elegant and straightforward. However, for larger lists or when concerned about memory usage, the iterative solution is generally preferred due to its O(1) space complexity and avoidance of potential recursion depth issues.\n",
        "\n",
        "Pod Discussion: In a group discussion, consider the trade-offs between readability and efficiency. While the recursive approach is often easier to understand and implement quickly, the iterative approach offers better performance and robustness for large inputs."
      ],
      "metadata": {
        "id": "o53BeUkiMgO2"
      }
    },
    {
      "cell_type": "markdown",
      "source": [
        "## Standard2\n"
      ],
      "metadata": {
        "id": "5v5-FKshNgu8"
      }
    },
    {
      "cell_type": "code",
      "source": [
        "#problem1\n",
        "def get_village_class_iterative(population):\n",
        "  # stack =[]\n",
        "  # new_partition = str(population)\n",
        "  # for c in new_partition:\n",
        "  #   stack.append(c)\n",
        "  # return len(stack)\n",
        "  count = 0\n",
        "  while population >0:\n",
        "    population //= 10\n",
        "    count +=1\n",
        "  return count\n",
        "\n",
        "def get_village_class_recursive(population):\n",
        "    # new_population = str(population)\n",
        "    # if len(new_population) == 0:\n",
        "    #   return 0\n",
        "    # else:\n",
        "    #   return 1 + len(new_population[1:])\n",
        "    if population == 0:\n",
        "      return 0\n",
        "    return 1 + get_village_class_recursive(population //10)\n",
        "\n",
        "print(get_village_class_iterative(432))\n",
        "print(get_village_class_recursive(432))\n",
        "print(get_village_class_iterative(9))\n",
        "print(get_village_class_recursive(9))"
      ],
      "metadata": {
        "colab": {
          "base_uri": "https://localhost:8080/"
        },
        "id": "OQZ-FPpjNnAs",
        "outputId": "fb11482e-ee40-458a-8925-8dfa15c21e01"
      },
      "execution_count": null,
      "outputs": [
        {
          "output_type": "stream",
          "name": "stdout",
          "text": [
            "3\n",
            "3\n",
            "1\n",
            "1\n"
          ]
        }
      ]
    },
    {
      "cell_type": "code",
      "source": [
        "def count_walls(walls):\n",
        "    if not walls:\n",
        "      return 1\n",
        "    return 1 + count_walls(walls[1])\n",
        "\n",
        "\n",
        "\n",
        "walls = [\"outer\", [\"inner\", [\"keep\", []]]]\n",
        "\n",
        "print(count_walls(walls))\n",
        "print(count_walls([]))\n",
        "\n",
        "#Time complexity: On the length of the nested list\n",
        "# space: On\n"
      ],
      "metadata": {
        "colab": {
          "base_uri": "https://localhost:8080/"
        },
        "id": "MTxIoU5fPmFr",
        "outputId": "21b38999-0198-4d57-db19-665885de6729"
      },
      "execution_count": null,
      "outputs": [
        {
          "output_type": "stream",
          "name": "stdout",
          "text": [
            "4\n",
            "1\n"
          ]
        }
      ]
    },
    {
      "cell_type": "code",
      "source": [
        "def reverse_scroll(scroll):\n",
        "  if len(scroll) == 0:\n",
        "    return scroll\n",
        "  return reverse_scroll(scroll[1:]) + scroll[0]\n",
        "\n",
        "print(reverse_scroll(\"cigam\"))\n",
        "print(reverse_scroll(\"lleps\"))\n",
        "#On, On\n",
        "\n",
        "# reverse_scroll(\"cigam\") calls reverse_scroll(\"igam\") and adds \"c\".\n",
        "# reverse_scroll(\"igam\") calls reverse_scroll(\"gam\") and adds \"i\".\n",
        "# reverse_scroll(\"gam\") calls reverse_scroll(\"am\") and adds \"g\".\n",
        "# reverse_scroll(\"am\") calls reverse_scroll(\"m\") and adds \"a\".\n",
        "# reverse_scroll(\"m\") calls reverse_scroll(\"\") and adds \"m\".\n",
        "# reverse_scroll(\"\") hits the base case and returns \"\"."
      ],
      "metadata": {
        "colab": {
          "base_uri": "https://localhost:8080/"
        },
        "id": "L-VpcDhhQHy5",
        "outputId": "cbbf131c-98e6-4c58-da3a-6057de464dad"
      },
      "execution_count": null,
      "outputs": [
        {
          "output_type": "stream",
          "name": "stdout",
          "text": [
            "magic\n",
            "spell\n"
          ]
        }
      ]
    },
    {
      "cell_type": "code",
      "metadata": {
        "colab": {
          "base_uri": "https://localhost:8080/"
        },
        "id": "8cb2201a",
        "outputId": "6645ea2b-d9be-472e-9dd3-74191c722ef6"
      },
      "source": [
        "def reverse_scroll_iterative(scroll):\n",
        "  reversed_scroll = \"\"\n",
        "  for char in scroll:\n",
        "    reversed_scroll = char + reversed_scroll\n",
        "  return reversed_scroll\n",
        "\n",
        "print(reverse_scroll_iterative(\"cigam\"))\n",
        "print(reverse_scroll_iterative(\"lleps\"))"
      ],
      "execution_count": null,
      "outputs": [
        {
          "output_type": "stream",
          "name": "stdout",
          "text": [
            "magic\n",
            "spell\n"
          ]
        }
      ]
    },
    {
      "cell_type": "code",
      "source": [
        "###problem4\n",
        "#empty string could be consider as palindromic\n",
        "def is_palindrome(name):\n",
        "  # if len(name) == 0:\n",
        "  #   return False\n",
        "  if len(name) <= 1:\n",
        "    return True\n",
        "  if name[0] != name[-1]:\n",
        "    return False\n",
        "  return is_palindrome(name[1:-1])\n",
        "\n",
        "\n",
        "\n",
        "print(is_palindrome(\"eve\"))\n",
        "print(is_palindrome(\"ling\"))\n",
        "print(is_palindrome(\"linggnil\"))\n",
        "print(is_palindrome(\"\"))"
      ],
      "metadata": {
        "colab": {
          "base_uri": "https://localhost:8080/"
        },
        "id": "tQvZwFfPSYWf",
        "outputId": "36c73374-9d3b-4b53-900c-01598970af22"
      },
      "execution_count": null,
      "outputs": [
        {
          "output_type": "stream",
          "name": "stdout",
          "text": [
            "True\n",
            "False\n",
            "True\n",
            "True\n"
          ]
        }
      ]
    },
    {
      "cell_type": "code",
      "source": [
        "#problem5\n",
        "def double_power(initial_power, n):\n",
        "  if n ==0:\n",
        "    return initial_power\n",
        "  return double_power(initial_power*2, n-1)\n",
        "\n",
        "print(double_power(5, 3))\n",
        "print(double_power(7, 2))"
      ],
      "metadata": {
        "colab": {
          "base_uri": "https://localhost:8080/"
        },
        "id": "rdip69F7CRZT",
        "outputId": "66250eff-2449-4952-dae2-fe9c9134891e"
      },
      "execution_count": null,
      "outputs": [
        {
          "output_type": "stream",
          "name": "stdout",
          "text": [
            "40\n",
            "28\n"
          ]
        }
      ]
    },
    {
      "cell_type": "code",
      "source": [
        "#problem 6\n",
        "def is_increasing_path(path):\n",
        "  #base case\n",
        "  if len(path) <= 1:\n",
        "    return True\n",
        "\n",
        "  if path[0] >= path[1]:\n",
        "    return False\n",
        "  # if the first two is increasing order,\n",
        "  return is_increasing_path(path[1:])\n",
        "\n",
        "\n",
        "print(is_increasing_path([1, 2, 3, 4, 5]))\n",
        "print(is_increasing_path([3, 5, 2, 8]))\n",
        "\n",
        "#explanation\n",
        "# is_increasing_path([1, 2, 3, 4, 5]):\n",
        "# The list length is greater than 1.\n",
        "# path[0] (1) is less than path[1] (2).\n",
        "# It calls is_increasing_path([2, 3, 4, 5]) and returns its result.\n",
        "# is_increasing_path([2, 3, 4, 5]):\n",
        "# The list length is greater than 1.\n",
        "# path[0] (2) is less than path[1] (3).\n",
        "# It calls is_increasing_path([3, 4, 5]) and returns its result.\n",
        "# is_increasing_path([3, 4, 5]):\n",
        "# The list length is greater than 1.\n",
        "# path[0] (3) is less than path[1] (4).\n",
        "# It calls is_increasing_path([4, 5]) and returns its result.\n",
        "# is_increasing_path([4, 5]):\n",
        "# The list length is greater than 1.\n",
        "# path[0] (4) is less than path[1] (5).\n",
        "# It calls is_increasing_path([5]) and returns its result.\n",
        "# is_increasing_path([5]):\n",
        "# The list length is 1.\n",
        "# This hits the base case, and the function returns True."
      ],
      "metadata": {
        "colab": {
          "base_uri": "https://localhost:8080/"
        },
        "id": "GoOgrQS9ELtx",
        "outputId": "beb52502-9c07-4d1d-e5cc-d9cd33a74e35"
      },
      "execution_count": null,
      "outputs": [
        {
          "output_type": "stream",
          "name": "stdout",
          "text": [
            "True\n",
            "False\n"
          ]
        }
      ]
    },
    {
      "cell_type": "code",
      "source": [
        "def longest_streak(frames, current_length=0, max_length=0):\n",
        "  if not frames:\n",
        "    return max_length\n",
        "\n",
        "  if frames[0] == 'S':\n",
        "    current_length += 1\n",
        "    max_length = max(current_length, max_length)\n",
        "  else:\n",
        "    current_length = 0\n",
        "\n",
        "  return longest_streak(frames[1:], current_length, max_length)\n",
        "\n",
        "print(longest_streak(\"SSOSSS\"))\n",
        "print(longest_streak(\"SOSOSOSO\"))"
      ],
      "metadata": {
        "colab": {
          "base_uri": "https://localhost:8080/"
        },
        "id": "RojXjL7cHGr2",
        "outputId": "ac3398a1-0ccf-453c-9196-3b9d904ae181"
      },
      "execution_count": null,
      "outputs": [
        {
          "output_type": "stream",
          "name": "stdout",
          "text": [
            "3\n",
            "1\n"
          ]
        }
      ]
    },
    {
      "cell_type": "markdown",
      "source": [
        "\n",
        "```\n",
        "If you were to change this line to current_length == 0, you would be changing an assignment (=) into a comparison (==).\n",
        "\n",
        "current_length = 0 assigns the value 0 to the current_length variable.\n",
        "current_length == 0 compares the current value of current_length to 0 and evaluates to either True or False.\n",
        "If you change it to current_length == 0, the line would simply compare the value of current_length to 0, but it would not reset the current_length counter when a non-'S' frame is encountered.\n",
        "\n",
        "How would this change the result?\n",
        "\n",
        "The current_length variable would never be reset to zero after a non-'S' character. It would continue to accumulate the length of all 'S' characters encountered throughout the entire string, regardless of whether they are part of a continuous streak. The max_length would still track the maximum current_length seen so far, but current_length itself would not accurately represent the length of the current streak.\n",
        "\n",
        "For example, with the input \"SSOSSS\":\n",
        "\n",
        "With current_length = 0:\n",
        "'S': current_length becomes 1, max_length becomes 1.\n",
        "'S': current_length becomes 2, max_length becomes 2.\n",
        "'O': current_length is reset to 0.\n",
        "'S': current_length becomes 1, max_length remains 2.\n",
        "'S': current_length becomes 2, max_length remains 2.\n",
        "'S': current_length becomes 3, max_length becomes 3.\n",
        "The final result is 3.\n",
        "With current_length == 0:\n",
        "'S': current_length becomes 1, max_length becomes 1.\n",
        "'S': current_length becomes 2, max_length becomes 2.\n",
        "'O': current_length == 0 is checked (it's False since current_length is 2), but current_length is not reset.\n",
        "'S': current_length becomes 3, max_length becomes 3.\n",
        "'S': current_length becomes 4, max_length becomes 4.\n",
        "'S': current_length becomes 5, max_length becomes 5.\n",
        "The final result would be 5 (the total count of 'S' characters).\n",
        "So, changing = to == would cause the function to return the total number of 'S' characters in the string instead of the length of the longest consecutive streak of 'S' characters.\n",
        "\n",
        "\n",
        "```\n",
        "\n"
      ],
      "metadata": {
        "id": "pNh9SjC6J28x"
      }
    },
    {
      "cell_type": "code",
      "source": [
        "###problem 8\n",
        "class Node:\n",
        "    def __init__(self, value, next=None):\n",
        "        self.value = value\n",
        "        self.next = next\n",
        "\n",
        "# For testing\n",
        "def print_linked_list(head):\n",
        "    current = head\n",
        "    while current:\n",
        "        print(current.value, end=\" -> \" if current.next else \"\\n\")\n",
        "        current = current.next\n",
        "\n",
        "def weave_spells(spell_a, spell_b):\n",
        "    if not spell_a:\n",
        "      return spell_b\n",
        "    if not spell_b:\n",
        "      return spell_a\n",
        "    if spell_a.value < spell_b.value:\n",
        "      spell_a.next = weave_spells(spell_a.next, spell_b)\n",
        "      return spell_a\n",
        "    else:\n",
        "      spell_b.next = weave_spells(spell_a, spell_b.next)\n",
        "      return spell_b\n",
        "\n",
        "\n",
        "#'A'<'B'\n",
        "\n",
        "\n",
        "spell_a = Node('A', Node('C', Node('E')))\n",
        "spell_b = Node('B', Node('D', Node('F')))\n",
        "\n",
        "print_linked_list(weave_spells(spell_a, spell_b))"
      ],
      "metadata": {
        "colab": {
          "base_uri": "https://localhost:8080/"
        },
        "id": "auajsjTyKLJI",
        "outputId": "34ce89cc-d687-41c7-c164-013ca5a09160"
      },
      "execution_count": null,
      "outputs": [
        {
          "output_type": "stream",
          "name": "stdout",
          "text": [
            "A -> B -> C -> D -> E -> F\n"
          ]
        }
      ]
    },
    {
      "cell_type": "code",
      "source": [
        "#problem 9\n",
        "class Node:\n",
        "    def __init__(self, value, next=None):\n",
        "        self.value = value\n",
        "        self.next = next\n",
        "\n",
        "# For testing\n",
        "def print_linked_list(head):\n",
        "    current = head\n",
        "    while current:\n",
        "        print(current.value, end=\" -> \" if current.next else \"\\n\")\n",
        "        current = current.next\n",
        "\n",
        "def weave_spells(spell_a, spell_b):\n",
        "    # If either list is empty, return the other\n",
        "    if not spell_a:\n",
        "        return spell_b\n",
        "    if not spell_b:\n",
        "        return spell_a\n",
        "\n",
        "    # Start with the first node of spell_a\n",
        "    head = spell_a\n",
        "\n",
        "    # Loop through both lists until one is exhausted\n",
        "    while spell_a and spell_b:\n",
        "        # Store the next pointers\n",
        "        next_a = spell_a.next\n",
        "        next_b = spell_b.next\n",
        "\n",
        "        # Weave spell_b after spell_a\n",
        "        spell_a.next = spell_b\n",
        "\n",
        "        # If there's more in spell_a, weave it after spell_b\n",
        "        if next_a:\n",
        "            spell_b.next = next_a\n",
        "\n",
        "        # Move to the next nodes\n",
        "        spell_a = next_a\n",
        "        spell_b = next_b\n",
        "\n",
        "    # Return the head of the new woven list\n",
        "    return head\n",
        "\n",
        "spell_a = Node('A', Node('C', Node('E')))\n",
        "spell_b = Node('B', Node('D', Node('F')))\n",
        "\n",
        "print_linked_list(weave_spells(spell_a, spell_b))"
      ],
      "metadata": {
        "colab": {
          "base_uri": "https://localhost:8080/"
        },
        "id": "TjjH0hP4MvkH",
        "outputId": "c8eade39-d1b0-43f2-c216-76ef17f6f4d4"
      },
      "execution_count": null,
      "outputs": [
        {
          "output_type": "stream",
          "name": "stdout",
          "text": [
            "A -> B -> C -> D -> E -> F\n"
          ]
        }
      ]
    },
    {
      "cell_type": "markdown",
      "source": [
        "#Session2\n",
        "Binary Search and Divide and Conquer"
      ],
      "metadata": {
        "id": "AUY_RCWUNTBw"
      }
    },
    {
      "cell_type": "markdown",
      "source": [
        "##Standard1"
      ],
      "metadata": {
        "id": "aN3_Cla1NXuU"
      }
    },
    {
      "cell_type": "code",
      "source": [
        "#problem 1\n",
        "\n",
        "def find_cruise_length(cruise_lengths, vacation_length):\n",
        "  left = 0\n",
        "  right = len(cruise_lengths)-1\n",
        "  while left <= right:\n",
        "    mid = (left + right )//2\n",
        "    if cruise_lengths[mid] >= vacation_length:\n",
        "      right = mid -1\n",
        "    else:\n",
        "      left = mid + 1\n",
        "  return True if cruise_lengths[left] == vacation_length else False\n",
        "\n",
        "print(find_cruise_length([9, 10, 11, 12, 13, 14, 15], 13))\n",
        "\n",
        "print(find_cruise_length([8, 9, 12, 13, 13, 14, 15], 14))"
      ],
      "metadata": {
        "colab": {
          "base_uri": "https://localhost:8080/"
        },
        "id": "KyzQUt0BNSyx",
        "outputId": "1de633f4-690d-40eb-8f42-32a002d5399d"
      },
      "execution_count": null,
      "outputs": [
        {
          "output_type": "stream",
          "name": "stdout",
          "text": [
            "True\n",
            "True\n"
          ]
        }
      ]
    },
    {
      "cell_type": "code",
      "source": [
        "#problem2\n",
        "def find_cabin_index(cabins, preferred_deck):\n",
        "  left = 0\n",
        "  right = len(cabins) -1\n",
        "  while left <= right:\n",
        "    mid = (left + right )// 2\n",
        "    if cabins[mid] >= preferred_deck:\n",
        "      right = mid -1\n",
        "    else:\n",
        "      left = mid + 1\n",
        "  return left\n",
        "\n",
        "print(find_cabin_index([1, 3, 5, 6], 5))\n",
        "print(find_cabin_index([1, 3, 5, 6], 2))\n",
        "print(find_cabin_index([1, 3, 5, 6], 7))\n"
      ],
      "metadata": {
        "colab": {
          "base_uri": "https://localhost:8080/"
        },
        "id": "eSKJv9yUQmVC",
        "outputId": "cf7540bf-7d63-4fad-8d51-e93dcb610cab"
      },
      "execution_count": null,
      "outputs": [
        {
          "output_type": "stream",
          "name": "stdout",
          "text": [
            "2\n",
            "1\n",
            "4\n"
          ]
        }
      ]
    },
    {
      "cell_type": "code",
      "source": [
        "#problem 2 recursive\n",
        "def find_cabin_index(cabins, preferred_deck):\n",
        "    return search_cabin(cabins, preferred_deck, 0, len(cabins) - 1)\n",
        "\n",
        "def search_cabin(cabins, preferred_deck, left, right):\n",
        "    if left > right:\n",
        "        return left\n",
        "\n",
        "    mid =  (right + left) // 2\n",
        "\n",
        "    if cabins[mid] == preferred_deck:\n",
        "        return mid\n",
        "    elif preferred_deck < cabins[mid]:\n",
        "        return search_cabin(cabins, preferred_deck, left, mid - 1)\n",
        "    else:\n",
        "        return search_cabin(cabins, preferred_deck, mid + 1, right)\n",
        "print(find_cabin_index([1, 3, 5, 6], 5))\n",
        "print(find_cabin_index([1, 3, 5, 6], 2))\n",
        "print(find_cabin_index([1, 3, 5, 6], 7))"
      ],
      "metadata": {
        "colab": {
          "base_uri": "https://localhost:8080/"
        },
        "id": "uTbF6ZNnS3H7",
        "outputId": "0a7dab7d-0352-4070-d898-c0a2301fedc6"
      },
      "execution_count": null,
      "outputs": [
        {
          "output_type": "stream",
          "name": "stdout",
          "text": [
            "2\n",
            "1\n",
            "4\n"
          ]
        }
      ]
    },
    {
      "cell_type": "code",
      "source": [
        "#problem 3\n",
        "def count_checked_in_passengers(rooms):\n",
        "  left= 0\n",
        "  right = len(rooms) -1\n",
        "  n = len(rooms)\n",
        "  while left <= right:\n",
        "    mid = (left+ right)//2\n",
        "    if rooms[mid] == 1:\n",
        "      right = mid - 1\n",
        "    else:\n",
        "      left = mid + 1\n",
        "  return n-left\n",
        "#left in the first position of 1\n",
        "\n",
        "rooms1 = [0, 0, 0, 1, 1, 1, 1]\n",
        "rooms2 = [0, 0, 0, 0, 0, 1]\n",
        "rooms3 = [0, 0, 0, 0, 0, 0]\n",
        "\n",
        "print(count_checked_in_passengers(rooms1))\n",
        "print(count_checked_in_passengers(rooms2))\n",
        "print(count_checked_in_passengers(rooms3))"
      ],
      "metadata": {
        "colab": {
          "base_uri": "https://localhost:8080/"
        },
        "id": "QHfQ27PmTv26",
        "outputId": "afa4e19b-d487-4a78-f656-e2012550e020"
      },
      "execution_count": null,
      "outputs": [
        {
          "output_type": "stream",
          "name": "stdout",
          "text": [
            "4\n",
            "1\n",
            "0\n"
          ]
        }
      ]
    },
    {
      "cell_type": "markdown",
      "source": [
        "Input: a list\n",
        "Oupt: the integer to show that"
      ],
      "metadata": {
        "id": "WpyHQFLm3OCT"
      }
    },
    {
      "cell_type": "code",
      "source": [
        "#problem 4\n",
        "def is_profitable(excursion_counts):\n",
        "  n = len(excursion_counts)\n",
        "  left, right = 0, n-1\n",
        "  while left <= right:\n",
        "    mid = (left + right) //2\n",
        "    x = n - mid\n",
        "    if excursion_counts[mid] >= x:\n",
        "      if mid == 0 or excursion_counts[mid -1] < x:\n",
        "        return x\n",
        "      right = mid -1\n",
        "    else:\n",
        "      left = mid + 1\n",
        "  return -1\n",
        "\n",
        "print(is_profitable([5, 6, 9]))\n",
        "print(is_profitable([0, 0]))\n"
      ],
      "metadata": {
        "colab": {
          "base_uri": "https://localhost:8080/"
        },
        "id": "vRPpPNSFzI5e",
        "outputId": "4d29c3ea-8430-4d10-f34b-f8cee899227a"
      },
      "execution_count": null,
      "outputs": [
        {
          "output_type": "stream",
          "name": "stdout",
          "text": [
            "3\n",
            "-1\n"
          ]
        }
      ]
    },
    {
      "cell_type": "markdown",
      "source": [
        "\n",
        "\n",
        "```\n",
        "Example 1: excursion_counts = [5, 6, 9]\n",
        "\n",
        "Here, n = 3.\n",
        "\n",
        "Initial: left = 0, right = 2.\n",
        "Iteration 1:\n",
        "mid = (0 + 2) // 2 = 1.\n",
        "x = n - mid = 3 - 1 = 2.\n",
        "excursion_counts[mid] is excursion_counts[1] = 6.\n",
        "Is excursion_counts[mid] >= x? Is 6 >= 2? Yes.\n",
        "Is mid == 0? No (mid is 1).\n",
        "Is excursion_counts[mid - 1] < x? Is excursion_counts[0] < 2? Is 5 < 2? No.\n",
        "Since the second condition (mid == 0 or excursion_counts[mid - 1] < x) is not met, we move right to mid - 1.\n",
        "right = 1 - 1 = 0.\n",
        "Iteration 2:\n",
        "left = 0, right = 0.\n",
        "mid = (0 + 0) // 2 = 0.\n",
        "x = n - mid = 3 - 0 = 3.\n",
        "excursion_counts[mid] is excursion_counts[0] = 5.\n",
        "Is excursion_counts[mid] >= x? Is 5 >= 3? Yes.\n",
        "Is mid == 0? Yes.\n",
        "Since mid == 0 is True, the second condition is met.\n",
        "The function returns x, which is 3.\n",
        "In this case, the function correctly returns 3 because there are 3 days ([5, 6, 9]) where the number of sign-ups (5, 6, and 9) is at least 3. The minimum such value is 3.\n",
        "```\n",
        "\n"
      ],
      "metadata": {
        "id": "uRxvQEJS5b-i"
      }
    },
    {
      "cell_type": "code",
      "source": [
        "#problem5\n",
        "def find_shallowest_point(arr):\n",
        "# Base case: If the list has only one element, it's the minimum\n",
        "\n",
        "  if len(arr) == 1:\n",
        "    return arr[0]\n",
        " # Divide: Split the list into two halves\n",
        "  mid = len(arr)//2\n",
        "  left_half = arr[:mid]\n",
        "  right_half = arr[mid:]\n",
        "# Conquer: Recursively find the minimum in each half\n",
        "\n",
        "  mid_left = find_shallowest_point(left_half)\n",
        "  mid_right = find_shallowest_point(right_half)\n",
        "\n",
        "  return min(mid_left, mid_right)\n",
        "\n",
        "\n",
        "print(find_shallowest_point([5, 7, 2, 8, 3]))\n",
        "print(find_shallowest_point([12, 15, 10, 21]))"
      ],
      "metadata": {
        "colab": {
          "base_uri": "https://localhost:8080/"
        },
        "id": "G7dUvyUF0b-1",
        "outputId": "b9041407-1fdb-488d-b9c2-20f7a85be857"
      },
      "execution_count": null,
      "outputs": [
        {
          "output_type": "stream",
          "name": "stdout",
          "text": [
            "2\n",
            "10\n"
          ]
        }
      ]
    },
    {
      "cell_type": "code",
      "source": [
        "#problem 6\n",
        "'''\n",
        "Input: the matrix\n",
        "Output: the tuple of row and col of target\n",
        "\n",
        "Plan:\n",
        "1. Check if the matrix is empty, if true, return -1, -1\n",
        "2. Initiate 'row' to 0 and col to len(matrix[0])-1\n",
        "3. while row is with bounds and col is non-negative\n",
        "  3.1 If matrix,[row][rol] == treasure, return (row,col)\n",
        "  3.2 If     > , decreament col\n",
        "  3.3 If     < , increment row\n",
        "  because the current column is sorted from top to bottom, all values above the current row in this column will also be smaller than the treasure.\n",
        "'''\n",
        "def find_treasure(matrix, treasure):\n",
        "  if not matrix:\n",
        "    return (-1,-1)\n",
        "\n",
        "  rows = len(matrix)\n",
        "  cols = len(matrix[0])\n",
        "\n",
        "  row = 0\n",
        "  col = cols -1\n",
        "\n",
        "  while row < rows and col >= 0:\n",
        "    if matrix[row][col] == treasure:\n",
        "      return (row, col)\n",
        "    elif matrix[row][col] > treasure:\n",
        "      col -= 1\n",
        "    else:\n",
        "      row += 1\n",
        "  return (-1,-1)\n",
        "rooms = [\n",
        "    [1, 4, 7, 11],\n",
        "    [8, 9, 10, 20],\n",
        "    [11, 12, 17, 30],\n",
        "    [18, 21, 23, 40]\n",
        "]\n",
        "\n",
        "print(find_treasure(rooms, 17))\n",
        "print(find_treasure(rooms, 8))"
      ],
      "metadata": {
        "colab": {
          "base_uri": "https://localhost:8080/"
        },
        "id": "hRJEL0Z52nIL",
        "outputId": "81e7667c-777e-4a1d-a0e5-0e1dd745cb1d"
      },
      "execution_count": null,
      "outputs": [
        {
          "output_type": "stream",
          "name": "stdout",
          "text": [
            "(2, 2)\n",
            "(1, 0)\n"
          ]
        }
      ]
    },
    {
      "cell_type": "markdown",
      "source": [
        "##standard2\n"
      ],
      "metadata": {
        "id": "Vb-awNj6IX24"
      }
    },
    {
      "cell_type": "code",
      "source": [
        "√\n",
        "#problem 1 Find the perfect song\n",
        "#input: the list  and the integer\n",
        "#Ouput: Integer which is the index position\n",
        "#Binary Search\n",
        "def find_perfect_song(playlist, length):\n",
        "  left = 0\n",
        "  right = len(playlist)- 1\n",
        "  while left <= right:\n",
        "    mid = (left+ right) //2\n",
        "    if playlist[mid] >= length:\n",
        "      right = mid -1\n",
        "    else:\n",
        "      left = mid + 1\n",
        "  if left < len(playlist) and playlist[left] == length: # the left< len(playlist) not add would cause the left index goes out of the list if the length is not found in the playlist\n",
        "    return left\n",
        "  else:\n",
        "    return -1\n",
        "\n",
        "\n",
        "\n",
        "print(find_perfect_song([201, 202, 203, 204, 205], 206))\n",
        "print(find_perfect_song([101, 102, 103, 104, 105], 103))\n"
      ],
      "metadata": {
        "id": "6RTAYPbzIZsG",
        "colab": {
          "base_uri": "https://localhost:8080/"
        },
        "outputId": "5a711cc4-1953-4dec-bf71-5800ff7b81d5"
      },
      "execution_count": null,
      "outputs": [
        {
          "output_type": "stream",
          "name": "stdout",
          "text": [
            "-1\n",
            "2\n"
          ]
        }
      ]
    },
    {
      "cell_type": "code",
      "source": [
        "#problem 2 Find tour dates\n",
        "# Recursive way\n",
        "\n",
        "#Input: A list of Integers\n",
        "#Output: boolean\n",
        "# Plan: Recursive function\n",
        "def can_attend(tour_dates, available):\n",
        "  # Base case: If the list is empty, the date is not found\n",
        "  if not tour_dates:\n",
        "    return False\n",
        "  if tour_dates[0] == available:\n",
        "    return True\n",
        "  else:\n",
        "    return can_attend(tour_dates[1:],available)\n",
        "# space complexity On, each recursive call adds a new frame to the call stack, if count the slicing, which is the use of tour_dates[1:], which creates a new list at each step, would cause O n^2\n",
        "\n",
        "print(can_attend([1, 3, 7, 10, 12], 12))\n",
        "print(can_attend([1, 3, 7, 10, 12], 5))\n",
        "\n",
        "#On time complexity"
      ],
      "metadata": {
        "colab": {
          "base_uri": "https://localhost:8080/"
        },
        "id": "n6U4weoQMO4h",
        "outputId": "ec9025da-0eba-4901-a821-e3ff83078924"
      },
      "execution_count": null,
      "outputs": [
        {
          "output_type": "stream",
          "name": "stdout",
          "text": [
            "True\n",
            "False\n"
          ]
        }
      ]
    },
    {
      "cell_type": "code",
      "source": [
        "#problem2 Find tour dates\n",
        "#Binary Search way\n",
        "\n",
        "def can_attend(tour_dates, available):\n",
        "  left = 0\n",
        "  right = len(tour_dates) -1\n",
        "  if left > right:\n",
        "    return False\n",
        "  while left <= right:\n",
        "    mid = (left+right )//2\n",
        "    if tour_dates[mid] == available:\n",
        "      return True\n",
        "    elif tour_dates[mid] > available:\n",
        "      right = mid - 1\n",
        "    else:\n",
        "      left = mid + 1\n",
        "  return False\n",
        "\n",
        "\n",
        "\n",
        "print(can_attend([1, 3, 7, 10, 12], 12))\n",
        "print(can_attend([1, 3, 7, 10, 12], 5))"
      ],
      "metadata": {
        "colab": {
          "base_uri": "https://localhost:8080/"
        },
        "id": "0nUakG5IODXU",
        "outputId": "d851e15b-7711-416c-a830-58e8b4f7fad9"
      },
      "execution_count": null,
      "outputs": [
        {
          "output_type": "stream",
          "name": "stdout",
          "text": [
            "True\n",
            "False\n"
          ]
        }
      ]
    }
  ]
}