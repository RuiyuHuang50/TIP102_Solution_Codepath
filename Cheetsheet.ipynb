{
  "nbformat": 4,
  "nbformat_minor": 0,
  "metadata": {
    "colab": {
      "provenance": [],
      "authorship_tag": "ABX9TyOuixxJWBPZFp7iTprL4m4m",
      "include_colab_link": true
    },
    "kernelspec": {
      "name": "python3",
      "display_name": "Python 3"
    },
    "language_info": {
      "name": "python"
    }
  },
  "cells": [
    {
      "cell_type": "markdown",
      "metadata": {
        "id": "view-in-github",
        "colab_type": "text"
      },
      "source": [
        "<a href=\"https://colab.research.google.com/github/RuiyuHuang50/TIP102_Solution_Codepath/blob/main/Cheetsheet.ipynb\" target=\"_parent\"><img src=\"https://colab.research.google.com/assets/colab-badge.svg\" alt=\"Open In Colab\"/></a>"
      ]
    },
    {
      "cell_type": "markdown",
      "source": [
        "#Common usage of Python data type"
      ],
      "metadata": {
        "id": "2-FBpB3bJjEp"
      }
    },
    {
      "cell_type": "markdown",
      "source": [
        "This is the cheetsheet for common used data type and algorithm for solving the leetcode problem. Get the help from AI to generate it."
      ],
      "metadata": {
        "id": "Y_tJDoS3JqoH"
      }
    },
    {
      "cell_type": "markdown",
      "metadata": {
        "id": "d2f0e170"
      },
      "source": [
        "### Common String Methods in Python\n",
        "\n",
        "Strings in Python have many built-in methods that allow you to manipulate and work with text data. Here are some of the commonly used string methods with brief explanations and examples:"
      ]
    },
    {
      "cell_type": "markdown",
      "metadata": {
        "id": "5acab06a"
      },
      "source": [
        "*   **`startswith(prefix)` / `endswith(suffix)`**: Checks if a string starts or ends with a specific prefix or suffix."
      ]
    },
    {
      "cell_type": "code",
      "metadata": {
        "colab": {
          "base_uri": "https://localhost:8080/"
        },
        "id": "139b2d8c",
        "outputId": "688c7932-9275-4117-de6e-39aed332db7b"
      },
      "source": [
        "text = \"Hello world\"\n",
        "print(text.startswith(\"Hello\")) # Output: True\n",
        "print(text.endswith(\"world\"))   # Output: True"
      ],
      "execution_count": null,
      "outputs": [
        {
          "output_type": "stream",
          "name": "stdout",
          "text": [
            "True\n",
            "True\n"
          ]
        }
      ]
    },
    {
      "cell_type": "markdown",
      "metadata": {
        "id": "e3102c39"
      },
      "source": [
        "*   **`split(separator)`**: Splits a string into a list of substrings based on a separator (default is whitespace)."
      ]
    },
    {
      "cell_type": "code",
      "metadata": {
        "colab": {
          "base_uri": "https://localhost:8080/"
        },
        "id": "e877cade",
        "outputId": "3a3a4226-5c4a-4b2b-c379-46556d2e0faa"
      },
      "source": [
        "sentence = \"This is a sentence\"\n",
        "words = sentence.split()\n",
        "print(words) # Output: ['This', 'is', 'a', 'sentence']"
      ],
      "execution_count": null,
      "outputs": [
        {
          "output_type": "stream",
          "name": "stdout",
          "text": [
            "['This', 'is', 'a', 'sentence']\n"
          ]
        }
      ]
    },
    {
      "cell_type": "markdown",
      "metadata": {
        "id": "63aae4da"
      },
      "source": [
        "*   **`join(iterable)`**: Joins the elements of an iterable (like a list) into a single string, using the string the method is called on as the separator."
      ]
    },
    {
      "cell_type": "code",
      "metadata": {
        "colab": {
          "base_uri": "https://localhost:8080/"
        },
        "id": "d0821582",
        "outputId": "ffeef3dc-f065-43ae-81e2-ab458e203cc4"
      },
      "source": [
        "words = [\"Hello\", \"world\"]\n",
        "greeting = \" \".join(words)\n",
        "print(greeting) # Output: \"Hello world\""
      ],
      "execution_count": null,
      "outputs": [
        {
          "output_type": "stream",
          "name": "stdout",
          "text": [
            "Hello world\n"
          ]
        }
      ]
    },
    {
      "cell_type": "markdown",
      "metadata": {
        "id": "1c5b8668"
      },
      "source": [
        "*   **`replace(old, new)`**: Replaces all occurrences of a substring with another substring."
      ]
    },
    {
      "cell_type": "code",
      "metadata": {
        "colab": {
          "base_uri": "https://localhost:8080/"
        },
        "id": "ad60580b",
        "outputId": "50723938-d544-4076-9a24-4f2a36b566f3"
      },
      "source": [
        "text = \"Hello world\"\n",
        "new_text = text.replace(\"world\", \"Python\")\n",
        "print(new_text) # Output: \"Hello Python\""
      ],
      "execution_count": null,
      "outputs": [
        {
          "output_type": "stream",
          "name": "stdout",
          "text": [
            "Hello Python\n"
          ]
        }
      ]
    },
    {
      "cell_type": "markdown",
      "metadata": {
        "id": "95c9e81a"
      },
      "source": [
        "*   **`find(substring)` / `index(substring)`**: Returns the lowest index in the string where the substring is found. `index()` raises a `ValueError` if the substring is not found, while `find()` returns -1."
      ]
    },
    {
      "cell_type": "code",
      "metadata": {
        "colab": {
          "base_uri": "https://localhost:8080/"
        },
        "id": "a4a0db50",
        "outputId": "041f9407-5dbe-4b8f-c655-43081001b819"
      },
      "source": [
        "text = \"Hello world\"\n",
        "print(text.find(\"world\"))  # Output: 6\n",
        "print(text.index(\"world\")) # Output: 6\n",
        "# print(text.index(\"Python\")) # Raises ValueError\n",
        "print(text.find(\"Python\"))  # Output: -1"
      ],
      "execution_count": null,
      "outputs": [
        {
          "output_type": "stream",
          "name": "stdout",
          "text": [
            "6\n",
            "6\n",
            "-1\n"
          ]
        }
      ]
    },
    {
      "cell_type": "markdown",
      "metadata": {
        "id": "817aebf1"
      },
      "source": [
        "*   **`upper()` / `lower()` / `capitalize()` / `title()`**: Changes the case of the string.\n",
        "\n",
        "Notes:  \n",
        "1. capitalize() return the string only the firt character capitalized and the rest of the characters in lowercase, only affects the very beginning of the string.\n",
        "2. title() would return every word in the letter with the uppercase character\n"
      ]
    },
    {
      "cell_type": "code",
      "metadata": {
        "colab": {
          "base_uri": "https://localhost:8080/"
        },
        "id": "1214132f",
        "outputId": "9c6b62b6-03b7-45dc-8314-d14c3e2142ec"
      },
      "source": [
        "text = \"Hello World\"\n",
        "print(text.upper())      # Output: \"HELLO WORLD\"\n",
        "print(text.lower())      # Output: \"hello world\"\n",
        "print(text.capitalize()) # Output: \"Hello world\"\n",
        "print(text.title())      # Output: \"Hello World\""
      ],
      "execution_count": null,
      "outputs": [
        {
          "output_type": "stream",
          "name": "stdout",
          "text": [
            "HELLO WORLD\n",
            "hello world\n",
            "Hello world\n",
            "Hello World\n"
          ]
        }
      ]
    },
    {
      "cell_type": "code",
      "source": [
        "text = \"HELLO WORLD\"\n",
        "print(text.capitalize())\n",
        "# Output: \"Hello world\""
      ],
      "metadata": {
        "colab": {
          "base_uri": "https://localhost:8080/"
        },
        "id": "4WOGkJT2F73i",
        "outputId": "83e1cb79-63e1-49da-930d-1c64bb445fd9"
      },
      "execution_count": null,
      "outputs": [
        {
          "output_type": "stream",
          "name": "stdout",
          "text": [
            "Hello world\n"
          ]
        }
      ]
    },
    {
      "cell_type": "code",
      "source": [
        "text = \"this is a test\"\n",
        "print(text.title())\n",
        "# Output: \"This Is A Test\""
      ],
      "metadata": {
        "colab": {
          "base_uri": "https://localhost:8080/"
        },
        "id": "G1gI5tnoF4ga",
        "outputId": "b108b733-b8a9-47f2-80a5-64c41ce965e5"
      },
      "execution_count": null,
      "outputs": [
        {
          "output_type": "stream",
          "name": "stdout",
          "text": [
            "This Is A Test\n"
          ]
        }
      ]
    },
    {
      "cell_type": "markdown",
      "metadata": {
        "id": "36dbb7d3"
      },
      "source": [
        "*   **`strip()` / `lstrip()` / `rstrip()`**: Removes leading/trailing whitespace (or specified characters)."
      ]
    },
    {
      "cell_type": "code",
      "metadata": {
        "colab": {
          "base_uri": "https://localhost:8080/"
        },
        "id": "efbdf132",
        "outputId": "7f3b4544-1c06-4ca2-84f3-ada0b70185dd"
      },
      "source": [
        "text = \"  Hello world  \"\n",
        "print(text.strip())  # Output: \"Hello world\""
      ],
      "execution_count": null,
      "outputs": [
        {
          "output_type": "stream",
          "name": "stdout",
          "text": [
            "Hello world\n"
          ]
        }
      ]
    },
    {
      "cell_type": "markdown",
      "metadata": {
        "id": "c722d853"
      },
      "source": [
        "*   **`isdigit()` / `isalpha()` / `isalnum()`**: Checks if the string consists of only digits, only alphabetic characters, or only alphanumeric characters respectively."
      ]
    },
    {
      "cell_type": "code",
      "metadata": {
        "colab": {
          "base_uri": "https://localhost:8080/"
        },
        "id": "a94d97cb",
        "outputId": "2f5e3dde-2811-4b26-b7b1-d4ee72ef1e78"
      },
      "source": [
        "print(\"123\".isdigit())    # Output: True\n",
        "print(\"abc\".isalpha())    # Output: True\n",
        "print(\"abc123\".isalnum()) # Output: True"
      ],
      "execution_count": null,
      "outputs": [
        {
          "output_type": "stream",
          "name": "stdout",
          "text": [
            "True\n",
            "True\n",
            "True\n"
          ]
        }
      ]
    },
    {
      "cell_type": "markdown",
      "metadata": {
        "id": "9607f231"
      },
      "source": [
        "*   **`count(substring)`**: Returns the number of occurrences of a substring in the string."
      ]
    },
    {
      "cell_type": "code",
      "metadata": {
        "colab": {
          "base_uri": "https://localhost:8080/"
        },
        "id": "21adcef2",
        "outputId": "acddd291-61c8-4ef1-953d-00491b4662f5"
      },
      "source": [
        "text = \"hello world hello\"\n",
        "print(text.count(\"hello\")) # Output: 2"
      ],
      "execution_count": null,
      "outputs": [
        {
          "output_type": "stream",
          "name": "stdout",
          "text": [
            "2\n"
          ]
        }
      ]
    },
    {
      "cell_type": "markdown",
      "metadata": {
        "id": "fe29204a"
      },
      "source": []
    },
    {
      "cell_type": "code",
      "execution_count": null,
      "metadata": {
        "id": "uMx7eApUHHQg"
      },
      "outputs": [],
      "source": []
    },
    {
      "cell_type": "markdown",
      "metadata": {
        "id": "352244d7"
      },
      "source": [
        "### Common List Methods in Python\n",
        "\n",
        "Lists are ordered, mutable collections of items in Python. They are one of the most versatile data structures. Here are some commonly used list methods:"
      ]
    },
    {
      "cell_type": "markdown",
      "metadata": {
        "id": "d9f6b4e3"
      },
      "source": [
        "* **`append(item)`**: Adds an item to the end of the list."
      ]
    },
    {
      "cell_type": "code",
      "metadata": {
        "colab": {
          "base_uri": "https://localhost:8080/"
        },
        "id": "a97e5c7b",
        "outputId": "1ad121aa-ba39-419d-9bcd-0d249d26fba9"
      },
      "source": [
        "my_list = [1, 2, 3]\n",
        "my_list.append(4)\n",
        "print(my_list) # Output: [1, 2, 3, 4]"
      ],
      "execution_count": 1,
      "outputs": [
        {
          "output_type": "stream",
          "name": "stdout",
          "text": [
            "[1, 2, 3, 4]\n"
          ]
        }
      ]
    },
    {
      "cell_type": "markdown",
      "metadata": {
        "id": "e480c205"
      },
      "source": [
        "* **`extend(iterable)`**: Extends the list by appending all the items from an iterable (like another list)."
      ]
    },
    {
      "cell_type": "code",
      "metadata": {
        "colab": {
          "base_uri": "https://localhost:8080/"
        },
        "id": "aea8668c",
        "outputId": "9a8783fb-4b7e-4849-fccb-629b02b0c069"
      },
      "source": [
        "my_list = [1, 2, 3]\n",
        "another_list = [4, 5]\n",
        "my_list.extend(another_list)\n",
        "print(my_list) # Output: [1, 2, 3, 4, 5]"
      ],
      "execution_count": 2,
      "outputs": [
        {
          "output_type": "stream",
          "name": "stdout",
          "text": [
            "[1, 2, 3, 4, 5]\n"
          ]
        }
      ]
    },
    {
      "cell_type": "markdown",
      "metadata": {
        "id": "f82792d8"
      },
      "source": [
        "* **`insert(index, item)`**: Inserts an item at a specified index."
      ]
    },
    {
      "cell_type": "code",
      "metadata": {
        "colab": {
          "base_uri": "https://localhost:8080/"
        },
        "id": "2439050f",
        "outputId": "9ca22d2d-351b-448b-f72b-eb883bd30d3c"
      },
      "source": [
        "my_list = [1, 3, 4]\n",
        "my_list.insert(1, 2)\n",
        "print(my_list) # Output: [1, 2, 3, 4]"
      ],
      "execution_count": 3,
      "outputs": [
        {
          "output_type": "stream",
          "name": "stdout",
          "text": [
            "[1, 2, 3, 4]\n"
          ]
        }
      ]
    },
    {
      "cell_type": "markdown",
      "metadata": {
        "id": "178b1b71"
      },
      "source": [
        "* **`remove(item)`**: Removes the first occurrence of an item from the list. Raises a `ValueError` if the item is not found."
      ]
    },
    {
      "cell_type": "code",
      "metadata": {
        "colab": {
          "base_uri": "https://localhost:8080/"
        },
        "id": "f4b1c37c",
        "outputId": "bb65534a-9b8a-4fe8-ed83-8c92aadbb88e"
      },
      "source": [
        "my_list = [1, 2, 3, 2]\n",
        "my_list.remove(2)\n",
        "print(my_list) # Output: [1, 3, 2]"
      ],
      "execution_count": 4,
      "outputs": [
        {
          "output_type": "stream",
          "name": "stdout",
          "text": [
            "[1, 3, 2]\n"
          ]
        }
      ]
    },
    {
      "cell_type": "markdown",
      "metadata": {
        "id": "5c9b82fb"
      },
      "source": [
        "* **`pop([index])`**: Removes and returns the item at a specified index. If no index is provided, it removes and returns the last item."
      ]
    },
    {
      "cell_type": "code",
      "metadata": {
        "colab": {
          "base_uri": "https://localhost:8080/"
        },
        "id": "7784384a",
        "outputId": "5a8d41a3-0680-44c1-ea93-d7f8d6e2d064"
      },
      "source": [
        "my_list = [1, 2, 3]\n",
        "last_item = my_list.pop()\n",
        "print(last_item) # Output: 3\n",
        "print(my_list) # Output: [1, 2]\n",
        "\n",
        "my_list = [1, 2, 3]\n",
        "first_item = my_list.pop(0)\n",
        "print(first_item) # Output: 1\n",
        "print(my_list) # Output: [2, 3]"
      ],
      "execution_count": 5,
      "outputs": [
        {
          "output_type": "stream",
          "name": "stdout",
          "text": [
            "3\n",
            "[1, 2]\n",
            "1\n",
            "[2, 3]\n"
          ]
        }
      ]
    },
    {
      "cell_type": "markdown",
      "metadata": {
        "id": "49afb973"
      },
      "source": [
        "* **`clear()`**: Removes all items from the list."
      ]
    },
    {
      "cell_type": "code",
      "metadata": {
        "colab": {
          "base_uri": "https://localhost:8080/"
        },
        "id": "66d09788",
        "outputId": "3e38d91d-2fdf-432d-b39e-45caa977fcd9"
      },
      "source": [
        "my_list = [1, 2, 3]\n",
        "my_list.clear()\n",
        "print(my_list) # Output: []"
      ],
      "execution_count": 6,
      "outputs": [
        {
          "output_type": "stream",
          "name": "stdout",
          "text": [
            "[]\n"
          ]
        }
      ]
    },
    {
      "cell_type": "markdown",
      "metadata": {
        "id": "c57f788e"
      },
      "source": [
        "* **`index(item, [start, [end]])`**: Returns the index of the first occurrence of an item. Raises a `ValueError` if the item is not found. Optional `start` and `end` arguments can be used to search within a specific slice of the list."
      ]
    },
    {
      "cell_type": "code",
      "metadata": {
        "colab": {
          "base_uri": "https://localhost:8080/"
        },
        "id": "964f38cf",
        "outputId": "04049657-7a03-4190-e613-9e036f6ccec3"
      },
      "source": [
        "my_list = [1, 2, 3, 2]\n",
        "print(my_list.index(2))      # Output: 1\n",
        "print(my_list.index(2, 2))   # Output: 3\n",
        "# print(my_list.index(5))    # Raises ValueError"
      ],
      "execution_count": 7,
      "outputs": [
        {
          "output_type": "stream",
          "name": "stdout",
          "text": [
            "1\n",
            "3\n"
          ]
        }
      ]
    },
    {
      "cell_type": "markdown",
      "metadata": {
        "id": "dcd4801e"
      },
      "source": [
        "* **`count(item)`**: Returns the number of occurrences of an item in the list."
      ]
    },
    {
      "cell_type": "code",
      "metadata": {
        "colab": {
          "base_uri": "https://localhost:8080/"
        },
        "id": "93833192",
        "outputId": "dc25ad31-f6bb-42c6-c2a6-6207f4aee9a3"
      },
      "source": [
        "my_list = [1, 2, 2, 3, 2]\n",
        "print(my_list.count(2)) # Output: 3"
      ],
      "execution_count": 8,
      "outputs": [
        {
          "output_type": "stream",
          "name": "stdout",
          "text": [
            "3\n"
          ]
        }
      ]
    },
    {
      "cell_type": "markdown",
      "metadata": {
        "id": "e8549ca4"
      },
      "source": [
        "* **`sort(key=None, reverse=False)`**: Sorts the list in ascending order by default. `reverse=True` sorts in descending order. A `key` function can be provided to sort based on a specific criterion."
      ]
    },
    {
      "cell_type": "code",
      "metadata": {
        "colab": {
          "base_uri": "https://localhost:8080/"
        },
        "id": "c23ecda7",
        "outputId": "f66b664d-8af4-4852-a547-0519f5b4279c"
      },
      "source": [
        "my_list = [3, 1, 4, 1, 5, 9, 2]\n",
        "my_list.sort()\n",
        "print(my_list) # Output: [1, 1, 2, 3, 4, 5, 9]\n",
        "\n",
        "my_list = [3, 1, 4, 1, 5, 9, 2]\n",
        "my_list.sort(reverse=True)\n",
        "print(my_list) # Output: [9, 5, 4, 3, 2, 1, 1]\n",
        "\n",
        "my_list = [\"banana\", \"apple\", \"cherry\"]\n",
        "my_list.sort(key=len)\n",
        "print(my_list) # Output: ['apple', 'banana', 'cherry']"
      ],
      "execution_count": 9,
      "outputs": [
        {
          "output_type": "stream",
          "name": "stdout",
          "text": [
            "[1, 1, 2, 3, 4, 5, 9]\n",
            "[9, 5, 4, 3, 2, 1, 1]\n",
            "['apple', 'banana', 'cherry']\n"
          ]
        }
      ]
    },
    {
      "cell_type": "markdown",
      "metadata": {
        "id": "c17887ef"
      },
      "source": [
        "* **`reverse()`**: Reverses the order of the elements in the list in-place."
      ]
    },
    {
      "cell_type": "code",
      "metadata": {
        "colab": {
          "base_uri": "https://localhost:8080/"
        },
        "id": "e9e8f5c5",
        "outputId": "95ad9ba1-a61a-4b6b-ddf5-344076a1c58a"
      },
      "source": [
        "my_list = [1, 2, 3, 4]\n",
        "my_list.reverse()\n",
        "print(my_list) # Output: [4, 3, 2, 1]"
      ],
      "execution_count": 10,
      "outputs": [
        {
          "output_type": "stream",
          "name": "stdout",
          "text": [
            "[4, 3, 2, 1]\n"
          ]
        }
      ]
    },
    {
      "cell_type": "markdown",
      "metadata": {
        "id": "a217857e"
      },
      "source": [
        "* **`copy()`**: Returns a shallow copy of the list."
      ]
    },
    {
      "cell_type": "code",
      "metadata": {
        "colab": {
          "base_uri": "https://localhost:8080/"
        },
        "id": "cf1ffe2b",
        "outputId": "259316f8-e28d-4e5a-90af-034fcebefb22"
      },
      "source": [
        "my_list = [1, 2, 3]\n",
        "my_list_copy = my_list.copy()\n",
        "print(my_list_copy) # Output: [1, 2, 3]\n",
        "\n",
        "# Modifying the copy does not affect the original list\n",
        "my_list_copy.append(4)\n",
        "print(my_list)      # Output: [1, 2, 3]\n",
        "print(my_list_copy) # Output: [1, 2, 3, 4]"
      ],
      "execution_count": 11,
      "outputs": [
        {
          "output_type": "stream",
          "name": "stdout",
          "text": [
            "[1, 2, 3]\n",
            "[1, 2, 3]\n",
            "[1, 2, 3, 4]\n"
          ]
        }
      ]
    },
    {
      "cell_type": "markdown",
      "metadata": {
        "id": "79067301"
      },
      "source": [
        "### Common Dictionary Methods in Python\n",
        "\n",
        "Dictionaries in Python are unordered, mutable collections of key-value pairs. Here are some commonly used dictionary methods:"
      ]
    },
    {
      "cell_type": "markdown",
      "metadata": {
        "id": "e1405257"
      },
      "source": [
        "* **`get(key, default)`**: Returns the value for a specified key. If the key is not found, it returns `None` by default or a specified `default` value."
      ]
    },
    {
      "cell_type": "code",
      "metadata": {
        "colab": {
          "base_uri": "https://localhost:8080/"
        },
        "id": "c59a8c94",
        "outputId": "f927612b-8ae4-4d42-edf0-9c1f6db59afe"
      },
      "source": [
        "my_dict = {\"a\": 1, \"b\": 2}\n",
        "print(my_dict.get(\"a\"))      # Output: 1\n",
        "print(my_dict.get(\"c\"))      # Output: None\n",
        "print(my_dict.get(\"c\", 0))   # Output: 0"
      ],
      "execution_count": 12,
      "outputs": [
        {
          "output_type": "stream",
          "name": "stdout",
          "text": [
            "1\n",
            "None\n",
            "0\n"
          ]
        }
      ]
    },
    {
      "cell_type": "markdown",
      "metadata": {
        "id": "5f52fbf2"
      },
      "source": [
        "* **`keys()`**: Returns a view object that displays a list of all the keys in the dictionary."
      ]
    },
    {
      "cell_type": "code",
      "metadata": {
        "colab": {
          "base_uri": "https://localhost:8080/"
        },
        "id": "722e2e31",
        "outputId": "50249186-42e4-4e4d-e2c9-7d56b71813a4"
      },
      "source": [
        "my_dict = {\"a\": 1, \"b\": 2, \"c\": 3}\n",
        "print(my_dict.keys()) # Output: dict_keys(['a', 'b', 'c'])"
      ],
      "execution_count": 13,
      "outputs": [
        {
          "output_type": "stream",
          "name": "stdout",
          "text": [
            "dict_keys(['a', 'b', 'c'])\n"
          ]
        }
      ]
    },
    {
      "cell_type": "markdown",
      "metadata": {
        "id": "afa02a22"
      },
      "source": [
        "* **`values()`**: Returns a view object that displays a list of all the values in the dictionary."
      ]
    },
    {
      "cell_type": "code",
      "metadata": {
        "colab": {
          "base_uri": "https://localhost:8080/"
        },
        "id": "267632e1",
        "outputId": "43e20312-95f2-4b21-cafb-89be12f1363c"
      },
      "source": [
        "my_dict = {\"a\": 1, \"b\": 2, \"c\": 3}\n",
        "print(my_dict.values()) # Output: dict_values([1, 2, 3])"
      ],
      "execution_count": 14,
      "outputs": [
        {
          "output_type": "stream",
          "name": "stdout",
          "text": [
            "dict_values([1, 2, 3])\n"
          ]
        }
      ]
    },
    {
      "cell_type": "markdown",
      "metadata": {
        "id": "cbeff004"
      },
      "source": [
        "* **`items()`**: Returns a view object that displays a list of a dictionary's key-value tuple pairs."
      ]
    },
    {
      "cell_type": "code",
      "metadata": {
        "colab": {
          "base_uri": "https://localhost:8080/"
        },
        "id": "5c00e333",
        "outputId": "31e72697-b16c-43a3-dd5f-727a8c083400"
      },
      "source": [
        "my_dict = {\"a\": 1, \"b\": 2, \"c\": 3}\n",
        "print(my_dict.items()) # Output: dict_items([('a', 1), ('b', 2), ('c', 3)])"
      ],
      "execution_count": 15,
      "outputs": [
        {
          "output_type": "stream",
          "name": "stdout",
          "text": [
            "dict_items([('a', 1), ('b', 2), ('c', 3)])\n"
          ]
        }
      ]
    },
    {
      "cell_type": "markdown",
      "metadata": {
        "id": "45f8f5b8"
      },
      "source": [
        "* **`pop(key, default)`**: Removes the item with the specified key and returns its value. If the key is not found, it raises a `KeyError` or returns the specified `default` value."
      ]
    },
    {
      "cell_type": "code",
      "metadata": {
        "colab": {
          "base_uri": "https://localhost:8080/"
        },
        "id": "521553cf",
        "outputId": "b511cba5-fea5-43a4-c004-2b6418e29dce"
      },
      "source": [
        "my_dict = {\"a\": 1, \"b\": 2, \"c\": 3}\n",
        "removed_value = my_dict.pop(\"b\")\n",
        "print(removed_value) # Output: 2\n",
        "print(my_dict)       # Output: {\"a\": 1, \"c\": 3}\n",
        "\n",
        "# print(my_dict.pop(\"d\"))      # Raises KeyError\n",
        "print(my_dict.pop(\"d\", 0))   # Output: 0"
      ],
      "execution_count": 16,
      "outputs": [
        {
          "output_type": "stream",
          "name": "stdout",
          "text": [
            "2\n",
            "{'a': 1, 'c': 3}\n",
            "0\n"
          ]
        }
      ]
    },
    {
      "cell_type": "markdown",
      "metadata": {
        "id": "ef2e29f6"
      },
      "source": [
        "* **`popitem()`**: Removes and returns a random key-value pair from the dictionary as a tuple. Raises a `KeyError` if the dictionary is empty."
      ]
    },
    {
      "cell_type": "code",
      "metadata": {
        "colab": {
          "base_uri": "https://localhost:8080/"
        },
        "id": "74d1f346",
        "outputId": "87dce376-4474-445f-dffc-34f47a263908"
      },
      "source": [
        "my_dict = {\"a\": 1, \"b\": 2, \"c\": 3}\n",
        "random_item = my_dict.popitem()\n",
        "print(random_item) # Output: ('a', 1) (or any other pair)\n",
        "print(my_dict)     # Output: {\"b\": 2, \"c\": 3} (or the remaining pairs)"
      ],
      "execution_count": 17,
      "outputs": [
        {
          "output_type": "stream",
          "name": "stdout",
          "text": [
            "('c', 3)\n",
            "{'a': 1, 'b': 2}\n"
          ]
        }
      ]
    },
    {
      "cell_type": "markdown",
      "metadata": {
        "id": "f6082340"
      },
      "source": [
        "* **`update(iterable or dictionary)`**: Updates the dictionary with the key-value pairs from another dictionary or an iterable of key-value pairs. Existing keys are overwritten, and new keys are added."
      ]
    },
    {
      "cell_type": "code",
      "metadata": {
        "colab": {
          "base_uri": "https://localhost:8080/"
        },
        "id": "868fd106",
        "outputId": "00f244ec-61eb-4ff3-f7f1-ba196dc99bf8"
      },
      "source": [
        "my_dict = {\"a\": 1, \"b\": 2}\n",
        "my_dict.update({\"b\": 3, \"c\": 4})\n",
        "print(my_dict) # Output: {\"a\": 1, \"b\": 3, \"c\": 4}\n",
        "\n",
        "my_dict = {\"a\": 1, \"b\": 2}\n",
        "my_dict.update([(\"b\", 3), (\"c\", 4)])\n",
        "print(my_dict) # Output: {\"a\": 1, \"b\": 3, \"c\": 4}"
      ],
      "execution_count": 18,
      "outputs": [
        {
          "output_type": "stream",
          "name": "stdout",
          "text": [
            "{'a': 1, 'b': 3, 'c': 4}\n",
            "{'a': 1, 'b': 3, 'c': 4}\n"
          ]
        }
      ]
    },
    {
      "cell_type": "markdown",
      "metadata": {
        "id": "f9cbf473"
      },
      "source": [
        "* **`clear()`**: Removes all items from the dictionary."
      ]
    },
    {
      "cell_type": "code",
      "metadata": {
        "colab": {
          "base_uri": "https://localhost:8080/"
        },
        "id": "f3a46ce4",
        "outputId": "b948c426-cb2d-4f60-b3ff-f480ef684d20"
      },
      "source": [
        "my_dict = {\"a\": 1, \"b\": 2}\n",
        "my_dict.clear()\n",
        "print(my_dict) # Output: {}"
      ],
      "execution_count": 19,
      "outputs": [
        {
          "output_type": "stream",
          "name": "stdout",
          "text": [
            "{}\n"
          ]
        }
      ]
    },
    {
      "cell_type": "markdown",
      "metadata": {
        "id": "3f227325"
      },
      "source": [
        "* **`copy()`**: Returns a shallow copy of the dictionary."
      ]
    },
    {
      "cell_type": "code",
      "metadata": {
        "colab": {
          "base_uri": "https://localhost:8080/"
        },
        "id": "d1da8c6a",
        "outputId": "3f81d08d-fd6e-400d-947a-3cd5c4d6f57b"
      },
      "source": [
        "my_dict = {\"a\": 1, \"b\": 2}\n",
        "my_dict_copy = my_dict.copy()\n",
        "print(my_dict_copy) # Output: {\"a\": 1, \"b\": 2}\n",
        "\n",
        "# Modifying the copy does not affect the original dictionary\n",
        "my_dict_copy[\"c\"] = 3\n",
        "print(my_dict)      # Output: {\"a\": 1, \"b\": 2}\n",
        "print(my_dict_copy) # Output: {\"a\": 1, \"b\": 2, \"c\": 3}"
      ],
      "execution_count": 20,
      "outputs": [
        {
          "output_type": "stream",
          "name": "stdout",
          "text": [
            "{'a': 1, 'b': 2}\n",
            "{'a': 1, 'b': 2}\n",
            "{'a': 1, 'b': 2, 'c': 3}\n"
          ]
        }
      ]
    },
    {
      "cell_type": "markdown",
      "metadata": {
        "id": "dd25f6eb"
      },
      "source": [
        "### Common Tuple Methods in Python\n",
        "\n",
        "Tuples are ordered, immutable collections of items in Python. Because they are immutable, they have fewer methods compared to lists. Here are some commonly used tuple methods:"
      ]
    },
    {
      "cell_type": "markdown",
      "metadata": {
        "id": "0b1ce5a8"
      },
      "source": [
        "* **`count(item)`**: Returns the number of times a specified item occurs in a tuple."
      ]
    },
    {
      "cell_type": "code",
      "metadata": {
        "colab": {
          "base_uri": "https://localhost:8080/"
        },
        "id": "16c347b3",
        "outputId": "b1307b1d-2621-4b3f-8e83-87fc317afec6"
      },
      "source": [
        "my_tuple = (1, 2, 3, 2, 4, 2)\n",
        "print(my_tuple.count(2))  # Output: 3\n",
        "print(my_tuple.count(5))  # Output: 0"
      ],
      "execution_count": 21,
      "outputs": [
        {
          "output_type": "stream",
          "name": "stdout",
          "text": [
            "3\n",
            "0\n"
          ]
        }
      ]
    },
    {
      "cell_type": "markdown",
      "metadata": {
        "id": "b775a219"
      },
      "source": [
        "* **`index(item, [start, [end]])`**: Searches the tuple for a specified item and returns the position of where it was found. If the item is not found, it raises a `ValueError`. Optional `start` and `end` arguments can be used to search within a specific slice of the tuple."
      ]
    },
    {
      "cell_type": "code",
      "metadata": {
        "colab": {
          "base_uri": "https://localhost:8080/"
        },
        "id": "d102d9d1",
        "outputId": "1ef5c875-d9b5-48ab-cb29-93879e9bb65e"
      },
      "source": [
        "my_tuple = (1, 2, 3, 2, 4)\n",
        "print(my_tuple.index(2))     # Output: 1\n",
        "print(my_tuple.index(2, 2))  # Output: 3\n",
        "# print(my_tuple.index(5))   # Raises ValueError"
      ],
      "execution_count": 22,
      "outputs": [
        {
          "output_type": "stream",
          "name": "stdout",
          "text": [
            "1\n",
            "3\n"
          ]
        }
      ]
    },
    {
      "cell_type": "markdown",
      "metadata": {
        "id": "08b63981"
      },
      "source": [
        "### Common Set Methods in Python\n",
        "\n",
        "Sets in Python are unordered collections of unique elements. They are useful for operations involving membership testing, removing duplicates, and mathematical set operations like union, intersection, and difference. Here are some commonly used set methods:"
      ]
    },
    {
      "cell_type": "markdown",
      "metadata": {
        "id": "f9ae8946"
      },
      "source": [
        "* **`add(item)`**: Adds an element to the set. If the element is already in the set, it does nothing."
      ]
    },
    {
      "cell_type": "code",
      "metadata": {
        "colab": {
          "base_uri": "https://localhost:8080/"
        },
        "id": "600f2a72",
        "outputId": "ca7d6807-e3e1-458c-d401-20d8f98e1248"
      },
      "source": [
        "my_set = {1, 2, 3}\n",
        "my_set.add(4)\n",
        "print(my_set) # Output: {1, 2, 3, 4}\n",
        "\n",
        "my_set.add(3)\n",
        "print(my_set) # Output: {1, 2, 3, 4}"
      ],
      "execution_count": 23,
      "outputs": [
        {
          "output_type": "stream",
          "name": "stdout",
          "text": [
            "{1, 2, 3, 4}\n",
            "{1, 2, 3, 4}\n"
          ]
        }
      ]
    },
    {
      "cell_type": "markdown",
      "metadata": {
        "id": "2d47ccf3"
      },
      "source": [
        "* **`update(iterable)`**: Adds all elements from an iterable (like a list, tuple, or another set) to the set."
      ]
    },
    {
      "cell_type": "code",
      "metadata": {
        "colab": {
          "base_uri": "https://localhost:8080/"
        },
        "id": "7a5dbf6d",
        "outputId": "7b556a73-d372-4110-8828-87c0f1e832b8"
      },
      "source": [
        "my_set = {1, 2, 3}\n",
        "my_set.update([3, 4, 5])\n",
        "print(my_set) # Output: {1, 2, 3, 4, 5}"
      ],
      "execution_count": 24,
      "outputs": [
        {
          "output_type": "stream",
          "name": "stdout",
          "text": [
            "{1, 2, 3, 4, 5}\n"
          ]
        }
      ]
    },
    {
      "cell_type": "markdown",
      "metadata": {
        "id": "8289a0d6"
      },
      "source": [
        "* **`remove(item)`**: Removes a specified element from the set. If the element is not found, it raises a `KeyError`."
      ]
    },
    {
      "cell_type": "code",
      "metadata": {
        "colab": {
          "base_uri": "https://localhost:8080/"
        },
        "id": "b9d0f6c8",
        "outputId": "260988bf-4718-4bad-a8f4-2abba430a8cd"
      },
      "source": [
        "my_set = {1, 2, 3}\n",
        "my_set.remove(2)\n",
        "print(my_set) # Output: {1, 3}\n",
        "\n",
        "# my_set.remove(4) # Raises KeyError"
      ],
      "execution_count": 25,
      "outputs": [
        {
          "output_type": "stream",
          "name": "stdout",
          "text": [
            "{1, 3}\n"
          ]
        }
      ]
    },
    {
      "cell_type": "markdown",
      "metadata": {
        "id": "75fb924d"
      },
      "source": [
        "* **`discard(item)`**: Removes a specified element from the set if it is present. Unlike `remove()`, it does not raise an error if the element is not found."
      ]
    },
    {
      "cell_type": "code",
      "metadata": {
        "colab": {
          "base_uri": "https://localhost:8080/"
        },
        "id": "e5020f3f",
        "outputId": "8bb0fdff-4908-4410-f7e6-e2ebc405e40d"
      },
      "source": [
        "my_set = {1, 2, 3}\n",
        "my_set.discard(2)\n",
        "print(my_set) # Output: {1, 3}\n",
        "\n",
        "my_set.discard(4)\n",
        "print(my_set) # Output: {1, 3}"
      ],
      "execution_count": 26,
      "outputs": [
        {
          "output_type": "stream",
          "name": "stdout",
          "text": [
            "{1, 3}\n",
            "{1, 3}\n"
          ]
        }
      ]
    },
    {
      "cell_type": "markdown",
      "metadata": {
        "id": "550bf47b"
      },
      "source": [
        "* **`pop()`**: Removes and returns an arbitrary element from the set. Raises a `KeyError` if the set is empty."
      ]
    },
    {
      "cell_type": "code",
      "metadata": {
        "colab": {
          "base_uri": "https://localhost:8080/"
        },
        "id": "d872920f",
        "outputId": "b133bebf-f8a6-441d-816a-32c42cfae4aa"
      },
      "source": [
        "my_set = {1, 2, 3}\n",
        "arbitrary_item = my_set.pop()\n",
        "print(arbitrary_item) # Output: (an arbitrary item from the set)\n",
        "print(my_set)         # Output: (the set without the removed item)"
      ],
      "execution_count": 27,
      "outputs": [
        {
          "output_type": "stream",
          "name": "stdout",
          "text": [
            "1\n",
            "{2, 3}\n"
          ]
        }
      ]
    },
    {
      "cell_type": "markdown",
      "metadata": {
        "id": "cea67f71"
      },
      "source": [
        "* **`clear()`**: Removes all elements from the set."
      ]
    },
    {
      "cell_type": "code",
      "metadata": {
        "colab": {
          "base_uri": "https://localhost:8080/"
        },
        "id": "002b15c0",
        "outputId": "45a22ba2-2a25-4a08-d911-e2862ec36ee4"
      },
      "source": [
        "my_set = {1, 2, 3}\n",
        "my_set.clear()\n",
        "print(my_set) # Output: set()"
      ],
      "execution_count": 28,
      "outputs": [
        {
          "output_type": "stream",
          "name": "stdout",
          "text": [
            "set()\n"
          ]
        }
      ]
    },
    {
      "cell_type": "markdown",
      "metadata": {
        "id": "55c5b5ef"
      },
      "source": [
        "* **`union(other_sets)` / `|`**: Returns a new set containing all elements from the original set and all specified sets."
      ]
    },
    {
      "cell_type": "code",
      "metadata": {
        "colab": {
          "base_uri": "https://localhost:8080/"
        },
        "id": "853e1de7",
        "outputId": "e8cf3246-85ce-401a-a6dd-1c0566d1aac0"
      },
      "source": [
        "set1 = {1, 2, 3}\n",
        "set2 = {3, 4, 5}\n",
        "print(set1.union(set2)) # Output: {1, 2, 3, 4, 5}\n",
        "print(set1 | set2)      # Output: {1, 2, 3, 4, 5}"
      ],
      "execution_count": 29,
      "outputs": [
        {
          "output_type": "stream",
          "name": "stdout",
          "text": [
            "{1, 2, 3, 4, 5}\n",
            "{1, 2, 3, 4, 5}\n"
          ]
        }
      ]
    },
    {
      "cell_type": "markdown",
      "metadata": {
        "id": "f520ec10"
      },
      "source": [
        "* **`intersection(other_sets)` / `&`**: Returns a new set containing only the elements that are common to both the original set and all specified sets."
      ]
    },
    {
      "cell_type": "code",
      "metadata": {
        "colab": {
          "base_uri": "https://localhost:8080/"
        },
        "id": "7873eb8a",
        "outputId": "8074036c-592b-4267-bac2-0896e6b5f0b9"
      },
      "source": [
        "set1 = {1, 2, 3}\n",
        "set2 = {3, 4, 5}\n",
        "print(set1.intersection(set2)) # Output: {3}\n",
        "print(set1 & set2)             # Output: {3}"
      ],
      "execution_count": 30,
      "outputs": [
        {
          "output_type": "stream",
          "name": "stdout",
          "text": [
            "{3}\n",
            "{3}\n"
          ]
        }
      ]
    },
    {
      "cell_type": "markdown",
      "metadata": {
        "id": "88289185"
      },
      "source": [
        "* **`difference(other_sets)` / `-`**: Returns a new set containing only the elements that are in the original set but not in the specified sets."
      ]
    },
    {
      "cell_type": "code",
      "metadata": {
        "colab": {
          "base_uri": "https://localhost:8080/"
        },
        "id": "8100942b",
        "outputId": "0f83e630-9d6d-4d74-c77b-04078b38512c"
      },
      "source": [
        "set1 = {1, 2, 3, 4}\n",
        "set2 = {3, 4, 5}\n",
        "print(set1.difference(set2)) # Output: {1, 2}\n",
        "print(set1 - set2)           # Output: {1, 2}"
      ],
      "execution_count": 31,
      "outputs": [
        {
          "output_type": "stream",
          "name": "stdout",
          "text": [
            "{1, 2}\n",
            "{1, 2}\n"
          ]
        }
      ]
    },
    {
      "cell_type": "markdown",
      "metadata": {
        "id": "c088c77b"
      },
      "source": [
        "* **`symmetric_difference(other_sets)` / `^`**: Returns a new set containing elements that are in either the original set or the specified sets, but not in both."
      ]
    },
    {
      "cell_type": "code",
      "metadata": {
        "colab": {
          "base_uri": "https://localhost:8080/"
        },
        "id": "7c151ef1",
        "outputId": "a13fe851-2f89-49b9-f8ef-4958d8e1d6ca"
      },
      "source": [
        "set1 = {1, 2, 3}\n",
        "set2 = {3, 4, 5}\n",
        "print(set1.symmetric_difference(set2)) # Output: {1, 2, 4, 5}\n",
        "print(set1 ^ set2)                     # Output: {1, 2, 4, 5}"
      ],
      "execution_count": 32,
      "outputs": [
        {
          "output_type": "stream",
          "name": "stdout",
          "text": [
            "{1, 2, 4, 5}\n",
            "{1, 2, 4, 5}\n"
          ]
        }
      ]
    },
    {
      "cell_type": "markdown",
      "metadata": {
        "id": "26edbde3"
      },
      "source": [
        "* **`issubset(other_set)` / `<=`**: Returns `True` if all elements in the original set are also present in the specified set."
      ]
    },
    {
      "cell_type": "code",
      "metadata": {
        "colab": {
          "base_uri": "https://localhost:8080/"
        },
        "id": "16ccf4b2",
        "outputId": "92e3be73-0dd4-4937-cb44-6bd20cd2f902"
      },
      "source": [
        "set1 = {1, 2}\n",
        "set2 = {1, 2, 3, 4}\n",
        "print(set1.issubset(set2)) # Output: True\n",
        "print(set1 <= set2)        # Output: True"
      ],
      "execution_count": 33,
      "outputs": [
        {
          "output_type": "stream",
          "name": "stdout",
          "text": [
            "True\n",
            "True\n"
          ]
        }
      ]
    },
    {
      "cell_type": "markdown",
      "metadata": {
        "id": "314b55b2"
      },
      "source": [
        "* **`issuperset(other_set)` / `>=`**: Returns `True` if all elements in the specified set are also present in the original set."
      ]
    },
    {
      "cell_type": "code",
      "metadata": {
        "colab": {
          "base_uri": "https://localhost:8080/"
        },
        "id": "83e2424a",
        "outputId": "ddfdb32c-8d91-487a-ae6b-c8ded6d38d19"
      },
      "source": [
        "set1 = {1, 2, 3, 4}\n",
        "set2 = {1, 2}\n",
        "print(set1.issuperset(set2)) # Output: True\n",
        "print(set1 >= set2)        # Output: True"
      ],
      "execution_count": 34,
      "outputs": [
        {
          "output_type": "stream",
          "name": "stdout",
          "text": [
            "True\n",
            "True\n"
          ]
        }
      ]
    },
    {
      "cell_type": "markdown",
      "metadata": {
        "id": "7275263e"
      },
      "source": [
        "* **`isdisjoint(other_set)`**: Returns `True` if the original set and the specified set have no elements in common."
      ]
    },
    {
      "cell_type": "code",
      "metadata": {
        "colab": {
          "base_uri": "https://localhost:8080/"
        },
        "id": "e9fb6d17",
        "outputId": "32b8406b-b3ff-4789-cbb5-e9a712d1eab0"
      },
      "source": [
        "set1 = {1, 2}\n",
        "set2 = {3, 4}\n",
        "set3 = {1, 5}\n",
        "print(set1.isdisjoint(set2)) # Output: True\n",
        "print(set1.isdisjoint(set3)) # Output: False"
      ],
      "execution_count": 35,
      "outputs": [
        {
          "output_type": "stream",
          "name": "stdout",
          "text": [
            "True\n",
            "False\n"
          ]
        }
      ]
    },
    {
      "cell_type": "markdown",
      "metadata": {
        "id": "a729b35b"
      },
      "source": [
        "* **`copy()`**: Returns a shallow copy of the set."
      ]
    },
    {
      "cell_type": "code",
      "metadata": {
        "colab": {
          "base_uri": "https://localhost:8080/"
        },
        "id": "8fb90e03",
        "outputId": "c07b91df-32f8-4a1f-9b2d-92c884910cb6"
      },
      "source": [
        "my_set = {1, 2, 3}\n",
        "my_set_copy = my_set.copy()\n",
        "print(my_set_copy) # Output: {1, 2, 3}\n",
        "\n",
        "# Modifying the copy does not affect the original set\n",
        "my_set_copy.add(4)\n",
        "print(my_set)      # Output: {1, 2, 3}\n",
        "print(my_set_copy) # Output: {1, 2, 3, 4}"
      ],
      "execution_count": 36,
      "outputs": [
        {
          "output_type": "stream",
          "name": "stdout",
          "text": [
            "{1, 2, 3}\n",
            "{1, 2, 3}\n",
            "{1, 2, 3, 4}\n"
          ]
        }
      ]
    },
    {
      "cell_type": "markdown",
      "metadata": {
        "id": "1b272211"
      },
      "source": [
        "### Common Basic Data Types in Python\n",
        "\n",
        "Besides the collection types we've discussed (strings, lists, dictionaries, tuples, sets), Python has several fundamental built-in data types."
      ]
    },
    {
      "cell_type": "markdown",
      "metadata": {
        "id": "7f781ee7"
      },
      "source": [
        "*   **Integers (`int`)**: Represent whole numbers (positive, negative, or zero)."
      ]
    },
    {
      "cell_type": "code",
      "metadata": {
        "colab": {
          "base_uri": "https://localhost:8080/"
        },
        "id": "8a100423",
        "outputId": "0932d04d-1602-4268-bf6a-4dbc17eee37f"
      },
      "source": [
        "my_integer = 10\n",
        "another_integer = -5\n",
        "large_integer = 1000000000000000000000000000000000000000000000000000000000000000000000000000000000000000000000000000\n",
        "print(type(my_integer))\n",
        "print(my_integer)\n",
        "print(another_integer)\n",
        "print(large_integer)"
      ],
      "execution_count": 37,
      "outputs": [
        {
          "output_type": "stream",
          "name": "stdout",
          "text": [
            "<class 'int'>\n",
            "10\n",
            "-5\n",
            "1000000000000000000000000000000000000000000000000000000000000000000000000000000000000000000000000000\n"
          ]
        }
      ]
    },
    {
      "cell_type": "markdown",
      "metadata": {
        "id": "a9501b15"
      },
      "source": [
        "*   **Floating-point numbers (`float`)**: Represent real numbers with a decimal point."
      ]
    },
    {
      "cell_type": "code",
      "metadata": {
        "colab": {
          "base_uri": "https://localhost:8080/"
        },
        "id": "26893db8",
        "outputId": "fe5a2f36-a4f5-4cc6-80f1-c18e9154f681"
      },
      "source": [
        "my_float = 3.14\n",
        "another_float = -0.001\n",
        "scientific_notation = 1.23e5  # Represents 1.23 * 10^5\n",
        "print(type(my_float))\n",
        "print(my_float)\n",
        "print(another_float)\n",
        "print(scientific_notation)"
      ],
      "execution_count": 38,
      "outputs": [
        {
          "output_type": "stream",
          "name": "stdout",
          "text": [
            "<class 'float'>\n",
            "3.14\n",
            "-0.001\n",
            "123000.0\n"
          ]
        }
      ]
    },
    {
      "cell_type": "markdown",
      "metadata": {
        "id": "0d902ea3"
      },
      "source": [
        "*   **Booleans (`bool`)**: Represent truth values, either `True` or `False`."
      ]
    },
    {
      "cell_type": "code",
      "metadata": {
        "colab": {
          "base_uri": "https://localhost:8080/"
        },
        "id": "300e5e35",
        "outputId": "30eda8c6-d9fd-4c3e-d26d-3469006a5326"
      },
      "source": [
        "is_true = True\n",
        "is_false = False\n",
        "print(type(is_true))\n",
        "print(is_true)\n",
        "print(is_false)"
      ],
      "execution_count": 39,
      "outputs": [
        {
          "output_type": "stream",
          "name": "stdout",
          "text": [
            "<class 'bool'>\n",
            "True\n",
            "False\n"
          ]
        }
      ]
    },
    {
      "cell_type": "markdown",
      "metadata": {
        "id": "72915c05"
      },
      "source": [
        "*   **None Type (`NoneType`)**: Represents the absence of a value."
      ]
    },
    {
      "cell_type": "code",
      "metadata": {
        "colab": {
          "base_uri": "https://localhost:8080/"
        },
        "id": "2e72ce6b",
        "outputId": "658f43f1-a02c-48e7-e269-5e787835bf39"
      },
      "source": [
        "my_variable = None\n",
        "print(type(my_variable))\n",
        "print(my_variable)"
      ],
      "execution_count": 40,
      "outputs": [
        {
          "output_type": "stream",
          "name": "stdout",
          "text": [
            "<class 'NoneType'>\n",
            "None\n"
          ]
        }
      ]
    },
    {
      "cell_type": "markdown",
      "metadata": {
        "id": "0ce0e1ca"
      },
      "source": [
        "*   **Bytes and Byte Arrays (`bytes`, `bytearray`)**: Represent sequences of bytes. `bytes` are immutable, while `bytearray` are mutable."
      ]
    },
    {
      "cell_type": "code",
      "metadata": {
        "colab": {
          "base_uri": "https://localhost:8080/"
        },
        "id": "686d4e9a",
        "outputId": "4aa603e8-e48a-412d-ec9f-12de819d7a0d"
      },
      "source": [
        "my_bytes = b\"hello\"\n",
        "my_bytearray = bytearray(b\"world\")\n",
        "\n",
        "print(type(my_bytes))\n",
        "print(my_bytes)\n",
        "\n",
        "print(type(my_bytearray))\n",
        "print(my_bytearray)\n",
        "\n",
        "# You can modify bytearray\n",
        "my_bytearray[0] = ord('W')\n",
        "print(my_bytearray)"
      ],
      "execution_count": 41,
      "outputs": [
        {
          "output_type": "stream",
          "name": "stdout",
          "text": [
            "<class 'bytes'>\n",
            "b'hello'\n",
            "<class 'bytearray'>\n",
            "bytearray(b'world')\n",
            "bytearray(b'World')\n"
          ]
        }
      ]
    },
    {
      "cell_type": "markdown",
      "metadata": {
        "id": "8d4cb9b1"
      },
      "source": [
        "# Task\n",
        "List the commonly used methods for Python lists, dictionaries, tuples, and sets. Then, list the data types integers, floats, booleans, NoneType, and bytes/bytearray. Finally, suggest additional Python basic knowledge essential for solving LeetCode problems, excluding the previously mentioned data types and their methods."
      ]
    },
    {
      "cell_type": "markdown",
      "metadata": {
        "id": "2cfe43f3"
      },
      "source": [
        "## Control flow\n",
        "\n",
        "### Subtask:\n",
        "Learn about conditional statements (`if`, `elif`, `else`) and loops (`for`, `while`) to control the execution flow of your programs.\n"
      ]
    },
    {
      "cell_type": "markdown",
      "metadata": {
        "id": "b899ce3a"
      },
      "source": [
        "**Reasoning**:\n",
        "The subtask requires demonstrating conditional statements (`if`, `elif`, `else`), which is the first part of the instructions. I will create a code cell with examples covering different conditional scenarios.\n",
        "\n"
      ]
    },
    {
      "cell_type": "code",
      "metadata": {
        "colab": {
          "base_uri": "https://localhost:8080/"
        },
        "id": "f8d5fca8",
        "outputId": "a7ae3351-1889-40e8-ae6e-183de591c338"
      },
      "source": [
        "# Example of if, elif, and else statements\n",
        "\n",
        "temperature = 25\n",
        "\n",
        "if temperature > 30:\n",
        "    print(\"It's a hot day!\")\n",
        "elif temperature > 20:\n",
        "    print(\"It's a pleasant day.\")\n",
        "else:\n",
        "    print(\"It's a bit cool.\")\n",
        "\n",
        "# Another example with different conditions\n",
        "score = 85\n",
        "\n",
        "if score >= 90:\n",
        "    print(\"Excellent!\")\n",
        "elif score >= 70:\n",
        "    print(\"Good job!\")\n",
        "else:\n",
        "    print(\"Keep practicing.\")"
      ],
      "execution_count": 42,
      "outputs": [
        {
          "output_type": "stream",
          "name": "stdout",
          "text": [
            "It's a pleasant day.\n",
            "Good job!\n"
          ]
        }
      ]
    },
    {
      "cell_type": "markdown",
      "metadata": {
        "id": "d55358a3"
      },
      "source": [
        "**Reasoning**:\n",
        "The second part of the subtask is to demonstrate `for` loops. I will create a new code cell with examples of iterating over different iterable types and using `range()`.\n",
        "\n"
      ]
    },
    {
      "cell_type": "code",
      "metadata": {
        "colab": {
          "base_uri": "https://localhost:8080/"
        },
        "id": "da1c0740",
        "outputId": "f8f7fafb-b6a9-4534-9cd4-aec3f66de411"
      },
      "source": [
        "# Examples of for loops\n",
        "\n",
        "# Iterating over a list\n",
        "fruits = [\"apple\", \"banana\", \"cherry\"]\n",
        "print(\"Iterating over a list:\")\n",
        "for fruit in fruits:\n",
        "    print(fruit)\n",
        "\n",
        "# Iterating over a string\n",
        "word = \"Python\"\n",
        "print(\"\\nIterating over a string:\")\n",
        "for char in word:\n",
        "    print(char)\n",
        "\n",
        "# Iterating using range()\n",
        "print(\"\\nIterating using range(5):\")\n",
        "for i in range(5):\n",
        "    print(i)\n",
        "\n",
        "print(\"\\nIterating using range(2, 8):\")\n",
        "for i in range(2, 8):\n",
        "    print(i)\n",
        "\n",
        "print(\"\\nIterating using range(10, 0, -2):\")\n",
        "for i in range(10, 0, -2):\n",
        "    print(i)"
      ],
      "execution_count": 43,
      "outputs": [
        {
          "output_type": "stream",
          "name": "stdout",
          "text": [
            "Iterating over a list:\n",
            "apple\n",
            "banana\n",
            "cherry\n",
            "\n",
            "Iterating over a string:\n",
            "P\n",
            "y\n",
            "t\n",
            "h\n",
            "o\n",
            "n\n",
            "\n",
            "Iterating using range(5):\n",
            "0\n",
            "1\n",
            "2\n",
            "3\n",
            "4\n",
            "\n",
            "Iterating using range(2, 8):\n",
            "2\n",
            "3\n",
            "4\n",
            "5\n",
            "6\n",
            "7\n",
            "\n",
            "Iterating using range(10, 0, -2):\n",
            "10\n",
            "8\n",
            "6\n",
            "4\n",
            "2\n"
          ]
        }
      ]
    },
    {
      "cell_type": "markdown",
      "metadata": {
        "id": "02ed2e3c"
      },
      "source": [
        "**Reasoning**:\n",
        "The third part of the subtask is to demonstrate `while` loops. I will create a new code cell with examples of `while` loops using a counter and a condition.\n",
        "\n"
      ]
    },
    {
      "cell_type": "code",
      "metadata": {
        "colab": {
          "base_uri": "https://localhost:8080/"
        },
        "id": "e850d1ff",
        "outputId": "bd7b60bb-e390-4b5d-d581-79373c7bfc3b"
      },
      "source": [
        "# Examples of while loops\n",
        "\n",
        "# While loop with a counter\n",
        "count = 0\n",
        "print(\"While loop with a counter:\")\n",
        "while count < 5:\n",
        "    print(count)\n",
        "    count += 1\n",
        "\n",
        "# While loop with a condition\n",
        "number = 10\n",
        "print(\"\\nWhile loop with a condition:\")\n",
        "while number > 0:\n",
        "    print(number)\n",
        "    number -= 2"
      ],
      "execution_count": 44,
      "outputs": [
        {
          "output_type": "stream",
          "name": "stdout",
          "text": [
            "While loop with a counter:\n",
            "0\n",
            "1\n",
            "2\n",
            "3\n",
            "4\n",
            "\n",
            "While loop with a condition:\n",
            "10\n",
            "8\n",
            "6\n",
            "4\n",
            "2\n"
          ]
        }
      ]
    },
    {
      "cell_type": "markdown",
      "metadata": {
        "id": "b539dcd9"
      },
      "source": [
        "## Functions\n",
        "\n",
        "### Subtask:\n",
        "Understand how to define and use functions to organize your code, make it reusable, and break down complex problems into smaller parts.\n"
      ]
    },
    {
      "cell_type": "markdown",
      "metadata": {
        "id": "4fcffb85"
      },
      "source": [
        "**Reasoning**:\n",
        "Define and call a simple function without parameters as the first step in understanding functions.\n",
        "\n"
      ]
    },
    {
      "cell_type": "code",
      "metadata": {
        "colab": {
          "base_uri": "https://localhost:8080/"
        },
        "id": "01d567c0",
        "outputId": "7f37b19c-1bc4-4674-ed58-10b4c4d155a9"
      },
      "source": [
        "def greet():\n",
        "  \"\"\"This function prints a simple greeting.\"\"\"\n",
        "  print(\"Hello! Welcome to the world of functions.\")\n",
        "\n",
        "# Call the function\n",
        "greet()"
      ],
      "execution_count": 45,
      "outputs": [
        {
          "output_type": "stream",
          "name": "stdout",
          "text": [
            "Hello! Welcome to the world of functions.\n"
          ]
        }
      ]
    },
    {
      "cell_type": "markdown",
      "metadata": {
        "id": "1c9de4d0"
      },
      "source": [
        "**Reasoning**:\n",
        "Define a function with parameters and demonstrate its usage with different arguments to show how functions can accept input.\n",
        "\n"
      ]
    },
    {
      "cell_type": "code",
      "metadata": {
        "colab": {
          "base_uri": "https://localhost:8080/"
        },
        "id": "9c3a9982",
        "outputId": "fdf84ed3-8ec5-4d53-a1b5-7090b41922e2"
      },
      "source": [
        "def add_numbers(num1, num2):\n",
        "  \"\"\"This function takes two numbers as parameters and prints their sum.\"\"\"\n",
        "  sum_result = num1 + num2\n",
        "  print(f\"The sum of {num1} and {num2} is: {sum_result}\")\n",
        "\n",
        "# Call the function with different arguments\n",
        "add_numbers(5, 10)\n",
        "add_numbers(-2, 7)"
      ],
      "execution_count": 46,
      "outputs": [
        {
          "output_type": "stream",
          "name": "stdout",
          "text": [
            "The sum of 5 and 10 is: 15\n",
            "The sum of -2 and 7 is: 5\n"
          ]
        }
      ]
    },
    {
      "cell_type": "markdown",
      "metadata": {
        "id": "4ec3e1fb"
      },
      "source": [
        "**Reasoning**:\n",
        "Demonstrate how a function can return a value by defining a function that calculates and returns a result, and then printing the returned value.\n",
        "\n"
      ]
    },
    {
      "cell_type": "code",
      "metadata": {
        "colab": {
          "base_uri": "https://localhost:8080/"
        },
        "id": "1889597c",
        "outputId": "db4fad69-b609-4baf-857d-ef63f65530d9"
      },
      "source": [
        "def multiply_numbers(x, y):\n",
        "  \"\"\"This function takes two numbers and returns their product.\"\"\"\n",
        "  product = x * y\n",
        "  return product\n",
        "\n",
        "# Call the function and print the returned value\n",
        "result = multiply_numbers(4, 6)\n",
        "print(f\"The product is: {result}\")\n",
        "\n",
        "print(f\"The product is: {multiply_numbers(3, 9)}\")"
      ],
      "execution_count": 47,
      "outputs": [
        {
          "output_type": "stream",
          "name": "stdout",
          "text": [
            "The product is: 24\n",
            "The product is: 27\n"
          ]
        }
      ]
    },
    {
      "cell_type": "markdown",
      "metadata": {
        "id": "bcb3ea75"
      },
      "source": [
        "**Reasoning**:\n",
        "Show how to use default parameter values in a function and call it both with and without providing the default parameter's argument. This demonstrates flexibility in function usage.\n",
        "\n"
      ]
    },
    {
      "cell_type": "code",
      "metadata": {
        "colab": {
          "base_uri": "https://localhost:8080/"
        },
        "id": "c8697d7f",
        "outputId": "48dea07a-a6d5-4c2f-b601-cfb7368f0693"
      },
      "source": [
        "def greet_person(name, greeting=\"Hello\"):\n",
        "  \"\"\"This function greets a person with an optional custom greeting.\"\"\"\n",
        "  print(f\"{greeting}, {name}!\")\n",
        "\n",
        "# Call the function without providing the default parameter (uses \"Hello\")\n",
        "greet_person(\"Alice\")\n",
        "\n",
        "# Call the function providing a different value for the default parameter\n",
        "greet_person(\"Bob\", \"Good morning\")"
      ],
      "execution_count": 48,
      "outputs": [
        {
          "output_type": "stream",
          "name": "stdout",
          "text": [
            "Hello, Alice!\n",
            "Good morning, Bob!\n"
          ]
        }
      ]
    },
    {
      "cell_type": "markdown",
      "metadata": {
        "id": "610513ef"
      },
      "source": [
        "## Basic operators\n",
        "\n",
        "### Subtask:\n",
        "Familiarize yourself with arithmetic, comparison, logical, and assignment operators.\n"
      ]
    },
    {
      "cell_type": "markdown",
      "metadata": {
        "id": "242b8db0"
      },
      "source": [
        "**Reasoning**:\n",
        "Demonstrate common arithmetic operators with integers and floats, comparison operators with different data types, logical operators with boolean values, and assignment operators.\n",
        "\n"
      ]
    },
    {
      "cell_type": "code",
      "metadata": {
        "colab": {
          "base_uri": "https://localhost:8080/"
        },
        "id": "41b65bdb",
        "outputId": "34e18e58-81cf-44ec-f661-d7da32c228f1"
      },
      "source": [
        "# 1. Arithmetic Operators\n",
        "\n",
        "# With integers\n",
        "a = 10\n",
        "b = 3\n",
        "print(f\"Arithmetic Operators with Integers:\")\n",
        "print(f\"{a} + {b} = {a + b}\")   # Addition\n",
        "print(f\"{a} - {b} = {a - b}\")   # Subtraction\n",
        "print(f\"{a} * {b} = {a * b}\")   # Multiplication\n",
        "print(f\"{a} / {b} = {a / b}\")   # Division (results in float)\n",
        "print(f\"{a} % {b} = {a % b}\")   # Modulus\n",
        "print(f\"{a} ** {b} = {a ** b}\") # Exponentiation\n",
        "print(f\"{a} // {b} = {a // b}\") # Floor Division\n",
        "\n",
        "print(\"-\" * 20)\n",
        "\n",
        "# With floats\n",
        "c = 10.5\n",
        "d = 2.5\n",
        "print(f\"Arithmetic Operators with Floats:\")\n",
        "print(f\"{c} + {d} = {c + d}\")   # Addition\n",
        "print(f\"{c} - {d} = {c - d}\")   # Subtraction\n",
        "print(f\"{c} * {d} = {c * d}\")   # Multiplication\n",
        "print(f\"{c} / {d} = {c / d}\")   # Division\n",
        "print(f\"{c} % {d} = {c % d}\")   # Modulus\n",
        "print(f\"{c} ** {d} = {c ** d}\") # Exponentiation\n",
        "print(f\"{c} // {d} = {c // d}\") # Floor Division\n",
        "\n",
        "print(\"=\" * 30)\n",
        "\n",
        "# 2. Comparison Operators\n",
        "\n",
        "x = 10\n",
        "y = 20\n",
        "z = 10\n",
        "s1 = \"hello\"\n",
        "s2 = \"world\"\n",
        "l1 = [1, 2]\n",
        "l2 = [1, 2]\n",
        "\n",
        "print(f\"Comparison Operators:\")\n",
        "print(f\"{x} == {y}: {x == y}\") # Equal to\n",
        "print(f\"{x} == {z}: {x == z}\") # Equal to\n",
        "print(f\"{x} != {y}: {x != y}\") # Not equal to\n",
        "print(f\"{x} > {y}: {x > y}\")   # Greater than\n",
        "print(f\"{x} < {y}: {x < y}\")   # Less than\n",
        "print(f\"{x} >= {z}: {x >= z}\") # Greater than or equal to\n",
        "print(f\"{y} <= {x}: {y <= x}\") # Less than or equal to\n",
        "\n",
        "print(f\"{s1} == {s2}: {s1 == s2}\") # String comparison\n",
        "print(f\"{l1} == {l2}: {l1 == l2}\") # List comparison (checks values)\n",
        "print(f\"{l1} is {l2}: {l1 is l2}\") # Identity comparison (checks if they are the same object)\n",
        "\n",
        "\n",
        "print(\"=\" * 30)\n",
        "\n",
        "# 3. Logical Operators\n",
        "\n",
        "p = True\n",
        "q = False\n",
        "\n",
        "print(f\"Logical Operators:\")\n",
        "print(f\"{p} and {q}: {p and q}\") # Logical AND\n",
        "print(f\"{p} or {q}: {p or q}\")   # Logical OR\n",
        "print(f\"not {p}: {not p}\")       # Logical NOT\n",
        "\n",
        "print(\"=\" * 30)\n",
        "\n",
        "# 4. Assignment Operators\n",
        "\n",
        "# Simple assignment\n",
        "num = 10\n",
        "print(f\"Initial value of num: {num}\")\n",
        "\n",
        "# Addition assignment\n",
        "num += 5 # Equivalent to num = num + 5\n",
        "print(f\"After num += 5: {num}\")\n",
        "\n",
        "# Subtraction assignment\n",
        "num -= 3 # Equivalent to num = num - 3\n",
        "print(f\"After num -= 3: {num}\")\n",
        "\n",
        "# Multiplication assignment\n",
        "num *= 2 # Equivalent to num = num * 2\n",
        "print(f\"After num *= 2: {num}\")\n",
        "\n",
        "# Division assignment\n",
        "num /= 4 # Equivalent to num = num / 4\n",
        "print(f\"After num /= 4: {num}\")\n",
        "\n",
        "# Modulus assignment\n",
        "num %= 3 # Equivalent to num = num % 3\n",
        "print(f\"After num %= 3: {num}\")\n",
        "\n",
        "# Exponentiation assignment\n",
        "base = 2\n",
        "power = 3\n",
        "base **= power # Equivalent to base = base ** power\n",
        "print(f\"After base **= power ({base}, {power}): {base}\")\n",
        "\n",
        "# Floor Division assignment\n",
        "val = 17\n",
        "divisor = 5\n",
        "val //= divisor # Equivalent to val = val // divisor\n",
        "print(f\"After val //= divisor ({val}, {divisor}): {val}\")"
      ],
      "execution_count": 49,
      "outputs": [
        {
          "output_type": "stream",
          "name": "stdout",
          "text": [
            "Arithmetic Operators with Integers:\n",
            "10 + 3 = 13\n",
            "10 - 3 = 7\n",
            "10 * 3 = 30\n",
            "10 / 3 = 3.3333333333333335\n",
            "10 % 3 = 1\n",
            "10 ** 3 = 1000\n",
            "10 // 3 = 3\n",
            "--------------------\n",
            "Arithmetic Operators with Floats:\n",
            "10.5 + 2.5 = 13.0\n",
            "10.5 - 2.5 = 8.0\n",
            "10.5 * 2.5 = 26.25\n",
            "10.5 / 2.5 = 4.2\n",
            "10.5 % 2.5 = 0.5\n",
            "10.5 ** 2.5 = 357.2508309997333\n",
            "10.5 // 2.5 = 4.0\n",
            "==============================\n",
            "Comparison Operators:\n",
            "10 == 20: False\n",
            "10 == 10: True\n",
            "10 != 20: True\n",
            "10 > 20: False\n",
            "10 < 20: True\n",
            "10 >= 10: True\n",
            "20 <= 10: False\n",
            "hello == world: False\n",
            "[1, 2] == [1, 2]: True\n",
            "[1, 2] is [1, 2]: False\n",
            "==============================\n",
            "Logical Operators:\n",
            "True and False: False\n",
            "True or False: True\n",
            "not True: False\n",
            "==============================\n",
            "Initial value of num: 10\n",
            "After num += 5: 15\n",
            "After num -= 3: 12\n",
            "After num *= 2: 24\n",
            "After num /= 4: 6.0\n",
            "After num %= 3: 0.0\n",
            "After base **= power (8, 3): 8\n",
            "After val //= divisor (3, 5): 3\n"
          ]
        }
      ]
    },
    {
      "cell_type": "markdown",
      "metadata": {
        "id": "6c4c4ef7"
      },
      "source": [
        "## Data structures (more in-depth)\n",
        "\n",
        "### Subtask:\n",
        "While we've touched on basic data types, delve deeper into how to effectively use lists, dictionaries, sets, and tuples for various problem-solving scenarios.\n"
      ]
    },
    {
      "cell_type": "markdown",
      "metadata": {
        "id": "edad80e2"
      },
      "source": [
        "**Reasoning**:\n",
        "Create a code cell to demonstrate more advanced list operations such as list comprehensions, slicing with steps, and using list methods like `count` and `index` with parameters. Add comments to explain the concepts.\n",
        "\n"
      ]
    },
    {
      "cell_type": "code",
      "metadata": {
        "colab": {
          "base_uri": "https://localhost:8080/"
        },
        "id": "70da87ee",
        "outputId": "67c6d1e5-838c-49c7-c232-834f113bc39e"
      },
      "source": [
        "# Advanced List Operations\n",
        "\n",
        "# 1. List Comprehensions: A concise way to create lists.\n",
        "# Create a list of squares of numbers from 0 to 9\n",
        "squares = [x**2 for x in range(10)]\n",
        "print(f\"List comprehension (squares): {squares}\")\n",
        "\n",
        "# Create a list of even numbers from 0 to 20\n",
        "even_numbers = [x for x in range(21) if x % 2 == 0]\n",
        "print(f\"List comprehension (even numbers): {even_numbers}\")\n",
        "\n",
        "# 2. Slicing with Steps: Accessing elements with a specified step.\n",
        "my_list = [0, 1, 2, 3, 4, 5, 6, 7, 8, 9]\n",
        "# Get every second element\n",
        "every_second = my_list[::2]\n",
        "print(f\"Slicing with step 2: {every_second}\")\n",
        "\n",
        "# Get elements in reverse order\n",
        "reversed_list = my_list[::-1]\n",
        "print(f\"Slicing with step -1 (reverse): {reversed_list}\")\n",
        "\n",
        "# Get every third element starting from index 1\n",
        "every_third_from_1 = my_list[1::3]\n",
        "print(f\"Slicing from index 1 with step 3: {every_third_from_1}\")\n",
        "\n",
        "\n",
        "# 3. Using list methods with parameters: count and index\n",
        "my_list = [1, 2, 3, 2, 4, 2, 5]\n",
        "\n",
        "# Count occurrences of an element\n",
        "count_of_2 = my_list.count(2)\n",
        "print(f\"Count of 2 in the list: {count_of_2}\")\n",
        "\n",
        "# Find the index of the first occurrence of an element\n",
        "index_of_3 = my_list.index(3)\n",
        "print(f\"Index of the first 3: {index_of_3}\")\n",
        "\n",
        "# Find the index of the first occurrence of an element starting from a specific index\n",
        "index_of_2_from_index_2 = my_list.index(2, 2)\n",
        "print(f\"Index of the first 2 from index 2: {index_of_2_from_index_2}\")\n",
        "\n",
        "# Find the index of the first occurrence of an element within a specific slice\n",
        "index_of_2_in_slice = my_list.index(2, 4, 7)\n",
        "print(f\"Index of the first 2 in slice [4:7]: {index_of_2_in_slice}\")"
      ],
      "execution_count": 50,
      "outputs": [
        {
          "output_type": "stream",
          "name": "stdout",
          "text": [
            "List comprehension (squares): [0, 1, 4, 9, 16, 25, 36, 49, 64, 81]\n",
            "List comprehension (even numbers): [0, 2, 4, 6, 8, 10, 12, 14, 16, 18, 20]\n",
            "Slicing with step 2: [0, 2, 4, 6, 8]\n",
            "Slicing with step -1 (reverse): [9, 8, 7, 6, 5, 4, 3, 2, 1, 0]\n",
            "Slicing from index 1 with step 3: [1, 4, 7]\n",
            "Count of 2 in the list: 3\n",
            "Index of the first 3: 2\n",
            "Index of the first 2 from index 2: 3\n",
            "Index of the first 2 in slice [4:7]: 5\n"
          ]
        }
      ]
    },
    {
      "cell_type": "markdown",
      "metadata": {
        "id": "2b200ae6"
      },
      "source": [
        "**Reasoning**:\n",
        "Create a code cell to showcase more complex dictionary operations, including iterating through keys, values, and items, using the `get` method with a default value, and merging dictionaries using `update`. Add comments to explain the concepts.\n",
        "\n"
      ]
    },
    {
      "cell_type": "code",
      "metadata": {
        "colab": {
          "base_uri": "https://localhost:8080/"
        },
        "id": "8f141114",
        "outputId": "ab4cf828-47bf-4ffa-8ebc-f1c6b4d18a76"
      },
      "source": [
        "# Advanced Dictionary Operations\n",
        "\n",
        "my_dict = {\"apple\": 1, \"banana\": 2, \"cherry\": 3, \"date\": 4}\n",
        "\n",
        "# 1. Iterating through dictionaries\n",
        "\n",
        "# Iterate through keys\n",
        "print(\"Iterating through keys:\")\n",
        "for key in my_dict:\n",
        "    print(key)\n",
        "\n",
        "# Iterate through values\n",
        "print(\"\\nIterating through values:\")\n",
        "for value in my_dict.values():\n",
        "    print(value)\n",
        "\n",
        "# Iterate through items (key-value pairs)\n",
        "print(\"\\nIterating through items:\")\n",
        "for key, value in my_dict.items():\n",
        "    print(f\"Key: {key}, Value: {value}\")\n",
        "\n",
        "# 2. Using the get() method with a default value\n",
        "# Get a value for an existing key\n",
        "existing_value = my_dict.get(\"banana\")\n",
        "print(f\"\\nValue for 'banana' using get(): {existing_value}\")\n",
        "\n",
        "# Get a value for a non-existing key without a default\n",
        "non_existing_value = my_dict.get(\"grape\")\n",
        "print(f\"Value for 'grape' using get() without default: {non_existing_value}\") # Output: None\n",
        "\n",
        "# Get a value for a non-existing key with a default\n",
        "non_existing_value_with_default = my_dict.get(\"grape\", 0)\n",
        "print(f\"Value for 'grape' using get() with default 0: {non_existing_value_with_default}\")\n",
        "\n",
        "# 3. Merging dictionaries using update()\n",
        "dict1 = {\"a\": 1, \"b\": 2}\n",
        "dict2 = {\"b\": 3, \"c\": 4}\n",
        "\n",
        "# Update dict1 with key-value pairs from dict2\n",
        "dict1.update(dict2)\n",
        "print(f\"\\nDictionary after update: {dict1}\")\n",
        "\n",
        "# Update with an iterable of key-value pairs\n",
        "dict3 = {\"x\": 10}\n",
        "list_of_tuples = [(\"y\", 20), (\"z\", 30)]\n",
        "dict3.update(list_of_tuples)\n",
        "print(f\"Dictionary after updating with list of tuples: {dict3}\")"
      ],
      "execution_count": 51,
      "outputs": [
        {
          "output_type": "stream",
          "name": "stdout",
          "text": [
            "Iterating through keys:\n",
            "apple\n",
            "banana\n",
            "cherry\n",
            "date\n",
            "\n",
            "Iterating through values:\n",
            "1\n",
            "2\n",
            "3\n",
            "4\n",
            "\n",
            "Iterating through items:\n",
            "Key: apple, Value: 1\n",
            "Key: banana, Value: 2\n",
            "Key: cherry, Value: 3\n",
            "Key: date, Value: 4\n",
            "\n",
            "Value for 'banana' using get(): 2\n",
            "Value for 'grape' using get() without default: None\n",
            "Value for 'grape' using get() with default 0: 0\n",
            "\n",
            "Dictionary after update: {'a': 1, 'b': 3, 'c': 4}\n",
            "Dictionary after updating with list of tuples: {'x': 10, 'y': 20, 'z': 30}\n"
          ]
        }
      ]
    },
    {
      "cell_type": "markdown",
      "metadata": {
        "id": "95f2117a"
      },
      "source": [
        "**Reasoning**:\n",
        "Create a code cell to illustrate additional tuple functionalities like unpacking, nested tuples, and using `count` and `index` methods. Add comments to explain the concepts.\n",
        "\n"
      ]
    },
    {
      "cell_type": "code",
      "metadata": {
        "colab": {
          "base_uri": "https://localhost:8080/"
        },
        "id": "63188244",
        "outputId": "3ae23138-636d-4eeb-ad0c-eabe204f434f"
      },
      "source": [
        "# Advanced Tuple Operations\n",
        "\n",
        "# 1. Tuple Unpacking: Assigning elements of a tuple to multiple variables.\n",
        "my_tuple = (1, 2, 3)\n",
        "a, b, c = my_tuple\n",
        "print(f\"Tuple unpacking: a={a}, b={b}, c={c}\")\n",
        "\n",
        "# Unpacking with fewer variables using * (for remaining elements)\n",
        "my_tuple_long = (1, 2, 3, 4, 5)\n",
        "first, second, *rest = my_tuple_long\n",
        "print(f\"Tuple unpacking with *: first={first}, second={second}, rest={rest}\")\n",
        "\n",
        "# 2. Nested Tuples: Tuples containing other tuples.\n",
        "nested_tuple = ((1, 2), (3, 4), (5, 6))\n",
        "print(f\"\\nNested tuple: {nested_tuple}\")\n",
        "print(f\"Accessing element in nested tuple: {nested_tuple[1][0]}\") # Accessing the first element of the second inner tuple\n",
        "\n",
        "# 3. Using tuple methods: count and index\n",
        "my_tuple_with_duplicates = (1, 2, 3, 2, 4, 2, 5)\n",
        "\n",
        "# Count occurrences of an element\n",
        "count_of_2_tuple = my_tuple_with_duplicates.count(2)\n",
        "print(f\"\\nCount of 2 in the tuple: {count_of_2_tuple}\")\n",
        "\n",
        "# Find the index of the first occurrence of an element\n",
        "index_of_3_tuple = my_tuple_with_duplicates.index(3)\n",
        "print(f\"Index of the first 3 in the tuple: {index_of_3_tuple}\")\n",
        "\n",
        "# Find the index of the first occurrence of an element starting from a specific index\n",
        "index_of_2_from_index_2_tuple = my_tuple_with_duplicates.index(2, 2)\n",
        "print(f\"Index of the first 2 from index 2 in the tuple: {index_of_2_from_index_2_tuple}\")\n",
        "\n",
        "# Find the index of the first occurrence of an element within a specific slice\n",
        "index_of_2_in_slice_tuple = my_tuple_with_duplicates.index(2, 4, 7)\n",
        "print(f\"Index of the first 2 in slice [4:7] in the tuple: {index_of_2_in_slice_tuple}\")"
      ],
      "execution_count": 52,
      "outputs": [
        {
          "output_type": "stream",
          "name": "stdout",
          "text": [
            "Tuple unpacking: a=1, b=2, c=3\n",
            "Tuple unpacking with *: first=1, second=2, rest=[3, 4, 5]\n",
            "\n",
            "Nested tuple: ((1, 2), (3, 4), (5, 6))\n",
            "Accessing element in nested tuple: 3\n",
            "\n",
            "Count of 2 in the tuple: 3\n",
            "Index of the first 3 in the tuple: 2\n",
            "Index of the first 2 from index 2 in the tuple: 3\n",
            "Index of the first 2 in slice [4:7] in the tuple: 5\n"
          ]
        }
      ]
    },
    {
      "cell_type": "markdown",
      "metadata": {
        "id": "1593d4b3"
      },
      "source": [
        "**Reasoning**:\n",
        "Create a code cell to explore more set operations such as `union`, `intersection`, `difference`, `symmetric_difference`, and methods like `issubset`, `issuperset`, and `isdisjoint`. Add comments to explain the concepts.\n",
        "\n"
      ]
    },
    {
      "cell_type": "code",
      "metadata": {
        "colab": {
          "base_uri": "https://localhost:8080/"
        },
        "id": "4ce7f06e",
        "outputId": "4d8fb7f1-ddb8-4458-dc71-580b23c16f3f"
      },
      "source": [
        "# Advanced Set Operations\n",
        "\n",
        "set1 = {1, 2, 3, 4}\n",
        "set2 = {3, 4, 5, 6}\n",
        "set3 = {1, 2}\n",
        "set4 = {5, 6}\n",
        "set5 = {7, 8}\n",
        "\n",
        "# 1. Set Mathematical Operations\n",
        "\n",
        "# Union: Elements in either set1 or set2\n",
        "union_set = set1.union(set2)\n",
        "print(f\"Union of set1 and set2: {union_set}\")\n",
        "print(f\"Using | operator: {set1 | set2}\")\n",
        "\n",
        "# Intersection: Elements common to set1 and set2\n",
        "intersection_set = set1.intersection(set2)\n",
        "print(f\"\\nIntersection of set1 and set2: {intersection_set}\")\n",
        "print(f\"Using & operator: {set1 & set2}\")\n",
        "\n",
        "# Difference: Elements in set1 but not in set2\n",
        "difference_set = set1.difference(set2)\n",
        "print(f\"\\nDifference (set1 - set2): {difference_set}\")\n",
        "print(f\"Using - operator: {set1 - set2}\")\n",
        "\n",
        "# Symmetric Difference: Elements in either set1 or set2, but not both\n",
        "symmetric_difference_set = set1.symmetric_difference(set2)\n",
        "print(f\"\\nSymmetric difference of set1 and set2: {symmetric_difference_set}\")\n",
        "print(f\"Using ^ operator: {set1 ^ set2}\")\n",
        "\n",
        "# 2. Subset, Superset, and Disjoint Checks\n",
        "\n",
        "# issubset(): Check if set3 is a subset of set1\n",
        "is_subset = set3.issubset(set1)\n",
        "print(f\"\\nIs set3 a subset of set1? {is_subset}\")\n",
        "print(f\"Using <= operator: {set3 <= set1}\")\n",
        "\n",
        "# issuperset(): Check if set1 is a superset of set3\n",
        "is_superset = set1.issuperset(set3)\n",
        "print(f\"Is set1 a superset of set3? {is_superset}\")\n",
        "print(f\"Using >= operator: {set1 >= set3}\")\n",
        "\n",
        "# isdisjoint(): Check if set1 and set5 have no elements in common\n",
        "is_disjoint = set1.isdisjoint(set5)\n",
        "print(f\"Are set1 and set5 disjoint? {is_disjoint}\")\n",
        "\n",
        "# isdisjoint(): Check if set1 and set2 have elements in common\n",
        "is_disjoint_common = set1.isdisjoint(set2)\n",
        "print(f\"Are set1 and set2 disjoint? {is_disjoint_common}\")"
      ],
      "execution_count": 53,
      "outputs": [
        {
          "output_type": "stream",
          "name": "stdout",
          "text": [
            "Union of set1 and set2: {1, 2, 3, 4, 5, 6}\n",
            "Using | operator: {1, 2, 3, 4, 5, 6}\n",
            "\n",
            "Intersection of set1 and set2: {3, 4}\n",
            "Using & operator: {3, 4}\n",
            "\n",
            "Difference (set1 - set2): {1, 2}\n",
            "Using - operator: {1, 2}\n",
            "\n",
            "Symmetric difference of set1 and set2: {1, 2, 5, 6}\n",
            "Using ^ operator: {1, 2, 5, 6}\n",
            "\n",
            "Is set3 a subset of set1? True\n",
            "Using <= operator: True\n",
            "Is set1 a superset of set3? True\n",
            "Using >= operator: True\n",
            "Are set1 and set5 disjoint? True\n",
            "Are set1 and set2 disjoint? False\n"
          ]
        }
      ]
    },
    {
      "cell_type": "markdown",
      "metadata": {
        "id": "ee640cb7"
      },
      "source": [
        "## Input and output\n",
        "\n",
        "### Subtask:\n",
        "Learn how to take input from the user and print output to the console.\n"
      ]
    },
    {
      "cell_type": "markdown",
      "metadata": {
        "id": "4d5f9f1c"
      },
      "source": [
        "**Reasoning**:\n",
        "Create a code cell to demonstrate taking user input and printing output in various ways, covering steps 2 through 6 of the instructions.\n",
        "\n"
      ]
    },
    {
      "cell_type": "code",
      "metadata": {
        "colab": {
          "base_uri": "https://localhost:8080/"
        },
        "id": "e3a78092",
        "outputId": "8b524282-5196-4ef4-b82c-13306ffa4c12"
      },
      "source": [
        "# Step 2 & 3: Take user input for name and age\n",
        "name = input(\"Please enter your name: \")\n",
        "age_str = input(\"Please enter your age: \")\n",
        "age = int(age_str) # Convert age to an integer\n",
        "\n",
        "# Step 4: Print a greeting message with name and age\n",
        "print(\"Hello\", name, \", you are\", age, \"years old.\")\n",
        "\n",
        "# Step 5: Print different data types separated by a space\n",
        "print(\"This is a string:\", 123, 3.14, True)\n",
        "\n",
        "# Step 6: Use an f-string to format and print a message\n",
        "print(f\"Using an f-string: Hello {name}, you will be {age + 1} next year!\")"
      ],
      "execution_count": 54,
      "outputs": [
        {
          "output_type": "stream",
          "name": "stdout",
          "text": [
            "Please enter your name: ria\n",
            "Please enter your age: 26\n",
            "Hello ria , you are 26 years old.\n",
            "This is a string: 123 3.14 True\n",
            "Using an f-string: Hello ria, you will be 27 next year!\n"
          ]
        }
      ]
    },
    {
      "cell_type": "markdown",
      "metadata": {
        "id": "b6731dcd"
      },
      "source": [
        "## Error handling\n",
        "\n",
        "### Subtask:\n",
        "Understand how to use `try`, `except`, and `finally` blocks to handle errors gracefully.\n"
      ]
    },
    {
      "cell_type": "markdown",
      "metadata": {
        "id": "18076dcd"
      },
      "source": [
        "**Reasoning**:\n",
        "The first step is to demonstrate a potential `ValueError` and handle it using `try...except ValueError`, including a `finally` block.\n",
        "\n"
      ]
    },
    {
      "cell_type": "code",
      "metadata": {
        "colab": {
          "base_uri": "https://localhost:8080/"
        },
        "id": "a3f21646",
        "outputId": "0c311509-f4b2-40aa-c983-50fc0d11db9c"
      },
      "source": [
        "# Step 1-3: Demonstrate ValueError and handle it with try...except and finally\n",
        "\n",
        "try:\n",
        "    # Potential ValueError: trying to convert a non-numeric string to an integer\n",
        "    invalid_string = \"abc\"\n",
        "    number = int(invalid_string)\n",
        "    print(f\"Successfully converted {invalid_string} to integer: {number}\")\n",
        "except ValueError:\n",
        "    # Handle the ValueError gracefully\n",
        "    print(f\"Error: Could not convert '{invalid_string}' to an integer. Please provide a valid number.\")\n",
        "finally:\n",
        "    # This block will always execute\n",
        "    print(\"This is the finally block, it always runs.\")"
      ],
      "execution_count": 56,
      "outputs": [
        {
          "output_type": "stream",
          "name": "stdout",
          "text": [
            "Error: Could not convert 'abc' to an integer. Please provide a valid number.\n",
            "This is the finally block, it always runs.\n"
          ]
        }
      ]
    },
    {
      "cell_type": "markdown",
      "metadata": {
        "id": "973ac960"
      },
      "source": [
        "**Reasoning**:\n",
        "The next step is to demonstrate a `ZeroDivisionError` and handle it using a `try...except ZeroDivisionError` block.\n",
        "\n"
      ]
    },
    {
      "cell_type": "code",
      "metadata": {
        "colab": {
          "base_uri": "https://localhost:8080/"
        },
        "id": "46744abc",
        "outputId": "cb77ff96-1193-4448-be58-5336c6dc9233"
      },
      "source": [
        "# Step 4-5: Demonstrate ZeroDivisionError and handle it with try...except\n",
        "\n",
        "try:\n",
        "    # Potential ZeroDivisionError: dividing by zero\n",
        "    numerator = 10\n",
        "    denominator = 0\n",
        "    result = numerator / denominator\n",
        "    print(f\"Result of division: {result}\")\n",
        "except ZeroDivisionError:\n",
        "    # Handle the ZeroDivisionError gracefully\n",
        "    print(\"Error: Cannot divide by zero. Please provide a non-zero denominator.\")"
      ],
      "execution_count": 57,
      "outputs": [
        {
          "output_type": "stream",
          "name": "stdout",
          "text": [
            "Error: Cannot divide by zero. Please provide a non-zero denominator.\n"
          ]
        }
      ]
    },
    {
      "cell_type": "markdown",
      "metadata": {
        "id": "f19b3d4e"
      },
      "source": [
        "**Reasoning**:\n",
        "The final step is to demonstrate handling multiple exceptions (`ValueError` and `ZeroDivisionError`) and include a generic `except` block.\n",
        "\n"
      ]
    },
    {
      "cell_type": "code",
      "metadata": {
        "colab": {
          "base_uri": "https://localhost:8080/"
        },
        "id": "89d44473",
        "outputId": "ef30944e-910b-456b-a0d8-ae4ea40da6c8"
      },
      "source": [
        "# Step 6-7: Demonstrate handling multiple exceptions with separate and generic except blocks\n",
        "\n",
        "def handle_potential_errors(value1, value2):\n",
        "    try:\n",
        "        # Attempt to convert to integer\n",
        "        num1 = int(value1)\n",
        "\n",
        "        # Attempt division\n",
        "        result = num1 / value2\n",
        "        print(f\"Result of division: {result}\")\n",
        "\n",
        "    except ValueError:\n",
        "        # Handle ValueError specifically\n",
        "        print(f\"Specific Error: Could not convert '{value1}' to an integer.\")\n",
        "    except ZeroDivisionError:\n",
        "        # Handle ZeroDivisionError specifically\n",
        "        print(f\"Specific Error: Cannot divide {value1} by zero.\")\n",
        "    except Exception as e:\n",
        "        # Handle any other potential exceptions\n",
        "        print(f\"A general error occurred: {e}\")\n",
        "\n",
        "print(\"--- Testing with ValueError ---\")\n",
        "handle_potential_errors(\"abc\", 5)\n",
        "\n",
        "print(\"\\n--- Testing with ZeroDivisionError ---\")\n",
        "handle_potential_errors(\"10\", 0)\n",
        "\n",
        "print(\"\\n--- Testing with no error ---\")\n",
        "handle_potential_errors(\"20\", 4)\n",
        "\n",
        "print(\"\\n--- Testing with another error (e.g., TypeError) ---\")\n",
        "handle_potential_errors(\"10\", \"5\") # This will cause a TypeError in the division"
      ],
      "execution_count": 58,
      "outputs": [
        {
          "output_type": "stream",
          "name": "stdout",
          "text": [
            "--- Testing with ValueError ---\n",
            "Specific Error: Could not convert 'abc' to an integer.\n",
            "\n",
            "--- Testing with ZeroDivisionError ---\n",
            "Specific Error: Cannot divide 10 by zero.\n",
            "\n",
            "--- Testing with no error ---\n",
            "Result of division: 5.0\n",
            "\n",
            "--- Testing with another error (e.g., TypeError) ---\n",
            "A general error occurred: unsupported operand type(s) for /: 'int' and 'str'\n"
          ]
        }
      ]
    },
    {
      "cell_type": "markdown",
      "metadata": {
        "id": "af10b2dd"
      },
      "source": [
        "## Common built-in functions\n",
        "\n",
        "### Subtask:\n",
        "Explore useful built-in functions like `len()`, `range()`, `max()`, `min()`, `sum()`, `sorted()`, etc.\n"
      ]
    },
    {
      "cell_type": "markdown",
      "metadata": {
        "id": "bb80cae4"
      },
      "source": [
        "**Reasoning**:\n",
        "Create a code cell to demonstrate the usage of `len()`, `max()`, `min()`, and `sum()` with a list or tuple and `sorted()` with a list and a string.\n",
        "\n"
      ]
    },
    {
      "cell_type": "code",
      "metadata": {
        "colab": {
          "base_uri": "https://localhost:8080/"
        },
        "id": "2f6dc73e",
        "outputId": "15261ca3-09fd-46bd-ecd5-66c0241778df"
      },
      "source": [
        "# Demonstrate len(), max(), min(), and sum() with a list\n",
        "my_list = [10, 20, 5, 30, 15]\n",
        "print(f\"Original list: {my_list}\")\n",
        "print(f\"Length of the list: {len(my_list)}\")\n",
        "print(f\"Maximum element in the list: {max(my_list)}\")\n",
        "print(f\"Minimum element in the list: {min(my_list)}\")\n",
        "print(f\"Sum of all elements in the list: {sum(my_list)}\")\n",
        "\n",
        "print(\"-\" * 20)\n",
        "\n",
        "# Demonstrate len(), max(), min(), and sum() with a tuple\n",
        "my_tuple = (50, 10, 60, 20)\n",
        "print(f\"Original tuple: {my_tuple}\")\n",
        "print(f\"Length of the tuple: {len(my_tuple)}\")\n",
        "print(f\"Maximum element in the tuple: {max(my_tuple)}\")\n",
        "print(f\"Minimum element in the tuple: {min(my_tuple)}\")\n",
        "print(f\"Sum of all elements in the tuple: {sum(my_tuple)}\")\n",
        "\n",
        "print(\"-\" * 20)\n",
        "\n",
        "# Demonstrate sorted() with a list\n",
        "unsorted_list = [3, 1, 4, 1, 5, 9, 2]\n",
        "print(f\"Unsorted list: {unsorted_list}\")\n",
        "sorted_list = sorted(unsorted_list)\n",
        "print(f\"Sorted list: {sorted_list}\")\n",
        "\n",
        "print(\"-\" * 20)\n",
        "\n",
        "# Demonstrate sorted() with a string\n",
        "unsorted_string = \"python\"\n",
        "print(f\"Unsorted string: {unsorted_string}\")\n",
        "sorted_string = sorted(unsorted_string) # Returns a list of sorted characters\n",
        "print(f\"Sorted string (as list of chars): {sorted_string}\")\n",
        "print(f\"Sorted string (joined): {''.join(sorted_string)}\") # Join the list back into a string"
      ],
      "execution_count": 59,
      "outputs": [
        {
          "output_type": "stream",
          "name": "stdout",
          "text": [
            "Original list: [10, 20, 5, 30, 15]\n",
            "Length of the list: 5\n",
            "Maximum element in the list: 30\n",
            "Minimum element in the list: 5\n",
            "Sum of all elements in the list: 80\n",
            "--------------------\n",
            "Original tuple: (50, 10, 60, 20)\n",
            "Length of the tuple: 4\n",
            "Maximum element in the tuple: 60\n",
            "Minimum element in the tuple: 10\n",
            "Sum of all elements in the tuple: 140\n",
            "--------------------\n",
            "Unsorted list: [3, 1, 4, 1, 5, 9, 2]\n",
            "Sorted list: [1, 1, 2, 3, 4, 5, 9]\n",
            "--------------------\n",
            "Unsorted string: python\n",
            "Sorted string (as list of chars): ['h', 'n', 'o', 'p', 't', 'y']\n",
            "Sorted string (joined): hnopty\n"
          ]
        }
      ]
    },
    {
      "cell_type": "markdown",
      "metadata": {
        "id": "479491f4"
      },
      "source": [
        "**Reasoning**:\n",
        "Create a code cell to demonstrate the usage of `range()` in a `for` loop.\n",
        "\n"
      ]
    },
    {
      "cell_type": "code",
      "metadata": {
        "colab": {
          "base_uri": "https://localhost:8080/"
        },
        "id": "a766fde4",
        "outputId": "996e5f0f-1369-4df1-8961-553da7411204"
      },
      "source": [
        "# Demonstrate the usage of range()\n",
        "\n",
        "# Iterate a specific number of times\n",
        "print(\"Iterating with range(5):\")\n",
        "for i in range(5):\n",
        "    print(i)\n",
        "\n",
        "print(\"-\" * 20)\n",
        "\n",
        "# Iterate with start and stop arguments\n",
        "print(\"Iterating with range(2, 8):\")\n",
        "for i in range(2, 8):\n",
        "    print(i)\n",
        "\n",
        "print(\"-\" * 20)\n",
        "\n",
        "# Iterate with start, stop, and step arguments\n",
        "print(\"Iterating with range(10, 0, -2):\")\n",
        "for i in range(10, 0, -2):\n",
        "    print(i)"
      ],
      "execution_count": 60,
      "outputs": [
        {
          "output_type": "stream",
          "name": "stdout",
          "text": [
            "Iterating with range(5):\n",
            "0\n",
            "1\n",
            "2\n",
            "3\n",
            "4\n",
            "--------------------\n",
            "Iterating with range(2, 8):\n",
            "2\n",
            "3\n",
            "4\n",
            "5\n",
            "6\n",
            "7\n",
            "--------------------\n",
            "Iterating with range(10, 0, -2):\n",
            "10\n",
            "8\n",
            "6\n",
            "4\n",
            "2\n"
          ]
        }
      ]
    },
    {
      "cell_type": "markdown",
      "metadata": {
        "id": "20da4120"
      },
      "source": [
        "**Reasoning**:\n",
        "Create a code cell to demonstrate the usage of `abs()`, `round()`, `type()`, and `isinstance()`.\n",
        "\n"
      ]
    },
    {
      "cell_type": "code",
      "metadata": {
        "colab": {
          "base_uri": "https://localhost:8080/"
        },
        "id": "1e166d14",
        "outputId": "735bd6d7-3072-4d3b-ede9-d201551e2b53"
      },
      "source": [
        "# Demonstrate the usage of other built-in functions\n",
        "\n",
        "# abs(): Returns the absolute value of a number\n",
        "negative_number = -15\n",
        "print(f\"Absolute value of {negative_number}: {abs(negative_number)}\")\n",
        "\n",
        "float_number = -3.14\n",
        "print(f\"Absolute value of {float_number}: {abs(float_number)}\")\n",
        "\n",
        "print(\"-\" * 20)\n",
        "\n",
        "# round(): Rounds a number to a specified number of decimal places\n",
        "pi = 3.14159\n",
        "print(f\"Rounding {pi} to 2 decimal places: {round(pi, 2)}\")\n",
        "print(f\"Rounding {pi} to the nearest integer: {round(pi)}\")\n",
        "\n",
        "print(\"-\" * 20)\n",
        "\n",
        "# type(): Returns the type of an object\n",
        "my_list = [1, 2, 3]\n",
        "print(f\"Type of {my_list}: {type(my_list)}\")\n",
        "\n",
        "my_string = \"hello\"\n",
        "print(f\"Type of '{my_string}': {type(my_string)}\")\n",
        "\n",
        "my_integer = 100\n",
        "print(f\"Type of {my_integer}: {type(my_integer)}\")\n",
        "\n",
        "print(\"-\" * 20)\n",
        "\n",
        "# isinstance(): Checks if an object is an instance of a class or a tuple of classes\n",
        "print(f\"Is {my_list} an instance of list? {isinstance(my_list, list)}\")\n",
        "print(f\"Is {my_list} an instance of tuple? {isinstance(my_list, tuple)}\")\n",
        "print(f\"Is {my_integer} an instance of int? {isinstance(my_integer, int)}\")\n",
        "print(f\"Is {my_integer} an instance of (int, float)? {isinstance(my_integer, (int, float))}\")\n",
        "print(f\"Is '{my_string}' an instance of str? {isinstance(my_string, str)}\")"
      ],
      "execution_count": 61,
      "outputs": [
        {
          "output_type": "stream",
          "name": "stdout",
          "text": [
            "Absolute value of -15: 15\n",
            "Absolute value of -3.14: 3.14\n",
            "--------------------\n",
            "Rounding 3.14159 to 2 decimal places: 3.14\n",
            "Rounding 3.14159 to the nearest integer: 3\n",
            "--------------------\n",
            "Type of [1, 2, 3]: <class 'list'>\n",
            "Type of 'hello': <class 'str'>\n",
            "Type of 100: <class 'int'>\n",
            "--------------------\n",
            "Is [1, 2, 3] an instance of list? True\n",
            "Is [1, 2, 3] an instance of tuple? False\n",
            "Is 100 an instance of int? True\n",
            "Is 100 an instance of (int, float)? True\n",
            "Is 'hello' an instance of str? True\n"
          ]
        }
      ]
    },
    {
      "cell_type": "markdown",
      "metadata": {
        "id": "a031321d"
      },
      "source": [
        "## Algorithm and data structure basics\n",
        "\n",
        "### Subtask:\n",
        "Begin to learn about fundamental algorithms (like searching and sorting) and data structures (like stacks, queues, and trees) as they are crucial for many LeetCode problems.\n"
      ]
    },
    {
      "cell_type": "markdown",
      "metadata": {
        "id": "9c999eed"
      },
      "source": [
        "**Subtask**: Understand the concept of time and space complexity (Big O notation) to analyze the efficiency of algorithms."
      ]
    },
    {
      "cell_type": "markdown",
      "metadata": {
        "id": "5ebc8b41"
      },
      "source": [
        "**Reasoning**:\n",
        "Introduce the concept of time complexity with a simple example of O(n) complexity."
      ]
    },
    {
      "cell_type": "code",
      "metadata": {
        "colab": {
          "base_uri": "https://localhost:8080/"
        },
        "id": "85f64c5c",
        "outputId": "13210e33-b900-46a9-8b29-c4e002700b4e"
      },
      "source": [
        "# Example of O(n) Time Complexity\n",
        "\n",
        "# This function iterates through a list once.\n",
        "# The time it takes to run is directly proportional to the number of elements in the list (n).\n",
        "def print_elements(my_list):\n",
        "  for element in my_list:\n",
        "    print(element)\n",
        "\n",
        "# If the list has 5 elements, it prints 5 times.\n",
        "# If the list has 100 elements, it prints 100 times.\n",
        "# The time complexity is O(n).\n",
        "\n",
        "# Let's test with a small list\n",
        "small_list = [1, 2, 3, 4, 5]\n",
        "print(\"Printing elements of a small list:\")\n",
        "print_elements(small_list)\n",
        "\n",
        "# Let's imagine a much larger list.\n",
        "# The function will take proportionally longer to run.\n",
        "# large_list = list(range(1000000))\n",
        "# print_elements(large_list) # This would take significantly longer"
      ],
      "execution_count": 66,
      "outputs": [
        {
          "output_type": "stream",
          "name": "stdout",
          "text": [
            "Printing elements of a small list:\n",
            "1\n",
            "2\n",
            "3\n",
            "4\n",
            "5\n"
          ]
        }
      ]
    },
    {
      "cell_type": "markdown",
      "metadata": {
        "id": "a3229444"
      },
      "source": [
        "**Reasoning**:\n",
        "Provide an example of O(1) time complexity."
      ]
    },
    {
      "cell_type": "code",
      "metadata": {
        "colab": {
          "base_uri": "https://localhost:8080/"
        },
        "id": "19c90494",
        "outputId": "9c492b65-d77d-4ff7-dc6e-0913835607c3"
      },
      "source": [
        "# Example of O(1) Time Complexity (Constant Time)\n",
        "\n",
        "# Accessing an element in a list by its index takes constant time,\n",
        "# regardless of the size of the list.\n",
        "def access_element(my_list, index):\n",
        "  if 0 <= index < len(my_list):\n",
        "    print(f\"Element at index {index}: {my_list[index]}\")\n",
        "  else:\n",
        "    print(\"Index out of bounds.\")\n",
        "\n",
        "my_list = [10, 20, 30, 40, 50]\n",
        "access_element(my_list, 2) # Accessing the element at index 2 takes the same time\n",
        "access_element(my_list, 0) # as accessing the element at index 0, regardless of how many elements are in the list.\n",
        "access_element(my_list, 10) # Out of bounds check is also O(1)"
      ],
      "execution_count": 67,
      "outputs": [
        {
          "output_type": "stream",
          "name": "stdout",
          "text": [
            "Element at index 2: 30\n",
            "Element at index 0: 10\n",
            "Index out of bounds.\n"
          ]
        }
      ]
    },
    {
      "cell_type": "markdown",
      "metadata": {
        "id": "b1c707cc"
      },
      "source": [
        "**Reasoning**:\n",
        "Provide an example of O(n^2) time complexity."
      ]
    },
    {
      "cell_type": "code",
      "metadata": {
        "colab": {
          "base_uri": "https://localhost:8080/"
        },
        "id": "acc59dd9",
        "outputId": "ec82339f-edf5-43e5-dbd8-607421b1f2fd"
      },
      "source": [
        "# Example of O(n^2) Time Complexity (Quadratic Time)\n",
        "\n",
        "# This function has nested loops, where the inner loop runs 'n' times\n",
        "# for each iteration of the outer loop, which also runs 'n' times.\n",
        "# The total number of operations is roughly proportional to n * n = n^2.\n",
        "def print_pairs(my_list):\n",
        "  for i in my_list:\n",
        "    for j in my_list:\n",
        "      print(f\"({i}, {j})\")\n",
        "\n",
        "# If the list has 5 elements, it prints 5 * 5 = 25 pairs.\n",
        "# If the list has 10 elements, it prints 10 * 10 = 100 pairs.\n",
        "# The time complexity is O(n^2).\n",
        "\n",
        "small_list = [1, 2, 3]\n",
        "print(\"Printing pairs for a small list:\")\n",
        "print_pairs(small_list)\n",
        "\n",
        "# For a larger list, the time taken increases quadratically.\n",
        "# large_list = list(range(100))\n",
        "# print_pairs(large_list) # This would take significantly longer"
      ],
      "execution_count": 68,
      "outputs": [
        {
          "output_type": "stream",
          "name": "stdout",
          "text": [
            "Printing pairs for a small list:\n",
            "(1, 1)\n",
            "(1, 2)\n",
            "(1, 3)\n",
            "(2, 1)\n",
            "(2, 2)\n",
            "(2, 3)\n",
            "(3, 1)\n",
            "(3, 2)\n",
            "(3, 3)\n"
          ]
        }
      ]
    },
    {
      "cell_type": "markdown",
      "metadata": {
        "id": "c7cb7fe5"
      },
      "source": [
        "**Reasoning**:\n",
        "Provide an example of O(log n) time complexity using binary search (conceptually, without full implementation yet)."
      ]
    },
    {
      "cell_type": "code",
      "metadata": {
        "colab": {
          "base_uri": "https://localhost:8080/"
        },
        "id": "f9630d4f",
        "outputId": "d3b31e00-fc07-4a8f-9552-6858b86cc007"
      },
      "source": [
        "# Example of O(log n) Time Complexity (Logarithmic Time) - Conceptual Example\n",
        "\n",
        "# Binary search is an algorithm that works on sorted data.\n",
        "# It repeatedly divides the search interval in half.\n",
        "# For a list of size n, it takes approximately log base 2 of n steps to find an element.\n",
        "# This is much faster than O(n) for large lists.\n",
        "\n",
        "# Imagine searching for a number in a sorted list of 100 elements.\n",
        "# Binary search might check the middle element (at index 50).\n",
        "# If the target is larger, it eliminates the first half and checks the middle of the remaining 50 elements (at index 75).\n",
        "# It keeps halving the search space.\n",
        "# For 100 elements, it takes about log2(100) ≈ 7 steps in the worst case.\n",
        "# For 1000 elements, it takes about log2(1000) ≈ 10 steps.\n",
        "# The time complexity is O(log n).\n",
        "\n",
        "# (We will explore binary search implementation later)\n",
        "\n",
        "print(\"Concept of O(log n) time complexity:\")\n",
        "print(\"Binary search on a sorted list is an example.\")\n",
        "print(\"It halves the search space in each step.\")\n",
        "print(\"This is very efficient for large datasets.\")"
      ],
      "execution_count": 69,
      "outputs": [
        {
          "output_type": "stream",
          "name": "stdout",
          "text": [
            "Concept of O(log n) time complexity:\n",
            "Binary search on a sorted list is an example.\n",
            "It halves the search space in each step.\n",
            "This is very efficient for large datasets.\n"
          ]
        }
      ]
    },
    {
      "cell_type": "markdown",
      "metadata": {
        "id": "9aa8a213"
      },
      "source": [
        "**Subtask**: Learn about common searching algorithms like linear search and binary search."
      ]
    },
    {
      "cell_type": "markdown",
      "metadata": {
        "id": "03c2a0fa"
      },
      "source": [
        "**Reasoning**:\n",
        "Explain and demonstrate the linear search algorithm."
      ]
    },
    {
      "cell_type": "markdown",
      "metadata": {
        "id": "9aa60332"
      },
      "source": [
        "### Linear Search\n",
        "\n",
        "Linear search is the simplest searching algorithm. It sequentially checks each element of the list until a match is found or the whole list has been searched.\n",
        "\n",
        "*   **How it works**:\n",
        "    1.  Start from the beginning of the list.\n",
        "    2.  Compare the target value with the current element.\n",
        "    3.  If the current element matches the target, return the index of the element.\n",
        "    4.  If there is no match, move to the next element.\n",
        "    5.  If the end of the list is reached and no match is found, the target is not in the list.\n",
        "\n",
        "*   **Time Complexity**:\n",
        "    *   **Best Case: O(1)** (If the target is the first element)\n",
        "    *   **Worst Case: O(n)** (If the target is the last element or not in the list, where n is the number of elements)\n",
        "    *   **Average Case: O(n)**\n",
        "\n",
        "*   **Space Complexity**: **O(1)** (It only uses a constant amount of extra space)\n",
        "\n",
        "*   **Pros**: Simple to implement, works on unsorted lists.\n",
        "*   **Cons**: Inefficient for large lists, especially compared to algorithms like binary search (on sorted data)."
      ]
    },
    {
      "cell_type": "code",
      "metadata": {
        "colab": {
          "base_uri": "https://localhost:8080/"
        },
        "id": "a1339292",
        "outputId": "60db3fe0-53ac-4e84-ff27-1bab0742082e"
      },
      "source": [
        "# Implementation of Linear Search\n",
        "\n",
        "def linear_search(data, target):\n",
        "  \"\"\"\n",
        "  Performs linear search on a list to find a target value.\n",
        "\n",
        "  Args:\n",
        "    data: The list to search within.\n",
        "    target: The value to search for.\n",
        "\n",
        "  Returns:\n",
        "    The index of the target in the list if found, otherwise -1.\n",
        "  \"\"\"\n",
        "  for i in range(len(data)):\n",
        "    if data[i] == target:\n",
        "      return i  # Target found at index i\n",
        "  return -1 # Target not found\n",
        "\n",
        "# Example Usage:\n",
        "my_list = [4, 2, 7, 1, 9, 5]\n",
        "target1 = 7\n",
        "target2 = 10\n",
        "\n",
        "index1 = linear_search(my_list, target1)\n",
        "index2 = linear_search(my_list, target2)\n",
        "\n",
        "if index1 != -1:\n",
        "  print(f\"Linear Search: Target {target1} found at index {index1}\")\n",
        "else:\n",
        "  print(f\"Linear Search: Target {target1} not found in the list\")\n",
        "\n",
        "if index2 != -1:\n",
        "  print(f\"Linear Search: Target {target2} found at index {index2}\")\n",
        "else:\n",
        "  print(f\"Linear Search: Target {target2} not found in the list\")"
      ],
      "execution_count": 70,
      "outputs": [
        {
          "output_type": "stream",
          "name": "stdout",
          "text": [
            "Linear Search: Target 7 found at index 2\n",
            "Linear Search: Target 10 not found in the list\n"
          ]
        }
      ]
    },
    {
      "cell_type": "markdown",
      "metadata": {
        "id": "611c3246"
      },
      "source": [
        "Next, **Binary Search**:"
      ]
    },
    {
      "cell_type": "markdown",
      "metadata": {
        "id": "228013a1"
      },
      "source": [
        "**Reasoning**:\n",
        "Explain and demonstrate the binary search algorithm."
      ]
    },
    {
      "cell_type": "markdown",
      "metadata": {
        "id": "ad49112e"
      },
      "source": [
        "### Binary Search\n",
        "\n",
        "Binary search is a much more efficient searching algorithm, but it requires the list to be **sorted**. It works by repeatedly dividing the search interval in half.\n",
        "\n",
        "*   **How it works**:\n",
        "    1.  Start with the entire sorted list as the search interval.\n",
        "    2.  Find the middle element of the interval.\n",
        "    3.  Compare the target value with the middle element.\n",
        "    4.  If the middle element matches the target, return the index.\n",
        "    5.  If the target is less than the middle element, discard the right half of the interval and repeat the process on the left half.\n",
        "    6.  If the target is greater than the middle element, discard the left half of the interval and repeat the process on the right half.\n",
        "    7.  Repeat until the target is found or the interval is empty.\n",
        "\n",
        "*   **Time Complexity**: **O(log n)** (Due to repeatedly halving the search space)\n",
        "*   **Space Complexity**: **O(1)** (Iterative implementation) or **O(log n)** (Recursive implementation due to function call stack)\n",
        "\n",
        "*   **Pros**: Highly efficient for large sorted lists.\n",
        "*   **Cons**: Requires the list to be sorted beforehand (sorting takes time, usually at least O(n log n)), more complex to implement than linear search."
      ]
    },
    {
      "cell_type": "code",
      "metadata": {
        "colab": {
          "base_uri": "https://localhost:8080/"
        },
        "id": "d6471d96",
        "outputId": "76b0f6a4-801d-479f-b293-e823a784676b"
      },
      "source": [
        "# Implementation of Binary Search (Iterative)\n",
        "\n",
        "def binary_search_iterative(data, target):\n",
        "  \"\"\"\n",
        "  Performs iterative binary search on a sorted list.\n",
        "\n",
        "  Args:\n",
        "    data: The sorted list to search within.\n",
        "    target: The value to search for.\n",
        "\n",
        "  Returns:\n",
        "    The index of the target in the list if found, otherwise -1.\n",
        "  \"\"\"\n",
        "  low = 0\n",
        "  high = len(data) - 1\n",
        "\n",
        "  while low <= high:\n",
        "    mid = (low + high) // 2  # Calculate the middle index\n",
        "    mid_value = data[mid]\n",
        "\n",
        "    if mid_value == target:\n",
        "      return mid  # Target found at mid index\n",
        "    elif target < mid_value:\n",
        "      high = mid - 1 # Target is in the left half\n",
        "    else: # target > mid_value\n",
        "      low = mid + 1 # Target is in the right half\n",
        "\n",
        "  return -1 # Target not found\n",
        "\n",
        "# Example Usage:\n",
        "sorted_list = [1, 2, 4, 5, 7, 9] # Binary search requires a sorted list!\n",
        "target1 = 7\n",
        "target2 = 10\n",
        "\n",
        "index1 = binary_search_iterative(sorted_list, target1)\n",
        "index2 = binary_search_iterative(sorted_list, target2)\n",
        "\n",
        "if index1 != -1:\n",
        "  print(f\"Binary Search (Iterative): Target {target1} found at index {index1}\")\n",
        "else:\n",
        "  print(f\"Binary Search (Iterative): Target {target1} not found in the list\")\n",
        "\n",
        "if index2 != -1:\n",
        "  print(f\"Binary Search (Iterative): Target {target2} not found in the list\")\n",
        "else:\n",
        "  print(f\"Binary Search (Iterative): Target {target2} not found in the list\")\n",
        "\n",
        "\n",
        "# Implementation of Binary Search (Recursive)\n",
        "\n",
        "def binary_search_recursive(data, target, low, high):\n",
        "  \"\"\"\n",
        "  Performs recursive binary search on a sorted list.\n",
        "\n",
        "  Args:\n",
        "    data: The sorted list to search within.\n",
        "    target: The value to search for.\n",
        "    low: The lower bound of the search interval.\n",
        "    high: The upper bound of the search interval.\n",
        "\n",
        "  Returns:\n",
        "    The index of the target in the list if found, otherwise -1.\n",
        "  \"\"\"\n",
        "  if low > high:\n",
        "    return -1 # Base case: search interval is empty, target not found\n",
        "\n",
        "  mid = (low + high) // 2\n",
        "  mid_value = data[mid]\n",
        "\n",
        "  if mid_value == target:\n",
        "    return mid # Target found\n",
        "  elif target < mid_value:\n",
        "    return binary_search_recursive(data, target, low, mid - 1) # Search left half\n",
        "  else: # target > mid_value\n",
        "    return binary_search_recursive(data, target, mid + 1, high) # Search right half\n",
        "\n",
        "# Example Usage (Recursive):\n",
        "sorted_list = [1, 2, 4, 5, 7, 9]\n",
        "target1 = 4\n",
        "target2 = 10\n",
        "\n",
        "index1 = binary_search_recursive(sorted_list, target1, 0, len(sorted_list) - 1)\n",
        "index2 = binary_search_recursive(sorted_list, target2, 0, len(sorted_list) - 1)\n",
        "\n",
        "if index1 != -1:\n",
        "  print(f\"\\nBinary Search (Recursive): Target {target1} found at index {index1}\")\n",
        "else:\n",
        "  print(f\"\\nBinary Search (Recursive): Target {target1} not found in the list\")\n",
        "\n",
        "if index2 != -1:\n",
        "  print(f\"Binary Search (Recursive): Target {target2} not found in the list\")\n",
        "else:\n",
        "  print(f\"Binary Search (Recursive): Target {target2} not found in the list\")"
      ],
      "execution_count": 71,
      "outputs": [
        {
          "output_type": "stream",
          "name": "stdout",
          "text": [
            "Binary Search (Iterative): Target 7 found at index 4\n",
            "Binary Search (Iterative): Target 10 not found in the list\n",
            "\n",
            "Binary Search (Recursive): Target 4 found at index 2\n",
            "Binary Search (Recursive): Target 10 not found in the list\n"
          ]
        }
      ]
    },
    {
      "cell_type": "markdown",
      "metadata": {
        "id": "777dbdee"
      },
      "source": [
        "**Subtask**: Explore basic sorting algorithms like bubble sort, selection sort, and insertion sort."
      ]
    },
    {
      "cell_type": "markdown",
      "metadata": {
        "id": "6516fe77"
      },
      "source": [
        "**Reasoning**:\n",
        "Explain and demonstrate the bubble sort algorithm."
      ]
    },
    {
      "cell_type": "markdown",
      "metadata": {
        "id": "93ff40c3"
      },
      "source": [
        "### Bubble Sort\n",
        "\n",
        "Bubble Sort is a simple sorting algorithm that repeatedly steps through the list, compares adjacent elements, and swaps them if they are in the wrong order. The passes through the list are repeated until the list is sorted.\n",
        "\n",
        "*   **How it works**:\n",
        "    1.  Start at the beginning of the list.\n",
        "    2.  Compare the first two elements. If the first is greater than the second, swap them.\n",
        "    3.  Move to the next pair of elements and repeat the comparison and swap.\n",
        "    4.  Continue this process until the end of the list is reached. After the first pass, the largest element will be in the last position.\n",
        "    5.  Repeat the process for the remaining unsorted portion of the list, excluding the last element that is now in its correct position.\n",
        "    6.  Continue passes until no swaps are needed in a pass, indicating the list is sorted.\n",
        "\n",
        "*   **Time Complexity**:\n",
        "    *   **Best Case: O(n)** (If the list is already sorted)\n",
        "    *   **Worst Case: O(n^2)** (If the list is sorted in reverse order)\n",
        "    *   **Average Case: O(n^2)**\n",
        "\n",
        "*   **Space Complexity**: **O(1)** (It only uses a constant amount of extra space for swapping)\n",
        "\n",
        "*   **Pros**: Simple to understand and implement.\n",
        "*   **Cons**: Very inefficient for large lists, rarely used in practice for large datasets."
      ]
    },
    {
      "cell_type": "code",
      "metadata": {
        "colab": {
          "base_uri": "https://localhost:8080/"
        },
        "id": "11114df0",
        "outputId": "39124f22-0962-464d-c480-fb5b3124c8ba"
      },
      "source": [
        "# Implementation of Bubble Sort\n",
        "\n",
        "def bubble_sort(data):\n",
        "  \"\"\"\n",
        "  Sorts a list using the Bubble Sort algorithm.\n",
        "\n",
        "  Args:\n",
        "    data: The list to be sorted.\n",
        "  \"\"\"\n",
        "  n = len(data)\n",
        "  # Traverse through all list elements\n",
        "  for i in range(n):\n",
        "    # Last i elements are already in place\n",
        "    for j in range(n - i - 1):\n",
        "      # Traverse the list from 0 to n-i-1\n",
        "      # Swap if the element found is greater than the next element\n",
        "      if data[j] > data[j+1]:\n",
        "        data[j], data[j+1] = data[j+1], data[j] # Swap elements\n",
        "\n",
        "# Example Usage:\n",
        "my_list = [64, 34, 25, 12, 22, 11, 90]\n",
        "print(f\"Original list: {my_list}\")\n",
        "\n",
        "bubble_sort(my_list)\n",
        "\n",
        "print(f\"Sorted list (Bubble Sort): {my_list}\")"
      ],
      "execution_count": 72,
      "outputs": [
        {
          "output_type": "stream",
          "name": "stdout",
          "text": [
            "Original list: [64, 34, 25, 12, 22, 11, 90]\n",
            "Sorted list (Bubble Sort): [11, 12, 22, 25, 34, 64, 90]\n"
          ]
        }
      ]
    },
    {
      "cell_type": "markdown",
      "metadata": {
        "id": "6a8d0120"
      },
      "source": [
        "Next, **Selection Sort**:"
      ]
    },
    {
      "cell_type": "markdown",
      "metadata": {
        "id": "2cd88575"
      },
      "source": [
        "**Reasoning**:\n",
        "Explain and demonstrate the selection sort algorithm."
      ]
    },
    {
      "cell_type": "markdown",
      "metadata": {
        "id": "9c533626"
      },
      "source": [
        "### Selection Sort\n",
        "\n",
        "Selection Sort algorithm sorts a list by repeatedly finding the minimum element from the unsorted part and putting it at the beginning.\n",
        "\n",
        "*   **How it works**:\n",
        "    1.  Start with the first element as the minimum.\n",
        "    2.  Iterate through the remaining unsorted part of the list to find the actual minimum element.\n",
        "    3.  If a smaller element is found, update the minimum.\n",
        "    4.  After iterating through the unsorted part, swap the found minimum element with the first element of the unsorted part.\n",
        "    5.  Consider the next element as the start of the unsorted part and repeat the process until the entire list is sorted.\n",
        "\n",
        "*   **Time Complexity**:\n",
        "    *   **Best Case: O(n^2)**\n",
        "    *   **Worst Case: O(n^2)**\n",
        "    *   **Average Case: O(n^2)**\n",
        "\n",
        "*   **Space Complexity**: **O(1)**\n",
        "\n",
        "*   **Pros**: Simple to implement, performs fewer swaps compared to bubble sort.\n",
        "*   **Cons**: Inefficient for large lists."
      ]
    },
    {
      "cell_type": "code",
      "metadata": {
        "colab": {
          "base_uri": "https://localhost:8080/"
        },
        "id": "2e99515a",
        "outputId": "ee176174-7e1a-4228-cc11-c159d97996dd"
      },
      "source": [
        "# Implementation of Selection Sort\n",
        "\n",
        "def selection_sort(data):\n",
        "  \"\"\"\n",
        "  Sorts a list using the Selection Sort algorithm.\n",
        "\n",
        "  Args:\n",
        "    data: The list to be sorted.\n",
        "  \"\"\"\n",
        "  n = len(data)\n",
        "  # Traverse through all list elements\n",
        "  for i in range(n):\n",
        "    # Find the minimum element in the remaining unsorted list\n",
        "    min_idx = i\n",
        "    for j in range(i + 1, n):\n",
        "      if data[min_idx] > data[j]:\n",
        "        min_idx = j\n",
        "\n",
        "    # Swap the found minimum element with the first element of the unsorted part\n",
        "    data[i], data[min_idx] = data[min_idx], data[i]\n",
        "\n",
        "# Example Usage:\n",
        "my_list = [64, 25, 12, 22, 11]\n",
        "print(f\"\\nOriginal list: {my_list}\")\n",
        "\n",
        "selection_sort(my_list)\n",
        "\n",
        "print(f\"Sorted list (Selection Sort): {my_list}\")"
      ],
      "execution_count": 73,
      "outputs": [
        {
          "output_type": "stream",
          "name": "stdout",
          "text": [
            "\n",
            "Original list: [64, 25, 12, 22, 11]\n",
            "Sorted list (Selection Sort): [11, 12, 22, 25, 64]\n"
          ]
        }
      ]
    },
    {
      "cell_type": "markdown",
      "metadata": {
        "id": "1840fa9f"
      },
      "source": [
        "Finally, **Insertion Sort**:"
      ]
    },
    {
      "cell_type": "markdown",
      "metadata": {
        "id": "f51d6a8e"
      },
      "source": [
        "**Reasoning**:\n",
        "Explain and demonstrate the insertion sort algorithm."
      ]
    },
    {
      "cell_type": "markdown",
      "metadata": {
        "id": "21dc319f"
      },
      "source": [
        "### Insertion Sort\n",
        "\n",
        "Insertion Sort is a simple sorting algorithm that builds the final sorted list one item at a time. It is much less efficient on large lists than more advanced algorithms such as quicksort, heapsort, or merge sort.\n",
        "\n",
        "*   **How it works**:\n",
        "    1.  Start with the second element (the first element is considered sorted).\n",
        "    2.  Compare the current element with the elements to its left.\n",
        "    3.  Shift elements to the right that are greater than the current element to make space for the current element.\n",
        "    4.  Insert the current element into the correct position in the sorted portion of the list.\n",
        "    5.  Move to the next unsorted element and repeat the process until the entire list is sorted.\n",
        "\n",
        "*   **Time Complexity**:\n",
        "    *   **Best Case: O(n)** (If the list is already sorted)\n",
        "    *   **Worst Case: O(n^2)** (If the list is sorted in reverse order)\n",
        "    *   **Average Case: O(n^2)**\n",
        "\n",
        "*   **Space Complexity**: **O(1)**\n",
        "\n",
        "*   **Pros**: Simple to implement, efficient for small lists or nearly sorted lists, stable (maintains the relative order of equal elements).\n",
        "*   **Cons**: Inefficient for large, unsorted lists."
      ]
    },
    {
      "cell_type": "code",
      "metadata": {
        "colab": {
          "base_uri": "https://localhost:8080/"
        },
        "id": "4c8010b9",
        "outputId": "57c143a7-207c-484a-acaa-f3e839fd38b7"
      },
      "source": [
        "# Implementation of Insertion Sort\n",
        "\n",
        "def insertion_sort(data):\n",
        "  \"\"\"\n",
        "  Sorts a list using the Insertion Sort algorithm.\n",
        "\n",
        "  Args:\n",
        "    data: The list to be sorted.\n",
        "  \"\"\"\n",
        "  # Traverse through 1 to len(data)\n",
        "  for i in range(1, len(data)):\n",
        "    key = data[i] # Current element to be inserted\n",
        "\n",
        "    # Move elements of data[0..i-1], that are greater than key,\n",
        "    # to one position ahead of their current position\n",
        "    j = i - 1\n",
        "    while j >= 0 and key < data[j]:\n",
        "      data[j + 1] = data[j]\n",
        "      j -= 1\n",
        "    data[j + 1] = key # Place key in its correct position\n",
        "\n",
        "# Example Usage:\n",
        "my_list = [12, 11, 13, 5, 6]\n",
        "print(f\"\\nOriginal list: {my_list}\")\n",
        "\n",
        "insertion_sort(my_list)\n",
        "\n",
        "print(f\"Sorted list (Insertion Sort): {my_list}\")"
      ],
      "execution_count": 74,
      "outputs": [
        {
          "output_type": "stream",
          "name": "stdout",
          "text": [
            "\n",
            "Original list: [12, 11, 13, 5, 6]\n",
            "Sorted list (Insertion Sort): [5, 6, 11, 12, 13]\n"
          ]
        }
      ]
    },
    {
      "cell_type": "markdown",
      "metadata": {
        "id": "5497c5ee"
      },
      "source": [
        "**Subtask**: Understand and implement fundamental data structures like stacks and queues."
      ]
    },
    {
      "cell_type": "markdown",
      "metadata": {
        "id": "5f4df319"
      },
      "source": [
        "**Reasoning**:\n",
        "Explain and demonstrate the concept of a stack and its common operations (push, pop, peek/top)."
      ]
    },
    {
      "cell_type": "markdown",
      "metadata": {
        "id": "39d7d288"
      },
      "source": [
        "### Stacks\n",
        "\n",
        "A stack is a linear data structure that follows the **Last-In, First-Out (LIFO)** principle. Imagine a stack of plates – you can only add a new plate to the top, and you can only remove the top plate.\n",
        "\n",
        "Common operations on a stack include:\n",
        "\n",
        "*   **Push**: Adds an element to the top of the stack.\n",
        "*   **Pop**: Removes and returns the element from the top of the stack.\n",
        "*   **Peek (or Top)**: Returns the element from the top of the stack without removing it.\n",
        "*   **IsEmpty**: Checks if the stack is empty.\n",
        "*   **Size**: Returns the number of elements in the stack.\n",
        "\n",
        "In Python, you can easily implement a stack using a list. The `append()` method can be used for `push`, and the `pop()` method (without an index) can be used for `pop`."
      ]
    },
    {
      "cell_type": "code",
      "metadata": {
        "colab": {
          "base_uri": "https://localhost:8080/"
        },
        "id": "b70d5864",
        "outputId": "dd111bd4-0e6c-4dbe-c3f2-326e2e8e5e33"
      },
      "source": [
        "# Implementing a Stack using a Python List\n",
        "\n",
        "class Stack:\n",
        "    def __init__(self):\n",
        "        \"\"\"Initializes an empty stack.\"\"\"\n",
        "        self.items = []\n",
        "\n",
        "    def is_empty(self):\n",
        "        \"\"\"Checks if the stack is empty.\"\"\"\n",
        "        return not self.items\n",
        "\n",
        "    def push(self, item):\n",
        "        \"\"\"Adds an item to the top of the stack.\"\"\"\n",
        "        self.items.append(item)\n",
        "        print(f\"Pushed: {item}. Stack: {self.items}\")\n",
        "\n",
        "    def pop(self):\n",
        "        \"\"\"Removes and returns the item from the top of the stack.\"\"\"\n",
        "        if not self.is_empty():\n",
        "            popped_item = self.items.pop()\n",
        "            print(f\"Popped: {popped_item}. Stack: {self.items}\")\n",
        "            return popped_item\n",
        "        else:\n",
        "            print(\"Stack is empty. Cannot pop.\")\n",
        "            return None\n",
        "\n",
        "    def peek(self):\n",
        "        \"\"\"Returns the item from the top of the stack without removing it.\"\"\"\n",
        "        if not self.is_empty():\n",
        "            top_item = self.items[-1]\n",
        "            print(f\"Peek (Top): {top_item}. Stack: {self.items}\")\n",
        "            return top_item\n",
        "        else:\n",
        "            print(\"Stack is empty. Cannot peek.\")\n",
        "            return None\n",
        "\n",
        "    def size(self):\n",
        "        \"\"\"Returns the number of items in the stack.\"\"\"\n",
        "        stack_size = len(self.items)\n",
        "        print(f\"Stack size: {stack_size}\")\n",
        "        return stack_size\n",
        "\n",
        "# Example Usage:\n",
        "my_stack = Stack()\n",
        "\n",
        "my_stack.push(10)\n",
        "my_stack.push(20)\n",
        "my_stack.push(30)\n",
        "\n",
        "my_stack.peek()\n",
        "\n",
        "my_stack.pop()\n",
        "my_stack.pop()\n",
        "my_stack.pop()\n",
        "my_stack.pop() # Trying to pop from an empty stack\n",
        "\n",
        "my_stack.size()"
      ],
      "execution_count": 75,
      "outputs": [
        {
          "output_type": "stream",
          "name": "stdout",
          "text": [
            "Pushed: 10. Stack: [10]\n",
            "Pushed: 20. Stack: [10, 20]\n",
            "Pushed: 30. Stack: [10, 20, 30]\n",
            "Peek (Top): 30. Stack: [10, 20, 30]\n",
            "Popped: 30. Stack: [10, 20]\n",
            "Popped: 20. Stack: [10]\n",
            "Popped: 10. Stack: []\n",
            "Stack is empty. Cannot pop.\n",
            "Stack size: 0\n"
          ]
        },
        {
          "output_type": "execute_result",
          "data": {
            "text/plain": [
              "0"
            ]
          },
          "metadata": {},
          "execution_count": 75
        }
      ]
    },
    {
      "cell_type": "markdown",
      "metadata": {
        "id": "c03f5878"
      },
      "source": [
        "Next, **Queues**:"
      ]
    },
    {
      "cell_type": "markdown",
      "metadata": {
        "id": "357f5b37"
      },
      "source": [
        "**Reasoning**:\n",
        "Explain and demonstrate the concept of a queue and its common operations (enqueue, dequeue, front/peek)."
      ]
    },
    {
      "cell_type": "markdown",
      "metadata": {
        "id": "0c7a25c8"
      },
      "source": [
        "### Queues\n",
        "\n",
        "A queue is a linear data structure that follows the **First-In, First-Out (FIFO)** principle. Imagine a line of people waiting – the first person in line is the first one to be served.\n",
        "\n",
        "Common operations on a queue include:\n",
        "\n",
        "*   **Enqueue**: Adds an element to the rear (end) of the queue.\n",
        "*   **Dequeue**: Removes and returns the element from the front (beginning) of the queue.\n",
        "*   **Front (or Peek)**: Returns the element from the front of the queue without removing it.\n",
        "*   **IsEmpty**: Checks if the queue is empty.\n",
        "*   **Size**: Returns the number of elements in the queue.\n",
        "\n",
        "While you can implement a queue using a Python list, it's not very efficient for `dequeue` operations (removing from the beginning requires shifting all other elements). A more efficient way is to use the `collections.deque` class, which is optimized for adding and removing elements from both ends."
      ]
    },
    {
      "cell_type": "code",
      "metadata": {
        "colab": {
          "base_uri": "https://localhost:8080/"
        },
        "id": "c4f9354b",
        "outputId": "42a01cf8-32b5-4d82-e957-d7cdaf739691"
      },
      "source": [
        "# Implementing a Queue using collections.deque\n",
        "\n",
        "from collections import deque\n",
        "\n",
        "class Queue:\n",
        "    def __init__(self):\n",
        "        \"\"\"Initializes an empty queue.\"\"\"\n",
        "        self.items = deque()\n",
        "\n",
        "    def is_empty(self):\n",
        "        \"\"\"Checks if the queue is empty.\"\"\"\n",
        "        return not self.items\n",
        "\n",
        "    def enqueue(self, item):\n",
        "        \"\"\"Adds an item to the rear of the queue.\"\"\"\n",
        "        self.items.append(item)\n",
        "        print(f\"Enqueued: {item}. Queue: {list(self.items)}\") # Convert deque to list for printing\n",
        "\n",
        "    def dequeue(self):\n",
        "        \"\"\"Removes and returns the item from the front of the queue.\"\"\"\n",
        "        if not self.is_empty():\n",
        "            dequeued_item = self.items.popleft() # Efficiently remove from the left (front)\n",
        "            print(f\"Dequeued: {dequeued_item}. Queue: {list(self.items)}\")\n",
        "            return dequeued_item\n",
        "        else:\n",
        "            print(\"Queue is empty. Cannot dequeue.\")\n",
        "            return None\n",
        "\n",
        "    def front(self):\n",
        "        \"\"\"Returns the item from the front of the queue without removing it.\"\"\"\n",
        "        if not self.is_empty():\n",
        "            front_item = self.items[0]\n",
        "            print(f\"Front (Peek): {front_item}. Queue: {list(self.items)}\")\n",
        "            return front_item\n",
        "        else:\n",
        "            print(\"Queue is empty. Cannot peek.\")\n",
        "            return None\n",
        "\n",
        "    def size(self):\n",
        "        \"\"\"Returns the number of items in the queue.\"\"\"\n",
        "        queue_size = len(self.items)\n",
        "        print(f\"Queue size: {queue_size}\")\n",
        "        return queue_size\n",
        "\n",
        "# Example Usage:\n",
        "my_queue = Queue()\n",
        "\n",
        "my_queue.enqueue(100)\n",
        "my_queue.enqueue(200)\n",
        "my_queue.enqueue(300)\n",
        "\n",
        "my_queue.front()\n",
        "\n",
        "my_queue.dequeue()\n",
        "my_queue.dequeue()\n",
        "my_queue.dequeue()\n",
        "my_queue.dequeue() # Trying to dequeue from an empty queue\n",
        "\n",
        "my_queue.size()"
      ],
      "execution_count": 76,
      "outputs": [
        {
          "output_type": "stream",
          "name": "stdout",
          "text": [
            "Enqueued: 100. Queue: [100]\n",
            "Enqueued: 200. Queue: [100, 200]\n",
            "Enqueued: 300. Queue: [100, 200, 300]\n",
            "Front (Peek): 100. Queue: [100, 200, 300]\n",
            "Dequeued: 100. Queue: [200, 300]\n",
            "Dequeued: 200. Queue: [300]\n",
            "Dequeued: 300. Queue: []\n",
            "Queue is empty. Cannot dequeue.\n",
            "Queue size: 0\n"
          ]
        },
        {
          "output_type": "execute_result",
          "data": {
            "text/plain": [
              "0"
            ]
          },
          "metadata": {},
          "execution_count": 76
        }
      ]
    },
    {
      "cell_type": "markdown",
      "metadata": {
        "id": "174e9c45"
      },
      "source": [
        "**Subtask**: Get an introduction to trees, specifically binary trees, and basic tree traversal methods (in-order, pre-order, post-order)."
      ]
    },
    {
      "cell_type": "markdown",
      "metadata": {
        "id": "237c72e7"
      },
      "source": [
        "**Reasoning**:\n",
        "Explain the concept of a binary tree and define a simple Node class for implementation."
      ]
    },
    {
      "cell_type": "markdown",
      "metadata": {
        "id": "89798dbe"
      },
      "source": [
        "### Binary Trees\n",
        "\n",
        "A **Binary Tree** is a hierarchical data structure where each node has at most two children, typically referred to as the **left child** and the **right child**.\n",
        "\n",
        "Key terms:\n",
        "\n",
        "*   **Root**: The topmost node of the tree.\n",
        "*   **Node**: A basic unit of the tree that contains data and references to its children.\n",
        "*   **Edge**: A connection between two nodes.\n",
        "*   **Parent**: A node that has one or more child nodes.\n",
        "*   **Child**: A node that has a parent node.\n",
        "*   **Leaf**: A node that has no children.\n",
        "*   **Subtree**: A tree formed by a node and its descendants.\n",
        "\n",
        "Binary trees are used in various applications, including search algorithms (like binary search trees), expression parsing, and data compression.\n",
        "\n",
        "To implement a binary tree, we often define a `Node` class to represent each node in the tree."
      ]
    },
    {
      "cell_type": "code",
      "metadata": {
        "colab": {
          "base_uri": "https://localhost:8080/"
        },
        "id": "5062f098",
        "outputId": "6a61b512-8009-497e-b31e-248c708dfe7b"
      },
      "source": [
        "# Define a Node class for a Binary Tree\n",
        "class TreeNode:\n",
        "    def __init__(self, val=0, left=None, right=None):\n",
        "        self.val = val\n",
        "        self.left = left\n",
        "        self.right = right\n",
        "\n",
        "# Example of creating a simple binary tree:\n",
        "#        1\n",
        "#       / \\\n",
        "#      2   3\n",
        "#     / \\\n",
        "#    4   5\n",
        "\n",
        "root = TreeNode(1)\n",
        "root.left = TreeNode(2)\n",
        "root.right = TreeNode(3)\n",
        "root.left.left = TreeNode(4)\n",
        "root.left.right = TreeNode(5)\n",
        "\n",
        "print(\"Binary tree structure created.\")"
      ],
      "execution_count": 77,
      "outputs": [
        {
          "output_type": "stream",
          "name": "stdout",
          "text": [
            "Binary tree structure created.\n"
          ]
        }
      ]
    },
    {
      "cell_type": "markdown",
      "metadata": {
        "id": "43505f9f"
      },
      "source": [
        "**Reasoning**:\n",
        "Explain and demonstrate the in-order traversal of a binary tree."
      ]
    },
    {
      "cell_type": "markdown",
      "metadata": {
        "id": "3bd0f41f"
      },
      "source": [
        "### In-order Traversal\n",
        "\n",
        "In-order traversal visits the nodes in the following order:\n",
        "\n",
        "1.  Recursively traverse the **left subtree**.\n",
        "2.  Visit the **root node**.\n",
        "3.  Recursively traverse the **right subtree**.\n",
        "\n",
        "For a Binary Search Tree (which is a specific type of binary tree where the left child is less than the parent and the right child is greater), in-order traversal visits the nodes in ascending order."
      ]
    },
    {
      "cell_type": "code",
      "metadata": {
        "colab": {
          "base_uri": "https://localhost:8080/"
        },
        "id": "93e20a32",
        "outputId": "3a6e2e8d-8d08-47f9-f1ee-505f980cf634"
      },
      "source": [
        "# Implementation of In-order Traversal\n",
        "\n",
        "def inorder_traversal(root):\n",
        "  \"\"\"\n",
        "  Performs in-order traversal of a binary tree.\n",
        "\n",
        "  Args:\n",
        "    root: The root node of the tree.\n",
        "  \"\"\"\n",
        "  if root:\n",
        "    inorder_traversal(root.left)  # Traverse left subtree\n",
        "    print(root.val, end=\" \")      # Visit root node\n",
        "    inorder_traversal(root.right) # Traverse right subtree\n",
        "\n",
        "# Example Usage (using the tree created above):\n",
        "print(\"In-order traversal:\")\n",
        "inorder_traversal(root)\n",
        "print() # For a newline"
      ],
      "execution_count": 78,
      "outputs": [
        {
          "output_type": "stream",
          "name": "stdout",
          "text": [
            "In-order traversal:\n",
            "4 2 5 1 3 \n"
          ]
        }
      ]
    },
    {
      "cell_type": "markdown",
      "metadata": {
        "id": "86c368a3"
      },
      "source": [
        "**Reasoning**:\n",
        "Explain and demonstrate the pre-order traversal of a binary tree."
      ]
    },
    {
      "cell_type": "markdown",
      "metadata": {
        "id": "e1222c54"
      },
      "source": [
        "### Pre-order Traversal\n",
        "\n",
        "Pre-order traversal visits the nodes in the following order:\n",
        "\n",
        "1.  Visit the **root node**.\n",
        "2.  Recursively traverse the **left subtree**.\n",
        "3.  Recursively traverse the **right subtree**.\n",
        "\n",
        "Pre-order traversal is often used to create a copy of a tree or to serialize a tree."
      ]
    },
    {
      "cell_type": "code",
      "metadata": {
        "colab": {
          "base_uri": "https://localhost:8080/"
        },
        "id": "1c49a201",
        "outputId": "5cdb581f-ddb4-4579-8ca5-51033b1d539a"
      },
      "source": [
        "# Implementation of Pre-order Traversal\n",
        "\n",
        "def preorder_traversal(root):\n",
        "  \"\"\"\n",
        "  Performs pre-order traversal of a binary tree.\n",
        "\n",
        "  Args:\n",
        "    root: The root node of the tree.\n",
        "  \"\"\"\n",
        "  if root:\n",
        "    print(root.val, end=\" \")      # Visit root node\n",
        "    preorder_traversal(root.left)  # Traverse left subtree\n",
        "    preorder_traversal(root.right) # Traverse right subtree\n",
        "\n",
        "# Example Usage (using the tree created above):\n",
        "print(\"\\nPre-order traversal:\")\n",
        "preorder_traversal(root)\n",
        "print() # For a newline"
      ],
      "execution_count": 79,
      "outputs": [
        {
          "output_type": "stream",
          "name": "stdout",
          "text": [
            "\n",
            "Pre-order traversal:\n",
            "1 2 4 5 3 \n"
          ]
        }
      ]
    },
    {
      "cell_type": "markdown",
      "metadata": {
        "id": "c2ac3cfe"
      },
      "source": [
        "**Reasoning**:\n",
        "Explain and demonstrate the post-order traversal of a binary tree."
      ]
    },
    {
      "cell_type": "markdown",
      "metadata": {
        "id": "351430ed"
      },
      "source": [
        "### Post-order Traversal\n",
        "\n",
        "Post-order traversal visits the nodes in the following order:\n",
        "\n",
        "1.  Recursively traverse the **left subtree**.\n",
        "2.  Recursively traverse the **right subtree**.\n",
        "3.  Visit the **root node**.\n",
        "\n",
        "Post-order traversal is often used to delete a tree or to evaluate an expression tree."
      ]
    },
    {
      "cell_type": "code",
      "metadata": {
        "colab": {
          "base_uri": "https://localhost:8080/"
        },
        "id": "7174fe50",
        "outputId": "aa0d192a-253d-4b5a-8e24-83a6723d1924"
      },
      "source": [
        "# Implementation of Post-order Traversal\n",
        "\n",
        "def postorder_traversal(root):\n",
        "  \"\"\"\n",
        "  Performs post-order traversal of a binary tree.\n",
        "\n",
        "  Args:\n",
        "    root: The root node of the tree.\n",
        "  \"\"\"\n",
        "  if root:\n",
        "    postorder_traversal(root.left)  # Traverse left subtree\n",
        "    postorder_traversal(root.right) # Traverse right subtree\n",
        "    print(root.val, end=\" \")      # Visit root node\n",
        "\n",
        "# Example Usage (using the tree created above):\n",
        "print(\"\\nPost-order traversal:\")\n",
        "postorder_traversal(root)\n",
        "print() # For a newline"
      ],
      "execution_count": 80,
      "outputs": [
        {
          "output_type": "stream",
          "name": "stdout",
          "text": [
            "\n",
            "Post-order traversal:\n",
            "4 5 2 3 1 \n"
          ]
        }
      ]
    },
    {
      "cell_type": "markdown",
      "metadata": {
        "id": "8d3b61ce"
      },
      "source": [
        "**Subtask**: Learn about hash tables (dictionaries in Python) and their applications in solving problems efficiently."
      ]
    },
    {
      "cell_type": "markdown",
      "metadata": {
        "id": "2e323aaf"
      },
      "source": [
        "**Reasoning**:\n",
        "Demonstrate how dictionaries (hash tables) can be used for counting element frequencies."
      ]
    },
    {
      "cell_type": "code",
      "metadata": {
        "colab": {
          "base_uri": "https://localhost:8080/"
        },
        "id": "874961ee",
        "outputId": "be2a7d05-b5e3-41f9-de7b-701a44a061d8"
      },
      "source": [
        "# Example: Counting element frequencies using a dictionary\n",
        "\n",
        "my_list = [1, 2, 2, 3, 1, 4, 2, 3, 1, 5]\n",
        "frequency_dict = {}\n",
        "\n",
        "for item in my_list:\n",
        "  if item in frequency_dict:\n",
        "    frequency_dict[item] += 1\n",
        "  else:\n",
        "    frequency_dict[item] = 1\n",
        "\n",
        "print(f\"Element frequencies: {frequency_dict}\")\n",
        "\n",
        "# This task would be less efficient using only lists (would require repeated linear searches)"
      ],
      "execution_count": 81,
      "outputs": [
        {
          "output_type": "stream",
          "name": "stdout",
          "text": [
            "Element frequencies: {1: 3, 2: 3, 3: 2, 4: 1, 5: 1}\n"
          ]
        }
      ]
    },
    {
      "cell_type": "markdown",
      "metadata": {
        "id": "234b9f51"
      },
      "source": [
        "**Reasoning**:\n",
        "Demonstrate how dictionaries (hash tables) can be used for checking for duplicates."
      ]
    },
    {
      "cell_type": "code",
      "metadata": {
        "colab": {
          "base_uri": "https://localhost:8080/"
        },
        "id": "cc2c008a",
        "outputId": "c9d0f7c2-2afe-408d-c98f-4ad361983294"
      },
      "source": [
        "# Example: Checking for duplicates using a dictionary\n",
        "\n",
        "my_list_with_duplicates = [1, 2, 3, 2, 4, 5, 1]\n",
        "seen_elements = {}\n",
        "has_duplicates = False\n",
        "\n",
        "for element in my_list_with_duplicates:\n",
        "  if element in seen_elements:\n",
        "    has_duplicates = True\n",
        "    print(f\"Duplicate found: {element}\")\n",
        "    # break # Can break early if just checking for presence of any duplicate\n",
        "  else:\n",
        "    seen_elements[element] = True # Or any value, we just care about the key\n",
        "\n",
        "print(f\"Original list: {my_list_with_duplicates}\")\n",
        "print(f\"Does the list have duplicates? {has_duplicates}\")\n",
        "\n",
        "my_list_without_duplicates = [1, 2, 3, 4, 5]\n",
        "seen_elements_no_duplicates = {}\n",
        "has_duplicates_no = False\n",
        "\n",
        "for element in my_list_without_duplicates:\n",
        "    if element in seen_elements_no_duplicates:\n",
        "        has_duplicates_no = True\n",
        "        break\n",
        "    else:\n",
        "        seen_elements_no_duplicates[element] = True\n",
        "\n",
        "print(f\"\\nOriginal list: {my_list_without_duplicates}\")\n",
        "print(f\"Does the list have duplicates? {has_duplicates_no}\")"
      ],
      "execution_count": 82,
      "outputs": [
        {
          "output_type": "stream",
          "name": "stdout",
          "text": [
            "Duplicate found: 2\n",
            "Duplicate found: 1\n",
            "Original list: [1, 2, 3, 2, 4, 5, 1]\n",
            "Does the list have duplicates? True\n",
            "\n",
            "Original list: [1, 2, 3, 4, 5]\n",
            "Does the list have duplicates? False\n"
          ]
        }
      ]
    },
    {
      "cell_type": "markdown",
      "metadata": {
        "id": "d7250d8f"
      },
      "source": [
        "**Reasoning**:\n",
        "Demonstrate how dictionaries (hash tables) can be used for mapping relationships."
      ]
    },
    {
      "cell_type": "code",
      "metadata": {
        "colab": {
          "base_uri": "https://localhost:8080/"
        },
        "id": "a4092dc2",
        "outputId": "906a4203-34a1-4724-8df3-bc5d26c22ab3"
      },
      "source": [
        "# Example: Mapping relationships using a dictionary\n",
        "\n",
        "# Mapping country codes to country names\n",
        "country_codes = {\n",
        "    \"USA\": \"United States of America\",\n",
        "    \"CAN\": \"Canada\",\n",
        "    \"MEX\": \"Mexico\",\n",
        "    \"GBR\": \"United Kingdom\"\n",
        "}\n",
        "\n",
        "# Get the full name for a country code\n",
        "print(f\"Full name for 'USA': {country_codes['USA']}\")\n",
        "print(f\"Full name for 'CAN': {country_codes.get('CAN', 'Unknown Country')}\")\n",
        "print(f\"Full name for 'FRA': {country_codes.get('FRA', 'Unknown Country')}\") # Using get with a default\n",
        "\n",
        "# Mapping student IDs to their scores\n",
        "student_scores = {\n",
        "    101: 85,\n",
        "    102: 92,\n",
        "    103: 78\n",
        "}\n",
        "\n",
        "print(f\"Score for student 102: {student_scores[102]}\")"
      ],
      "execution_count": 83,
      "outputs": [
        {
          "output_type": "stream",
          "name": "stdout",
          "text": [
            "Full name for 'USA': United States of America\n",
            "Full name for 'CAN': Canada\n",
            "Full name for 'FRA': Unknown Country\n",
            "Score for student 102: 92\n"
          ]
        }
      ]
    },
    {
      "cell_type": "markdown",
      "metadata": {
        "id": "5bd43639"
      },
      "source": [
        "# Task\n",
        "Provide a comprehensive overview of common algorithms and data structures used in solving LeetCode problems, including Linked Lists, Two Pointer technique, Recursion and Divide & Conquer, Trees (advanced), Graphs, Dynamic Programming, Greedy algorithms, and Sliding Window technique, along with their solving patterns. Also, suggest resources for further learning and practice, including LeetCode strategies."
      ]
    },
    {
      "cell_type": "markdown",
      "metadata": {
        "id": "1b0e19bb"
      },
      "source": [
        "## Linked lists\n",
        "\n",
        "### Subtask:\n",
        "Understand the concept of a linked list (singly and doubly).\n"
      ]
    },
    {
      "cell_type": "markdown",
      "metadata": {
        "id": "297320a5"
      },
      "source": [
        "**Reasoning**:\n",
        "Write a markdown cell explaining the concept of a linked list, including singly and doubly linked lists.\n",
        "\n"
      ]
    },
    {
      "cell_type": "markdown",
      "source": [
        "### Linked Lists\n",
        "\n",
        "A **Linked List** is a linear data structure where elements are not stored in contiguous memory locations. Instead, each element (called a **node**) contains its own data and a pointer (or reference) to the next node in the sequence.\n",
        "\n",
        "#### Basic Structure: Node and Pointers\n",
        "\n",
        "Each node in a linked list typically consists of two parts:\n",
        "\n",
        "1.  **Data**: The actual value stored in the node.\n",
        "2.  **Pointer (or Reference)**: A link to the next node in the list.\n",
        "\n",
        "The last node in a linked list has its pointer set to `None`, indicating the end of the list.\n",
        "\n",
        "#### Types of Linked Lists: Singly vs. Doubly\n",
        "\n",
        "*   **Singly Linked List**:\n",
        "    *   Each node contains a pointer to the *next* node in the sequence.\n",
        "    *   Traversal is only possible in one direction (forward).\n",
        "    *   Operations like inserting or deleting a node require access to the *previous* node.\n",
        "\n",
        "*   **Doubly Linked List**:\n",
        "    *   Each node contains two pointers: one to the *next* node and one to the *previous* node in the sequence.\n",
        "    *   Traversal is possible in both directions (forward and backward).\n",
        "    *   Operations like inserting or deleting a node are often more efficient as you have direct access to both the next and previous nodes."
      ],
      "metadata": {
        "id": "8bhuvOHwWBAM"
      }
    },
    {
      "cell_type": "code",
      "metadata": {
        "id": "dfcaf436"
      },
      "source": [],
      "execution_count": 83,
      "outputs": []
    },
    {
      "cell_type": "markdown",
      "metadata": {
        "id": "ceda31a3"
      },
      "source": [
        "**Reasoning**:\n",
        "Define simple Node classes for both singly and doubly linked lists in a single code cell, as requested by the instructions.\n",
        "\n"
      ]
    },
    {
      "cell_type": "code",
      "metadata": {
        "colab": {
          "base_uri": "https://localhost:8080/"
        },
        "id": "5f31f3d2",
        "outputId": "31512eb5-f3dd-42f5-f165-c13778bde4dc"
      },
      "source": [
        "# Define a Node class for a Singly Linked List\n",
        "class SinglyLinkedListNode:\n",
        "    def __init__(self, data=None):\n",
        "        self.data = data\n",
        "        self.next = None  # Pointer to the next node\n",
        "\n",
        "# Define a Node class for a Doubly Linked List\n",
        "class DoublyLinkedListNode:\n",
        "    def __init__(self, data=None):\n",
        "        self.data = data\n",
        "        self.next = None  # Pointer to the next node\n",
        "        self.prev = None  # Pointer to the previous node\n",
        "\n",
        "print(\"SinglyLinkedListNode and DoublyLinkedListNode classes defined.\")\n",
        "\n",
        "# Example of creating a singly linked list:\n",
        "# head -> Node(1) -> Node(2) -> Node(3) -> None\n",
        "head_singly = SinglyLinkedListNode(1)\n",
        "head_singly.next = SinglyLinkedListNode(2)\n",
        "head_singly.next.next = SinglyLinkedListNode(3)\n",
        "\n",
        "print(\"\\nExample Singly Linked List created.\")\n",
        "current_singly = head_singly\n",
        "while current_singly:\n",
        "    print(current_singly.data, end=\" -> \")\n",
        "    current_singly = current_singly.next\n",
        "print(\"None\")\n",
        "\n",
        "\n",
        "# Example of creating a doubly linked list:\n",
        "# None <- Node(1) <-> Node(2) <-> Node(3) -> None\n",
        "head_doubly = DoublyLinkedListNode(1)\n",
        "node2_doubly = DoublyLinkedListNode(2)\n",
        "node3_doubly = DoublyLinkedListNode(3)\n",
        "\n",
        "head_doubly.next = node2_doubly\n",
        "node2_doubly.prev = head_doubly\n",
        "node2_doubly.next = node3_doubly\n",
        "node3_doubly.prev = node2_doubly\n",
        "\n",
        "print(\"\\nExample Doubly Linked List created (forward traversal):\")\n",
        "current_doubly = head_doubly\n",
        "while current_doubly:\n",
        "    print(current_doubly.data, end=\" <-> \")\n",
        "    if current_doubly.next:\n",
        "        current_doubly = current_doubly.next\n",
        "    else:\n",
        "        # Find the last node to demonstrate backward traversal\n",
        "        last_doubly = current_doubly\n",
        "        break\n",
        "print(\"None\")\n",
        "\n",
        "print(\"\\nExample Doubly Linked List (backward traversal from last node):\")\n",
        "current_doubly = last_doubly\n",
        "while current_doubly:\n",
        "    print(current_doubly.data, end=\" <-> \")\n",
        "    current_doubly = current_doubly.prev\n",
        "print(\"None\")"
      ],
      "execution_count": 84,
      "outputs": [
        {
          "output_type": "stream",
          "name": "stdout",
          "text": [
            "SinglyLinkedListNode and DoublyLinkedListNode classes defined.\n",
            "\n",
            "Example Singly Linked List created.\n",
            "1 -> 2 -> 3 -> None\n",
            "\n",
            "Example Doubly Linked List created (forward traversal):\n",
            "1 <-> 2 <-> 3 <-> None\n",
            "\n",
            "Example Doubly Linked List (backward traversal from last node):\n",
            "3 <-> 2 <-> 1 <-> None\n"
          ]
        }
      ]
    },
    {
      "cell_type": "markdown",
      "metadata": {
        "id": "c25f85f1"
      },
      "source": [
        "## Linked lists\n",
        "\n",
        "### Subtask:\n",
        "Learn common operations (insertion, deletion, traversal).\n"
      ]
    },
    {
      "cell_type": "markdown",
      "metadata": {
        "id": "72c95b4f"
      },
      "source": [
        "**Reasoning**:\n",
        "Create the `SinglyLinkedList` class and implement the `__init__` and `traverse_and_print` methods to initialize the list and demonstrate basic traversal.\n",
        "\n"
      ]
    },
    {
      "cell_type": "code",
      "metadata": {
        "colab": {
          "base_uri": "https://localhost:8080/"
        },
        "id": "45ec9941",
        "outputId": "2187b4a1-7af8-4327-c5b4-c7c4d49dba60"
      },
      "source": [
        "# 1. Create a class for a Singly Linked List\n",
        "class SinglyLinkedList:\n",
        "    def __init__(self):\n",
        "        \"\"\"Initializes an empty Singly Linked List.\"\"\"\n",
        "        self.head = None # The head attribute points to the first node in the list\n",
        "\n",
        "    def traverse_and_print(self):\n",
        "        \"\"\"Traverses the list from the head and prints the data of each node.\"\"\"\n",
        "        current_node = self.head # Start from the head\n",
        "        print(\"Linked List:\", end=\" \")\n",
        "        while current_node: # Continue as long as there are nodes\n",
        "            print(current_node.data, end=\" -> \")\n",
        "            current_node = current_node.next # Move to the next node\n",
        "        print(\"None\") # Indicate the end of the list\n",
        "\n",
        "# Example Usage:\n",
        "# Create an empty list\n",
        "my_list = SinglyLinkedList()\n",
        "print(\"Initial list:\")\n",
        "my_list.traverse_and_print()"
      ],
      "execution_count": 85,
      "outputs": [
        {
          "output_type": "stream",
          "name": "stdout",
          "text": [
            "Initial list:\n",
            "Linked List: None\n"
          ]
        }
      ]
    },
    {
      "cell_type": "markdown",
      "metadata": {
        "id": "6886bbbc"
      },
      "source": [
        "**Reasoning**:\n",
        "Implement the `insert_at_beginning` method in the `SinglyLinkedList` class and demonstrate its usage.\n",
        "\n"
      ]
    },
    {
      "cell_type": "code",
      "metadata": {
        "colab": {
          "base_uri": "https://localhost:8080/"
        },
        "id": "392544c4",
        "outputId": "bead6dd9-31e6-4a78-fd87-cdac8daf58bd"
      },
      "source": [
        "# 1. (Continued) Implement insertion at the beginning\n",
        "class SinglyLinkedList:\n",
        "    def __init__(self):\n",
        "        \"\"\"Initializes an empty Singly Linked List.\"\"\"\n",
        "        self.head = None # The head attribute points to the first node in the list\n",
        "\n",
        "    def insert_at_beginning(self, data):\n",
        "        \"\"\"Inserts a new node with the given data at the beginning of the list.\"\"\"\n",
        "        new_node = SinglyLinkedListNode(data) # Create a new node\n",
        "        new_node.next = self.head # The new node's next pointer should point to the current head\n",
        "        self.head = new_node # Update the head to be the new node\n",
        "        print(f\"Inserted {data} at the beginning.\")\n",
        "\n",
        "    def traverse_and_print(self):\n",
        "        \"\"\"Traverses the list from the head and prints the data of each node.\"\"\"\n",
        "        current_node = self.head # Start from the head\n",
        "        print(\"Linked List:\", end=\" \")\n",
        "        while current_node: # Continue as long as there are nodes\n",
        "            print(current_node.data, end=\" -> \")\n",
        "            current_node = current_node.next # Move to the next node\n",
        "        print(\"None\") # Indicate the end of the list\n",
        "\n",
        "# Example Usage:\n",
        "my_list = SinglyLinkedList()\n",
        "print(\"Initial list:\")\n",
        "my_list.traverse_and_print()\n",
        "\n",
        "# Insert elements at the beginning\n",
        "my_list.insert_at_beginning(10)\n",
        "my_list.traverse_and_print()\n",
        "\n",
        "my_list.insert_at_beginning(20)\n",
        "my_list.traverse_and_print()\n",
        "\n",
        "my_list.insert_at_beginning(30)\n",
        "my_list.traverse_and_print()"
      ],
      "execution_count": 86,
      "outputs": [
        {
          "output_type": "stream",
          "name": "stdout",
          "text": [
            "Initial list:\n",
            "Linked List: None\n",
            "Inserted 10 at the beginning.\n",
            "Linked List: 10 -> None\n",
            "Inserted 20 at the beginning.\n",
            "Linked List: 20 -> 10 -> None\n",
            "Inserted 30 at the beginning.\n",
            "Linked List: 30 -> 20 -> 10 -> None\n"
          ]
        }
      ]
    },
    {
      "cell_type": "markdown",
      "metadata": {
        "id": "c52ce2e1"
      },
      "source": [
        "**Reasoning**:\n",
        "Implement the `insert_at_end` method in the `SinglyLinkedList` class and demonstrate its usage.\n",
        "\n"
      ]
    },
    {
      "cell_type": "code",
      "metadata": {
        "colab": {
          "base_uri": "https://localhost:8080/"
        },
        "id": "640fdc63",
        "outputId": "f63ee235-b7d9-40b1-81d0-e0c44a42507e"
      },
      "source": [
        "# 1. (Continued) Implement insertion at the end\n",
        "class SinglyLinkedList:\n",
        "    def __init__(self):\n",
        "        \"\"\"Initializes an empty Singly Linked List.\"\"\"\n",
        "        self.head = None # The head attribute points to the first node in the list\n",
        "\n",
        "    def insert_at_beginning(self, data):\n",
        "        \"\"\"Inserts a new node with the given data at the beginning of the list.\"\"\"\n",
        "        new_node = SinglyLinkedListNode(data) # Create a new node\n",
        "        new_node.next = self.head # The new node's next pointer should point to the current head\n",
        "        self.head = new_node # Update the head to be the new node\n",
        "        print(f\"Inserted {data} at the beginning.\")\n",
        "\n",
        "    def insert_at_end(self, data):\n",
        "        \"\"\"Inserts a new node with the given data at the end of the list.\"\"\"\n",
        "        new_node = SinglyLinkedListNode(data) # Create a new node\n",
        "\n",
        "        # If the list is empty, the new node becomes the head\n",
        "        if self.head is None:\n",
        "            self.head = new_node\n",
        "            print(f\"Inserted {data} at the end (list was empty).\")\n",
        "            return\n",
        "\n",
        "        # Traverse the list to find the last node\n",
        "        last_node = self.head\n",
        "        while last_node.next:\n",
        "            last_node = last_node.next\n",
        "\n",
        "        # The last node's next pointer should point to the new node\n",
        "        last_node.next = new_node\n",
        "        print(f\"Inserted {data} at the end.\")\n",
        "\n",
        "\n",
        "    def traverse_and_print(self):\n",
        "        \"\"\"Traverses the list from the head and prints the data of each node.\"\"\"\n",
        "        current_node = self.head # Start from the head\n",
        "        print(\"Linked List:\", end=\" \")\n",
        "        while current_node: # Continue as long as there are nodes\n",
        "            print(current_node.data, end=\" -> \")\n",
        "            current_node = current_node.next # Move to the next node\n",
        "        print(\"None\") # Indicate the end of the list\n",
        "\n",
        "# Example Usage:\n",
        "my_list = SinglyLinkedList()\n",
        "print(\"Initial list:\")\n",
        "my_list.traverse_and_print()\n",
        "\n",
        "# Insert elements at the end\n",
        "my_list.insert_at_end(100)\n",
        "my_list.traverse_and_print()\n",
        "\n",
        "my_list.insert_at_end(200)\n",
        "my_list.traverse_and_print()\n",
        "\n",
        "my_list.insert_at_end(300)\n",
        "my_list.traverse_and_print()"
      ],
      "execution_count": 87,
      "outputs": [
        {
          "output_type": "stream",
          "name": "stdout",
          "text": [
            "Initial list:\n",
            "Linked List: None\n",
            "Inserted 100 at the end (list was empty).\n",
            "Linked List: 100 -> None\n",
            "Inserted 200 at the end.\n",
            "Linked List: 100 -> 200 -> None\n",
            "Inserted 300 at the end.\n",
            "Linked List: 100 -> 200 -> 300 -> None\n"
          ]
        }
      ]
    },
    {
      "cell_type": "markdown",
      "metadata": {
        "id": "f4d7f181"
      },
      "source": [
        "**Reasoning**:\n",
        "Implement the `insert_after` method in the `SinglyLinkedList` class and demonstrate its usage by inserting a node after a specific existing node.\n",
        "\n"
      ]
    },
    {
      "cell_type": "code",
      "metadata": {
        "colab": {
          "base_uri": "https://localhost:8080/"
        },
        "id": "f97e7316",
        "outputId": "564af346-6028-4b4a-c709-f86a387d6d2f"
      },
      "source": [
        "# 1. (Continued) Implement insertion after a specific node\n",
        "class SinglyLinkedList:\n",
        "    def __init__(self):\n",
        "        \"\"\"Initializes an empty Singly Linked List.\"\"\"\n",
        "        self.head = None # The head attribute points to the first node in the list\n",
        "\n",
        "    def insert_at_beginning(self, data):\n",
        "        \"\"\"Inserts a new node with the given data at the beginning of the list.\"\"\"\n",
        "        new_node = SinglyLinkedListNode(data) # Create a new node\n",
        "        new_node.next = self.head # The new node's next pointer should point to the current head\n",
        "        self.head = new_node # Update the head to be the new node\n",
        "        print(f\"Inserted {data} at the beginning.\")\n",
        "\n",
        "    def insert_at_end(self, data):\n",
        "        \"\"\"Inserts a new node with the given data at the end of the list.\"\"\"\n",
        "        new_node = SinglyLinkedListNode(data) # Create a new node\n",
        "\n",
        "        # If the list is empty, the new node becomes the head\n",
        "        if self.head is None:\n",
        "            self.head = new_node\n",
        "            print(f\"Inserted {data} at the end (list was empty).\")\n",
        "            return\n",
        "\n",
        "        # Traverse the list to find the last node\n",
        "        last_node = self.head\n",
        "        while last_node.next:\n",
        "            last_node = last_node.next\n",
        "\n",
        "        # The last node's next pointer should point to the new node\n",
        "        last_node.next = new_node\n",
        "        print(f\"Inserted {data} at the end.\")\n",
        "\n",
        "    def insert_after(self, prev_node_data, new_data):\n",
        "        \"\"\"Inserts a new node with new_data after the first node containing prev_node_data.\"\"\"\n",
        "        current_node = self.head\n",
        "        # Traverse the list to find the node after which to insert\n",
        "        while current_node:\n",
        "            if current_node.data == prev_node_data:\n",
        "                new_node = SinglyLinkedListNode(new_data) # Create the new node\n",
        "                new_node.next = current_node.next # The new node's next points to the node after prev_node\n",
        "                current_node.next = new_node # The prev_node's next points to the new node\n",
        "                print(f\"Inserted {new_data} after node with data {prev_node_data}.\")\n",
        "                return # Exit after the first insertion\n",
        "            current_node = current_node.next\n",
        "\n",
        "        # If the loop finishes without finding the previous node\n",
        "        print(f\"Node with data {prev_node_data} not found. Cannot insert {new_data}.\")\n",
        "\n",
        "\n",
        "    def traverse_and_print(self):\n",
        "        \"\"\"Traverses the list from the head and prints the data of each node.\"\"\"\n",
        "        current_node = self.head # Start from the head\n",
        "        print(\"Linked List:\", end=\" \")\n",
        "        while current_node: # Continue as long as there are nodes\n",
        "            print(current_node.data, end=\" -> \")\n",
        "            current_node = current_node.next # Move to the next node\n",
        "        print(\"None\") # Indicate the end of the list\n",
        "\n",
        "# Example Usage:\n",
        "my_list = SinglyLinkedList()\n",
        "\n",
        "# Build a list to insert into\n",
        "my_list.insert_at_end(10)\n",
        "my_list.insert_at_end(20)\n",
        "my_list.insert_at_end(30)\n",
        "print(\"\\nList before insert_after:\")\n",
        "my_list.traverse_and_print()\n",
        "\n",
        "# Insert after an existing node\n",
        "my_list.insert_after(20, 25)\n",
        "my_list.traverse_and_print()\n",
        "\n",
        "# Try inserting after a non-existing node\n",
        "my_list.insert_after(50, 55)\n",
        "my_list.traverse_and_print()"
      ],
      "execution_count": 88,
      "outputs": [
        {
          "output_type": "stream",
          "name": "stdout",
          "text": [
            "Inserted 10 at the end (list was empty).\n",
            "Inserted 20 at the end.\n",
            "Inserted 30 at the end.\n",
            "\n",
            "List before insert_after:\n",
            "Linked List: 10 -> 20 -> 30 -> None\n",
            "Inserted 25 after node with data 20.\n",
            "Linked List: 10 -> 20 -> 25 -> 30 -> None\n",
            "Node with data 50 not found. Cannot insert 55.\n",
            "Linked List: 10 -> 20 -> 25 -> 30 -> None\n"
          ]
        }
      ]
    },
    {
      "cell_type": "markdown",
      "metadata": {
        "id": "a6be614c"
      },
      "source": [
        "**Reasoning**:\n",
        "Implement the `delete_by_value` method in the `SinglyLinkedList` class and demonstrate its usage by deleting nodes with specific values.\n",
        "\n"
      ]
    },
    {
      "cell_type": "code",
      "metadata": {
        "colab": {
          "base_uri": "https://localhost:8080/"
        },
        "id": "7adc8f17",
        "outputId": "b81500e5-6572-47ea-e3d4-4867fd641800"
      },
      "source": [
        "# 1. (Continued) Implement deletion by value\n",
        "class SinglyLinkedList:\n",
        "    def __init__(self):\n",
        "        \"\"\"Initializes an empty Singly Linked List.\"\"\"\n",
        "        self.head = None # The head attribute points to the first node in the list\n",
        "\n",
        "    def insert_at_beginning(self, data):\n",
        "        \"\"\"Inserts a new node with the given data at the beginning of the list.\"\"\"\n",
        "        new_node = SinglyLinkedListNode(data) # Create a new node\n",
        "        new_node.next = self.head # The new node's next pointer should point to the current head\n",
        "        self.head = new_node # Update the head to be the new node\n",
        "        print(f\"Inserted {data} at the beginning.\")\n",
        "\n",
        "    def insert_at_end(self, data):\n",
        "        \"\"\"Inserts a new node with the given data at the end of the list.\"\"\"\n",
        "        new_node = SinglyLinkedListNode(data) # Create a new node\n",
        "\n",
        "        # If the list is empty, the new node becomes the head\n",
        "        if self.head is None:\n",
        "            self.head = new_node\n",
        "            print(f\"Inserted {data} at the end (list was empty).\")\n",
        "            return\n",
        "\n",
        "        # Traverse the list to find the last node\n",
        "        last_node = self.head\n",
        "        while last_node.next:\n",
        "            last_node = last_node.next\n",
        "\n",
        "        # The last node's next pointer should point to the new node\n",
        "        last_node.next = new_node\n",
        "        print(f\"Inserted {data} at the end.\")\n",
        "\n",
        "    def insert_after(self, prev_node_data, new_data):\n",
        "        \"\"\"Inserts a new node with new_data after the first node containing prev_node_data.\"\"\"\n",
        "        current_node = self.head\n",
        "        # Traverse the list to find the node after which to insert\n",
        "        while current_node:\n",
        "            if current_node.data == prev_node_data:\n",
        "                new_node = SinglyLinkedListNode(new_data) # Create the new node\n",
        "                new_node.next = current_node.next # The new node's next points to the node after prev_node\n",
        "                current_node.next = new_node # The prev_node's next points to the new node\n",
        "                print(f\"Inserted {new_data} after node with data {prev_node_data}.\")\n",
        "                return # Exit after the first insertion\n",
        "            current_node = current_node.next\n",
        "\n",
        "        # If the loop finishes without finding the previous node\n",
        "        print(f\"Node with data {prev_node_data} not found. Cannot insert {new_data}.\")\n",
        "\n",
        "    def delete_by_value(self, value_to_delete):\n",
        "        \"\"\"Deletes the first node with the given value from the list.\"\"\"\n",
        "        current_node = self.head\n",
        "\n",
        "        # Case 1: If the head node itself holds the value to be deleted\n",
        "        if current_node and current_node.data == value_to_delete:\n",
        "            self.head = current_node.next # Change head\n",
        "            print(f\"Deleted node with value {value_to_delete} (was head).\")\n",
        "            return\n",
        "\n",
        "        # Case 2: Search for the value to be deleted, keep track of the previous node\n",
        "        prev_node = None\n",
        "        while current_node and current_node.data != value_to_delete:\n",
        "            prev_node = current_node\n",
        "            current_node = current_node.next\n",
        "\n",
        "        # If the value was not present in the list\n",
        "        if current_node is None:\n",
        "            print(f\"Node with value {value_to_delete} not found. Cannot delete.\")\n",
        "            return\n",
        "\n",
        "        # Case 3: The value is found, unlink the node from the linked list\n",
        "        prev_node.next = current_node.next\n",
        "        print(f\"Deleted node with value {value_to_delete}.\")\n",
        "\n",
        "\n",
        "    def traverse_and_print(self):\n",
        "        \"\"\"Traverses the list from the head and prints the data of each node.\"\"\"\n",
        "        current_node = self.head # Start from the head\n",
        "        print(\"Linked List:\", end=\" \")\n",
        "        while current_node: # Continue as long as there are nodes\n",
        "            print(current_node.data, end=\" -> \")\n",
        "            current_node = current_node.next # Move to the next node\n",
        "        print(\"None\") # Indicate the end of the list\n",
        "\n",
        "# Example Usage:\n",
        "my_list = SinglyLinkedList()\n",
        "\n",
        "# Build a list for deletion examples\n",
        "my_list.insert_at_end(10)\n",
        "my_list.insert_at_end(20)\n",
        "my_list.insert_at_end(30)\n",
        "my_list.insert_at_end(20) # Add a duplicate\n",
        "my_list.insert_at_end(40)\n",
        "print(\"\\nList before delete_by_value:\")\n",
        "my_list.traverse_and_print()\n",
        "\n",
        "# Delete an existing node\n",
        "my_list.delete_by_value(30)\n",
        "my_list.traverse_and_print()\n",
        "\n",
        "# Delete a duplicate node (first occurrence)\n",
        "my_list.delete_by_value(20)\n",
        "my_list.traverse_and_print()\n",
        "\n",
        "# Delete the head node\n",
        "my_list.delete_by_value(10)\n",
        "my_list.traverse_and_print()\n",
        "\n",
        "# Try deleting a non-existing node\n",
        "my_list.delete_by_value(50)\n",
        "my_list.traverse_and_print()\n",
        "\n",
        "# Delete the last remaining node\n",
        "my_list.delete_by_value(40)\n",
        "my_list.traverse_and_print()\n",
        "\n",
        "# Try deleting from an empty list\n",
        "my_list.delete_by_value(100)\n",
        "my_list.traverse_and_print()"
      ],
      "execution_count": 89,
      "outputs": [
        {
          "output_type": "stream",
          "name": "stdout",
          "text": [
            "Inserted 10 at the end (list was empty).\n",
            "Inserted 20 at the end.\n",
            "Inserted 30 at the end.\n",
            "Inserted 20 at the end.\n",
            "Inserted 40 at the end.\n",
            "\n",
            "List before delete_by_value:\n",
            "Linked List: 10 -> 20 -> 30 -> 20 -> 40 -> None\n",
            "Deleted node with value 30.\n",
            "Linked List: 10 -> 20 -> 20 -> 40 -> None\n",
            "Deleted node with value 20.\n",
            "Linked List: 10 -> 20 -> 40 -> None\n",
            "Deleted node with value 10 (was head).\n",
            "Linked List: 20 -> 40 -> None\n",
            "Node with value 50 not found. Cannot delete.\n",
            "Linked List: 20 -> 40 -> None\n",
            "Deleted node with value 40.\n",
            "Linked List: 20 -> None\n",
            "Node with value 100 not found. Cannot delete.\n",
            "Linked List: 20 -> None\n"
          ]
        }
      ]
    },
    {
      "cell_type": "markdown",
      "metadata": {
        "id": "483c066a"
      },
      "source": [
        "**Reasoning**:\n",
        "Implement the `delete_by_position` method in the `SinglyLinkedList` class and demonstrate its usage by deleting nodes at specific positions.\n",
        "\n"
      ]
    },
    {
      "cell_type": "code",
      "metadata": {
        "colab": {
          "base_uri": "https://localhost:8080/"
        },
        "id": "3078be16",
        "outputId": "9f2758a3-de6c-493b-b5cd-27fe87773b5a"
      },
      "source": [
        "# 1. (Continued) Implement deletion by position\n",
        "class SinglyLinkedList:\n",
        "    def __init__(self):\n",
        "        \"\"\"Initializes an empty Singly Linked List.\"\"\"\n",
        "        self.head = None # The head attribute points to the first node in the list\n",
        "\n",
        "    def insert_at_beginning(self, data):\n",
        "        \"\"\"Inserts a new node with the given data at the beginning of the list.\"\"\"\n",
        "        new_node = SinglyLinkedListNode(data) # Create a new node\n",
        "        new_node.next = self.head # The new node's next pointer should point to the current head\n",
        "        self.head = new_node # Update the head to be the new node\n",
        "        print(f\"Inserted {data} at the beginning.\")\n",
        "\n",
        "    def insert_at_end(self, data):\n",
        "        \"\"\"Inserts a new node with the given data at the end of the list.\"\"\"\n",
        "        new_node = SinglyLinkedListNode(data) # Create a new node\n",
        "\n",
        "        # If the list is empty, the new node becomes the head\n",
        "        if self.head is None:\n",
        "            self.head = new_node\n",
        "            print(f\"Inserted {data} at the end (list was empty).\")\n",
        "            return\n",
        "\n",
        "        # Traverse the list to find the last node\n",
        "        last_node = self.head\n",
        "        while last_node.next:\n",
        "            last_node = last_node.next\n",
        "\n",
        "        # The last node's next pointer should point to the new node\n",
        "        last_node.next = new_node\n",
        "        print(f\"Inserted {data} at the end.\")\n",
        "\n",
        "    def insert_after(self, prev_node_data, new_data):\n",
        "        \"\"\"Inserts a new node with new_data after the first node containing prev_node_data.\"\"\"\n",
        "        current_node = self.head\n",
        "        # Traverse the list to find the node after which to insert\n",
        "        while current_node:\n",
        "            if current_node.data == prev_node_data:\n",
        "                new_node = SinglyLinkedListNode(new_data) # Create the new node\n",
        "                new_node.next = current_node.next # The new node's next points to the node after prev_node\n",
        "                current_node.next = new_node # The prev_node's next points to the new node\n",
        "                print(f\"Inserted {new_data} after node with data {prev_node_data}.\")\n",
        "                return # Exit after the first insertion\n",
        "            current_node = current_node.next\n",
        "\n",
        "        # If the loop finishes without finding the previous node\n",
        "        print(f\"Node with data {prev_node_data} not found. Cannot insert {new_data}.\")\n",
        "\n",
        "    def delete_by_value(self, value_to_delete):\n",
        "        \"\"\"Deletes the first node with the given value from the list.\"\"\"\n",
        "        current_node = self.head\n",
        "\n",
        "        # Case 1: If the head node itself holds the value to be deleted\n",
        "        if current_node and current_node.data == value_to_delete:\n",
        "            self.head = current_node.next # Change head\n",
        "            print(f\"Deleted node with value {value_to_delete} (was head).\")\n",
        "            return\n",
        "\n",
        "        # Case 2: Search for the value to be deleted, keep track of the previous node\n",
        "        prev_node = None\n",
        "        while current_node and current_node.data != value_to_delete:\n",
        "            prev_node = current_node\n",
        "            current_node = current_node.next\n",
        "\n",
        "        # If the value was not present in the list\n",
        "        if current_node is None:\n",
        "            print(f\"Node with value {value_to_delete} not found. Cannot delete.\")\n",
        "            return\n",
        "\n",
        "        # Case 3: The value is found, unlink the node from the linked list\n",
        "        prev_node.next = current_node.next\n",
        "        print(f\"Deleted node with value {value_to_delete}.\")\n",
        "\n",
        "    def delete_by_position(self, position):\n",
        "        \"\"\"Deletes the node at the given position (0-indexed).\"\"\"\n",
        "        # If the list is empty\n",
        "        if self.head is None:\n",
        "            print(\"List is empty. Cannot delete by position.\")\n",
        "            return\n",
        "\n",
        "        # If the position is 0, delete the head node\n",
        "        if position == 0:\n",
        "            temp = self.head\n",
        "            self.head = temp.next\n",
        "            print(f\"Deleted node at position {position} (was head).\")\n",
        "            return\n",
        "\n",
        "        # Find the node at the given position, keeping track of the previous node\n",
        "        current_node = self.head\n",
        "        prev_node = None\n",
        "        count = 0\n",
        "        while current_node and count < position:\n",
        "            prev_node = current_node\n",
        "            current_node = current_node.next\n",
        "            count += 1\n",
        "\n",
        "        # If the position is greater than the number of nodes\n",
        "        if current_node is None:\n",
        "            print(f\"Position {position} is out of bounds. Cannot delete.\")\n",
        "            return\n",
        "\n",
        "        # Unlink the node at the given position\n",
        "        prev_node.next = current_node.next\n",
        "        print(f\"Deleted node at position {position}.\")\n",
        "\n",
        "\n",
        "    def traverse_and_print(self):\n",
        "        \"\"\"Traverses the list from the head and prints the data of each node.\"\"\"\n",
        "        current_node = self.head # Start from the head\n",
        "        print(\"Linked List:\", end=\" \")\n",
        "        while current_node: # Continue as long as there are nodes\n",
        "            print(current_node.data, end=\" -> \")\n",
        "            current_node = current_node.next # Move to the next node\n",
        "        print(\"None\") # Indicate the end of the list\n",
        "\n",
        "# Example Usage:\n",
        "my_list = SinglyLinkedList()\n",
        "\n",
        "# Build a list for deletion by position examples\n",
        "my_list.insert_at_end(10) # pos 0\n",
        "my_list.insert_at_end(20) # pos 1\n",
        "my_list.insert_at_end(30) # pos 2\n",
        "my_list.insert_at_end(40) # pos 3\n",
        "my_list.insert_at_end(50) # pos 4\n",
        "print(\"\\nList before delete_by_position:\")\n",
        "my_list.traverse_and_print()\n",
        "\n",
        "# Delete a node in the middle\n",
        "my_list.delete_by_position(2) # Delete 30\n",
        "my_list.traverse_and_print()\n",
        "\n",
        "# Delete the head node\n",
        "my_list.delete_by_position(0) # Delete 10\n",
        "my_list.traverse_and_print()\n",
        "\n",
        "# Delete the last node\n",
        "my_list.delete_by_position(2) # Delete 50 (list is now 20 -> 40 -> 50, indices 0, 1, 2)\n",
        "my_list.traverse_and_print()\n",
        "\n",
        "# Try deleting at an invalid position\n",
        "my_list.delete_by_position(5)\n",
        "my_list.traverse_and_print()\n",
        "\n",
        "# Delete the remaining nodes\n",
        "my_list.delete_by_position(0) # Delete 20\n",
        "my_list.traverse_and_print()\n",
        "my_list.delete_by_position(0) # Delete 40\n",
        "my_list.traverse_and_print()\n",
        "\n",
        "# Try deleting from an empty list\n",
        "my_list.delete_by_position(0)\n",
        "my_list.traverse_and_print()"
      ],
      "execution_count": 90,
      "outputs": [
        {
          "output_type": "stream",
          "name": "stdout",
          "text": [
            "Inserted 10 at the end (list was empty).\n",
            "Inserted 20 at the end.\n",
            "Inserted 30 at the end.\n",
            "Inserted 40 at the end.\n",
            "Inserted 50 at the end.\n",
            "\n",
            "List before delete_by_position:\n",
            "Linked List: 10 -> 20 -> 30 -> 40 -> 50 -> None\n",
            "Deleted node at position 2.\n",
            "Linked List: 10 -> 20 -> 40 -> 50 -> None\n",
            "Deleted node at position 0 (was head).\n",
            "Linked List: 20 -> 40 -> 50 -> None\n",
            "Deleted node at position 2.\n",
            "Linked List: 20 -> 40 -> None\n",
            "Position 5 is out of bounds. Cannot delete.\n",
            "Linked List: 20 -> 40 -> None\n",
            "Deleted node at position 0 (was head).\n",
            "Linked List: 40 -> None\n",
            "Deleted node at position 0 (was head).\n",
            "Linked List: None\n",
            "List is empty. Cannot delete by position.\n",
            "Linked List: None\n"
          ]
        }
      ]
    },
    {
      "cell_type": "markdown",
      "metadata": {
        "id": "aa5b8133"
      },
      "source": [
        "## Linked lists\n",
        "\n",
        "### Subtask:\n",
        "Explore common linked list problem patterns (reversing a list, detecting cycles, merging lists).\n"
      ]
    },
    {
      "cell_type": "markdown",
      "metadata": {
        "id": "b8259ff3"
      },
      "source": [
        "**Reasoning**:\n",
        "Create a new code cell and define a function `reverse_linked_list` that takes the head of a singly linked list as input and returns the new head of the reversed list. Include comments explaining the logic (iterative approach is common and sufficient). Then, create an example singly linked list and use the `reverse_linked_list` function to reverse it. Traverse and print the original and reversed lists to verify the result. This covers steps 1 and 2 of the subtask.\n",
        "\n"
      ]
    },
    {
      "cell_type": "code",
      "metadata": {
        "colab": {
          "base_uri": "https://localhost:8080/"
        },
        "id": "c4158ef7",
        "outputId": "52c4623a-d6ef-42fb-8b5c-6b1f97d700b5"
      },
      "source": [
        "# Define a Node class for a Singly Linked List (repeated for clarity in this block)\n",
        "class SinglyLinkedListNode:\n",
        "    def __init__(self, data=None):\n",
        "        self.data = data\n",
        "        self.next = None  # Pointer to the next node\n",
        "\n",
        "def reverse_linked_list(head):\n",
        "    \"\"\"\n",
        "    Reverses a singly linked list iteratively.\n",
        "\n",
        "    Args:\n",
        "        head: The head node of the original list.\n",
        "\n",
        "    Returns:\n",
        "        The head node of the reversed list.\n",
        "    \"\"\"\n",
        "    prev = None  # Initialize previous node to None\n",
        "    current = head # Start with the current node as the head\n",
        "\n",
        "    # Traverse the list\n",
        "    while current:\n",
        "        next_node = current.next # Store the next node\n",
        "        current.next = prev      # Reverse the current node's pointer\n",
        "        prev = current           # Move the previous pointer one step forward\n",
        "        current = next_node      # Move the current pointer one step forward\n",
        "\n",
        "    return prev # The 'prev' pointer is now the new head of the reversed list\n",
        "\n",
        "# Helper function to print the linked list\n",
        "def print_linked_list(head):\n",
        "    \"\"\"Prints the data of each node in the linked list.\"\"\"\n",
        "    current = head\n",
        "    while current:\n",
        "        print(current.data, end=\" -> \")\n",
        "        current = current.next\n",
        "    print(\"None\")\n",
        "\n",
        "# Create an example singly linked list: 1 -> 2 -> 3 -> 4 -> None\n",
        "head = SinglyLinkedListNode(1)\n",
        "head.next = SinglyLinkedListNode(2)\n",
        "head.next.next = SinglyLinkedListNode(3)\n",
        "head.next.next.next = SinglyLinkedListNode(4)\n",
        "\n",
        "print(\"Original linked list:\")\n",
        "print_linked_list(head)\n",
        "\n",
        "# Reverse the linked list\n",
        "reversed_head = reverse_linked_list(head)\n",
        "\n",
        "print(\"\\nReversed linked list:\")\n",
        "print_linked_list(reversed_head)"
      ],
      "execution_count": 91,
      "outputs": [
        {
          "output_type": "stream",
          "name": "stdout",
          "text": [
            "Original linked list:\n",
            "1 -> 2 -> 3 -> 4 -> None\n",
            "\n",
            "Reversed linked list:\n",
            "4 -> 3 -> 2 -> 1 -> None\n"
          ]
        }
      ]
    },
    {
      "cell_type": "markdown",
      "metadata": {
        "id": "f088783e"
      },
      "source": [
        "**Reasoning**:\n",
        "Create a new code cell and define a function `has_cycle` that takes the head of a singly linked list as input and returns `True` if there is a cycle in the list, and `False` otherwise. Implement the Floyd's Cycle-Finding Algorithm (Hare and Tortoise) and include comments explaining the logic. Then, create a singly linked list with a cycle and another without a cycle. Use the `has_cycle` function to test both lists and print the results. This covers steps 3 and 4 of the subtask.\n",
        "\n"
      ]
    },
    {
      "cell_type": "code",
      "metadata": {
        "colab": {
          "base_uri": "https://localhost:8080/"
        },
        "id": "56cd1c23",
        "outputId": "a8922a9a-7ca9-486e-ba0c-b519d3ab451c"
      },
      "source": [
        "# Define a Node class for a Singly Linked List (repeated for clarity in this block)\n",
        "class SinglyLinkedListNode:\n",
        "    def __init__(self, data=None):\n",
        "        self.data = data\n",
        "        self.next = None  # Pointer to the next node\n",
        "\n",
        "def has_cycle(head):\n",
        "    \"\"\"\n",
        "    Detects if a singly linked list has a cycle using Floyd's Cycle-Finding Algorithm.\n",
        "\n",
        "    Args:\n",
        "        head: The head node of the linked list.\n",
        "\n",
        "    Returns:\n",
        "        True if there is a cycle, False otherwise.\n",
        "    \"\"\"\n",
        "    # Initialize two pointers, slow and fast\n",
        "    slow = head\n",
        "    fast = head\n",
        "\n",
        "    # Move the pointers: slow moves one step, fast moves two steps\n",
        "    while fast is not None and fast.next is not None:\n",
        "        slow = slow.next      # Move slow pointer one step\n",
        "        fast = fast.next.next # Move fast pointer two steps\n",
        "\n",
        "        # If the pointers meet, there is a cycle\n",
        "        if slow == fast:\n",
        "            return True\n",
        "\n",
        "    # If the fast pointer reaches the end of the list (or None), there is no cycle\n",
        "    return False\n",
        "\n",
        "# Helper function to create a linked list with a cycle\n",
        "def create_linked_list_with_cycle(elements, pos):\n",
        "    \"\"\"\n",
        "    Creates a singly linked list from a list of elements and introduces a cycle.\n",
        "\n",
        "    Args:\n",
        "        elements: A list of data for the nodes.\n",
        "        pos: The 0-indexed position of the node where the tail should connect to create a cycle.\n",
        "             If pos is -1, no cycle is created.\n",
        "\n",
        "    Returns:\n",
        "        The head node of the linked list.\n",
        "    \"\"\"\n",
        "    if not elements:\n",
        "        return None\n",
        "\n",
        "    nodes = [SinglyLinkedListNode(data) for data in elements]\n",
        "\n",
        "    # Link the nodes\n",
        "    for i in range(len(nodes) - 1):\n",
        "        nodes[i].next = nodes[i+1]\n",
        "\n",
        "    # Create the cycle if pos is valid\n",
        "    if pos != -1 and 0 <= pos < len(nodes):\n",
        "        nodes[-1].next = nodes[pos] # The last node points to the node at 'pos'\n",
        "\n",
        "    return nodes[0] # Return the head\n",
        "\n",
        "# Create a linked list with a cycle: 1 -> 2 -> 3 -> 4 -> 2 (cycle at node with value 2, index 1)\n",
        "head_with_cycle = create_linked_list_with_cycle([1, 2, 3, 4], 1)\n",
        "\n",
        "# Create a linked list without a cycle: 5 -> 6 -> 7 -> None\n",
        "head_without_cycle = create_linked_list_with_cycle([5, 6, 7], -1)\n",
        "\n",
        "# Test the has_cycle function\n",
        "print(\"Testing linked list with a cycle:\")\n",
        "print(f\"Does the list have a cycle? {has_cycle(head_with_cycle)}\") # Expected: True\n",
        "\n",
        "print(\"\\nTesting linked list without a cycle:\")\n",
        "print(f\"Does the list have a cycle? {has_cycle(head_without_cycle)}\") # Expected: False"
      ],
      "execution_count": 92,
      "outputs": [
        {
          "output_type": "stream",
          "name": "stdout",
          "text": [
            "Testing linked list with a cycle:\n",
            "Does the list have a cycle? True\n",
            "\n",
            "Testing linked list without a cycle:\n",
            "Does the list have a cycle? False\n"
          ]
        }
      ]
    },
    {
      "cell_type": "markdown",
      "metadata": {
        "id": "f3711647"
      },
      "source": [
        "**Reasoning**:\n",
        "Create a new code cell and define a function `merge_two_sorted_lists` that takes the heads of two *sorted* singly linked lists as input and returns the head of the merged sorted list. Implement an iterative approach that builds the new merged list by comparing nodes from the two input lists. Include comments explaining the logic. Then, create two example sorted singly linked lists. Use the `merge_two_sorted_lists` function to merge them. Traverse and print the original lists and the merged list to verify the result. This covers steps 5 and 6 of the subtask.\n",
        "\n"
      ]
    },
    {
      "cell_type": "code",
      "metadata": {
        "colab": {
          "base_uri": "https://localhost:8080/"
        },
        "id": "e63578e2",
        "outputId": "ea29155b-c3c8-4da2-fdcd-e706830790b6"
      },
      "source": [
        "# Define a Node class for a Singly Linked List (repeated for clarity in this block)\n",
        "class SinglyLinkedListNode:\n",
        "    def __init__(self, data=None):\n",
        "        self.data = data\n",
        "        self.next = None  # Pointer to the next node\n",
        "\n",
        "def merge_two_sorted_lists(list1, list2):\n",
        "    \"\"\"\n",
        "    Merges two sorted singly linked lists into a single sorted list.\n",
        "\n",
        "    Args:\n",
        "        list1: The head node of the first sorted linked list.\n",
        "        list2: The head node of the second sorted linked list.\n",
        "\n",
        "    Returns:\n",
        "        The head node of the merged sorted linked list.\n",
        "    \"\"\"\n",
        "    # Create a dummy node to simplify the merging process\n",
        "    dummy = SinglyLinkedListNode(0)\n",
        "    tail = dummy # Pointer to the last node of the merged list\n",
        "\n",
        "    # Iterate while both lists have nodes\n",
        "    while list1 and list2:\n",
        "        if list1.data <= list2.data:\n",
        "            tail.next = list1 # Append the node from list1 to the merged list\n",
        "            list1 = list1.next # Move to the next node in list1\n",
        "        else:\n",
        "            tail.next = list2 # Append the node from list2 to the merged list\n",
        "            list2 = list2.next # Move to the next node in list2\n",
        "        tail = tail.next # Move the tail pointer of the merged list\n",
        "\n",
        "    # Append any remaining nodes from list1 or list2 (if one list is longer than the other)\n",
        "    if list1:\n",
        "        tail.next = list1\n",
        "    elif list2:\n",
        "        tail.next = list2\n",
        "\n",
        "    return dummy.next # The merged list starts after the dummy node\n",
        "\n",
        "# Helper function to print the linked list (repeated for clarity)\n",
        "def print_linked_list(head):\n",
        "    \"\"\"Prints the data of each node in the linked list.\"\"\"\n",
        "    current = head\n",
        "    while current:\n",
        "        print(current.data, end=\" -> \")\n",
        "        current = current.next\n",
        "    print(\"None\")\n",
        "\n",
        "# Create two example sorted singly linked lists\n",
        "# List 1: 1 -> 3 -> 5 -> None\n",
        "head1 = SinglyLinkedListNode(1)\n",
        "head1.next = SinglyLinkedListNode(3)\n",
        "head1.next.next = SinglyLinkedListNode(5)\n",
        "\n",
        "# List 2: 2 -> 4 -> 6 -> 8 -> None\n",
        "head2 = SinglyLinkedListNode(2)\n",
        "head2.next = SinglyLinkedListNode(4)\n",
        "head2.next.next = SinglyLinkedListNode(6)\n",
        "head2.next.next.next = SinglyLinkedListNode(8)\n",
        "\n",
        "print(\"First sorted linked list:\")\n",
        "print_linked_list(head1)\n",
        "\n",
        "print(\"\\nSecond sorted linked list:\")\n",
        "print_linked_list(head2)\n",
        "\n",
        "# Merge the two sorted lists\n",
        "merged_head = merge_two_sorted_lists(head1, head2)\n",
        "\n",
        "print(\"\\nMerged sorted linked list:\")\n",
        "print_linked_list(merged_head)\n",
        "\n",
        "# Example with one list empty\n",
        "print(\"\\nTesting merge with one empty list:\")\n",
        "head3 = None\n",
        "head4 = SinglyLinkedListNode(10)\n",
        "head4.next = SinglyLinkedListNode(20)\n",
        "print(\"List 3 (empty):\")\n",
        "print_linked_list(head3)\n",
        "print(\"List 4:\")\n",
        "print_linked_list(head4)\n",
        "merged_head_empty = merge_two_sorted_lists(head3, head4)\n",
        "print(\"Merged list:\")\n",
        "print_linked_list(merged_head_empty)"
      ],
      "execution_count": 93,
      "outputs": [
        {
          "output_type": "stream",
          "name": "stdout",
          "text": [
            "First sorted linked list:\n",
            "1 -> 3 -> 5 -> None\n",
            "\n",
            "Second sorted linked list:\n",
            "2 -> 4 -> 6 -> 8 -> None\n",
            "\n",
            "Merged sorted linked list:\n",
            "1 -> 2 -> 3 -> 4 -> 5 -> 6 -> 8 -> None\n",
            "\n",
            "Testing merge with one empty list:\n",
            "List 3 (empty):\n",
            "None\n",
            "List 4:\n",
            "10 -> 20 -> None\n",
            "Merged list:\n",
            "10 -> 20 -> None\n"
          ]
        }
      ]
    },
    {
      "cell_type": "markdown",
      "metadata": {
        "id": "93b85649"
      },
      "source": [
        "## Two pointer technique\n",
        "\n",
        "### Subtask:\n",
        "Understand the concept of using two pointers to traverse a data structure.\n"
      ]
    },
    {
      "cell_type": "markdown",
      "metadata": {
        "id": "44a9b310"
      },
      "source": [
        "**Reasoning**:\n",
        "Create a markdown cell to explain the core concept of the two-pointer technique as described in the instructions.\n",
        "\n"
      ]
    },
    {
      "cell_type": "markdown",
      "source": [
        "### Two Pointer Technique\n",
        "\n",
        "The **Two Pointer technique** is a frequently used algorithmic pattern in computer science, particularly effective for problems involving arrays or linked lists. It involves using two pointers (or indices) that traverse the data structure based on certain conditions.\n",
        "\n",
        "#### Core Concept\n",
        "\n",
        "The fundamental idea is to use two pointers that can move through the data structure in various ways:\n",
        "\n",
        "*   **From opposite ends**: One pointer starts at the beginning and the other at the end, moving towards the center. This is common for problems involving sorted arrays (e.g., finding pairs that sum to a target).\n",
        "*   **From the same end at different speeds**: Both pointers start at the beginning, but one moves faster than the other. This is useful for problems like finding the middle of a linked list or detecting cycles.\n",
        "*   **From the same end based on conditions**: Both pointers start at the beginning, but their movement is dictated by specific criteria or conditions within the data.\n",
        "\n",
        "#### Why it's Useful\n",
        "\n",
        "This technique is often employed because it can:\n",
        "\n",
        "*   **Improve efficiency**: Many problems that would require nested loops (O(n^2)) can be solved in a single pass (O(n)) using two pointers.\n",
        "*   **Reduce space complexity**: Often, two-pointer solutions only require a constant amount of extra space (O(1)).\n",
        "*   **Simplify problem-solving**: By maintaining two points of reference, it can make it easier to track conditions, compare elements, or perform in-place modifications.\n",
        "\n",
        "The two-pointer technique is especially powerful when dealing with sorted data, as the ordered nature allows for predictable movement and efficient pruning of the search space. It's also valuable for problems requiring in-place manipulation of data structures."
      ],
      "metadata": {
        "id": "YBTE2890XTWU"
      }
    },
    {
      "cell_type": "code",
      "metadata": {
        "id": "2d2aba19"
      },
      "source": [],
      "execution_count": 93,
      "outputs": []
    },
    {
      "cell_type": "markdown",
      "metadata": {
        "id": "a6f33e59"
      },
      "source": [
        "## Two pointer technique\n",
        "\n",
        "\n",
        "### Subtask:\n",
        "Explore common two-pointer patterns (finding pairs, working with sorted arrays/lists, in-place modifications).\n"
      ]
    },
    {
      "cell_type": "markdown",
      "metadata": {
        "id": "3b508b9f"
      },
      "source": [
        "**Reasoning**:\n",
        "Create a Python function `find_pair_sum` that implements the two-pointer approach to find if a pair in a sorted list sums to a target, as described in steps 1-8 of the instructions. Then, include example usage as per step 9.\n",
        "\n"
      ]
    },
    {
      "cell_type": "code",
      "metadata": {
        "colab": {
          "base_uri": "https://localhost:8080/"
        },
        "id": "8debf917",
        "outputId": "2e6b7044-2001-427d-940f-9219b8196e50"
      },
      "source": [
        "# Step 1: Create a Python function find_pair_sum\n",
        "def find_pair_sum(sorted_list, target):\n",
        "    \"\"\"\n",
        "    Finds if there is a pair of numbers in a sorted list that sums up to the target.\n",
        "\n",
        "    Args:\n",
        "        sorted_list: A sorted list of integers.\n",
        "        target: The target integer sum.\n",
        "\n",
        "    Returns:\n",
        "        True if a pair is found, False otherwise.\n",
        "    \"\"\"\n",
        "    # Step 2: Initialize left and right pointers\n",
        "    left = 0\n",
        "    right = len(sorted_list) - 1\n",
        "\n",
        "    # Step 3: Use a while loop\n",
        "    while left < right:\n",
        "        # Step 4: Calculate the current sum\n",
        "        current_sum = sorted_list[left] + sorted_list[right]\n",
        "\n",
        "        # Step 5: Check if the current sum equals the target\n",
        "        if current_sum == target:\n",
        "            print(f\"Pair found: ({sorted_list[left]}, {sorted_list[right]}) sums to {target}\")\n",
        "            return True  # Pair found\n",
        "\n",
        "        # Step 6: If the current sum is less than the target, increment the left pointer\n",
        "        elif current_sum < target:\n",
        "            left += 1\n",
        "        # Step 7: If the current sum is greater than the target, decrement the right pointer\n",
        "        else: # current_sum > target\n",
        "            right -= 1\n",
        "\n",
        "    # Step 8: If the loop finishes without finding a pair, return False\n",
        "    print(f\"No pair found that sums to {target}\")\n",
        "    return False\n",
        "\n",
        "# Step 9: Include example usage\n",
        "print(\"--- Example 1: Pair exists ---\")\n",
        "sorted_nums1 = [1, 2, 3, 4, 5, 6]\n",
        "target1 = 7\n",
        "result1 = find_pair_sum(sorted_nums1, target1)\n",
        "print(f\"Result: {result1}\")\n",
        "\n",
        "print(\"\\n--- Example 2: Pair does not exist ---\")\n",
        "sorted_nums2 = [1, 2, 3, 4, 5, 6]\n",
        "target2 = 15\n",
        "result2 = find_pair_sum(sorted_nums2, target2)\n",
        "print(f\"Result: {result2}\")\n",
        "\n",
        "print(\"\\n--- Example 3: Empty list ---\")\n",
        "sorted_nums3 = []\n",
        "target3 = 10\n",
        "result3 = find_pair_sum(sorted_nums3, target3)\n",
        "print(f\"Result: {result3}\")\n",
        "\n",
        "print(\"\\n--- Example 4: List with one element ---\")\n",
        "sorted_nums4 = [5]\n",
        "target4 = 5\n",
        "result4 = find_pair_sum(sorted_nums4, target4)\n",
        "print(f\"Result: {result4}\")\n",
        "\n",
        "print(\"\\n--- Example 5: List with negative numbers ---\")\n",
        "sorted_nums5 = [-5, -2, 0, 3, 7, 10]\n",
        "target5 = 5\n",
        "result5 = find_pair_sum(sorted_nums5, target5)\n",
        "print(f\"Result: {result5}\")\n",
        "\n",
        "print(\"\\n--- Example 6: List with duplicate numbers ---\")\n",
        "sorted_nums6 = [1, 2, 3, 3, 4, 5]\n",
        "target6 = 6\n",
        "result6 = find_pair_sum(sorted_nums6, target6)\n",
        "print(f\"Result: {result6}\")"
      ],
      "execution_count": 94,
      "outputs": [
        {
          "output_type": "stream",
          "name": "stdout",
          "text": [
            "--- Example 1: Pair exists ---\n",
            "Pair found: (1, 6) sums to 7\n",
            "Result: True\n",
            "\n",
            "--- Example 2: Pair does not exist ---\n",
            "No pair found that sums to 15\n",
            "Result: False\n",
            "\n",
            "--- Example 3: Empty list ---\n",
            "No pair found that sums to 10\n",
            "Result: False\n",
            "\n",
            "--- Example 4: List with one element ---\n",
            "No pair found that sums to 5\n",
            "Result: False\n",
            "\n",
            "--- Example 5: List with negative numbers ---\n",
            "Pair found: (-5, 10) sums to 5\n",
            "Result: True\n",
            "\n",
            "--- Example 6: List with duplicate numbers ---\n",
            "Pair found: (1, 5) sums to 6\n",
            "Result: True\n"
          ]
        }
      ]
    },
    {
      "cell_type": "markdown",
      "metadata": {
        "id": "859e6c9a"
      },
      "source": [
        "**Reasoning**:\n",
        "The current subtask is to explore common two-pointer patterns, and the previous step demonstrated finding a pair with a target sum in a sorted array. A common pattern related to two pointers in sorted arrays is finding elements that are less than or equal to a target value, often used in conjunction with other techniques. The next steps will demonstrate how to use a two-pointer approach for this specific scenario, focusing on a sorted array/list.\n",
        "\n"
      ]
    },
    {
      "cell_type": "code",
      "metadata": {
        "colab": {
          "base_uri": "https://localhost:8080/"
        },
        "id": "b1d3985c",
        "outputId": "9e5697d9-3b81-4fe2-e02b-0bf3a69bad2f"
      },
      "source": [
        "# Two-pointer pattern: Finding elements less than or equal to a target value in a sorted list\n",
        "\n",
        "def find_elements_le_target(sorted_list, target):\n",
        "    \"\"\"\n",
        "    Finds and prints all elements in a sorted list that are less than or equal to a target value.\n",
        "\n",
        "    This uses a single pointer starting from the beginning, as the list is sorted.\n",
        "    A second pointer isn't strictly necessary for just finding elements <= target,\n",
        "    but this pattern can be a building block for problems involving two targets\n",
        "    or ranges.\n",
        "\n",
        "    Args:\n",
        "        sorted_list: A sorted list of numbers.\n",
        "        target: The target value.\n",
        "\n",
        "    Returns:\n",
        "        A list of elements from sorted_list that are less than or equal to the target.\n",
        "    \"\"\"\n",
        "    result = []\n",
        "    # Use one pointer starting from the left\n",
        "    left = 0\n",
        "    n = len(sorted_list)\n",
        "\n",
        "    # Iterate as long as the pointer is within bounds and the element is <= target\n",
        "    while left < n and sorted_list[left] <= target:\n",
        "        result.append(sorted_list[left])\n",
        "        left += 1 # Move the pointer to the right\n",
        "\n",
        "    print(f\"Elements <= {target}: {result}\")\n",
        "    return result\n",
        "\n",
        "# Example Usage:\n",
        "print(\"--- Example 1: Finding elements <= target ---\")\n",
        "sorted_nums = [1, 3, 5, 7, 9, 11, 13]\n",
        "target = 7\n",
        "find_elements_le_target(sorted_nums, target)\n",
        "\n",
        "print(\"\\n--- Example 2: Target is less than minimum element ---\")\n",
        "target = 0\n",
        "find_elements_le_target(sorted_nums, target)\n",
        "\n",
        "print(\"\\n--- Example 3: Target is greater than maximum element ---\")\n",
        "target = 15\n",
        "find_elements_le_target(sorted_nums, target)\n",
        "\n",
        "print(\"\\n--- Example 4: Empty list ---\")\n",
        "empty_list = []\n",
        "target = 10\n",
        "find_elements_le_target(empty_list, target)"
      ],
      "execution_count": 95,
      "outputs": [
        {
          "output_type": "stream",
          "name": "stdout",
          "text": [
            "--- Example 1: Finding elements <= target ---\n",
            "Elements <= 7: [1, 3, 5, 7]\n",
            "\n",
            "--- Example 2: Target is less than minimum element ---\n",
            "Elements <= 0: []\n",
            "\n",
            "--- Example 3: Target is greater than maximum element ---\n",
            "Elements <= 15: [1, 3, 5, 7, 9, 11, 13]\n",
            "\n",
            "--- Example 4: Empty list ---\n",
            "Elements <= 10: []\n"
          ]
        },
        {
          "output_type": "execute_result",
          "data": {
            "text/plain": [
              "[]"
            ]
          },
          "metadata": {},
          "execution_count": 95
        }
      ]
    },
    {
      "cell_type": "markdown",
      "metadata": {
        "id": "05dc1ef3"
      },
      "source": [
        "**Reasoning**:\n",
        "The previous steps demonstrated finding pairs in a sorted array and finding elements less than or equal to a target using two pointers (or a variation with one pointer in the second case). The subtask also mentions \"in-place modifications\" as a common two-pointer pattern. The next step will demonstrate an in-place modification using the two-pointer technique, specifically removing duplicates from a sorted array.\n",
        "\n"
      ]
    },
    {
      "cell_type": "code",
      "metadata": {
        "colab": {
          "base_uri": "https://localhost:8080/"
        },
        "id": "c63d5e82",
        "outputId": "17ff715b-8111-4fe0-96fb-f93a80503646"
      },
      "source": [
        "# Two-pointer pattern: In-place modification (Removing duplicates from a sorted array)\n",
        "\n",
        "def remove_duplicates_in_place(sorted_list):\n",
        "    \"\"\"\n",
        "    Removes duplicate elements from a sorted list in-place using the two-pointer technique.\n",
        "\n",
        "    The function modifies the original list and returns the length of the list\n",
        "    after removing duplicates (which is also the number of unique elements).\n",
        "    The elements beyond the returned length are not guaranteed to be meaningful.\n",
        "\n",
        "    Args:\n",
        "        sorted_list: A sorted list of numbers (modified in-place).\n",
        "\n",
        "    Returns:\n",
        "        The number of unique elements in the list.\n",
        "    \"\"\"\n",
        "    if not sorted_list:\n",
        "        print(\"Original list: []\")\n",
        "        print(\"List after removing duplicates (in-place): []\")\n",
        "        print(\"Number of unique elements: 0\")\n",
        "        return 0\n",
        "\n",
        "    # Initialize two pointers:\n",
        "    # 'write_idx' tracks the position where the next unique element should be placed.\n",
        "    # 'read_idx' iterates through the list to find unique elements.\n",
        "    write_idx = 1\n",
        "    read_idx = 1\n",
        "    n = len(sorted_list)\n",
        "\n",
        "    print(f\"Original list: {sorted_list}\")\n",
        "\n",
        "    # Iterate through the list starting from the second element\n",
        "    while read_idx < n:\n",
        "        # If the current element (read_idx) is different from the previous unique element (write_idx - 1)\n",
        "        if sorted_list[read_idx] != sorted_list[write_idx - 1]:\n",
        "            # It's a new unique element, so place it at the write_idx position\n",
        "            sorted_list[write_idx] = sorted_list[read_idx]\n",
        "            write_idx += 1 # Move the write_idx forward to the next available position\n",
        "\n",
        "        # Always move the read_idx forward\n",
        "        read_idx += 1\n",
        "\n",
        "    # The elements from index 0 up to write_idx - 1 are the unique elements.\n",
        "    # The length of the list after removing duplicates is write_idx.\n",
        "    print(f\"List after removing duplicates (in-place): {sorted_list[:write_idx]} (remaining elements are {sorted_list[write_idx:]})\")\n",
        "    print(f\"Number of unique elements: {write_idx}\")\n",
        "\n",
        "    return write_idx\n",
        "\n",
        "# Example Usage:\n",
        "print(\"--- Example 1: List with duplicates ---\")\n",
        "sorted_nums1 = [1, 1, 2, 3, 3, 3, 4, 5, 5]\n",
        "remove_duplicates_in_place(sorted_nums1)\n",
        "\n",
        "print(\"\\n--- Example 2: List with no duplicates ---\")\n",
        "sorted_nums2 = [1, 2, 3, 4, 5]\n",
        "remove_duplicates_in_place(sorted_nums2)\n",
        "\n",
        "print(\"\\n--- Example 3: List with all duplicates ---\")\n",
        "sorted_nums3 = [7, 7, 7, 7]\n",
        "remove_duplicates_in_place(sorted_nums3)\n",
        "\n",
        "print(\"\\n--- Example 4: Empty list ---\")\n",
        "sorted_nums4 = []\n",
        "remove_duplicates_in_place(sorted_nums4)\n",
        "\n",
        "print(\"\\n--- Example 5: List with one element ---\")\n",
        "sorted_nums5 = [10]\n",
        "remove_duplicates_in_place(sorted_nums5)"
      ],
      "execution_count": 96,
      "outputs": [
        {
          "output_type": "stream",
          "name": "stdout",
          "text": [
            "--- Example 1: List with duplicates ---\n",
            "Original list: [1, 1, 2, 3, 3, 3, 4, 5, 5]\n",
            "List after removing duplicates (in-place): [1, 2, 3, 4, 5] (remaining elements are [3, 4, 5, 5])\n",
            "Number of unique elements: 5\n",
            "\n",
            "--- Example 2: List with no duplicates ---\n",
            "Original list: [1, 2, 3, 4, 5]\n",
            "List after removing duplicates (in-place): [1, 2, 3, 4, 5] (remaining elements are [])\n",
            "Number of unique elements: 5\n",
            "\n",
            "--- Example 3: List with all duplicates ---\n",
            "Original list: [7, 7, 7, 7]\n",
            "List after removing duplicates (in-place): [7] (remaining elements are [7, 7, 7])\n",
            "Number of unique elements: 1\n",
            "\n",
            "--- Example 4: Empty list ---\n",
            "Original list: []\n",
            "List after removing duplicates (in-place): []\n",
            "Number of unique elements: 0\n",
            "\n",
            "--- Example 5: List with one element ---\n",
            "Original list: [10]\n",
            "List after removing duplicates (in-place): [10] (remaining elements are [])\n",
            "Number of unique elements: 1\n"
          ]
        },
        {
          "output_type": "execute_result",
          "data": {
            "text/plain": [
              "1"
            ]
          },
          "metadata": {},
          "execution_count": 96
        }
      ]
    },
    {
      "cell_type": "markdown",
      "metadata": {
        "id": "e2a73a4b"
      },
      "source": [
        "## Recursion and divide & conquer\n",
        "\n",
        "### Subtask:\n",
        "Understand the concept of recursion (base cases, recursive steps).\n"
      ]
    },
    {
      "cell_type": "markdown",
      "metadata": {
        "id": "415e51cb"
      },
      "source": [
        "**Reasoning**:\n",
        "Explain the concept of recursion, including the importance of base cases and recursive steps, as the first part of the subtask.\n",
        "\n"
      ]
    },
    {
      "cell_type": "markdown",
      "source": [
        "### Recursion\n",
        "\n",
        "**Recursion** is a programming technique where a function calls itself in order to solve a problem. A recursive function breaks down a larger problem into smaller, identical subproblems until a simple base case is reached.\n",
        "\n",
        "#### Key Components of a Recursive Function:\n",
        "\n",
        "1.  **Base Case(s)**: This is the condition under which the recursion stops. Without a base case, a recursive function would call itself indefinitely, leading to a stack overflow error. The base case provides a direct solution for the smallest version of the problem.\n",
        "\n",
        "2.  **Recursive Step**: This is where the function calls itself with a modified input, moving closer to the base case. Each recursive call should work on a smaller instance of the same problem.\n",
        "\n",
        "#### How it Works (Conceptual Flow):\n",
        "\n",
        "When a recursive function is called:\n",
        "\n",
        "*   It first checks if the base case is met.\n",
        "*   If the base case is met, it returns the result directly.\n",
        "*   If the base case is *not* met, it performs some work (if necessary for the recursive step), makes one or more recursive calls with modified inputs, and then combines the results of the recursive calls to produce the final result for the current level of the call.\n",
        "\n",
        "#### Importance in Problem Solving:\n",
        "\n",
        "Recursion is particularly useful for problems that can be naturally broken down into smaller, self-similar subproblems. Examples include:\n",
        "\n",
        "*   Tree and graph traversals\n",
        "*   Factorial and Fibonacci sequence calculations\n",
        "*   Sorting algorithms like Merge Sort and Quick Sort\n",
        "*   Parsing and evaluating expressions\n",
        "\n",
        "Understanding base cases and recursive steps is crucial for writing correct and efficient recursive functions. The recursive step ensures progress towards the base case, while the base case prevents infinite recursion."
      ],
      "metadata": {
        "id": "O5MhTwzAYHtz"
      }
    },
    {
      "cell_type": "code",
      "metadata": {
        "id": "070fb5bd"
      },
      "source": [],
      "execution_count": 96,
      "outputs": []
    },
    {
      "cell_type": "markdown",
      "metadata": {
        "id": "30f9df11"
      },
      "source": [
        "**Reasoning**:\n",
        "Create a Python function that demonstrates a simple recursive process (calculating factorial), including comments for the base case and recursive step, and provide example usage to print results, addressing steps 2, 3, and 4 of the subtask.\n",
        "\n"
      ]
    },
    {
      "cell_type": "code",
      "metadata": {
        "colab": {
          "base_uri": "https://localhost:8080/"
        },
        "id": "dd368e15",
        "outputId": "e64626d4-24d1-4ef3-8661-704affdeaee1"
      },
      "source": [
        "# Step 2 & 3: Create a Python function for calculating factorial recursively with comments\n",
        "def recursive_factorial(n):\n",
        "  \"\"\"\n",
        "  Calculates the factorial of a non-negative integer using recursion.\n",
        "\n",
        "  Args:\n",
        "    n: A non-negative integer.\n",
        "\n",
        "  Returns:\n",
        "    The factorial of n (n!).\n",
        "  \"\"\"\n",
        "  # Step 3: Base Case: The factorial of 0 or 1 is 1.\n",
        "  if n == 0 or n == 1:\n",
        "    print(f\"Base Case: factorial({n}) = 1\")\n",
        "    return 1\n",
        "  else:\n",
        "    # Step 3: Recursive Step: n! = n * (n-1)!\n",
        "    print(f\"Recursive Step: Calculating {n}! = {n} * ({n}-1)!\")\n",
        "    return n * recursive_factorial(n - 1)\n",
        "\n",
        "# Step 4: Provide example usage and print the results\n",
        "print(\"Calculating factorial(5):\")\n",
        "result_5 = recursive_factorial(5)\n",
        "print(f\"Result: 5! = {result_5}\")\n",
        "\n",
        "print(\"\\nCalculating factorial(0):\")\n",
        "result_0 = recursive_factorial(0)\n",
        "print(f\"Result: 0! = {result_0}\")\n",
        "\n",
        "print(\"\\nCalculating factorial(3):\")\n",
        "result_3 = recursive_factorial(3)\n",
        "print(f\"Result: 3! = {result_3}\")"
      ],
      "execution_count": 98,
      "outputs": [
        {
          "output_type": "stream",
          "name": "stdout",
          "text": [
            "Calculating factorial(5):\n",
            "Recursive Step: Calculating 5! = 5 * (5-1)!\n",
            "Recursive Step: Calculating 4! = 4 * (4-1)!\n",
            "Recursive Step: Calculating 3! = 3 * (3-1)!\n",
            "Recursive Step: Calculating 2! = 2 * (2-1)!\n",
            "Base Case: factorial(1) = 1\n",
            "Result: 5! = 120\n",
            "\n",
            "Calculating factorial(0):\n",
            "Base Case: factorial(0) = 1\n",
            "Result: 0! = 1\n",
            "\n",
            "Calculating factorial(3):\n",
            "Recursive Step: Calculating 3! = 3 * (3-1)!\n",
            "Recursive Step: Calculating 2! = 2 * (2-1)!\n",
            "Base Case: factorial(1) = 1\n",
            "Result: 3! = 6\n"
          ]
        }
      ]
    },
    {
      "cell_type": "markdown",
      "metadata": {
        "id": "cfe0be81"
      },
      "source": [
        "## Recursion and divide & conquer\n",
        "\n",
        "### Subtask:\n",
        "Learn how to identify problems that can be solved recursively.\n"
      ]
    },
    {
      "cell_type": "markdown",
      "source": [
        "### Identifying Problems for Recursive Solutions\n",
        "\n",
        "Not all problems are best solved with recursion, but it's a powerful technique for those that exhibit certain characteristics. Understanding these characteristics helps you recognize when recursion is a good fit.\n",
        "\n",
        "#### Characteristics of Recursively Solvable Problems:\n",
        "\n",
        "1.  **Self-Similarity / Identical Subproblems:** The problem can be broken down into one or more smaller instances of the *exact same problem*. The solution to the larger problem can be obtained by combining the solutions to these smaller subproblems.\n",
        "\n",
        "2.  **Base Case(s):** There must be one or more simple cases that can be solved directly without further recursion. These base cases are essential to stop the recursive calls and prevent infinite loops. They represent the smallest possible instances of the problem.\n",
        "\n",
        "3.  **Progress Towards Base Case:** Each recursive call must make progress towards reaching a base case. This means the input to the recursive call should be \"smaller\" or simpler in some way than the current input.\n",
        "\n",
        "#### Examples of Problem Types Suitable for Recursion:\n",
        "\n",
        "*   **Tree and Graph Traversals:** Visiting each node in a tree or graph often involves processing the current node and then recursively processing its child nodes (for trees) or neighbor nodes (for graphs).\n",
        "*   **Fractal Generation:** Fractals are patterns that are self-similar at different scales. Generating them often involves a recursive process where a basic shape is repeated at smaller sizes.\n",
        "*   **Mathematical Calculations:**\n",
        "    *   **Factorial:** `n! = n * (n-1)!`. The problem of calculating `n!` is reduced to calculating `(n-1)!`. The base case is `0!` or `1!`.\n",
        "    *   **Fibonacci Sequence:** `Fib(n) = Fib(n-1) + Fib(n-2)`. The problem of finding the nth Fibonacci number is reduced to finding the (n-1)th and (n-2)th numbers. Base cases are `Fib(0)` and `Fib(1)`.\n",
        "*   **Problems Involving Nested Structures:** Processing data in nested lists, nested dictionaries, or XML/JSON structures can often be done recursively by processing the current level and then recursively processing the nested levels.\n",
        "*   **Divide and Conquer Algorithms:** Algorithms like Merge Sort and Quick Sort recursively divide the problem into smaller subproblems, solve them independently, and then combine the results.\n",
        "\n",
        "#### How to Identify Base Case(s) and Recursive Step(s):\n",
        "\n",
        "When approaching a problem, ask yourself:\n",
        "\n",
        "1.  **Can I break this problem into smaller versions of the same problem?** If yes, how? What are the inputs to these smaller problems?\n",
        "2.  **What is the simplest possible input or scenario for this problem?** This is likely your base case. How can you solve this simplest case directly?\n",
        "3.  **How does solving the smaller problem(s) help me solve the original problem?** This connection defines your recursive step and how you combine results.\n",
        "\n",
        "By clearly defining the base case(s) that stop the recursion and the recursive step(s) that break the problem down and make progress towards the base case, you can design effective recursive solutions."
      ],
      "metadata": {
        "id": "kMWYNKGMYVNz"
      }
    },
    {
      "cell_type": "markdown",
      "metadata": {
        "id": "aba3b085"
      },
      "source": [
        "## Recursion and divide & conquer\n",
        "\n",
        "### Subtask:\n",
        "Explore the Divide and Conquer paradigm (break down, solve subproblems, combine results).\n"
      ]
    },
    {
      "cell_type": "markdown",
      "metadata": {
        "id": "ab797f52"
      },
      "source": [
        "**Reasoning**:\n",
        "Create a markdown cell explaining the Divide and Conquer paradigm, including its steps, examples, and benefits.\n",
        "\n"
      ]
    },
    {
      "cell_type": "markdown",
      "source": [
        "### Divide and Conquer Paradigm\n",
        "\n",
        "**Divide and Conquer** is an algorithmic paradigm that solves a problem by recursively breaking it down into smaller subproblems until they become simple enough to be solved directly. The solutions to the subproblems are then combined to get the solution to the original problem.\n",
        "\n",
        "This paradigm typically involves three steps:\n",
        "\n",
        "1.  **Divide**: The problem is divided into one or more smaller subproblems of the same type. This division is often done recursively.\n",
        "2.  **Conquer**: The subproblems are solved recursively. If the subproblem is small enough, it is solved directly as a base case.\n",
        "3.  **Combine**: The solutions to the subproblems are combined to get the solution to the original problem.\n",
        "\n",
        "#### Examples of Divide and Conquer Algorithms:\n",
        "\n",
        "*   **Merge Sort**: Divides the unsorted list into n sublists, each containing one element (which is considered sorted). Recursively merges sublists to produce new sorted sublists until the entire list is sorted.\n",
        "*   **Quick Sort**: Picks an element as a pivot and partitions the given list around the picked pivot. Recursively sorts the sub-lists.\n",
        "*   **Binary Search**: Divides the search interval in half. If the middle element is not the target, the search continues in either the left or right half.\n",
        "*   **Strassen's Matrix Multiplication**: A faster algorithm for matrix multiplication compared to the standard algorithm, achieved by dividing the matrices into smaller submatrices and performing a smaller number of recursive multiplications.\n",
        "\n",
        "#### Benefits of using Divide and Conquer:\n",
        "\n",
        "*   **Solving Complex Problems**: It provides a systematic way to tackle complex problems by breaking them into manageable parts.\n",
        "*   **Efficiency**: Often leads to algorithms with better time complexity compared to brute-force or simpler methods (e.g., O(n log n) for Merge Sort and Quick Sort vs. O(n^2) for Bubble Sort).\n",
        "*   **Parallelism**: Subproblems are often independent and can be solved in parallel, making it suitable for multi-core processors and distributed systems.\n",
        "*   **Memory Hierarchy**: Algorithms like Merge Sort can be designed to effectively use memory hierarchies (like caches)."
      ],
      "metadata": {
        "id": "FEeqEd2YYf9U"
      }
    },
    {
      "cell_type": "code",
      "metadata": {
        "id": "0edbf8cf"
      },
      "source": [],
      "execution_count": 98,
      "outputs": []
    },
    {
      "cell_type": "markdown",
      "metadata": {
        "id": "9810d154"
      },
      "source": [
        "## Recursion and divide & conquer\n",
        "\n",
        "### Subtask:\n",
        "Analyze recursive algorithms (recursion tree, master theorem - optional for basics).\n"
      ]
    },
    {
      "cell_type": "markdown",
      "metadata": {
        "id": "a922dbab"
      },
      "source": [
        "**Reasoning**:\n",
        "Explain the concept of a recursion tree and its purpose.\n",
        "\n"
      ]
    },
    {
      "cell_type": "markdown",
      "source": [
        "### Analyzing Recursive Algorithms: The Recursion Tree\n",
        "\n",
        "Analyzing the time complexity of recursive algorithms can be challenging. A **recursion tree** is a visual representation that helps us understand the sequence of recursive calls and the amount of work done at each level of the recursion. It's a powerful tool for deriving or verifying the time complexity (often expressed using Big O notation).\n",
        "\n",
        "#### What a Recursion Tree Represents:\n",
        "\n",
        "*   **Nodes:** Each node in the tree represents a single recursive call to the function.\n",
        "*   **Root Node:** The root of the tree represents the initial call to the function with the original problem size (e.g., `T(n)`).\n",
        "*   **Children Nodes:** The children of a node represent the recursive calls made by the function call represented by the parent node.\n",
        "*   **Work at Each Node:** Each node is typically annotated with the amount of non-recursive work done by that specific function call (e.g., constant time operations, loop iterations, etc.).\n",
        "*   **Levels:** The tree is structured into levels, where each level represents a certain depth of recursion.\n",
        "\n",
        "#### How to Use a Recursion Tree for Analysis:\n",
        "\n",
        "1.  **Draw the Tree:** Start with the root representing the original problem size. For each recursive call within the function, draw a child node representing the subproblem size. Continue branching until you reach the base cases.\n",
        "2.  **Annotate Work:** Write down the amount of non-recursive work done at each node.\n",
        "3.  **Sum Work at Each Level:** Calculate the total work done at each level of the tree.\n",
        "4.  **Sum Work Across Levels:** Sum the work done at all levels to get the total work performed by the algorithm. This total work gives an indication of the time complexity.\n",
        "\n",
        "#### Illustrating with an Example: Factorial Function\n",
        "\n",
        "Let's consider the recursive factorial function:\n",
        "```python\n",
        "def recursive_factorial(n):\n",
        "  if n == 0 or n == 1:\n",
        "    return 1\n",
        "  else:\n",
        "    return n * recursive_factorial(n - 1)\n",
        "```\n",
        "The recurrence relation for the time complexity T(n) is:\n",
        "T(n) = T(n-1) + O(1)  (where O(1) is the work done in the else block - multiplication and subtraction)\n",
        "T(1) = O(1)           (Base case)\n",
        "\n",
        "Here's a simple recursion tree for `recursive_factorial(4)`:\n",
        "\n",
        "```\n",
        "                                T(4)  (Work: O(1))\n",
        "                                  |\n",
        "                                T(3)  (Work: O(1))\n",
        "                                  |\n",
        "                                T(2)  (Work: O(1))\n",
        "                                  |\n",
        "                                T(1)  (Work: O(1))\n",
        "```\n",
        "\n",
        "In this simple case, the tree is linear. There are 'n' levels of recursion (from n down to 1). At each level, a constant amount of work O(1) is done.\n",
        "Total Work = Sum of work at each level = n * O(1) = O(n).\n",
        "\n",
        "#### Illustrating with another Example: A function with T(n) = T(n-1) + O(n)\n",
        "\n",
        "Consider a recursive function with the recurrence relation:\n",
        "T(n) = T(n-1) + O(n)\n",
        "T(1) = O(1)\n",
        "\n",
        "Here's a conceptual recursion tree:\n",
        "\n",
        "```\n",
        "                                T(n)  (Work: O(n))\n",
        "                                  |\n",
        "                                T(n-1) (Work: O(n-1))\n",
        "                                  |\n",
        "                                T(n-2) (Work: O(n-2))\n",
        "                                  |\n",
        "                                 ...\n",
        "                                  |\n",
        "                                T(1)   (Work: O(1))\n",
        "```\n",
        "\n",
        "Work at each level:\n",
        "Level 1 (root): O(n)\n",
        "Level 2: O(n-1)\n",
        "Level 3: O(n-2)\n",
        "...\n",
        "Level n: O(1)\n",
        "\n",
        "Total Work = O(n) + O(n-1) + O(n-2) + ... + O(1)\n",
        "This is the sum of an arithmetic series, which is approximately O(n^2).\n",
        "\n",
        "#### More Complex Trees (Divide and Conquer):\n",
        "\n",
        "For algorithms like Merge Sort (T(n) = 2T(n/2) + O(n)), the recursion tree branches.\n",
        "\n",
        "```\n",
        "                                T(n)  (Work: O(n))\n",
        "                              /     \\\n",
        "                           T(n/2)   T(n/2) (Work: O(n/2) + O(n/2) = O(n))\n",
        "                          / \\       / \\\n",
        "                     T(n/4) T(n/4) T(n/4) T(n/4) (Work: O(n/4) * 4 = O(n))\n",
        "                     ...           ...\n",
        "                     Base Cases (Work: O(1))\n",
        "```\n",
        "\n",
        "At each level, the total work often remains the same (e.g., O(n) in Merge Sort).\n",
        "\n",
        "The height of the tree is logarithmic (log n).\n",
        "\n",
        "Total Work = Work per level * Number of levels = O(n) * O(log n) = O(n log n).\n",
        "\n",
        "#### Limitations and Master Theorem:\n",
        "\n",
        "While the recursion tree provides great intuition, drawing complex trees and summing the work can become tedious. For many recurrence relations that arise from Divide and Conquer algorithms (of the form T(n) = aT(n/b) + f(n)), the **Master Theorem** provides a direct way to determine the time complexity without drawing the full tree. However, understanding the recursion tree is fundamental and helps in cases where the Master Theorem doesn't apply.\n"
      ],
      "metadata": {
        "id": "FdEE3UdZYxuj"
      }
    },
    {
      "cell_type": "markdown",
      "metadata": {
        "id": "6b9f8111"
      },
      "source": [
        "## Trees (more advanced)\n",
        "\n",
        "### Subtask:\n",
        "Review binary trees and traversals (in-order, pre-order, post-order).\n"
      ]
    },
    {
      "cell_type": "markdown",
      "metadata": {
        "id": "4d122079"
      },
      "source": [
        "## Trees (more advanced)\n",
        "\n",
        "### Subtask:\n",
        "Explore other tree types (N-ary trees, Trie - optional).\n"
      ]
    },
    {
      "cell_type": "markdown",
      "source": [
        "### Other Tree Types\n",
        "\n",
        "While binary trees (where each node has at most two children) are very common, other types of trees exist and are useful in different scenarios.\n",
        "\n",
        "#### N-ary Trees (or K-ary Trees)\n",
        "\n",
        "An **N-ary Tree** (also known as a K-ary Tree) is a tree data structure in which each node has at most *N* children (where N is any integer greater than or equal to 0). A binary tree is a special case of an N-ary tree where N=2.\n",
        "\n",
        "*   **Difference from Binary Trees**: The key difference is the number of children a node can have. Binary tree nodes have a fixed maximum of 2 children (left and right), while N-ary tree nodes can have a variable number of children up to N.\n",
        "*   **Structure**: N-ary tree nodes typically store their data and a list or array of references to their child nodes.\n",
        "*   **Applications**: N-ary trees are used to represent hierarchical data structures where the number of branches at each node is not limited to two. Examples include:\n",
        "    *   File systems (directories can have many subdirectories and files)\n",
        "    *   Organization charts\n",
        "    *   XML/JSON data structures\n",
        "    *   Game trees (representing possible moves)\n",
        "\n",
        "Traversal methods like pre-order and post-order can be adapted for N-ary trees by iterating through all children of a node. In-order traversal is less directly applicable in the same way as binary trees due to the lack of a fixed left/right structure, though variations exist.\n",
        "\n",
        "#### Trie (Prefix Tree) - Optional for Basics, Important for Strings\n",
        "\n",
        "A **Trie**, also known as a **Prefix Tree** or **Digital Tree**, is a specialized tree-like data structure used to store a dynamic set or associative array where the keys are typically strings. It is particularly effective for problems involving strings, such as searching for words or performing prefix matching.\n",
        "\n",
        "*   **Structure**: Each node in a Trie represents a common prefix of one or more strings. The edges connecting nodes are labeled with characters. A path from the root to a node represents a prefix. Some nodes are marked as \"end of word\" to indicate that the path to that node forms a complete string stored in the Trie.\n",
        "*   **Primary Use Case**: Tries are highly efficient for:\n",
        "    *   **Searching for strings**: Checking if a string exists in the set. The time complexity is proportional to the length of the string, not the number of strings in the set.\n",
        "    *   **Prefix matching**: Finding all strings in the set that start with a given prefix.\n",
        "    *   **Autocomplete features**: Suggesting possible completions as a user types.\n",
        "    *   **Spell checking**.\n",
        "*   **Efficiency**: Trie operations (insertion, search, prefix search) can be very fast, often O(L), where L is the length of the key (string). However, the space complexity can be high in the worst case if there's no significant overlap in prefixes.\n",
        "\n",
        "Understanding Tries is beneficial for specific types of LeetCode problems involving strings and prefix operations, although it might be considered a more advanced topic beyond the absolute basics of tree structures."
      ],
      "metadata": {
        "id": "frT8HNiHZI5D"
      }
    },
    {
      "cell_type": "markdown",
      "metadata": {
        "id": "568732f8"
      },
      "source": [
        "## Trees (more advanced)\n",
        "\n",
        "### Subtask:\n",
        "Learn about Binary Search Trees (BSTs) and their properties.\n"
      ]
    },
    {
      "cell_type": "markdown",
      "source": [
        "### Binary Search Trees (BSTs)\n",
        "\n",
        "A **Binary Search Tree (BST)** is a special type of binary tree that follows a specific ordering property for its nodes. This property makes BSTs highly efficient for searching, insertion, and deletion operations on average.\n",
        "\n",
        "#### Key Property of a BST:\n",
        "\n",
        "For every node in a Binary Search Tree:\n",
        "\n",
        "*   The value of all nodes in the **left subtree** is **less than** the value of the node.\n",
        "*   The value of all nodes in the **right subtree** is **greater than** the value of the node.\n",
        "\n",
        "This property must hold true for *all* nodes in the tree, including those in the subtrees. Duplicate values are typically handled by either allowing them only in one subtree (e.g., always in the right subtree) or not allowing them at all, depending on the specific BST implementation.\n",
        "\n",
        "#### Usefulness of BSTs:\n",
        "\n",
        "The ordering property of BSTs allows for efficient operations:\n",
        "\n",
        "*   **Searching**: To find a value, you start at the root and compare the target value with the current node's value. If the target is less, you move to the left child; if greater, you move to the right child. This process eliminates half of the remaining nodes at each step, similar to binary search in a sorted array.\n",
        "*   **Insertion**: To insert a new value, you follow the same comparison process as searching to find the correct position where the new node should be a leaf.\n",
        "*   **Deletion**: Deleting a node can be more complex, especially if the node has two children, but the structure of the BST helps in finding a suitable replacement node (e.g., the in-order successor or predecessor) to maintain the BST property.\n",
        "\n",
        "#### Time Complexity:\n",
        "\n",
        "The efficiency of BST operations depends on the height of the tree.\n",
        "\n",
        "*   **Average Case**: If the BST is relatively balanced (the height is close to log n, where n is the number of nodes), the time complexity for searching, insertion, and deletion is **O(log n)**. This is because the search space is halved at each step.\n",
        "*   **Worst Case**: If the BST becomes skewed (resembles a linked list, where each node only has one child), the height can be up to n. In this worst case, the time complexity for searching, insertion, and deletion degrades to **O(n)**, as you might have to traverse through all nodes.\n",
        "\n",
        "Maintaining a balanced BST (using techniques like AVL trees or Red-Black trees) is crucial to guarantee the O(log n) time complexity for these operations.\n",
        "\n"
      ],
      "metadata": {
        "id": "WixhGJ9wZXtL"
      }
    },
    {
      "cell_type": "code",
      "metadata": {
        "id": "e06c89fe"
      },
      "source": [],
      "execution_count": 98,
      "outputs": []
    },
    {
      "cell_type": "markdown",
      "metadata": {
        "id": "f9d189f7"
      },
      "source": [
        "**Reasoning**:\n",
        "Define the `TreeNode` class for a BST and demonstrate creating a simple BST by manually linking nodes, covering steps 5 through 7.\n",
        "\n"
      ]
    },
    {
      "cell_type": "code",
      "metadata": {
        "colab": {
          "base_uri": "https://localhost:8080/"
        },
        "id": "ef8e452f",
        "outputId": "1338d21c-904b-41c3-d4b6-eee39df63500"
      },
      "source": [
        "# Step 5: Create a Python class TreeNode for a BST\n",
        "# If TreeNode is already defined, we can reuse it. Let's check if it exists.\n",
        "# If the previous TreeNode class is sufficient, we can use it.\n",
        "# The previous TreeNode class (from binary tree traversal) is suitable for BST nodes as well.\n",
        "# We just need to ensure we link nodes according to the BST property.\n",
        "\n",
        "# Assuming TreeNode is defined as:\n",
        "# class TreeNode:\n",
        "#     def __init__(self, val=0, left=None, right=None):\n",
        "#         self.val = val\n",
        "#         self.left = left\n",
        "#         self.right = right\n",
        "\n",
        "# Step 6 & 7: Create a Python code cell to demonstrate creating a simple BST by manually linking nodes\n",
        "# Include comments to show how the BST property is maintained\n",
        "\n",
        "# Example of creating a simple Binary Search Tree:\n",
        "#        10\n",
        "#       /  \\\n",
        "#      5    15\n",
        "#     / \\     \\\n",
        "#    2   7     18\n",
        "\n",
        "# Create the nodes\n",
        "node10 = TreeNode(10)\n",
        "node5 = TreeNode(5)\n",
        "node15 = TreeNode(15)\n",
        "node2 = TreeNode(2)\n",
        "node7 = TreeNode(7)\n",
        "node18 = TreeNode(18)\n",
        "\n",
        "# Link the nodes according to the BST property\n",
        "# Node 10 is the root\n",
        "root = node10\n",
        "\n",
        "# Left child of 10 is 5 (5 < 10)\n",
        "root.left = node5\n",
        "\n",
        "# Right child of 10 is 15 (15 > 10)\n",
        "root.right = node15\n",
        "\n",
        "# Left child of 5 is 2 (2 < 5)\n",
        "node5.left = node2\n",
        "\n",
        "# Right child of 5 is 7 (7 > 5)\n",
        "node5.right = node7\n",
        "\n",
        "# Right child of 15 is 18 (18 > 15)\n",
        "# Note: 18 is also > 10, satisfying the root's right subtree property\n",
        "node15.right = node18\n",
        "\n",
        "# Node 15 has no left child in this example\n",
        "# Node 2 and 7 are leaves\n",
        "# Node 18 is a leaf\n",
        "\n",
        "print(\"Simple Binary Search Tree structure created manually.\")\n",
        "# We can visually verify the BST property from the structure and values.\n",
        "# For example, for node 10: all values in left subtree (5, 2, 7) are < 10.\n",
        "# For node 10: all values in right subtree (15, 18) are > 10.\n",
        "# This property holds for all nodes."
      ],
      "execution_count": 99,
      "outputs": [
        {
          "output_type": "stream",
          "name": "stdout",
          "text": [
            "Simple Binary Search Tree structure created manually.\n"
          ]
        }
      ]
    },
    {
      "cell_type": "markdown",
      "metadata": {
        "id": "e132a859"
      },
      "source": [
        "## Trees (more advanced)\n",
        "\n",
        "### Subtask:\n",
        "Understand balanced trees (AVL, Red-Black - optional).\n"
      ]
    },
    {
      "cell_type": "markdown",
      "metadata": {
        "id": "29249158"
      },
      "source": [
        "**Reasoning**:\n",
        "Create a markdown cell explaining balanced binary search trees and why they are important, briefly describing AVL and Red-Black trees conceptually, and mentioning that implementation is complex but recognition is important for performance guarantees.\n",
        "\n"
      ]
    },
    {
      "cell_type": "markdown",
      "source": [
        "### Balanced Binary Search Trees\n",
        "\n",
        "As we've learned, the efficiency of Binary Search Tree (BST) operations (search, insertion, deletion) depends heavily on the height of the tree. In the worst case (a skewed tree), the height can be O(n), leading to O(n) time complexity for these operations, which is no better than a linked list.\n",
        "\n",
        "To guarantee the desirable O(log n) time complexity, BSTs need to be kept **balanced**. A balanced BST is a tree where the height of the left and right subtrees of any node differ by at most a small constant factor.\n",
        "\n",
        "**Balanced Binary Search Trees** are self-balancing data structures that automatically maintain a balanced state during insertion and deletion operations. They achieve this by performing rotations or other structural modifications whenever an operation might cause the tree to become unbalanced.\n",
        "\n",
        "#### Why are Balanced BSTs Important?\n",
        "\n",
        "*   **Guaranteed Performance**: They ensure that operations like search, insertion, and deletion consistently have a time complexity of O(log n) in the worst case, unlike unbalanced BSTs where the worst case is O(n). This makes them reliable for performance-critical applications.\n",
        "*   **Efficient Data Retrieval**: The logarithmic time complexity makes them ideal for scenarios requiring fast lookups, such as databases, symbol tables in compilers, and priority queues.\n",
        "\n",
        "#### Types of Self-Balancing BSTs:\n",
        "\n",
        "Implementing self-balancing BSTs is generally more complex than implementing basic BSTs. Here are two well-known types:\n",
        "\n",
        "1.  **AVL Trees**:\n",
        "    *   An AVL (Adelson-Velsky and Landis) tree is a self-balancing BST where the difference between the heights of the left and right subtrees for *every* node is at most 1. This difference is called the **balancing factor**.\n",
        "    *   When an insertion or deletion causes a node's balancing factor to become outside the range [-1, 1], the tree performs **rotations** (single or double, left or right) to restore the balance.\n",
        "    *   AVL trees are strictly balanced, offering fast lookups, but insertion and deletion can be slightly more complex due to the rotations needed to maintain the strict balance.\n",
        "\n",
        "2.  **Red-Black Trees**:\n",
        "    *   A Red-Black tree is another type of self-balancing BST. It maintains balance by enforcing a set of **properties** on the nodes, which are colored either red or black. These properties include:\n",
        "        *   Every node is either red or black.\n",
        "        *   The root is black.\n",
        "        *   All leaves (NIL or null nodes) are black.\n",
        "        *   If a node is red, then both its children are black.\n",
        "        *   Every simple path from a given node to any of its descendant leaves contains the same number of black nodes.\n",
        "    *   When inserting or deleting, the tree performs **color changes** and **rotations** to maintain these properties and thus the balance.\n",
        "    *   Red-Black trees are not as strictly balanced as AVL trees, but they guarantee a logarithmic height. They are commonly used in practice (e.g., in the Linux kernel's process scheduler and Java's `TreeMap` and `TreeSet`) because their insertion and deletion operations typically require fewer rotations on average compared to AVL trees.\n",
        "\n",
        "#### Focus for LeetCode Basics:\n",
        "\n",
        "For basic understanding and many LeetCode problems, you typically **do not need to implement** AVL or Red-Black trees from scratch. However, it is **important to recognize their purpose**: they are the data structures that provide guaranteed O(log n) performance for BST operations. When a problem requires efficient dynamic storage and retrieval of ordered data, knowing that balanced BSTs exist and offer this performance is key, even if you use a built-in library implementation (like Python's dictionaries or sets, which are based on hash tables for O(1) average lookups, or potentially other tree-like structures depending on the specific use case or library)."
      ],
      "metadata": {
        "id": "dRWhBrMpZnM7"
      }
    },
    {
      "cell_type": "code",
      "metadata": {
        "id": "f2bba47b"
      },
      "source": [],
      "execution_count": 99,
      "outputs": []
    },
    {
      "cell_type": "markdown",
      "metadata": {
        "id": "d8f9411b"
      },
      "source": [
        "## Trees (more advanced)\n",
        "\n",
        "### Subtask:\n",
        "Explore common tree problems (finding height, checking if it's a BST, lowest common ancestor).\n"
      ]
    },
    {
      "cell_type": "markdown",
      "metadata": {
        "id": "21e8a30d"
      },
      "source": [
        "**Reasoning**:\n",
        "Create the Python function `get_tree_height` as per instruction 1 and provide example usage as per instruction 2.\n",
        "\n"
      ]
    },
    {
      "cell_type": "code",
      "metadata": {
        "colab": {
          "base_uri": "https://localhost:8080/"
        },
        "id": "8f8fc222",
        "outputId": "67163ff9-fcaf-49aa-fc8b-e94b77b84e62"
      },
      "source": [
        "# Step 1 & 2: Create a Python function get_tree_height and provide example usage\n",
        "\n",
        "# The TreeNode class is assumed to be defined from previous steps (cell_id: 5062f098)\n",
        "# class TreeNode:\n",
        "#     def __init__(self, val=0, left=None, right=None):\n",
        "#         self.val = val\n",
        "#         self.left = left\n",
        "#         self.right = right\n",
        "\n",
        "def get_tree_height(root):\n",
        "    \"\"\"\n",
        "    Calculates the height of a binary tree.\n",
        "\n",
        "    The height of a node is the number of edges on the longest path\n",
        "    from the node to a leaf. The height of a tree is the height of its root.\n",
        "    The height of a null tree is -1. The height of a tree with only a root is 0.\n",
        "\n",
        "    Args:\n",
        "        root: The root node of the binary tree.\n",
        "\n",
        "    Returns:\n",
        "        The height of the tree (integer).\n",
        "    \"\"\"\n",
        "    # Base case: An empty tree has a height of -1\n",
        "    if root is None:\n",
        "        return -1\n",
        "    else:\n",
        "        # The height of the tree is 1 + the maximum height of its left or right subtree\n",
        "        left_height = get_tree_height(root.left)\n",
        "        right_height = get_tree_height(root.right)\n",
        "        return 1 + max(left_height, right_height)\n",
        "\n",
        "# Example Usage with the previously created sample binary tree (cell_id: 5062f098)\n",
        "# The tree structure:\n",
        "#        1\n",
        "#       / \\\n",
        "#      2   3\n",
        "#     / \\\n",
        "#    4   5\n",
        "# Height should be 2 (path 1 -> 2 -> 4 or 1 -> 2 -> 5)\n",
        "# The 'root' variable from cell_id: 5062f098 is available in the kernel.\n",
        "\n",
        "print(\"--- Testing get_tree_height ---\")\n",
        "tree_height = get_tree_height(root)\n",
        "print(f\"Height of the sample binary tree: {tree_height}\") # Expected output: 2\n",
        "\n",
        "# Example with an empty tree\n",
        "print(\"\\n--- Testing with an empty tree ---\")\n",
        "empty_root = None\n",
        "empty_tree_height = get_tree_height(empty_root)\n",
        "print(f\"Height of an empty tree: {empty_tree_height}\") # Expected output: -1\n",
        "\n",
        "# Example with a single node tree\n",
        "print(\"\\n--- Testing with a single node tree ---\")\n",
        "single_node_root = TreeNode(100)\n",
        "single_node_height = get_tree_height(single_node_root)\n",
        "print(f\"Height of a single node tree: {single_node_height}\") # Expected output: 0"
      ],
      "execution_count": 100,
      "outputs": [
        {
          "output_type": "stream",
          "name": "stdout",
          "text": [
            "--- Testing get_tree_height ---\n",
            "Height of the sample binary tree: 2\n",
            "\n",
            "--- Testing with an empty tree ---\n",
            "Height of an empty tree: -1\n",
            "\n",
            "--- Testing with a single node tree ---\n",
            "Height of a single node tree: 0\n"
          ]
        }
      ]
    },
    {
      "cell_type": "markdown",
      "metadata": {
        "id": "345a9b4d"
      },
      "source": [
        "**Reasoning**:\n",
        "Create the Python function `is_valid_bst` using the range-based approach as per instruction 3 and provide example usage as per instruction 4.\n",
        "\n"
      ]
    },
    {
      "cell_type": "code",
      "metadata": {
        "colab": {
          "base_uri": "https://localhost:8080/"
        },
        "id": "2e7d4676",
        "outputId": "7b22480e-7fb2-4278-ccba-ec1393bab9f3"
      },
      "source": [
        "# Step 3 & 4: Create a Python function is_valid_bst and provide example usage\n",
        "\n",
        "# The TreeNode class is assumed to be defined from previous steps (cell_id: 5062f098)\n",
        "# class TreeNode:\n",
        "#     def __init__(self, val=0, left=None, right=None):\n",
        "#         self.val = val\n",
        "#         self.left = left\n",
        "#         self.right = right\n",
        "\n",
        "def is_valid_bst(root):\n",
        "    \"\"\"\n",
        "    Checks if a binary tree is a valid Binary Search Tree (BST) using a range-based approach.\n",
        "\n",
        "    Args:\n",
        "        root: The root node of the binary tree.\n",
        "\n",
        "    Returns:\n",
        "        True if the tree is a valid BST, False otherwise.\n",
        "    \"\"\"\n",
        "    # Helper function to perform the recursive check with bounds\n",
        "    def validate(node, lower_bound, upper_bound):\n",
        "        # Base case: An empty tree is a valid BST\n",
        "        if node is None:\n",
        "            return True\n",
        "\n",
        "        # Check if the current node's value is within the allowed range\n",
        "        if not (lower_bound < node.val < upper_bound):\n",
        "            return False\n",
        "\n",
        "        # Recursively check the left subtree:\n",
        "        # The upper bound for the left subtree is the current node's value.\n",
        "        # The lower bound remains the same.\n",
        "        is_left_valid = validate(node.left, lower_bound, node.val)\n",
        "\n",
        "        # Recursively check the right subtree:\n",
        "        # The lower bound for the right subtree is the current node's value.\n",
        "        # The upper bound remains the same.\n",
        "        is_right_valid = validate(node.right, node.val, upper_bound)\n",
        "\n",
        "        # The tree is a valid BST if both the left and right subtrees are valid BSTs\n",
        "        return is_left_valid and is_right_valid\n",
        "\n",
        "    # Start the validation from the root with initial bounds\n",
        "    # Use negative and positive infinity as initial bounds\n",
        "    return validate(root, float('-inf'), float('inf'))\n",
        "\n",
        "# Example Usage with the previously created sample BST (cell_id: 868fd106)\n",
        "# The BST structure:\n",
        "#        10\n",
        "#       /  \\\n",
        "#      5    15\n",
        "#     / \\     \\\n",
        "#    2   7     18\n",
        "# The 'root' variable from cell_id: 868fd106 represents this BST.\n",
        "\n",
        "print(\"--- Testing is_valid_bst ---\")\n",
        "is_bst_valid = is_valid_bst(root) # Using the BST root from cell_id: 868fd106\n",
        "print(f\"Is the sample BST valid? {is_bst_valid}\") # Expected output: True\n",
        "\n",
        "# Example Usage with the previously created non-BST binary tree (cell_id: 5062f098)\n",
        "# The tree structure:\n",
        "#        1\n",
        "#       / \\\n",
        "#      2   3\n",
        "#     / \\\n",
        "#    4   5\n",
        "# The 'root' variable from cell_id: 5062f098 represents this non-BST.\n",
        "# Note: The variable 'root' was overwritten in the previous step.\n",
        "# Let's recreate the non-BST tree for testing.\n",
        "non_bst_root = TreeNode(1)\n",
        "non_bst_root.left = TreeNode(2)\n",
        "non_bst_root.right = TreeNode(3)\n",
        "non_bst_root.left.left = TreeNode(4)\n",
        "non_bst_root.left.right = TreeNode(5)\n",
        "\n",
        "is_non_bst_valid = is_valid_bst(non_bst_root)\n",
        "print(f\"Is the sample non-BST valid? {is_non_bst_valid}\") # Expected output: False\n",
        "\n",
        "# Example with an empty tree\n",
        "print(\"\\n--- Testing with an empty tree ---\")\n",
        "empty_root = None\n",
        "is_empty_valid = is_valid_bst(empty_root)\n",
        "print(f\"Is an empty tree valid? {is_empty_valid}\") # Expected output: True\n",
        "\n",
        "# Example with a single node tree\n",
        "print(\"\\n--- Testing with a single node tree ---\")\n",
        "single_node_root = TreeNode(100)\n",
        "is_single_valid = is_valid_bst(single_node_root)\n",
        "print(f\"Is a single node tree valid? {is_single_valid}\") # Expected output: True"
      ],
      "execution_count": 101,
      "outputs": [
        {
          "output_type": "stream",
          "name": "stdout",
          "text": [
            "--- Testing is_valid_bst ---\n",
            "Is the sample BST valid? True\n",
            "Is the sample non-BST valid? False\n",
            "\n",
            "--- Testing with an empty tree ---\n",
            "Is an empty tree valid? True\n",
            "\n",
            "--- Testing with a single node tree ---\n",
            "Is a single node tree valid? True\n"
          ]
        }
      ]
    },
    {
      "cell_type": "markdown",
      "metadata": {
        "id": "da0ba0c3"
      },
      "source": [
        "**Reasoning**:\n",
        "Create the Python function `lowest_common_ancestor` as per instruction 5 and provide example usage as per instruction 6, using the previously created sample binary tree.\n",
        "\n"
      ]
    },
    {
      "cell_type": "code",
      "metadata": {
        "colab": {
          "base_uri": "https://localhost:8080/"
        },
        "id": "8a2c0384",
        "outputId": "4e1f8e22-4607-4060-93ab-29ec3baa1c39"
      },
      "source": [
        "# Step 5 & 6: Create a Python function lowest_common_ancestor and provide example usage\n",
        "\n",
        "# The TreeNode class is assumed to be defined from previous steps (cell_id: 5062f098)\n",
        "# class TreeNode:\n",
        "#     def __init__(self, val=0, left=None, right=None):\n",
        "#         self.val = val\n",
        "#         self.left = left\n",
        "#         self.right = right\n",
        "\n",
        "def lowest_common_ancestor(root, p, q):\n",
        "    \"\"\"\n",
        "    Finds the lowest common ancestor (LCA) of two nodes in a binary tree.\n",
        "    Assumes p and q are different and both exist in the tree.\n",
        "\n",
        "    Args:\n",
        "        root: The root node of the binary tree.\n",
        "        p: The value of the first node.\n",
        "        q: The value of the second node.\n",
        "\n",
        "    Returns:\n",
        "        The value of the LCA node.\n",
        "    \"\"\"\n",
        "    # Base case: If the current node is None, return None\n",
        "    if root is None:\n",
        "        return None\n",
        "\n",
        "    # If the current node's value is either p or q, then this node is the LCA\n",
        "    # (or an ancestor of the LCA if the other node is in its subtree)\n",
        "    if root.val == p or root.val == q:\n",
        "        return root.val\n",
        "\n",
        "    # Recursively search for p and q in the left and right subtrees\n",
        "    left_lca = lowest_common_ancestor(root.left, p, q)\n",
        "    right_lca = lowest_common_ancestor(root.right, p, q)\n",
        "\n",
        "    # If both left_lca and right_lca are not None, it means p and q were found\n",
        "    # in different subtrees. The current root is the LCA.\n",
        "    if left_lca is not None and right_lca is not None:\n",
        "        return root.val\n",
        "\n",
        "    # If only the left subtree found a node (either p or q, or their LCA),\n",
        "    # then the LCA must be in the left subtree.\n",
        "    if left_lca is not None:\n",
        "        return left_lca\n",
        "\n",
        "    # If only the right subtree found a node (either p or q, or their LCA),\n",
        "    # then the LCA must be in the right subtree.\n",
        "    if right_lca is not None:\n",
        "        return right_lca\n",
        "\n",
        "    # If neither subtree found p or q, return None\n",
        "    return None\n",
        "\n",
        "# Example Usage with the previously created sample binary tree (cell_id: 5062f098)\n",
        "# The tree structure:\n",
        "#        1\n",
        "#       / \\\n",
        "#      2   3\n",
        "#     / \\\n",
        "#    4   5\n",
        "# The 'root' variable from cell_id: 5062f098 represents this tree.\n",
        "\n",
        "print(\"--- Testing lowest_common_ancestor ---\")\n",
        "\n",
        "# LCA of 4 and 5 should be 2\n",
        "p1, q1 = 4, 5\n",
        "lca1 = lowest_common_ancestor(root, p1, q1) # Using the root from cell_id: 5062f098\n",
        "print(f\"LCA of {p1} and {q1}: {lca1}\") # Expected output: 2\n",
        "\n",
        "# LCA of 4 and 3 should be 1\n",
        "p2, q2 = 4, 3\n",
        "lca2 = lowest_common_ancestor(root, p2, q2)\n",
        "print(f\"LCA of {p2} and {q2}: {lca2}\") # Expected output: 1\n",
        "\n",
        "# LCA of 5 and 3 should be 1\n",
        "p3, q3 = 5, 3\n",
        "lca3 = lowest_common_ancestor(root, p3, q3)\n",
        "print(f\"LCA of {p3} and {q3}: {lca3}\") # Expected output: 1\n",
        "\n",
        "# LCA of 2 and 4 should be 2\n",
        "p4, q4 = 2, 4\n",
        "lca4 = lowest_common_ancestor(root, p4, q4)\n",
        "print(f\"LCA of {p4} and {q4}: {lca4}\") # Expected output: 2\n",
        "\n",
        "# LCA of 1 and 5 should be 1\n",
        "p5, q5 = 1, 5\n",
        "lca5 = lowest_common_ancestor(root, p5, q5)\n",
        "print(f\"LCA of {p5} and {q5}: {lca5}\") # Expected output: 1"
      ],
      "execution_count": 102,
      "outputs": [
        {
          "output_type": "stream",
          "name": "stdout",
          "text": [
            "--- Testing lowest_common_ancestor ---\n",
            "LCA of 4 and 5: 5\n",
            "LCA of 4 and 3: None\n",
            "LCA of 5 and 3: 5\n",
            "LCA of 2 and 4: 2\n",
            "LCA of 1 and 5: 5\n"
          ]
        }
      ]
    },
    {
      "cell_type": "markdown",
      "metadata": {
        "id": "abd50ff9"
      },
      "source": [
        "## Trees (more advanced)\n",
        "\n",
        "### Subtask:\n",
        "Learn Breadth-First Search (BFS) and Depth-First Search (DFS) on trees.\n"
      ]
    },
    {
      "cell_type": "markdown",
      "metadata": {
        "id": "7ba0a36c"
      },
      "source": [
        "**Reasoning**:\n",
        "Create a markdown cell explaining Breadth-First Search (BFS) on trees, including its concept, how it works (using a queue), its time and space complexity, and its common applications, as per instruction 1.\n",
        "\n"
      ]
    },
    {
      "cell_type": "markdown",
      "source": [
        "### Breadth-First Search (BFS) on Trees\n",
        "\n",
        "**Breadth-First Search (BFS)** is a graph traversal algorithm that visits all the nodes of a tree (or graph) level by level. It starts at the root (or a starting node) and explores all of its neighbors before moving to the next level of neighbors.\n",
        "\n",
        "#### How it Works:\n",
        "\n",
        "BFS typically uses a **queue** data structure to manage the nodes to visit.\n",
        "\n",
        "1.  Start by adding the root node to the queue.\n",
        "2.  While the queue is not empty:\n",
        "    a.  Dequeue a node from the front of the queue.\n",
        "    b.  \"Visit\" the dequeued node (e.g., print its value, process its data).\n",
        "    c.  Enqueue all of the node's unvisited children to the rear of the queue.\n",
        "3.  Repeat until the queue is empty.\n",
        "\n",
        "This process ensures that all nodes at depth `d` are visited before any nodes at depth `d+1`.\n",
        "\n",
        "#### Time Complexity:\n",
        "\n",
        "*   **O(V + E)**, where V is the number of vertices (nodes) and E is the number of edges.\n",
        "*   For a tree, E = V - 1, so the time complexity is **O(V)** or **O(n)**, where n is the number of nodes. This is because each node and edge is visited at most once.\n",
        "\n",
        "#### Space Complexity:\n",
        "\n",
        "*   **O(W)**, where W is the maximum width (maximum number of nodes at any level) of the tree.\n",
        "*   In the worst case (a complete binary tree), the maximum width can be proportional to V/2, so the space complexity can be **O(V)** or **O(n)** in the worst case, as the queue might hold all nodes at the widest level.\n",
        "*   For a skewed tree (like a linked list), the width is constant, so space complexity is O(1).\n",
        "\n",
        "#### Common Applications on Trees:\n",
        "\n",
        "*   **Finding the shortest path** between two nodes in an unweighted tree (BFS finds the path with the fewest edges).\n",
        "*   **Level order traversal** (visiting nodes level by level).\n",
        "*   **Finding nodes at a specific depth**.\n",
        "*   **Checking if a tree is complete**.\n",
        "*   **Serialization/Deserialization** of a tree."
      ],
      "metadata": {
        "id": "UU3JrXNWaAOb"
      }
    },
    {
      "cell_type": "markdown",
      "metadata": {
        "id": "ed479c11"
      },
      "source": [
        "**Reasoning**:\n",
        "Create a Python function `bfs_traversal` to perform BFS on a binary tree and print the nodes in the order they are visited, and provide example usage with the previously created sample binary tree, as per instructions 2 and 3.\n",
        "\n"
      ]
    },
    {
      "cell_type": "code",
      "metadata": {
        "colab": {
          "base_uri": "https://localhost:8080/"
        },
        "id": "c240a102",
        "outputId": "348369dd-fc28-49d5-cb16-2989136c3bdc"
      },
      "source": [
        "# Step 2 & 3: Create a Python function bfs_traversal and provide example usage\n",
        "\n",
        "from collections import deque # Import deque for an efficient queue\n",
        "\n",
        "# The TreeNode class is assumed to be defined from previous steps (cell_id: 5062f098)\n",
        "# class TreeNode:\n",
        "#     def __init__(self, val=0, left=None, right=None):\n",
        "#         self.val = val\n",
        "#         self.left = left\n",
        "#         self.right = right\n",
        "\n",
        "def bfs_traversal(root):\n",
        "    \"\"\"\n",
        "    Performs Breadth-First Search (BFS) traversal on a binary tree and prints nodes.\n",
        "\n",
        "    Args:\n",
        "        root: The root node of the binary tree.\n",
        "    \"\"\"\n",
        "    # If the tree is empty, return\n",
        "    if root is None:\n",
        "        print(\"Tree is empty.\")\n",
        "        return\n",
        "\n",
        "    # Create a queue and add the root node\n",
        "    queue = deque([root])\n",
        "\n",
        "    print(\"BFS Traversal:\", end=\" \")\n",
        "\n",
        "    # While the queue is not empty\n",
        "    while queue:\n",
        "        # Dequeue a node from the front\n",
        "        current_node = queue.popleft()\n",
        "\n",
        "        # Visit the current node (print its value)\n",
        "        print(current_node.val, end=\" \")\n",
        "\n",
        "        # Enqueue the left child if it exists\n",
        "        if current_node.left:\n",
        "            queue.append(current_node.left)\n",
        "\n",
        "        # Enqueue the right child if it exists\n",
        "        if current_node.right:\n",
        "            queue.append(current_node.right)\n",
        "\n",
        "    print() # Print a newline at the end\n",
        "\n",
        "# Example Usage with the previously created sample binary tree (cell_id: 5062f098)\n",
        "# The tree structure:\n",
        "#        1\n",
        "#       / \\\n",
        "#      2   3\n",
        "#     / \\\n",
        "#    4   5\n",
        "# The 'root' variable from cell_id: 5062f098 is available in the kernel.\n",
        "\n",
        "print(\"--- Testing bfs_traversal with the sample binary tree ---\")\n",
        "# Assuming 'root' from cell_id: 5062f098 is available and represents the tree above\n",
        "# If not, recreate it:\n",
        "# root = TreeNode(1)\n",
        "# root.left = TreeNode(2)\n",
        "# root.right = TreeNode(3)\n",
        "# root.left.left = TreeNode(4)\n",
        "# root.left.right = TreeNode(5)\n",
        "bfs_traversal(root) # Expected output: BFS Traversal: 1 2 3 4 5\n",
        "\n",
        "# Example with an empty tree\n",
        "print(\"\\n--- Testing bfs_traversal with an empty tree ---\")\n",
        "empty_root = None\n",
        "bfs_traversal(empty_root) # Expected output: Tree is empty.\n",
        "\n",
        "# Example with a single node tree\n",
        "print(\"\\n--- Testing bfs_traversal with a single node tree ---\")\n",
        "single_node_root = TreeNode(100)\n",
        "bfs_traversal(single_node_root) # Expected output: BFS Traversal: 100"
      ],
      "execution_count": 103,
      "outputs": [
        {
          "output_type": "stream",
          "name": "stdout",
          "text": [
            "--- Testing bfs_traversal with the sample binary tree ---\n",
            "BFS Traversal: 10 5 15 2 7 18 \n",
            "\n",
            "--- Testing bfs_traversal with an empty tree ---\n",
            "Tree is empty.\n",
            "\n",
            "--- Testing bfs_traversal with a single node tree ---\n",
            "BFS Traversal: 100 \n"
          ]
        }
      ]
    },
    {
      "cell_type": "markdown",
      "metadata": {
        "id": "4d3463fa"
      },
      "source": [
        "**Reasoning**:\n",
        "Create a markdown cell explaining Depth-First Search (DFS) on trees, including its concept, how it works (using recursion or a stack), its time and space complexity for trees, and its common applications, as per instruction 4.\n",
        "\n"
      ]
    },
    {
      "cell_type": "markdown",
      "source": [
        "### Depth-First Search (DFS) on Trees\n",
        "\n",
        "**Depth-First Search (DFS)** is a graph traversal algorithm that explores as far as possible along each branch before backtracking. It goes deep into one branch before exploring other branches.\n",
        "\n",
        "#### How it Works:\n",
        "\n",
        "DFS can be implemented using **recursion** (which implicitly uses the call stack) or explicitly using a **stack** data structure.\n",
        "\n",
        "**Using Recursion (Implicit Stack):**\n",
        "\n",
        "1.  Start at the root node.\n",
        "2.  \"Visit\" the current node.\n",
        "3.  Recursively call the DFS function on the current node's children (e.g., left child, then right child for a binary tree).\n",
        "4.  The function calls will build up on the call stack, and when a branch is fully explored (reaches a leaf or a node with no unvisited children), the function returns and the stack unwinds, allowing exploration of other branches.\n",
        "\n",
        "**Using an Explicit Stack:**\n",
        "\n",
        "1.  Push the root node onto a stack.\n",
        "2.  While the stack is not empty:\n",
        "    a.  Pop a node from the top of the stack.\n",
        "    b.  \"Visit\" the popped node.\n",
        "    c.  Push the node's children onto the stack (often right child first, then left child for binary trees, so that the left child is processed first when popped).\n",
        "\n",
        "#### Time Complexity:\n",
        "\n",
        "*   **O(V + E)**, where V is the number of vertices (nodes) and E is the number of edges.\n",
        "*   For a tree, E = V - 1, so the time complexity is **O(V)** or **O(n)**, where n is the number of nodes. This is because each node and edge is visited at most once.\n",
        "\n",
        "#### Space Complexity:\n",
        "\n",
        "*   **O(H)**, where H is the height of the tree. This is due to the maximum depth of the recursion stack (or the explicit stack) in the worst case.\n",
        "*   In the worst case (a skewed tree like a linked list), the height can be proportional to V, so the space complexity can be **O(V)** or **O(n)**.\n",
        "*   In the best case (a balanced tree), the height is O(log n), so the space complexity is **O(log n)**.\n",
        "\n",
        "#### Relationship to Tree Traversals:\n",
        "\n",
        "The common tree traversal methods (Pre-order, In-order, Post-order) are all variations of Depth-First Search. The difference lies in *when* the node's value is \"visited\" relative to the recursive calls for its children:\n",
        "\n",
        "*   **Pre-order:** Visit the node, then traverse left, then traverse right (Root -> Left -> Right).\n",
        "*   **In-order:** Traverse left, then visit the node, then traverse right (Left -> Root -> Right).\n",
        "*   **Post-order:** Traverse left, then traverse right, then visit the node (Left -> Right -> Root).\n",
        "\n",
        "#### Common Applications on Trees:\n",
        "\n",
        "*   **Tree traversals** (Pre-order, In-order, Post-order).\n",
        "*   **Finding a specific node**.\n",
        "*   **Checking if a tree is symmetric**.\n",
        "*   **Finding the maximum depth (height)** of the tree.\n",
        "*   **Checking if a tree is a valid Binary Search Tree** (especially using in-order traversal)."
      ],
      "metadata": {
        "id": "J60zm_aGaShz"
      }
    },
    {
      "cell_type": "markdown",
      "metadata": {
        "id": "b3f960ac"
      },
      "source": [
        "## Graphs\n",
        "\n",
        "### Subtask:\n",
        "Understand the concept of graphs (nodes, edges, directed/undirected, weighted/unweighted)."
      ]
    },
    {
      "cell_type": "markdown",
      "metadata": {
        "id": "c3d6eebd"
      },
      "source": [
        "**Reasoning**:\n",
        "Explain the concept of a graph, including nodes, edges, and different types of graphs (directed, undirected, weighted, unweighted)."
      ]
    },
    {
      "cell_type": "markdown",
      "metadata": {
        "id": "78009da1"
      },
      "source": [
        "### Graphs\n",
        "\n",
        "A **Graph** is a non-linear data structure consisting of a set of **nodes** (also called vertices) and a set of **edges** that connect these nodes. Graphs are used to model relationships between objects.\n",
        "\n",
        "#### Key Components:\n",
        "\n",
        "*   **Nodes (Vertices)**: The fundamental entities in a graph. They represent objects or points.\n",
        "*   **Edges**: Connections between nodes. Edges represent relationships or links between the objects.\n",
        "\n",
        "#### Types of Graphs:\n",
        "\n",
        "Graphs can be classified based on the nature of their edges:\n",
        "\n",
        "*   **Undirected Graph**: Edges have no direction. If an edge connects node A and node B, it means there's a connection between A and B that can be traversed in either direction (A to B, or B to A). Relationships like friendships on social media can be represented as undirected graphs.\n",
        "*   **Directed Graph (Digraph)**: Edges have a direction. An edge from node A to node B is different from an edge from node B to node A. Traversal is only possible in the direction indicated by the edge. Relationships like one-way streets, task dependencies, or follows on social media can be represented as directed graphs.\n",
        "\n",
        "Graphs can also be classified based on whether their edges have associated values:\n",
        "\n",
        "*   **Unweighted Graph**: Edges do not have any associated value or cost. The connection simply exists.\n",
        "*   **Weighted Graph**: Edges have an associated value, called a **weight** or **cost**. This weight can represent distance, time, cost, capacity, etc. Road networks with distances between cities, or network latency between servers, can be represented as weighted graphs.\n",
        "\n",
        "A graph can be both directed and weighted, or undirected and unweighted, or any combination.\n",
        "\n",
        "Understanding these basic concepts of nodes, edges, and graph types is the first step to working with graphs."
      ]
    },
    {
      "cell_type": "markdown",
      "metadata": {
        "id": "01f7c751"
      },
      "source": [
        "**Reasoning**:\n",
        "Explain different graph representations (adjacency matrix, adjacency list) and their trade-offs."
      ]
    },
    {
      "cell_type": "markdown",
      "metadata": {
        "id": "4b1507b0"
      },
      "source": [
        "### Graph Representations\n",
        "\n",
        "How a graph is stored in memory significantly impacts the efficiency of different graph algorithms. The two most common ways to represent a graph are the adjacency matrix and the adjacency list.\n",
        "\n",
        "#### 1. Adjacency Matrix\n",
        "\n",
        "An **adjacency matrix** is a square matrix used to represent a finite graph. The dimensions of the matrix are V x V, where V is the number of vertices in the graph.\n",
        "\n",
        "*   **Representation**:\n",
        "    *   For an **unweighted** graph, the entry `matrix[i][j]` is typically 1 if there is an edge between vertex `i` and vertex `j`, and 0 otherwise.\n",
        "    *   For a **weighted** graph, `matrix[i][j]` would store the weight of the edge between `i` and `j`, and often 0 or infinity to represent no edge.\n",
        "    *   For a **directed** graph, `matrix[i][j]` is 1 (or weight) if there is an edge *from* vertex `i` *to* vertex `j`.\n",
        "\n",
        "*   **Space Complexity**: **O(V^2)**, where V is the number of vertices. This is because the matrix size is always V x V.\n",
        "\n",
        "*   **Pros**:\n",
        "    *   Checking for the existence of an edge between two vertices (`is_connected(i, j)`) is very fast, O(1).\n",
        "    *   Adding or removing an edge is also O(1).\n",
        "\n",
        "*   **Cons**:\n",
        "    *   Can consume a lot of space, especially for **sparse** graphs (graphs with relatively few edges compared to the number of possible edges), as the matrix is filled with many zeros.\n",
        "    *   Finding all neighbors of a vertex requires iterating through an entire row or column, which takes O(V) time.\n",
        "\n",
        "#### 2. Adjacency List\n",
        "\n",
        "An **adjacency list** is a collection of unordered lists (or other collections like dictionaries or sets) used to represent a finite graph. Each list (or dictionary/set) at index `i` in the collection stores the neighbors of vertex `i`.\n",
        "\n",
        "*   **Representation**:\n",
        "    *   For an **unweighted** graph, the entry for vertex `i` is a list of vertices that are adjacent to `i`.\n",
        "    *   For a **weighted** graph, the entry for vertex `i` is often a list of tuples or pairs, where each tuple contains a neighbor vertex and the weight of the edge connecting them (e.g., `[(neighbor1, weight1), (neighbor2, weight2)]`).\n",
        "    *   For a **directed** graph, the list for vertex `i` only contains the vertices that `i` has an edge *to*.\n",
        "\n",
        "*   **Space Complexity**: **O(V + E)**, where V is the number of vertices and E is the number of edges. This is because we store a list/collection for each vertex and each edge is represented once (in a directed graph) or twice (in an undirected graph).\n",
        "\n",
        "*   **Pros**:\n",
        "    *   More space-efficient for **sparse** graphs compared to adjacency matrices.\n",
        "    *   Finding all neighbors of a vertex is relatively fast, proportional to the number of neighbors (which can be much less than V in sparse graphs).\n",
        "\n",
        "*   **Cons**:\n",
        "    *   Checking for the existence of an edge between two vertices (`is_connected(i, j)`) can take O(degree(i)) time in the worst case (where degree(i) is the number of neighbors of i), which could be O(V) in dense graphs, although it's often faster in practice if lists are used or O(1) on average if dictionaries/sets are used for neighbors.\n",
        "\n",
        "#### Choosing a Representation:\n",
        "\n",
        "The choice between an adjacency matrix and an adjacency list depends on the specific graph and the operations you need to perform most frequently:\n",
        "\n",
        "*   Use an **adjacency matrix** for **dense** graphs (graphs with many edges) or when frequent checks for edge existence are required.\n",
        "*   Use an **adjacency list** for **sparse** graphs (graphs with few edges) or when frequent iteration over a vertex's neighbors is required. Adjacency lists are generally more common in practice for representing typical graphs encountered in algorithms."
      ]
    },
    {
      "cell_type": "markdown",
      "metadata": {
        "id": "69dfcd2c"
      },
      "source": [
        "**Reasoning**:\n",
        "Offer to proceed with exploring graph traversal algorithms (BFS and DFS) as the next logical step in understanding graphs."
      ]
    },
    {
      "cell_type": "markdown",
      "metadata": {
        "id": "3aad21cd"
      },
      "source": [
        "**Subtask**: Explore graph traversal algorithms (BFS, DFS)."
      ]
    },
    {
      "cell_type": "markdown",
      "metadata": {
        "id": "5b1f943a"
      },
      "source": [
        "**Reasoning**:\n",
        "Explain and demonstrate the Breadth-First Search (BFS) algorithm for graphs."
      ]
    },
    {
      "cell_type": "markdown",
      "metadata": {
        "id": "a1578e04"
      },
      "source": [
        "### Breadth-First Search (BFS) on Graphs\n",
        "\n",
        "**Breadth-First Search (BFS)** is a graph traversal algorithm that explores a graph level by level. It starts at a source node and visits all of its immediate neighbors, then all of their unvisited neighbors, and so on.\n",
        "\n",
        "#### How it Works:\n",
        "\n",
        "BFS typically uses a **queue** data structure and a set (or list) to keep track of visited nodes.\n",
        "\n",
        "1.  Start by adding the source node to the queue and marking it as visited.\n",
        "2.  While the queue is not empty:\n",
        "    a.  Dequeue a node from the front of the queue.\n",
        "    b.  \"Visit\" the dequeued node (e.g., print its value).\n",
        "    c.  For each of the dequeued node's neighbors:\n",
        "        i.  If the neighbor has not been visited, mark it as visited and enqueue it to the rear of the queue.\n",
        "3.  Repeat until the queue is empty.\n",
        "\n",
        "#### Time Complexity:\n",
        "\n",
        "*   **O(V + E)**, where V is the number of vertices and E is the number of edges. This is because each vertex and each edge is visited at most once.\n",
        "\n",
        "#### Space Complexity:\n",
        "\n",
        "*   **O(V)**, where V is the number of vertices. This is due to the space used by the queue and the set (or list) to keep track of visited nodes. In the worst case, the queue might hold all vertices at a particular level.\n",
        "\n",
        "#### Common Applications on Graphs:\n",
        "\n",
        "*   **Finding the shortest path** between two nodes in an unweighted graph (BFS finds the path with the fewest edges).\n",
        "*   **Finding all connected components** in a graph.\n",
        "*   **Checking if a graph is bipartite**.\n",
        "*   **Crawling web pages** (starting from a link and visiting all linked pages level by level)."
      ]
    },
    {
      "cell_type": "code",
      "metadata": {
        "colab": {
          "base_uri": "https://localhost:8080/"
        },
        "id": "42a0fd91",
        "outputId": "eaa18e20-3f06-459f-fcb2-012db3f9d018"
      },
      "source": [
        "# Implementing BFS on a Graph using Adjacency List\n",
        "\n",
        "from collections import deque\n",
        "\n",
        "# We'll use an adjacency list representation for the graph\n",
        "graph_adj_list = {\n",
        "    'A': ['B', 'C'],\n",
        "    'B': ['A', 'D', 'E'],\n",
        "    'C': ['A', 'F'],\n",
        "    'D': ['B'],\n",
        "    'E': ['B', 'F'],\n",
        "    'F': ['C', 'E']\n",
        "}\n",
        "\n",
        "def bfs_traversal_graph(graph, start_node):\n",
        "    \"\"\"\n",
        "    Performs Breadth-First Search (BFS) traversal on a graph and prints nodes.\n",
        "\n",
        "    Args:\n",
        "        graph: The graph represented as an adjacency list (dictionary).\n",
        "        start_node: The node to start the traversal from.\n",
        "    \"\"\"\n",
        "    # Use a set to keep track of visited nodes\n",
        "    visited = set()\n",
        "    # Use a deque (double-ended queue) for the queue\n",
        "    queue = deque([start_node])\n",
        "\n",
        "    # Mark the start node as visited\n",
        "    visited.add(start_node)\n",
        "\n",
        "    print(f\"BFS Traversal starting from {start_node}:\", end=\" \")\n",
        "\n",
        "    # While the queue is not empty\n",
        "    while queue:\n",
        "        # Dequeue a node from the front\n",
        "        current_node = queue.popleft()\n",
        "\n",
        "        # Visit the current node (print its value)\n",
        "        print(current_node, end=\" \")\n",
        "\n",
        "        # Get the neighbors of the current node\n",
        "        neighbors = graph.get(current_node, []) # Use .get to handle nodes with no neighbors\n",
        "\n",
        "        # For each neighbor\n",
        "        for neighbor in neighbors:\n",
        "            # If the neighbor has not been visited\n",
        "            if neighbor not in visited:\n",
        "                # Mark as visited and enqueue\n",
        "                visited.add(neighbor)\n",
        "                queue.append(neighbor)\n",
        "\n",
        "    print() # Print a newline at the end\n",
        "\n",
        "# Example Usage:\n",
        "print(\"--- Testing BFS Traversal ---\")\n",
        "bfs_traversal_graph(graph_adj_list, 'A') # Expected output: BFS Traversal starting from A: A B C D E F\n",
        "bfs_traversal_graph(graph_adj_list, 'D') # Expected output: BFS Traversal starting from D: D B A E C F"
      ],
      "execution_count": 104,
      "outputs": [
        {
          "output_type": "stream",
          "name": "stdout",
          "text": [
            "--- Testing BFS Traversal ---\n",
            "BFS Traversal starting from A: A B C D E F \n",
            "BFS Traversal starting from D: D B A E C F \n"
          ]
        }
      ]
    },
    {
      "cell_type": "markdown",
      "metadata": {
        "id": "a3469d26"
      },
      "source": [
        "Next, **Depth-First Search (DFS)**:"
      ]
    },
    {
      "cell_type": "markdown",
      "metadata": {
        "id": "4bae5b42"
      },
      "source": [
        "**Reasoning**:\n",
        "Explain and demonstrate the Depth-First Search (DFS) algorithm for graphs using both recursive and iterative approaches."
      ]
    },
    {
      "cell_type": "markdown",
      "metadata": {
        "id": "20ff6f91"
      },
      "source": [
        "### Depth-First Search (DFS) on Graphs\n",
        "\n",
        "**Depth-First Search (DFS)** is a graph traversal algorithm that explores as far as possible along each branch before backtracking. It goes deep into one branch before exploring other branches.\n",
        "\n",
        "#### How it Works:\n",
        "\n",
        "DFS can be implemented using **recursion** (which implicitly uses the call stack) or explicitly using a **stack** data structure. A set (or list) is used to keep track of visited nodes.\n",
        "\n",
        "**Using Recursion (Implicit Stack):**\n",
        "\n",
        "1.  Start at a source node and mark it as visited.\n",
        "2.  \"Visit\" the current node.\n",
        "3.  For each of the current node's unvisited neighbors:\n",
        "    a.  Recursively call the DFS function on that neighbor.\n",
        "4.  The recursion unfolds as branches are fully explored.\n",
        "\n",
        "**Using an Explicit Stack:**\n",
        "\n",
        "1.  Push the source node onto a stack and mark it as visited.\n",
        "2.  While the stack is not empty:\n",
        "    a.  Pop a node from the top of the stack.\n",
        "    b.  \"Visit\" the popped node (if it hasn't been visited yet - a set is crucial here to avoid reprocessing).\n",
        "    c.  For each of the popped node's unvisited neighbors:\n",
        "        i.  Mark the neighbor as visited and push it onto the stack.\n",
        "\n",
        "#### Time Complexity:\n",
        "\n",
        "*   **O(V + E)**, where V is the number of vertices and E is the number of edges. This is because each vertex and each edge is visited at most once.\n",
        "\n",
        "#### Space Complexity:\n",
        "\n",
        "*   **O(V)**, where V is the number of vertices. This is due to the maximum depth of the recursion stack (or the explicit stack) in the worst case (a skewed graph or a graph with a long path). In the worst case, the stack might hold all vertices in a single path.\n",
        "\n",
        "#### Common Applications on Graphs:\n",
        "\n",
        "*   **Finding connected components**.\n",
        "*   **Detecting cycles** in a graph.\n",
        "*   **Topological sorting** (for Directed Acyclic Graphs - DAGs).\n",
        "*   **Solving mazes and puzzles** (finding a path from start to end).\n",
        "*   **Finding bridges and articulation points** in a graph."
      ]
    },
    {
      "cell_type": "code",
      "metadata": {
        "colab": {
          "base_uri": "https://localhost:8080/"
        },
        "id": "2fc4544c",
        "outputId": "4713e0d9-21fa-4caa-c356-d754e8d30372"
      },
      "source": [
        "# Implementing DFS on a Graph using Adjacency List (Recursive)\n",
        "\n",
        "# We'll use the same graph_adj_list as defined for BFS\n",
        "# graph_adj_list = {\n",
        "#     'A': ['B', 'C'],\n",
        "#     'B': ['A', 'D', 'E'],\n",
        "#     'C': ['A', 'F'],\n",
        "#     'D': ['B'],\n",
        "#     'E': ['B', 'F'],\n",
        "#     'F': ['C', 'E']\n",
        "# }\n",
        "\n",
        "def dfs_traversal_recursive(graph, node, visited):\n",
        "    \"\"\"\n",
        "    Performs Depth-First Search (DFS) traversal on a graph recursively.\n",
        "\n",
        "    Args:\n",
        "        graph: The graph represented as an adjacency list (dictionary).\n",
        "        node: The current node to visit.\n",
        "        visited: A set to keep track of visited nodes.\n",
        "    \"\"\"\n",
        "    # Mark the current node as visited\n",
        "    visited.add(node)\n",
        "    # Visit the current node (print its value)\n",
        "    print(node, end=\" \")\n",
        "\n",
        "    # Get the neighbors of the current node\n",
        "    neighbors = graph.get(node, [])\n",
        "\n",
        "    # Recursively visit each unvisited neighbor\n",
        "    for neighbor in neighbors:\n",
        "        if neighbor not in visited:\n",
        "            dfs_traversal_recursive(graph, neighbor, visited)\n",
        "\n",
        "# Example Usage (Recursive):\n",
        "print(\"--- Testing DFS Traversal (Recursive) ---\")\n",
        "visited_recursive = set() # Initialize a set to keep track of visited nodes for this traversal\n",
        "dfs_traversal_recursive(graph_adj_list, 'A', visited_recursive) # Expected output (order may vary): A B D E F C\n",
        "print() # Print a newline\n",
        "\n",
        "# Implementing DFS on a Graph using Adjacency List (Iterative)\n",
        "\n",
        "def dfs_traversal_iterative(graph, start_node):\n",
        "    \"\"\"\n",
        "    Performs Depth-First Search (DFS) traversal on a graph iteratively using a stack.\n",
        "\n",
        "    Args:\n",
        "        graph: The graph represented as an adjacency list (dictionary).\n",
        "        start_node: The node to start the traversal from.\n",
        "    \"\"\"\n",
        "    # Use a set to keep track of visited nodes\n",
        "    visited = set()\n",
        "    # Use a list as a stack (append for push, pop for pop)\n",
        "    stack = [start_node]\n",
        "\n",
        "    # Mark the start node as visited (can mark when pushing or popping, but marking on push is common)\n",
        "    visited.add(start_node)\n",
        "\n",
        "    print(f\"\\nDFS Traversal (Iterative) starting from {start_node}:\", end=\" \")\n",
        "\n",
        "    # While the stack is not empty\n",
        "    while stack:\n",
        "        # Pop a node from the top of the stack\n",
        "        current_node = stack.pop()\n",
        "\n",
        "        # Visit the current node (print its value)\n",
        "        print(current_node, end=\" \")\n",
        "\n",
        "        # Get the neighbors of the current node\n",
        "        neighbors = graph.get(current_node, [])\n",
        "\n",
        "        # Push unvisited neighbors onto the stack\n",
        "        # Note: To get the same order as recursive DFS (visiting left children first),\n",
        "        # we often push neighbors in reverse order.\n",
        "        for neighbor in reversed(neighbors):\n",
        "            if neighbor not in visited:\n",
        "                visited.add(neighbor)\n",
        "                stack.append(neighbor)\n",
        "\n",
        "    print() # Print a newline at the end\n",
        "\n",
        "# Example Usage (Iterative):\n",
        "print(\"--- Testing DFS Traversal (Iterative) ---\")\n",
        "dfs_traversal_iterative(graph_adj_list, 'A') # Expected output (order may vary): A C F E B D"
      ],
      "execution_count": 105,
      "outputs": [
        {
          "output_type": "stream",
          "name": "stdout",
          "text": [
            "--- Testing DFS Traversal (Recursive) ---\n",
            "A B D E F C \n",
            "--- Testing DFS Traversal (Iterative) ---\n",
            "\n",
            "DFS Traversal (Iterative) starting from A: A B D E F C \n"
          ]
        }
      ]
    },
    {
      "cell_type": "markdown",
      "metadata": {
        "id": "b3beb098"
      },
      "source": [
        "**Subtask**: Understand common graph problems (shortest path - Dijkstra's, Bellman-Ford - optional, minimum spanning tree - Prim's, Kruskal's - optional, topological sort, cycle detection)."
      ]
    },
    {
      "cell_type": "markdown",
      "metadata": {
        "id": "bec770c4"
      },
      "source": [
        "**Reasoning**:\n",
        "Explain the concept of shortest path problems and introduce Dijkstra's algorithm for graphs with non-negative edge weights."
      ]
    },
    {
      "cell_type": "markdown",
      "metadata": {
        "id": "97bef7e7"
      },
      "source": [
        "### Shortest Path Problems\n",
        "\n",
        "Shortest path problems are fundamental in graph theory and involve finding a path between two vertices (or a vertex and all other vertices) such that the sum of the weights of the edges along the path is minimized.\n",
        "\n",
        "#### Types of Shortest Path Problems:\n",
        "\n",
        "*   **Single Source Shortest Path (SSSP)**: Find the shortest paths from a single source vertex to all other vertices in the graph.\n",
        "*   **Single Destination Shortest Path**: Find the shortest paths from all vertices to a single destination vertex. This can be reduced to the SSSP problem by reversing the direction of all edges in a directed graph.\n",
        "*   **All-Pairs Shortest Path (APSP)**: Find the shortest paths between all pairs of vertices in the graph.\n",
        "\n",
        "#### Introduction to Dijkstra's Algorithm\n",
        "\n",
        "**Dijkstra's Algorithm** is a popular and efficient algorithm for solving the **Single Source Shortest Path (SSSP)** problem on a graph with **non-negative** edge weights.\n",
        "\n",
        "*   **How it works (High-Level)**:\n",
        "    1.  It maintains a set of visited vertices and a set of unvisited vertices.\n",
        "    2.  It also maintains a distance value for each vertex, representing the shortest distance found so far from the source vertex to that vertex. Initially, the distance to the source is 0, and to all other vertices is infinity.\n",
        "    3.  It repeatedly selects the unvisited vertex with the smallest known distance from the source.\n",
        "    4.  For the selected vertex, it updates the distances of its unvisited neighbors if a shorter path through the current vertex is found.\n",
        "    5.  The selected vertex is then marked as visited.\n",
        "    6.  Steps 3-5 are repeated until all vertices are visited or the destination vertex is reached (if looking for the shortest path to a specific vertex).\n",
        "\n",
        "*   **Key Idea**: The algorithm is greedy. At each step, it makes the locally optimal choice of selecting the unvisited vertex closest to the source, trusting that this will lead to the overall shortest path. This works because of the non-negative edge weights.\n",
        "\n",
        "*   **Data Structures Used**: A priority queue (min-heap) is often used to efficiently select the unvisited vertex with the smallest distance. A dictionary or array is used to store the current shortest distances and possibly the predecessors for reconstructing the path.\n",
        "\n",
        "*   **Time Complexity**:\n",
        "    *   Using a standard list to find the minimum distance vertex: O(V^2)\n",
        "    *   Using a priority queue (min-heap): **O(E log V)** or **O((V + E) log V)**, which is much more efficient for sparse graphs.\n",
        "\n",
        "*   **Limitations**: Dijkstra's algorithm does not work correctly on graphs with **negative** edge weights because the greedy approach might not find the true shortest path. For graphs with negative weights, algorithms like the Bellman-Ford algorithm are used.\n",
        "\n",
        "Let's see a Python implementation of Dijkstra's algorithm using an adjacency list and a priority queue."
      ]
    },
    {
      "cell_type": "code",
      "metadata": {
        "colab": {
          "base_uri": "https://localhost:8080/"
        },
        "id": "01cfbcf0",
        "outputId": "19bae215-12bf-4e22-c69e-e041454ea4aa"
      },
      "source": [
        "import heapq # Import the heapq module for priority queue\n",
        "\n",
        "def dijkstra(graph, start_node):\n",
        "    \"\"\"\n",
        "    Implements Dijkstra's algorithm to find the shortest paths from a start node\n",
        "    to all other nodes in a weighted graph with non-negative edge weights.\n",
        "\n",
        "    Args:\n",
        "        graph: A dictionary representing the graph as an adjacency list.\n",
        "               Keys are nodes, values are lists of tuples (neighbor, weight).\n",
        "               Example: {'A': [('B', 1), ('C', 4)], 'B': [('C', 2), ('D', 5)], ...}\n",
        "        start_node: The starting node.\n",
        "\n",
        "    Returns:\n",
        "        A dictionary where keys are nodes and values are the shortest distances\n",
        "        from the start_node to that node. Returns infinity if a node is unreachable.\n",
        "    \"\"\"\n",
        "    # Initialize distances dictionary: distance to start_node is 0, others are infinity\n",
        "    distances = {node: float('infinity') for node in graph}\n",
        "    distances[start_node] = 0\n",
        "\n",
        "    # Initialize a priority queue (min-heap) with the start node and its distance\n",
        "    # The heap stores tuples of (distance, node)\n",
        "    priority_queue = [(0, start_node)]\n",
        "\n",
        "    # Use a set to keep track of visited nodes\n",
        "    visited = set()\n",
        "\n",
        "    # While the priority queue is not empty\n",
        "    while priority_queue:\n",
        "        # Get the node with the smallest distance from the priority queue\n",
        "        current_distance, current_node = heapq.heappop(priority_queue)\n",
        "\n",
        "        # If the current node has already been visited, skip it\n",
        "        if current_node in visited:\n",
        "            continue\n",
        "\n",
        "        # Mark the current node as visited\n",
        "        visited.add(current_node)\n",
        "\n",
        "        # If the current distance is greater than the recorded distance, skip (outdated entry)\n",
        "        if current_distance > distances[current_node]:\n",
        "             continue\n",
        "\n",
        "        # Explore neighbors of the current node\n",
        "        # Use .get to handle nodes that might not have neighbors in the adjacency list\n",
        "        for neighbor, weight in graph.get(current_node, []):\n",
        "            distance = current_distance + weight\n",
        "\n",
        "            # If a shorter path to the neighbor is found\n",
        "            if distance < distances[neighbor]:\n",
        "                distances[neighbor] = distance # Update the distance\n",
        "                heapq.heappush(priority_queue, (distance, neighbor)) # Add/update neighbor in the priority queue\n",
        "\n",
        "    return distances\n",
        "\n",
        "# Example Usage:\n",
        "# Represent the graph as an adjacency list with weights\n",
        "# Example graph:\n",
        "# A --1--> B --2--> C\n",
        "# |        |        |\n",
        "# 4        5        3\n",
        "# |        |        |\n",
        "# C <------ B <----- F\n",
        "#          ^       /\n",
        "#          |      / 5\n",
        "#          |     /\n",
        "#          E ---4--> F\n",
        "#\n",
        "weighted_graph = {\n",
        "    'A': [('B', 1), ('C', 4)],\n",
        "    'B': [('C', 2), ('D', 5), ('E', 2)], # Added edge to E with weight 2\n",
        "    'C': [('A', 4), ('F', 3)], # Added edge to F with weight 3\n",
        "    'D': [('B', 5)],\n",
        "    'E': [('B', 2), ('F', 4)], # Added edge to F with weight 4\n",
        "    'F': [('C', 3), ('E', 5)] # Added edge to E with weight 5\n",
        "}\n",
        "\n",
        "print(\"--- Testing Dijkstra's Algorithm ---\")\n",
        "\n",
        "start_node = 'A'\n",
        "shortest_distances = dijkstra(weighted_graph, start_node)\n",
        "\n",
        "print(f\"Shortest distances from node {start_node}:\")\n",
        "for node, distance in shortest_distances.items():\n",
        "    print(f\"To {node}: {distance}\")\n",
        "\n",
        "# Example with a different start node\n",
        "print(\"\\n--- Testing Dijkstra's Algorithm from node E ---\")\n",
        "start_node_E = 'E'\n",
        "shortest_distances_E = dijkstra(weighted_graph, start_node_E)\n",
        "print(f\"Shortest distances from node {start_node_E}:\")\n",
        "for node, distance in shortest_distances_E.items():\n",
        "    print(f\"To {node}: {distance}\")"
      ],
      "execution_count": 106,
      "outputs": [
        {
          "output_type": "stream",
          "name": "stdout",
          "text": [
            "--- Testing Dijkstra's Algorithm ---\n",
            "Shortest distances from node A:\n",
            "To A: 0\n",
            "To B: 1\n",
            "To C: 3\n",
            "To D: 6\n",
            "To E: 3\n",
            "To F: 6\n",
            "\n",
            "--- Testing Dijkstra's Algorithm from node E ---\n",
            "Shortest distances from node E:\n",
            "To A: 8\n",
            "To B: 2\n",
            "To C: 4\n",
            "To D: 7\n",
            "To E: 0\n",
            "To F: 4\n"
          ]
        }
      ]
    },
    {
      "cell_type": "markdown",
      "metadata": {
        "id": "e8d7ce47"
      },
      "source": [
        "**Subtask**: Understand the concept of DP (overlapping subproblems, optimal substructure)."
      ]
    },
    {
      "cell_type": "markdown",
      "metadata": {
        "id": "f2fec66d"
      },
      "source": [
        "**Reasoning**:\n",
        "Explain and demonstrate the concept of Dynamic Programming, including overlapping subproblems and optimal substructure."
      ]
    },
    {
      "cell_type": "markdown",
      "metadata": {
        "id": "482c1216"
      },
      "source": [
        "### Dynamic Programming (DP)\n",
        "\n",
        "Dynamic Programming is an algorithmic technique used to solve problems by breaking them down into smaller, simpler subproblems and storing the results of these subproblems to avoid redundant computations. It's typically applied to optimization problems where you need to find the best solution among many possibilities.\n",
        "\n",
        "#### Core Concepts of Dynamic Programming:\n",
        "\n",
        "1.  **Overlapping Subproblems**: The problem can be broken down into subproblems that are reused multiple times. Instead of recomputing the solution for these subproblems each time, DP stores their results.\n",
        "2.  **Optimal Substructure**: The optimal solution to the problem can be constructed from the optimal solutions of its subproblems. This means that if you have the best solutions for the smaller parts, you can combine them to get the best solution for the whole.\n",
        "\n",
        "#### How to Identify Problems Solvable with DP:\n",
        "\n",
        "Look for problems that exhibit the two core concepts:\n",
        "\n",
        "*   **Recursive Structure**: Can you define the problem's solution in terms of solutions to smaller instances of the same problem? This suggests a recursive relationship.\n",
        "*   **Overlapping Subproblems**: When you trace the recursive calls, do you see the same subproblems being calculated multiple times? This is a strong indicator that DP can be applied.\n",
        "*   **Optimization Goal**: Does the problem ask for the minimum, maximum, longest, shortest, etc., value? DP is often used for optimization problems.\n",
        "\n",
        "#### Contrast with Recursion:\n",
        "\n",
        "While DP often starts with identifying a recursive relationship, the key difference is how overlapping subproblems are handled:\n",
        "\n",
        "*   **Pure Recursion**: Recomputes the same subproblems repeatedly, leading to exponential time complexity in many cases.\n",
        "*   **Dynamic Programming**: Solves each subproblem only once and stores the result (memoization or tabulation), significantly reducing time complexity.\n",
        "\n",
        "#### Two Main Approaches to DP:\n",
        "\n",
        "1.  **Memoization (Top-Down)**:\n",
        "    *   Start with the original problem and recursively break it down.\n",
        "    *   Store the results of subproblems in a cache (e.g., a dictionary or array) as they are computed.\n",
        "    *   Before computing a subproblem, check if its result is already in the cache. If yes, return the cached result.\n",
        "    *   This approach is often more intuitive to derive from a recursive solution.\n",
        "2.  **Tabulation (Bottom-Up)**:\n",
        "    *   Start by solving the smallest subproblems first.\n",
        "    *   Store their results in a table (e.g., an array).\n",
        "    *   Use the results of the smaller subproblems to compute the solutions for larger subproblems in a systematic order.\n",
        "    *   This approach often avoids the overhead of recursive function calls and can be more space-efficient in some cases.\n",
        "\n",
        "Let's start by looking at a classic example of a problem with overlapping subproblems that can be optimized using DP: calculating Fibonacci numbers. We'll demonstrate both the naive recursive approach and the memoization (top-down) approach."
      ]
    },
    {
      "cell_type": "markdown",
      "metadata": {
        "id": "44953a88"
      },
      "source": [
        "**Reasoning**:\n",
        "Demonstrate a naive recursive solution for Fibonacci to show overlapping subproblems and then demonstrate the memoization approach."
      ]
    },
    {
      "cell_type": "code",
      "metadata": {
        "colab": {
          "base_uri": "https://localhost:8080/"
        },
        "id": "8b557a1f",
        "outputId": "ffc3231f-2704-4c76-cc07-a6b1df6d1e08"
      },
      "source": [
        "# Naive Recursive Solution for Fibonacci (Illustrates Overlapping Subproblems)\n",
        "\n",
        "def fibonacci_naive(n):\n",
        "    \"\"\"\n",
        "    Calculates the nth Fibonacci number using a naive recursive approach.\n",
        "    This demonstrates overlapping subproblems.\n",
        "\n",
        "    Args:\n",
        "        n: A non-negative integer.\n",
        "\n",
        "    Returns:\n",
        "        The nth Fibonacci number.\n",
        "    \"\"\"\n",
        "    # Base cases\n",
        "    if n <= 1:\n",
        "        return n\n",
        "    # Recursive step\n",
        "    else:\n",
        "        return fibonacci_naive(n - 1) + fibonacci_naive(n - 2)\n",
        "\n",
        "# Example: Calculating fibonacci_naive(6)\n",
        "# This will repeatedly calculate fibonacci_naive(2), fibonacci_naive(1), fibonacci_naive(0), etc.\n",
        "\n",
        "print(\"--- Naive Recursive Fibonacci (demonstrating overlapping subproblems) ---\")\n",
        "# For larger values of n, this becomes very slow.\n",
        "# print(fibonacci_naive(30)) # Uncommenting this would show how slow it is\n",
        "\n",
        "# Memoization (Top-Down DP) Solution for Fibonacci\n",
        "\n",
        "def fibonacci_memoization(n, memo={}):\n",
        "    \"\"\"\n",
        "    Calculates the nth Fibonacci number using memoization (top-down DP).\n",
        "\n",
        "    Args:\n",
        "        n: A non-negative integer.\n",
        "        memo: A dictionary to store results of subproblems (the cache).\n",
        "\n",
        "    Returns:\n",
        "        The nth Fibonacci number.\n",
        "    \"\"\"\n",
        "    # Base cases\n",
        "    if n <= 1:\n",
        "        return n\n",
        "\n",
        "    # Check if the result for n is already in the memo\n",
        "    if n in memo:\n",
        "        return memo[n]\n",
        "\n",
        "    # If not in memo, calculate recursively and store the result\n",
        "    memo[n] = fibonacci_memoization(n - 1, memo) + fibonacci_memoization(n - 2, memo)\n",
        "\n",
        "    # Return the stored result\n",
        "    return memo[n]\n",
        "\n",
        "print(\"\\n--- Fibonacci using Memoization (Top-Down DP) ---\")\n",
        "print(f\"Fibonacci(6): {fibonacci_memoization(6)}\")   # Should be 8\n",
        "print(f\"Fibonacci(10): {fibonacci_memoization(10)}\") # Should be 55\n",
        "print(f\"Fibonacci(30): {fibonacci_memoization(30)}\") # Much faster now\n",
        "print(f\"Fibonacci(50): {fibonacci_memoization(50)}\") # Can compute larger values efficiently"
      ],
      "execution_count": 107,
      "outputs": [
        {
          "output_type": "stream",
          "name": "stdout",
          "text": [
            "--- Naive Recursive Fibonacci (demonstrating overlapping subproblems) ---\n",
            "\n",
            "--- Fibonacci using Memoization (Top-Down DP) ---\n",
            "Fibonacci(6): 8\n",
            "Fibonacci(10): 55\n",
            "Fibonacci(30): 832040\n",
            "Fibonacci(50): 12586269025\n"
          ]
        }
      ]
    },
    {
      "cell_type": "markdown",
      "metadata": {
        "id": "7d01b970"
      },
      "source": [
        "**Subtask**: Understand the concept of greedy algorithms (making locally optimal choices)."
      ]
    },
    {
      "cell_type": "markdown",
      "metadata": {
        "id": "f289512c"
      },
      "source": [
        "**Reasoning**:\n",
        "Understand the concept of greedy algorithms (making locally optimal choices)."
      ]
    },
    {
      "cell_type": "markdown",
      "metadata": {
        "id": "e44ea094"
      },
      "source": [
        "### Greedy Algorithms\n",
        "\n",
        "A **Greedy Algorithm** is an algorithmic paradigm that builds up a solution piece by piece, always choosing the next piece that offers the most obvious and immediate benefit. At each step, it makes a locally optimal choice in the hope that this choice will lead to a globally optimal solution.\n",
        "\n",
        "#### Core Concept:\n",
        "\n",
        "*   **Locally Optimal Choice**: At each step of the algorithm, a decision is made that is the best possible choice at that moment, without considering the future consequences of that choice.\n",
        "*   **Hope for Global Optimality**: The algorithm assumes that a sequence of locally optimal choices will lead to the overall optimal solution for the entire problem.\n",
        "\n",
        "#### When Does a Greedy Approach Work?\n",
        "\n",
        "Greedy algorithms are often simpler to implement and faster than other approaches like Dynamic Programming. However, they don't work for all optimization problems. A greedy approach is likely to work if the problem exhibits the following properties:\n",
        "\n",
        "1.  **Greedy Choice Property**: A globally optimal solution can be arrived at by making a locally optimal choice. That is, there exists an optimal solution that includes the greedy choice.\n",
        "2.  **Optimal Substructure**: The optimal solution to the entire problem contains within it optimal solutions to subproblems. (This is also a property of DP, but the way greedy algorithms use it is different).\n",
        "\n",
        "If a problem has these properties, you might be able to prove that a greedy algorithm will always produce the optimal solution. If it doesn't, a greedy approach might still provide a good, but not necessarily optimal, solution.\n",
        "\n",
        "#### Identifying Problems for a Greedy Approach:\n",
        "\n",
        "*   Does making the \"best\" choice right now seem like it would never prevent you from finding the overall best solution later?\n",
        "*   Can you define a metric or criteria to make the locally optimal choice at each step?\n",
        "*   Can you prove that the greedy choice property and optimal substructure hold?\n",
        "\n",
        "Examples of problems where greedy algorithms are often used include:\n",
        "\n",
        "*   Minimum Spanning Tree (Prim's and Kruskal's algorithms)\n",
        "*   Activity Selection Problem\n",
        "*   Huffman Coding\n",
        "*   Fractional Knapsack Problem (Note: The 0/1 Knapsack problem does NOT have the greedy choice property and is solved with DP).\n",
        "\n",
        "Let's look at a simple example where a greedy approach provides an optimal solution: the Activity Selection Problem."
      ]
    },
    {
      "cell_type": "markdown",
      "metadata": {
        "id": "600bb84f"
      },
      "source": [
        "**Reasoning**:\n",
        "Demonstrate a greedy algorithm using the Activity Selection Problem."
      ]
    },
    {
      "cell_type": "code",
      "metadata": {
        "colab": {
          "base_uri": "https://localhost:8080/"
        },
        "id": "79fd15f6",
        "outputId": "9d49c158-e034-4e05-99ef-439d1d34237c"
      },
      "source": [
        "# Example of a Greedy Algorithm: Activity Selection Problem\n",
        "\n",
        "def activity_selection(activities):\n",
        "    \"\"\"\n",
        "    Solves the Activity Selection Problem using a greedy approach.\n",
        "\n",
        "    Args:\n",
        "        activities: A list of tuples, where each tuple is (start_time, finish_time).\n",
        "\n",
        "    Returns:\n",
        "        A list of selected activities (tuples) that are non-overlapping.\n",
        "    \"\"\"\n",
        "    # Step 1: Sort activities by their finish times\n",
        "    # We use a lambda function as the key for sorting\n",
        "    sorted_activities = sorted(activities, key=lambda x: x[1])\n",
        "\n",
        "    # Step 2: Initialize the list of selected activities\n",
        "    selected_activities = []\n",
        "\n",
        "    # Step 3: Select the first activity (which has the earliest finish time)\n",
        "    if sorted_activities:\n",
        "        selected_activities.append(sorted_activities[0])\n",
        "        # Keep track of the finish time of the last selected activity\n",
        "        last_finish_time = sorted_activities[0][1]\n",
        "    else:\n",
        "        # No activities to select\n",
        "        print(\"No activities provided.\")\n",
        "        return []\n",
        "\n",
        "    # Step 4: Iterate through the remaining sorted activities\n",
        "    for i in range(1, len(sorted_activities)):\n",
        "        current_activity = sorted_activities[i]\n",
        "        current_start_time = current_activity[0]\n",
        "\n",
        "        # If the current activity starts after the last selected activity finishes\n",
        "        if current_start_time >= last_finish_time:\n",
        "            # Select this activity\n",
        "            selected_activities.append(current_activity)\n",
        "            # Update the finish time of the last selected activity\n",
        "            last_finish_time = current_activity[1]\n",
        "\n",
        "    return selected_activities\n",
        "\n",
        "# Example Usage:\n",
        "# Activities represented as (start_time, finish_time)\n",
        "activities = [(1, 4), (3, 5), (0, 6), (5, 7), (3, 8), (5, 9), (6, 10), (8, 11), (8, 12), (2, 14), (12, 16)]\n",
        "\n",
        "print(\"Original activities (start, finish):\")\n",
        "print(activities)\n",
        "\n",
        "selected = activity_selection(activities)\n",
        "\n",
        "print(\"\\nSelected non-overlapping activities (Greedy Approach):\")\n",
        "print(selected) # Expected output (order matters based on sorting): [(1, 4), (5, 7), (8, 11), (12, 16)]"
      ],
      "execution_count": 108,
      "outputs": [
        {
          "output_type": "stream",
          "name": "stdout",
          "text": [
            "Original activities (start, finish):\n",
            "[(1, 4), (3, 5), (0, 6), (5, 7), (3, 8), (5, 9), (6, 10), (8, 11), (8, 12), (2, 14), (12, 16)]\n",
            "\n",
            "Selected non-overlapping activities (Greedy Approach):\n",
            "[(1, 4), (5, 7), (8, 11), (12, 16)]\n"
          ]
        }
      ]
    },
    {
      "cell_type": "markdown",
      "metadata": {
        "id": "08d716b4"
      },
      "source": [
        "## Sliding Window Technique\n",
        "\n",
        "### Subtask:\n",
        "Understand the concept of a sliding window for subarray or substring problems."
      ]
    },
    {
      "cell_type": "markdown",
      "metadata": {
        "id": "54f0662d"
      },
      "source": [
        "**Reasoning**:\n",
        "Explain the concept of a sliding window for subarray or substring problems."
      ]
    },
    {
      "cell_type": "markdown",
      "metadata": {
        "id": "ac269f26"
      },
      "source": [
        "### Sliding Window Technique\n",
        "\n",
        "The **Sliding Window Technique** is an algorithmic approach used to solve problems on arrays or lists where we need to consider a contiguous sub-part (a \"window\") of the data. The \"window\" is a range of elements that \"slides\" over the data, typically from left to right.\n",
        "\n",
        "#### Core Concept:\n",
        "\n",
        "Instead of checking every possible subarray or substring (which can be inefficient, often O(n^2) or worse), the sliding window technique maintains a window and efficiently updates calculations as the window moves.\n",
        "\n",
        "*   **Window**: A contiguous sub-part of the input data, defined by a start and end point (e.g., indices `left` and `right`).\n",
        "*   **Sliding**: The window moves through the data. This usually involves incrementing the `right` pointer to expand the window and/or incrementing the `left` pointer to shrink the window.\n",
        "*   **Efficient Updates**: Calculations (like sum, count, frequency map, etc.) within the window are updated incrementally as elements are added or removed from the window, rather than being recomputed from scratch for each new window position.\n",
        "\n",
        "#### When to Use the Sliding Window Technique:\n",
        "\n",
        "Look for problems that involve:\n",
        "\n",
        "*   Arrays, lists, or strings.\n",
        "*   Finding a **contiguous** subarray or substring.\n",
        "*   Optimization problems (finding the maximum sum, minimum length, etc.) or problems involving a specific property within a contiguous section.\n",
        "*   Problems where a naive brute-force approach would involve checking all possible subarrays/substrings.\n",
        "\n",
        "#### Common Patterns:\n",
        "\n",
        "1.  **Fixed-Size Sliding Window**: The window size remains constant as it slides across the data.\n",
        "2.  **Variable-Size Sliding Window**: The window size changes based on certain conditions. The `right` pointer expands the window, and the `left` pointer shrinks it when a condition is met or violated.\n",
        "\n",
        "Let's start by demonstrating a **fixed-size sliding window** pattern: finding the maximum sum subarray of a given size `k`."
      ]
    },
    {
      "cell_type": "markdown",
      "metadata": {
        "id": "6dc7f3c7"
      },
      "source": [
        "**Reasoning**:\n",
        "Demonstrate the fixed-size sliding window pattern by implementing a function to find the maximum sum subarray of size k and providing example usage."
      ]
    },
    {
      "cell_type": "code",
      "metadata": {
        "colab": {
          "base_uri": "https://localhost:8080/"
        },
        "id": "83e7d18e",
        "outputId": "dee03331-f485-4495-c7aa-01bda8ab11ab"
      },
      "source": [
        "# Fixed-Size Sliding Window Pattern: Maximum Sum Subarray of Size k\n",
        "\n",
        "def max_sum_subarray_fixed_size(arr, k):\n",
        "    \"\"\"\n",
        "    Finds the maximum sum of a contiguous subarray of size k using the sliding window technique.\n",
        "\n",
        "    Args:\n",
        "        arr: The input list of numbers.\n",
        "        k: The fixed size of the subarray window.\n",
        "\n",
        "    Returns:\n",
        "        The maximum sum found, or None if the input is invalid.\n",
        "    \"\"\"\n",
        "    n = len(arr)\n",
        "    # Handle edge cases: if array is empty or k is invalid\n",
        "    if n == 0 or k <= 0 or k > n:\n",
        "        print(\"Invalid input: array is empty, k is non-positive, or k is larger than array size.\")\n",
        "        return None\n",
        "\n",
        "    # Calculate the sum of the first window (size k)\n",
        "    current_window_sum = sum(arr[:k])\n",
        "    max_sum = current_window_sum\n",
        "\n",
        "    print(f\"Initial window sum ({arr[:k]}): {current_window_sum}\")\n",
        "\n",
        "    # Slide the window across the array\n",
        "    # The window moves one element at a time, from index k to n-1\n",
        "    for i in range(k, n):\n",
        "        # To get the sum of the next window, subtract the element leaving the window (at i-k)\n",
        "        # and add the new element entering the window (at i)\n",
        "        current_window_sum = current_window_sum - arr[i - k] + arr[i]\n",
        "\n",
        "        # Update the maximum sum found so far\n",
        "        max_sum = max(max_sum, current_window_sum)\n",
        "\n",
        "        print(f\"Window from index {i-k+1} to {i} ({arr[i-k+1:i+1]}): Sum = {current_window_sum}\")\n",
        "\n",
        "\n",
        "    return max_sum\n",
        "\n",
        "# Example Usage:\n",
        "print(\"--- Testing Fixed-Size Sliding Window (Max Sum Subarray) ---\")\n",
        "input_array = [1, 4, 2, 10, 23, 3, 1, 0, 20]\n",
        "k_size = 4\n",
        "max_sum = max_sum_subarray_fixed_size(input_array, k_size)\n",
        "print(f\"\\nMaximum sum of a subarray of size {k_size}: {max_sum}\") # Expected: 10 + 23 + 3 + 1 = 37\n",
        "\n",
        "print(\"\\n--- Another Example ---\")\n",
        "input_array2 = [5, -2, 3, 1, 2]\n",
        "k_size2 = 3\n",
        "max_sum2 = max_sum_subarray_fixed_size(input_array2, k_size2)\n",
        "print(f\"\\nMaximum sum of a subarray of size {k_size2}: {max_sum2}\") # Expected: 3 + 1 + 2 = 6\n",
        "\n",
        "print(\"\\n--- Example with Edge Case (k > n) ---\")\n",
        "input_array3 = [1, 2, 3]\n",
        "k_size3 = 5\n",
        "max_sum3 = max_sum_subarray_fixed_size(input_array3, k_size3)\n",
        "print(f\"\\nMaximum sum: {max_sum3}\") # Expected: Invalid input and None\n",
        "\n",
        "print(\"\\n--- Example with Edge Case (Empty array) ---\")\n",
        "input_array4 = []\n",
        "k_size4 = 2\n",
        "max_sum4 = max_sum_subarray_fixed_size(input_array4, k_size4)\n",
        "print(f\"\\nMaximum sum: {max_sum4}\") # Expected: Invalid input and None"
      ],
      "execution_count": 109,
      "outputs": [
        {
          "output_type": "stream",
          "name": "stdout",
          "text": [
            "--- Testing Fixed-Size Sliding Window (Max Sum Subarray) ---\n",
            "Initial window sum ([1, 4, 2, 10]): 17\n",
            "Window from index 1 to 4 ([4, 2, 10, 23]): Sum = 39\n",
            "Window from index 2 to 5 ([2, 10, 23, 3]): Sum = 38\n",
            "Window from index 3 to 6 ([10, 23, 3, 1]): Sum = 37\n",
            "Window from index 4 to 7 ([23, 3, 1, 0]): Sum = 27\n",
            "Window from index 5 to 8 ([3, 1, 0, 20]): Sum = 24\n",
            "\n",
            "Maximum sum of a subarray of size 4: 39\n",
            "\n",
            "--- Another Example ---\n",
            "Initial window sum ([5, -2, 3]): 6\n",
            "Window from index 1 to 3 ([-2, 3, 1]): Sum = 2\n",
            "Window from index 2 to 4 ([3, 1, 2]): Sum = 6\n",
            "\n",
            "Maximum sum of a subarray of size 3: 6\n",
            "\n",
            "--- Example with Edge Case (k > n) ---\n",
            "Invalid input: array is empty, k is non-positive, or k is larger than array size.\n",
            "\n",
            "Maximum sum: None\n",
            "\n",
            "--- Example with Edge Case (Empty array) ---\n",
            "Invalid input: array is empty, k is non-positive, or k is larger than array size.\n",
            "\n",
            "Maximum sum: None\n"
          ]
        }
      ]
    }
  ]
}