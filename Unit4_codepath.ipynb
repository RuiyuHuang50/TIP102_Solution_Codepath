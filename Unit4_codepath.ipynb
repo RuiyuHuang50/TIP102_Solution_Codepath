{
  "nbformat": 4,
  "nbformat_minor": 0,
  "metadata": {
    "colab": {
      "provenance": [],
      "authorship_tag": "ABX9TyPv5VV9GDhR0LcHIbDKyLmm",
      "include_colab_link": true
    },
    "kernelspec": {
      "name": "python3",
      "display_name": "Python 3"
    },
    "language_info": {
      "name": "python"
    }
  },
  "cells": [
    {
      "cell_type": "markdown",
      "metadata": {
        "id": "view-in-github",
        "colab_type": "text"
      },
      "source": [
        "<a href=\"https://colab.research.google.com/github/RuiyuHuang50/TIP102_Solution_Codepath/blob/main/Unit4_codepath.ipynb\" target=\"_parent\"><img src=\"https://colab.research.google.com/assets/colab-badge.svg\" alt=\"Open In Colab\"/></a>"
      ]
    },
    {
      "cell_type": "markdown",
      "source": [
        "#cheatsheet\n"
      ],
      "metadata": {
        "id": "yFilR_AZxeHW"
      }
    },
    {
      "cell_type": "markdown",
      "source": [
        "The rules with regard to space complexity are:\n",
        "\n",
        "Most single-value variables take up O(1) space.\n",
        "booleans, integers, floats, etc.\n",
        "Sometimes these are called primitives\n",
        "Strings take up O(n) space where n is the string length\n",
        "Lists take up O(n) space where n is the list length\n",
        "Dictionaries take up O(2n) space which reduces to O(n) where n is the number of key-value pairs"
      ],
      "metadata": {
        "id": "uVOatdc_UGP5"
      }
    },
    {
      "cell_type": "code",
      "execution_count": null,
      "metadata": {
        "id": "bSeEV0oWxZ7T"
      },
      "outputs": [],
      "source": []
    },
    {
      "cell_type": "markdown",
      "source": [
        "#session1\n"
      ],
      "metadata": {
        "id": "Qe71ExIMxhX-"
      }
    },
    {
      "cell_type": "markdown",
      "source": [
        "##standard1\n"
      ],
      "metadata": {
        "id": "L-qpWbgRxtum"
      }
    },
    {
      "cell_type": "markdown",
      "source": [
        "###problem 1\n",
        "input: a list of dictionary\n",
        "output: a list of array\n"
      ],
      "metadata": {
        "id": "XgQrOoYn8Cps"
      }
    },
    {
      "cell_type": "code",
      "source": [
        "def extract_nft_names(nft_collection):\n",
        "  nft_name =[]\n",
        "  for nft in nft_collection:\n",
        "    nft_name.append(nft.get('name'))\n",
        "    # nft_name.append(nft['name'])\n",
        "    # Access the 'name' key of each nft dictionary\n",
        "  return nft_name\n",
        "\n",
        "nft_collection = [\n",
        "    {\"name\": \"Abstract Horizon\", \"creator\": \"ArtByAlex\", \"value\": 5.4},\n",
        "    {\"name\": \"Pixel Dreams\", \"creator\": \"DreamyPixel\", \"value\": 7.2},\n",
        "    {\"name\": \"Future City\", \"creator\": \"UrbanArt\", \"value\": 3.8}\n",
        "]\n",
        "print(extract_nft_names(nft_collection))\n",
        "# On, On"
      ],
      "metadata": {
        "colab": {
          "base_uri": "https://localhost:8080/"
        },
        "id": "_Cg__XQy8N20",
        "outputId": "76374dc3-d9b4-4341-c0e2-993c30f8dccd"
      },
      "execution_count": null,
      "outputs": [
        {
          "output_type": "stream",
          "name": "stdout",
          "text": [
            "['Abstract Horizon', 'Pixel Dreams', 'Future City']\n"
          ]
        }
      ]
    },
    {
      "cell_type": "markdown",
      "source": [
        "###problem2\n",
        " nft_names.append(nft[\"name\"])"
      ],
      "metadata": {
        "id": "oLDCzi6B93O4"
      }
    },
    {
      "cell_type": "markdown",
      "source": [
        "###problem3\n"
      ],
      "metadata": {
        "id": "e-me__k4bD9F"
      }
    },
    {
      "cell_type": "code",
      "source": [
        "from collections import Counter\n",
        "\n",
        "def identify_popular_creators(nft_collection):\n",
        "  # Use Counter to count the occurrences of each creator\n",
        "  creator_counts = Counter(nft['creator'] for nft in nft_collection)\n",
        "\n",
        "  # Identify creators with a count greater than 1\n",
        "  popular_creators = [creator for creator, count in creator_counts.items() if count > 1]\n",
        "\n",
        "  return popular_creators\n",
        "\n",
        "\n",
        "nft_collection = [\n",
        "    {\"name\": \"Abstract Horizon\", \"creator\": \"ArtByAlex\", \"value\": 5.4},\n",
        "    {\"name\": \"Pixel Dreams\", \"creator\": \"DreamyPixel\", \"value\": 7.2},\n",
        "    {\"name\": \"Urban Jungle\", \"creator\": \"ArtByAlex\", \"value\": 4.5}\n",
        "]\n",
        "\n",
        "nft_collection_2 = [\n",
        "    {\"name\": \"Crypto Kitty\", \"creator\": \"CryptoPets\", \"value\": 10.5},\n",
        "    {\"name\": \"Galactic Voyage\", \"creator\": \"SpaceArt\", \"value\": 6.7},\n",
        "    {\"name\": \"Future Galaxy\", \"creator\": \"SpaceArt\", \"value\": 8.3}\n",
        "]\n",
        "\n",
        "nft_collection_3 = [\n",
        "    {\"name\": \"Golden Hour\", \"creator\": \"SunsetArtist\", \"value\": 8.9}\n",
        "]\n",
        "\n",
        "print(identify_popular_creators(nft_collection))\n",
        "print(identify_popular_creators(nft_collection_2))\n",
        "print(identify_popular_creators(nft_collection_3))"
      ],
      "metadata": {
        "colab": {
          "base_uri": "https://localhost:8080/"
        },
        "id": "cZu548bWbHVt",
        "outputId": "fa8d9cb2-aac0-438f-931b-24a5b5a6a3bb"
      },
      "execution_count": null,
      "outputs": [
        {
          "output_type": "stream",
          "name": "stdout",
          "text": [
            "['ArtByAlex']\n",
            "['SpaceArt']\n",
            "[]\n"
          ]
        }
      ]
    },
    {
      "cell_type": "markdown",
      "source": [
        "###problem4\n"
      ],
      "metadata": {
        "id": "IKiapT5NdYl8"
      }
    },
    {
      "cell_type": "code",
      "source": [
        "def average_nft_value(nft_collection):\n",
        "  sum = 0\n",
        "  for nft in nft_collection:\n",
        "    sum += float(nft[\"value\"])\n",
        "  if len(nft_collection) > 0: # Avoid division by zero\n",
        "    avg = sum/len(nft_collection)\n",
        "  else:\n",
        "    avg = 0 # Or handle the empty list case as appropriate\n",
        "  return avg\n",
        "\n",
        "nft_collection = [\n",
        "    {\"name\": \"Abstract Horizon\", \"creator\": \"ArtByAlex\", \"value\": 5.4},\n",
        "    {\"name\": \"Pixel Dreams\", \"creator\": \"DreamyPixel\", \"value\": 7.2},\n",
        "    {\"name\": \"Urban Jungle\", \"creator\": \"ArtByAlex\", \"value\": 4.5}\n",
        "]\n",
        "print(average_nft_value(nft_collection))\n",
        "\n",
        "nft_collection_2 = [\n",
        "    {\"name\": \"Golden Hour\", \"creator\": \"SunsetArtist\", \"value\": 8.9},\n",
        "    {\"name\": \"Sunset Serenade\", \"creator\": \"SunsetArtist\", \"value\": 9.4}\n",
        "]\n",
        "print(average_nft_value(nft_collection_2))\n",
        "\n",
        "nft_collection_3 = []\n",
        "print(average_nft_value(nft_collection_3))"
      ],
      "metadata": {
        "colab": {
          "base_uri": "https://localhost:8080/"
        },
        "id": "IWMRRaHfdiub",
        "outputId": "d757f037-6f0f-44bf-f191-cc0cf4e6412e"
      },
      "execution_count": null,
      "outputs": [
        {
          "output_type": "stream",
          "name": "stdout",
          "text": [
            "5.7\n",
            "9.15\n",
            "0\n"
          ]
        }
      ]
    },
    {
      "cell_type": "markdown",
      "source": [
        "###problem5\n"
      ],
      "metadata": {
        "id": "5WS-3eA8eeFc"
      }
    },
    {
      "cell_type": "code",
      "source": [
        "def search_nft_by_tag(nft_collections, tag):\n",
        "    matching_nfts = []\n",
        "    for collection in nft_collections:\n",
        "        for nft in collection:\n",
        "            if tag in nft[\"tags\"]:\n",
        "                matching_nfts.append(nft[\"name\"])\n",
        "    return matching_nfts\n",
        "\n",
        "\n",
        "nft_collections = [\n",
        "    [\n",
        "        {\"name\": \"Abstract Horizon\", \"tags\": [\"abstract\", \"modern\"]},\n",
        "        {\"name\": \"Pixel Dreams\", \"tags\": [\"pixel\", \"retro\"]}\n",
        "    ],\n",
        "    [\n",
        "        {\"name\": \"Urban Jungle\", \"tags\": [\"urban\", \"landscape\"]},\n",
        "        {\"name\": \"City Lights\", \"tags\": [\"modern\", \"landscape\"]}\n",
        "    ]\n",
        "]\n",
        "\n",
        "nft_collections_2 = [\n",
        "    [\n",
        "        {\"name\": \"Golden Hour\", \"tags\": [\"sunset\", \"landscape\"]},\n",
        "        {\"name\": \"Sunset Serenade\", \"tags\": [\"sunset\", \"serene\"]}\n",
        "    ],\n",
        "    [\n",
        "        {\"name\": \"Pixel Odyssey\", \"tags\": [\"pixel\", \"adventure\"]}\n",
        "    ]\n",
        "]\n",
        "\n",
        "nft_collections_3 = [\n",
        "    [\n",
        "        {\"name\": \"The Last Piece\", \"tags\": [\"finale\", \"abstract\"]}\n",
        "    ],\n",
        "    [\n",
        "        {\"name\": \"Ocean Waves\", \"tags\": [\"seascape\", \"calm\"]},\n",
        "        {\"name\": \"Mountain Peak\", \"tags\": [\"landscape\", \"adventure\"]}\n",
        "    ]\n",
        "]\n",
        "\n",
        "print(search_nft_by_tag(nft_collections, \"landscape\"))\n",
        "print(search_nft_by_tag(nft_collections_2, \"sunset\"))\n",
        "print(search_nft_by_tag(nft_collections_3, \"modern\"))"
      ],
      "metadata": {
        "colab": {
          "base_uri": "https://localhost:8080/"
        },
        "id": "dAvQE2lKesNu",
        "outputId": "3ec44791-846f-411b-8fa9-3cddb8b50331"
      },
      "execution_count": null,
      "outputs": [
        {
          "output_type": "stream",
          "name": "stdout",
          "text": [
            "['Urban Jungle', 'City Lights']\n",
            "['Golden Hour', 'Sunset Serenade']\n",
            "[]\n"
          ]
        }
      ]
    },
    {
      "cell_type": "markdown",
      "source": [
        "###problem6\n"
      ],
      "metadata": {
        "id": "9sp38J5cDYPH"
      }
    },
    {
      "cell_type": "code",
      "source": [
        "from collections import deque\n",
        "def process_nft_queue(nft_queue):\n",
        "  queue = deque()\n",
        "  for nft in nft_queue:\n",
        "    queue.append(nft[\"name\"])\n",
        "  return list(queue)\n",
        "\n",
        "\n",
        "nft_queue = [\n",
        "    {\"name\": \"Abstract Horizon\", \"processing_time\": 2},\n",
        "    {\"name\": \"Pixel Dreams\", \"processing_time\": 3},\n",
        "    {\"name\": \"Urban Jungle\", \"processing_time\": 1}\n",
        "]\n",
        "print(process_nft_queue(nft_queue))\n",
        "\n",
        "nft_queue_2 = [\n",
        "    {\"name\": \"Golden Hour\", \"processing_time\": 4},\n",
        "    {\"name\": \"Sunset Serenade\", \"processing_time\": 2},\n",
        "    {\"name\": \"Ocean Waves\", \"processing_time\": 3}\n",
        "]\n",
        "print(process_nft_queue(nft_queue_2))\n",
        "\n",
        "nft_queue_3 = [\n",
        "    {\"name\": \"Crypto Kitty\", \"processing_time\": 5},\n",
        "    {\"name\": \"Galactic Voyage\", \"processing_time\": 6}\n",
        "]\n",
        "print(process_nft_queue(nft_queue_3))"
      ],
      "metadata": {
        "colab": {
          "base_uri": "https://localhost:8080/"
        },
        "id": "4T1A_fqaDu_2",
        "outputId": "08b8b14b-4347-45f0-baf2-14281dbf821e"
      },
      "execution_count": null,
      "outputs": [
        {
          "output_type": "stream",
          "name": "stdout",
          "text": [
            "['Abstract Horizon', 'Pixel Dreams', 'Urban Jungle']\n",
            "['Golden Hour', 'Sunset Serenade', 'Ocean Waves']\n",
            "['Crypto Kitty', 'Galactic Voyage']\n"
          ]
        }
      ]
    },
    {
      "cell_type": "markdown",
      "source": [
        "###problem7\n",
        "input: a list of string\n",
        "output: boolean\n",
        "\n",
        "Plan:\n",
        "1."
      ],
      "metadata": {
        "id": "ZrrLg5qyFbZI"
      }
    },
    {
      "cell_type": "code",
      "source": [
        "def validate_nft_actions(actions):\n",
        "  stack =[]\n",
        "  for action in actions:\n",
        "    if action == \"remove\" and stack:\n",
        "      stack.pop()\n",
        "    else:\n",
        "      stack.append(action)\n",
        "  return len(stack) == 0\n",
        "\n",
        "actions = [\"add\", \"add\", \"remove\", \"remove\"]\n",
        "actions_2 = [\"add\", \"remove\", \"add\", \"remove\"]\n",
        "actions_3 = [\"add\", \"remove\", \"remove\", \"add\"]\n",
        "\n",
        "print(validate_nft_actions(actions))\n",
        "print(validate_nft_actions(actions_2))\n",
        "print(validate_nft_actions(actions_3))"
      ],
      "metadata": {
        "colab": {
          "base_uri": "https://localhost:8080/"
        },
        "id": "085h7KUjuu_E",
        "outputId": "cf91852b-f084-4c37-f0e3-88e7be931e65"
      },
      "execution_count": null,
      "outputs": [
        {
          "output_type": "stream",
          "name": "stdout",
          "text": [
            "True\n",
            "True\n",
            "False\n"
          ]
        }
      ]
    },
    {
      "cell_type": "markdown",
      "source": [
        "###problem8\n",
        "\n",
        "input: a list of sorted integer\n",
        "\n",
        "ouput: return the pair of two"
      ],
      "metadata": {
        "id": "q4IKJqnuvvdn"
      }
    },
    {
      "cell_type": "code",
      "source": [
        "def find_closest_nft_values(nft_values, budget):\n",
        "  left = 0\n",
        "  right = 1\n",
        "  for left in range(len(nft_values)-1):\n",
        "    if nft_values[left]<= budget and nft_values[right]>= budget:\n",
        "      return (nft_values[left], nft_values[right])\n",
        "    left += 1\n",
        "    right += 1\n",
        "\n",
        "\n",
        "\n",
        "nft_values = [3.5, 5.4, 7.2, 9.0, 10.5]\n",
        "nft_values_2 = [2.0, 4.5, 6.3, 7.8, 12.1]\n",
        "nft_values_3 = [1.0, 2.5, 4.0, 6.0, 9.0]\n",
        "\n",
        "print(find_closest_nft_values(nft_values, 10.0))\n",
        "print(find_closest_nft_values(nft_values_2, 6.5))\n",
        "print(find_closest_nft_values(nft_values_3, 3.0))"
      ],
      "metadata": {
        "colab": {
          "base_uri": "https://localhost:8080/"
        },
        "id": "LT3cJpqIwUy5",
        "outputId": "6d3b5b20-cceb-4b7b-ca7e-f67b58470385"
      },
      "execution_count": null,
      "outputs": [
        {
          "output_type": "stream",
          "name": "stdout",
          "text": [
            "(9.0, 10.5)\n",
            "(6.3, 7.8)\n",
            "(2.5, 4.0)\n"
          ]
        }
      ]
    },
    {
      "cell_type": "markdown",
      "source": [
        "##standard2"
      ],
      "metadata": {
        "id": "rCtI7vpRxwXH"
      }
    },
    {
      "cell_type": "markdown",
      "source": [
        "###problem 1\n"
      ],
      "metadata": {
        "id": "4qpPw2_Qyh04"
      }
    },
    {
      "cell_type": "code",
      "source": [
        "def filter_meme_lengths(memes, max_length):\n",
        "  stack= []\n",
        "  for meme in memes:\n",
        "    if len(meme)<= max_length:\n",
        "      stack.append(meme)\n",
        "  return stack\n",
        "\n",
        "\n",
        "\n",
        "memes = [\"This is hilarious!\", \"A very long meme that goes on and on and on...\", \"Short and sweet\", \"Too long! Way too long!\"]\n",
        "memes_2 = [\"Just right\", \"This one's too long though, sadly\", \"Perfect length\", \"A bit too wordy for a meme\"]\n",
        "memes_3 = [\"Short\", \"Tiny meme\", \"Small but impactful\", \"Extremely lengthy meme that no one will read\"]\n",
        "\n",
        "print(filter_meme_lengths(memes, 20))\n",
        "print(filter_meme_lengths(memes_2, 15))\n",
        "print(filter_meme_lengths(memes_3, 10))"
      ],
      "metadata": {
        "colab": {
          "base_uri": "https://localhost:8080/"
        },
        "id": "YnL7LvB9zLSQ",
        "outputId": "3c284f82-319a-4703-c35a-57c0c3b26466"
      },
      "execution_count": null,
      "outputs": [
        {
          "output_type": "stream",
          "name": "stdout",
          "text": [
            "['This is hilarious!', 'Short and sweet']\n",
            "['Just right', 'Perfect length']\n",
            "['Short', 'Tiny meme']\n"
          ]
        }
      ]
    },
    {
      "cell_type": "markdown",
      "source": [
        "###problem2\n",
        "input: a list of dictionary\n",
        "\n",
        "Output : return the list with the name and number\n",
        "\n"
      ],
      "metadata": {
        "id": "mY_VRyuRDHKC"
      }
    },
    {
      "cell_type": "code",
      "source": [
        "def count_meme_creators(memes):\n",
        "  dict = list(Counter(meme[\"creator\"] for meme in memes))\n",
        "  return dict\n",
        "  #Counter() fucntion have the time complexity of On, Space complexity of O(k)\n",
        "  # cnt={}\n",
        "\n",
        "  # for meme in memes:\n",
        "  #   creator = meme[\"creator\"]\n",
        "  #   if creator in cnt:\n",
        "  #     cnt[creator] +=1\n",
        "  #   else:\n",
        "  #     cnt[creator] =1\n",
        "  # return cnt\n",
        "\n",
        "\n",
        "\n",
        "\n",
        "memes = [\n",
        "    {\"creator\": \"Alex\", \"text\": \"Meme 1\"},\n",
        "    {\"creator\": \"Jordan\", \"text\": \"Meme 2\"},\n",
        "    {\"creator\": \"Alex\", \"text\": \"Meme 3\"},\n",
        "    {\"creator\": \"Chris\", \"text\": \"Meme 4\"},\n",
        "    {\"creator\": \"Jordan\", \"text\": \"Meme 5\"}\n",
        "]\n",
        "\n",
        "memes_2 = [\n",
        "    {\"creator\": \"Sam\", \"text\": \"Meme 1\"},\n",
        "    {\"creator\": \"Sam\", \"text\": \"Meme 2\"},\n",
        "    {\"creator\": \"Sam\", \"text\": \"Meme 3\"},\n",
        "    {\"creator\": \"Taylor\", \"text\": \"Meme 4\"}\n",
        "]\n",
        "\n",
        "memes_3 = [\n",
        "    {\"creator\": \"Blake\", \"text\": \"Meme 1\"},\n",
        "    {\"creator\": \"Blake\", \"text\": \"Meme 2\"}\n",
        "]\n",
        "\n",
        "print(count_meme_creators(memes))\n",
        "print(count_meme_creators(memes_2))\n",
        "print(count_meme_creators(memes_3))"
      ],
      "metadata": {
        "colab": {
          "base_uri": "https://localhost:8080/"
        },
        "id": "63IAn4jyDhIG",
        "outputId": "d8bc97d6-9f61-4d29-ebf2-ce154d79e2d0"
      },
      "execution_count": null,
      "outputs": [
        {
          "output_type": "stream",
          "name": "stdout",
          "text": [
            "['Alex', 'Jordan', 'Chris']\n",
            "['Sam', 'Taylor']\n",
            "['Blake']\n"
          ]
        }
      ]
    },
    {
      "cell_type": "markdown",
      "source": [
        "###problem3\n",
        "\n",
        "input: a list\n",
        "\n",
        "output: A list of element len more than 1\n"
      ],
      "metadata": {
        "id": "Ul0_KLRCGO9G"
      }
    },
    {
      "cell_type": "code",
      "source": [
        "def find_trending_memes(memes):\n",
        "\n",
        "  stack =[]\n",
        "  cnt ={}\n",
        "  for meme in memes:\n",
        "    if meme in cnt:\n",
        "      cnt[meme] +=1\n",
        "    else:\n",
        "      cnt[meme] = 1\n",
        "\n",
        "  for meme in cnt:\n",
        "    if cnt[meme] >1:\n",
        "      stack.append(meme)\n",
        "  return stack\n",
        "\n",
        "  # if cnt[meme] > 1:\n",
        "  #   stack.append(meme)\n",
        "  # return stack\n",
        "\n",
        "memes = [\"Dogecoin to the moon!\", \"One does not simply walk into Mordor\", \"Dogecoin to the moon!\", \"Distracted boyfriend\", \"One does not simply walk into Mordor\"]\n",
        "memes_2 = [\"Surprised Pikachu\", \"Expanding brain\", \"This is fine\", \"Surprised Pikachu\", \"Surprised Pikachu\"]\n",
        "memes_3 = [\"Y U No?\", \"First world problems\", \"Philosoraptor\", \"Bad Luck Brian\"]\n",
        "\n",
        "print(find_trending_memes(memes))\n",
        "print(find_trending_memes(memes_2))\n",
        "print(find_trending_memes(memes_3))"
      ],
      "metadata": {
        "colab": {
          "base_uri": "https://localhost:8080/"
        },
        "id": "GFtGgLjRGjpQ",
        "outputId": "c50cc439-2991-4064-ffb1-7257beeb270e"
      },
      "execution_count": null,
      "outputs": [
        {
          "output_type": "stream",
          "name": "stdout",
          "text": [
            "['Dogecoin to the moon!', 'One does not simply walk into Mordor']\n",
            "['Surprised Pikachu']\n",
            "[]\n"
          ]
        }
      ]
    },
    {
      "cell_type": "markdown",
      "source": [
        "###problem4\n",
        "\n"
      ],
      "metadata": {
        "id": "ae8agcQRJ3Xc"
      }
    },
    {
      "cell_type": "code",
      "source": [
        "def reverse_memes(memes):\n",
        "  # return (list(memes[::-1] ))\n",
        "  stack = []\n",
        "  reversed_memes =[]\n",
        "  for meme in memes:\n",
        "    stack.append(meme)\n",
        "  while stack:\n",
        "    reversed_memes.append(stack.pop())\n",
        "  return reversed_memes\n",
        "\n",
        "\n",
        "memes = [\"Dogecoin to the moon!\", \"Distracted boyfriend\", \"One does not simply walk into Mordor\"]\n",
        "memes_2 = [\"Surprised Pikachu\", \"Expanding brain\", \"This is fine\"]\n",
        "memes_3 = [\"Y U No?\", \"First world problems\", \"Philosoraptor\", \"Bad Luck Brian\"]\n",
        "\n",
        "print(reverse_memes(memes))\n",
        "print(reverse_memes(memes_2))\n",
        "print(reverse_memes(memes_3))"
      ],
      "metadata": {
        "colab": {
          "base_uri": "https://localhost:8080/"
        },
        "id": "nOJW9GH2S6iq",
        "outputId": "412aee24-ed3e-44c1-82a5-3b24cb721259"
      },
      "execution_count": null,
      "outputs": [
        {
          "output_type": "stream",
          "name": "stdout",
          "text": [
            "['One does not simply walk into Mordor', 'Distracted boyfriend', 'Dogecoin to the moon!']\n",
            "['This is fine', 'Expanding brain', 'Surprised Pikachu']\n",
            "['Bad Luck Brian', 'Philosoraptor', 'First world problems', 'Y U No?']\n"
          ]
        }
      ]
    },
    {
      "cell_type": "markdown",
      "source": [
        "###problem5\n",
        "Trending meme pairs\n",
        "\n"
      ],
      "metadata": {
        "id": "zOZBHb0-UQVj"
      }
    },
    {
      "cell_type": "code",
      "source": [
        "def find_trending_meme_pairs(meme_posts):\n",
        "    pair_count = {}\n",
        "\n",
        "    for post in meme_posts:\n",
        "        for i in range(len(post)):\n",
        "            for j in range(i+1,len(post)):\n",
        "                if i != j:\n",
        "                    meme1 = post[i]\n",
        "                    meme2 = post[j]\n",
        "                    # Ensure pair is always in alphabetical order\n",
        "                    if meme1 > meme2:\n",
        "                        meme1, meme2 = meme2, meme1\n",
        "                    pair = (meme1, meme2)\n",
        "                    if pair in pair_count:\n",
        "                        pair_count[pair] += 1\n",
        "                    else:\n",
        "                        pair_count[pair] = 1\n",
        "#collect pairs that appear more than once\n",
        "    trending_pairs = []\n",
        "    for pair in pair_count:\n",
        "        if pair_count[pair] >= 2:\n",
        "            trending_pairs.append(pair)\n",
        "    # for pair, count in pair_count.items():\n",
        "    #   if count > 1:\n",
        "\n",
        "    return trending_pairs\n",
        "\n",
        "meme_posts_1 = [\n",
        "    [\"Dogecoin to the moon!\", \"Distracted boyfriend\"],\n",
        "    [\"One does not simply walk into Mordor\", \"Dogecoin to the moon!\"],\n",
        "    [\"Dogecoin to the moon!\", \"Distracted boyfriend\", \"One does not simply walk into Mordor\"],\n",
        "    [\"Distracted boyfriend\", \"One does not simply walk into Mordor\"]\n",
        "]\n",
        "\n",
        "meme_posts_2 = [\n",
        "    [\"Surprised Pikachu\", \"This is fine\"],\n",
        "    [\"Expanding brain\", \"Surprised Pikachu\"],\n",
        "    [\"This is fine\", \"Expanding brain\"],\n",
        "    [\"Surprised Pikachu\", \"This is fine\"]\n",
        "]\n",
        "\n",
        "meme_posts_3 = [\n",
        "    [\"Y U No?\", \"First world problems\"],\n",
        "    [\"Philosoraptor\", \"Bad Luck Brian\"],\n",
        "    [\"First world problems\", \"Philosoraptor\"],\n",
        "    [\"Y U No?\", \"First world problems\"]\n",
        "]\n",
        "\n",
        "print(find_trending_meme_pairs(meme_posts_1))\n",
        "print(find_trending_meme_pairs(meme_posts_2))\n",
        "print(find_trending_meme_pairs(meme_posts_3))"
      ],
      "metadata": {
        "colab": {
          "base_uri": "https://localhost:8080/"
        },
        "id": "lCofgE2JVTxU",
        "outputId": "943b0720-0cd5-4881-ddad-81888f000c3b"
      },
      "execution_count": null,
      "outputs": [
        {
          "output_type": "stream",
          "name": "stdout",
          "text": [
            "[('Distracted boyfriend', 'Dogecoin to the moon!'), ('Dogecoin to the moon!', 'One does not simply walk into Mordor'), ('Distracted boyfriend', 'One does not simply walk into Mordor')]\n",
            "[('Surprised Pikachu', 'This is fine')]\n",
            "[('First world problems', 'Y U No?')]\n"
          ]
        }
      ]
    },
    {
      "cell_type": "markdown",
      "source": [
        "###problem 6\n"
      ],
      "metadata": {
        "id": "f0Myb7usXWus"
      }
    },
    {
      "cell_type": "code",
      "source": [
        "from collections import deque\n",
        "def simulate_meme_reposts(memes, reposts):\n",
        "  queue = deque()\n",
        "  final_order = []\n",
        "  for meme, count in zip(memes, reposts):\n",
        "    queue.append((meme, count))\n",
        "  while queue:\n",
        "    meme,count = queue.popleft()\n",
        "    final_order.append(meme)\n",
        "    count -= 1\n",
        "    if count >0:\n",
        "      queue.append((meme, count))\n",
        "  return final_order\n",
        "\n",
        "\n",
        "\n",
        "\n",
        "memes = [\"Distracted boyfriend\", \"Dogecoin to the moon!\", \"One does not simply walk into Mordor\"]\n",
        "reposts = [2, 1, 3]\n",
        "\n",
        "memes_2 = [\"Surprised Pikachu\", \"This is fine\", \"Expanding brain\"]\n",
        "reposts = [1, 2, 2]\n",
        "\n",
        "memes_3 = [\"Y U No?\", \"Philosoraptor\"]\n",
        "reposts = [3, 1]\n",
        "\n",
        "print(simulate_meme_reposts(memes, reposts))\n",
        "print(simulate_meme_reposts(memes_2, reposts))\n",
        "print(simulate_meme_reposts(memes_3, reposts))"
      ],
      "metadata": {
        "colab": {
          "base_uri": "https://localhost:8080/"
        },
        "id": "5nNwVy9yXZFt",
        "outputId": "d228b854-1fa7-4e27-8030-3691c2e71a78"
      },
      "execution_count": null,
      "outputs": [
        {
          "output_type": "stream",
          "name": "stdout",
          "text": [
            "['Distracted boyfriend', 'Dogecoin to the moon!', 'Distracted boyfriend', 'Distracted boyfriend']\n",
            "['Surprised Pikachu', 'This is fine', 'Surprised Pikachu', 'Surprised Pikachu']\n",
            "['Y U No?', 'Philosoraptor', 'Y U No?', 'Y U No?']\n"
          ]
        }
      ]
    },
    {
      "cell_type": "markdown",
      "source": [
        "###problem7\n"
      ],
      "metadata": {
        "id": "jk-m7KlmcNSu"
      }
    },
    {
      "cell_type": "code",
      "source": [
        "def find_closest_meme_pair(memes, target):\n",
        "  left = 0\n",
        "  right = len(memes)-1\n",
        "  closest_pair = ()\n",
        "  closest_diff = float('inf')\n",
        "\n",
        "  while left< right:\n",
        "    meme1, score1 = memes[left]\n",
        "    meme2, score2 = memes[right]\n",
        "    cur_sum = score1 + score2\n",
        "    cur_diff = abs(target - cur_sum)\n",
        "\n",
        "    if cur_diff < closest_diff:\n",
        "      closest_diff = cur_diff\n",
        "      closest_pair = (meme1, meme2)\n",
        "\n",
        "    if cur_sum < target:\n",
        "      left += 1\n",
        "    else:\n",
        "      right -= 1\n",
        "  return closest_pair\n",
        "\n",
        "memes_1 = [(\"Distracted boyfriend\", 5), (\"Dogecoin to the moon!\", 7), (\"One does not simply walk into Mordor\", 12)]\n",
        "memes_2 = [(\"Surprised Pikachu\", 2), (\"This is fine\", 6), (\"Expanding brain\", 9), (\"Y U No?\", 15)]\n",
        "memes_3 = [(\"Philosoraptor\", 1), (\"Bad Luck Brian\", 4), (\"First world problems\", 8), (\"Y U No?\", 13)]\n",
        "\n",
        "print(find_closest_meme_pair(memes_1, 13))\n",
        "print(find_closest_meme_pair(memes_2, 10))\n",
        "print(find_closest_meme_pair(memes_3, 12))"
      ],
      "metadata": {
        "colab": {
          "base_uri": "https://localhost:8080/"
        },
        "id": "sn992M5ZcPlJ",
        "outputId": "3acdc10c-9c40-4c78-a573-06373eeec55e"
      },
      "execution_count": null,
      "outputs": [
        {
          "output_type": "stream",
          "name": "stdout",
          "text": [
            "('Distracted boyfriend', 'Dogecoin to the moon!')\n",
            "('Surprised Pikachu', 'Expanding brain')\n",
            "('Bad Luck Brian', 'First world problems')\n"
          ]
        }
      ]
    },
    {
      "cell_type": "markdown",
      "source": [
        "###problem8\n"
      ],
      "metadata": {
        "id": "aby5LAREecgg"
      }
    },
    {
      "cell_type": "code",
      "source": [
        "def find_trending_meme(memes, start_day, end_day):\n",
        "    max_average = -1\n",
        "    trending_meme = None\n",
        "\n",
        "    for meme in memes:\n",
        "        reposts = meme[\"reposts\"][start_day:end_day + 1]\n",
        "        average_reposts = sum(reposts) / len(reposts)\n",
        "\n",
        "        if average_reposts > max_average:\n",
        "            max_average = average_reposts\n",
        "            trending_meme = meme[\"name\"]\n",
        "\n",
        "    return trending_meme\n",
        "\n",
        "memes = [\n",
        "    {\"name\": \"Distracted boyfriend\", \"reposts\": [5, 3, 2, 7, 6]},\n",
        "    {\"name\": \"Dogecoin to the moon!\", \"reposts\": [2, 4, 6, 8, 10]},\n",
        "    {\"name\": \"One does not simply walk into Mordor\", \"reposts\": [3, 3, 5, 4, 2]}\n",
        "]\n",
        "\n",
        "memes_2 = [\n",
        "    {\"name\": \"Surprised Pikachu\", \"reposts\": [2, 1, 4, 5, 3]},\n",
        "    {\"name\": \"This is fine\", \"reposts\": [3, 5, 2, 6, 4]},\n",
        "    {\"name\": \"Expanding brain\", \"reposts\": [4, 2, 1, 4, 2]}\n",
        "]\n",
        "\n",
        "memes_3 = [\n",
        "    {\"name\": \"Y U No?\", \"reposts\": [1, 2, 1, 2, 1]},\n",
        "    {\"name\": \"Philosoraptor\", \"reposts\": [3, 1, 3, 1, 3]}\n",
        "]\n",
        "print(find_trending_meme(memes, 1, 3))\n",
        "print(find_trending_meme(memes_2, 0, 2))\n",
        "print(find_trending_meme(memes_3, 2, 4))"
      ],
      "metadata": {
        "colab": {
          "base_uri": "https://localhost:8080/"
        },
        "id": "pseQgc6Xeerd",
        "outputId": "e191e3ae-ce37-428c-ac72-ddf6c0d87425"
      },
      "execution_count": null,
      "outputs": [
        {
          "output_type": "stream",
          "name": "stdout",
          "text": [
            "Dogecoin to the moon!\n",
            "This is fine\n",
            "Philosoraptor\n"
          ]
        }
      ]
    },
    {
      "cell_type": "markdown",
      "source": [
        "#session2\n"
      ],
      "metadata": {
        "id": "qcOHszT2xna-"
      }
    },
    {
      "cell_type": "markdown",
      "source": [
        "##standard1\n"
      ],
      "metadata": {
        "id": "I2e8r-y-xy84"
      }
    },
    {
      "cell_type": "markdown",
      "source": [
        "##standard2\n"
      ],
      "metadata": {
        "id": "LaZip5lIx2IH"
      }
    },
    {
      "cell_type": "code",
      "source": [],
      "metadata": {
        "id": "x1y1GkACxlXe"
      },
      "execution_count": null,
      "outputs": []
    },
    {
      "cell_type": "markdown",
      "source": [
        "##Assignment"
      ],
      "metadata": {
        "id": "0_V2_HGavi2r"
      }
    },
    {
      "cell_type": "code",
      "metadata": {
        "colab": {
          "base_uri": "https://localhost:8080/"
        },
        "id": "593d4768",
        "outputId": "74407410-2544-422a-b1fb-255b2e9d31f0"
      },
      "source": [
        "def create_list_up_to_double_k(k):\n",
        "  \"\"\"\n",
        "  Creates a list of numbers incrementing by 1 from k up to 2*k.\n",
        "\n",
        "  Args:\n",
        "    k: The starting number.\n",
        "\n",
        "  Returns:\n",
        "    A list of numbers.\n",
        "  \"\"\"\n",
        "  if k > 2 * k:  # Handle cases where k is negative or zero\n",
        "      return []\n",
        "  return list(range(k, 2 * k + 1)) # range is exclusive of the stop value, so add 1 to include 2*k\n",
        "\n",
        "# Example usage:\n",
        "start_number = 5\n",
        "my_list = create_list_up_to_double_k(start_number)\n",
        "print(my_list)\n",
        "\n",
        "start_number_2 = -2\n",
        "my_list_2 = create_list_up_to_double_k(start_number_2)\n",
        "print(my_list_2)\n",
        "\n",
        "start_number_3 = 0\n",
        "my_list_3 = create_list_up_to_double_k(start_number_3)\n",
        "print(my_list_3)"
      ],
      "execution_count": null,
      "outputs": [
        {
          "output_type": "stream",
          "name": "stdout",
          "text": [
            "[5, 6, 7, 8, 9, 10]\n",
            "[]\n",
            "[0]\n"
          ]
        }
      ]
    },
    {
      "cell_type": "code",
      "metadata": {
        "colab": {
          "base_uri": "https://localhost:8080/"
        },
        "id": "d03f801f",
        "outputId": "0f4849db-c6ba-4532-a351-3419435717fd"
      },
      "source": [
        "def find_kth_missing_positive(nums, k):\n",
        "    \"\"\"\n",
        "    Finds the k-th missing positive number in a sorted list of integers.\n",
        "\n",
        "    Args:\n",
        "        nums: A list of sorted integers.\n",
        "        k: The k-th missing positive number to find.\n",
        "\n",
        "    Returns:\n",
        "        The k-th missing positive number.\n",
        "    \"\"\"\n",
        "    # Filter out non-positive numbers and get unique positive numbers\n",
        "    positive_nums = sorted(list(set(num for num in nums if num > 0)))\n",
        "\n",
        "    # Handle the case where there are no positive numbers in the input list\n",
        "    if not positive_nums:\n",
        "        return k\n",
        "\n",
        "    missing_count = 0\n",
        "    prev_num = 0\n",
        "\n",
        "    for num in positive_nums:\n",
        "        missing_in_gap = num - prev_num - 1\n",
        "        if missing_count + missing_in_gap >= k:\n",
        "            return prev_num + (k - missing_count)\n",
        "        missing_count += missing_in_gap\n",
        "        prev_num = num\n",
        "\n",
        "    # If k is larger than the missing numbers within the list's range,\n",
        "    # the k-th missing number is beyond the largest number in the list.\n",
        "    return positive_nums[-1] + (k - missing_count)\n",
        "\n",
        "# Example usage:\n",
        "nums1 = [2, 3, 4, 7, 11]\n",
        "k1 = 5\n",
        "print(f\"The {k1}-th missing positive number in {nums1} is: {find_kth_missing_positive(nums1, k1)}\")\n",
        "\n",
        "nums2 = [1, 2, 3, 4]\n",
        "k2 = 2\n",
        "print(f\"The {k2}-th missing positive number in {nums2} is: {find_kth_missing_positive(nums2, k2)}\")\n",
        "\n",
        "nums3 = [1, 3, 5, 7]\n",
        "k3 = 2\n",
        "print(f\"The {k3}-th missing positive number in {nums3} is: {find_kth_missing_positive(nums3, k3)}\")\n",
        "\n",
        "nums4 = [10, 20, 30]\n",
        "k4 = 15\n",
        "print(f\"The {k4}-th missing positive number in {nums4} is: {find_kth_missing_positive(nums4, k4)}\")\n",
        "\n",
        "# Added a test case with no positive numbers\n",
        "nums5 = [-1, -5, 0]\n",
        "k5 = 3\n",
        "print(f\"The {k5}-th missing positive number in {nums5} is: {find_kth_missing_positive(nums5, k5)}\")\n",
        "\n",
        "# Added a test case with duplicates\n",
        "nums6 = [1, 1, 2, 2]\n",
        "k6 = 1\n",
        "print(f\"The {k6}-th missing positive number in {nums6} is: {find_kth_missing_positive(nums6, k6)}\")"
      ],
      "execution_count": null,
      "outputs": [
        {
          "output_type": "stream",
          "name": "stdout",
          "text": [
            "The 5-th missing positive number in [2, 3, 4, 7, 11] is: 9\n",
            "The 2-th missing positive number in [1, 2, 3, 4] is: 6\n",
            "The 2-th missing positive number in [1, 3, 5, 7] is: 4\n",
            "The 15-th missing positive number in [10, 20, 30] is: 16\n",
            "The 3-th missing positive number in [-1, -5, 0] is: 3\n",
            "The 1-th missing positive number in [1, 1, 2, 2] is: 3\n"
          ]
        }
      ]
    },
    {
      "cell_type": "code",
      "metadata": {
        "colab": {
          "base_uri": "https://localhost:8080/"
        },
        "id": "d558471e",
        "outputId": "1b034cff-dd6b-4d19-924f-10812dfe66e1"
      },
      "source": [
        "def is_valid_unit(unit):\n",
        "    \"\"\"\n",
        "    Checks if a list of 9 numbers (row, column, or subgrid) is valid for Sudoku.\n",
        "\n",
        "    Args:\n",
        "        unit: A list of 9 numbers.\n",
        "\n",
        "    Returns:\n",
        "        True if the unit is valid, False otherwise.\n",
        "    \"\"\"\n",
        "    # Filter out empty cells (represented by '.') and keep only digits\n",
        "    nums = [i for i in unit if i != '.']\n",
        "    # Check if all elements are unique and are digits from '1' to '9'\n",
        "    return len(nums) == len(set(nums)) and all('1' <= i <= '9' for i in nums)\n",
        "\n",
        "def is_valid_sudoku(board):\n",
        "    \"\"\"\n",
        "    Determines if a 9x9 Sudoku board is valid.\n",
        "\n",
        "    Args:\n",
        "        board: A list of lists representing the 9x9 Sudoku board.\n",
        "\n",
        "    Returns:\n",
        "        True if the board is valid, False otherwise.\n",
        "    \"\"\"\n",
        "    # Step 2: Check Rows\n",
        "    for row in board:\n",
        "        if not is_valid_unit(row):\n",
        "            return False # If any row is invalid, the board is invalid\n",
        "\n",
        "    # Step 3: Check Columns\n",
        "    for col_index in range(9):\n",
        "        column = [board[row_index][col_index] for row_index in range(9)]\n",
        "        if not is_valid_unit(column):\n",
        "            return False # If any column is invalid, the board is invalid\n",
        "\n",
        "    # Step 4: Check 3x3 Subgrids\n",
        "    for row_start in range(0, 9, 3):\n",
        "        for col_start in range(0, 9, 3):\n",
        "            subgrid = []\n",
        "            for i in range(3):\n",
        "                for j in range(3):\n",
        "                    subgrid.append(board[row_start + i][col_start + j])\n",
        "            if not is_valid_unit(subgrid):\n",
        "                return False # If any subgrid is invalid, the board is invalid\n",
        "\n",
        "    # Step 5: Return Result\n",
        "    return True # If all checks pass, the board is valid\n",
        "\n",
        "# Example Sudoku board (replace with your test cases)\n",
        "valid_board = [\n",
        "    [\"5\",\"3\",\".\",\".\",\"7\",\".\",\".\",\".\",\".\"],\n",
        "    [\"6\",\".\",\".\",\"1\",\"9\",\"5\",\".\",\".\",\".\"],\n",
        "    [\".\",\"9\",\"8\",\".\",\".\",\".\",\".\",\"6\",\".\"],\n",
        "    [\"8\",\".\",\".\",\".\",\"6\",\".\",\".\",\".\",\"3\"],\n",
        "    [\"4\",\".\",\".\",\"8\",\".\",\"3\",\".\",\".\",\"1\"],\n",
        "    [\"7\",\".\",\".\",\".\",\"2\",\".\",\".\",\".\",\"6\"],\n",
        "    [\".\",\"6\",\".\",\".\",\".\",\".\",\"2\",\"8\",\".\"],\n",
        "    [\".\",\".\",\".\",\"4\",\"1\",\"9\",\".\",\".\",\"5\"],\n",
        "    [\".\",\".\",\".\",\".\",\"8\",\".\",\".\",\"7\",\"9\"]\n",
        "]\n",
        "\n",
        "invalid_board = [\n",
        "    [\"5\",\"3\",\".\",\".\",\"7\",\".\",\".\",\".\",\".\"],\n",
        "    [\"6\",\".\",\".\",\"1\",\"9\",\"5\",\".\",\".\",\".\"],\n",
        "    [\".\",\"9\",\"8\",\".\",\".\",\".\",\".\",\"6\",\".\"],\n",
        "    [\"8\",\".\",\".\",\".\",\"6\",\".\",\".\",\".\",\"3\"],\n",
        "    [\"4\",\".\",\".\",\"8\",\".\",\"3\",\".\",\".\",\"1\"],\n",
        "    [\"7\",\".\",\".\",\".\",\"2\",\".\",\".\",\".\",\"6\"],\n",
        "    [\".\",\"6\",\".\",\".\",\".\",\".\",\"2\",\"8\",\".\"],\n",
        "    [\".\",\".\",\".\",\"4\",\"1\",\"1\",\".\",\".\",\"5\"], # Invalid due to duplicate 1 in the last row\n",
        "    [\".\",\".\",\".\",\".\",\"8\",\".\",\".\",\"7\",\"9\"]\n",
        "]\n",
        "\n",
        "# Example of an invalid board due to a column violation\n",
        "invalid_board_col = [\n",
        "    [\"5\",\"3\",\".\",\".\",\"7\",\".\",\".\",\".\",\".\"],\n",
        "    [\"6\",\".\",\".\",\"1\",\"9\",\"5\",\".\",\".\",\".\"],\n",
        "    [\".\",\"9\",\"8\",\".\",\".\",\".\",\".\",\"6\",\".\"],\n",
        "    [\"8\",\".\",\".\",\".\",\"6\",\".\",\".\",\".\",\"3\"],\n",
        "    [\"4\",\".\",\".\",\"8\",\".\",\"3\",\".\",\".\",\"1\"],\n",
        "    [\"7\",\".\",\".\",\".\",\"2\",\".\",\".\",\".\",\"6\"],\n",
        "    [\".\",\"6\",\".\",\".\",\".\",\".\",\"2\",\"8\",\".\"],\n",
        "    [\".\",\".\",\".\",\"4\",\"1\",\"9\",\".\",\".\",\"5\"],\n",
        "    [\"5\",\".\",\".\",\".\",\"8\",\".\",\".\",\"7\",\"9\"] # Invalid due to duplicate 5 in the first column\n",
        "]\n",
        "\n",
        "# Example of an invalid board due to a subgrid violation\n",
        "invalid_board_subgrid = [\n",
        "    [\"5\",\"3\",\".\",\".\",\"7\",\".\",\".\",\".\",\".\"],\n",
        "    [\"6\",\".\",\".\",\"1\",\"9\",\"5\",\".\",\".\",\".\"],\n",
        "    [\".\",\"9\",\"8\",\".\",\".\",\".\",\".\",\"6\",\".\"],\n",
        "    [\"8\",\".\",\".\",\".\",\"6\",\".\",\".\",\".\",\"3\"],\n",
        "    [\"4\",\".\",\".\",\"8\",\".\",\"3\",\".\",\".\",\"1\"],\n",
        "    [\"7\",\".\",\".\",\".\",\"2\",\".\",\".\",\".\",\"6\"],\n",
        "    [\".\",\"6\",\".\",\".\",\".\",\".\",\"2\",\"8\",\".\"],\n",
        "    [\".\",\".\",\".\",\"4\",\"1\",\"9\",\".\",\".\",\"5\"],\n",
        "    [\".\",\".\",\".\",\"7\",\"8\",\".\",\".\",\"7\",\"9\"] # Invalid due to duplicate 7 in the bottom-left subgrid\n",
        "]\n",
        "\n",
        "\n",
        "print(f\"Is the valid board valid? {is_valid_sudoku(valid_board)}\")\n",
        "print(f\"Is the invalid board valid? {is_valid_sudoku(invalid_board)}\")\n",
        "print(f\"Is the column-invalid board valid? {is_valid_sudoku(invalid_board_col)}\")\n",
        "print(f\"Is the subgrid-invalid board valid? {is_valid_sudoku(invalid_board_subgrid)}\")"
      ],
      "execution_count": null,
      "outputs": [
        {
          "output_type": "stream",
          "name": "stdout",
          "text": [
            "Is the valid board valid? True\n",
            "Is the invalid board valid? False\n",
            "Is the column-invalid board valid? False\n",
            "Is the subgrid-invalid board valid? False\n"
          ]
        }
      ]
    },
    {
      "cell_type": "code",
      "metadata": {
        "colab": {
          "base_uri": "https://localhost:8080/"
        },
        "id": "ebaddb84",
        "outputId": "50c619d2-7856-4ae5-f937-7afcf76cffeb"
      },
      "source": [
        "# import re # No longer needed for this approach\n",
        "\n",
        "def is_palindrome(s):\n",
        "    \"\"\"\n",
        "    Checks if a string is a palindrome, considering only alphanumeric characters and ignoring cases,\n",
        "    using the two-pointer approach and isalnum().\n",
        "\n",
        "    Args:\n",
        "        s: The input string.\n",
        "\n",
        "    Returns:\n",
        "        True if the string is a palindrome, False otherwise.\n",
        "    \"\"\"\n",
        "    left = 0\n",
        "    right = len(s) - 1\n",
        "\n",
        "    while left < right:\n",
        "        # Move left pointer until it points to an alphanumeric character\n",
        "        while left < right and not s[left].isalnum():\n",
        "            left += 1\n",
        "        # Move right pointer until it points to an alphanumeric character\n",
        "        while left < right and not s[right].isalnum():\n",
        "            right -= 1\n",
        "\n",
        "        # If the alphanumeric characters at left and right don't match (case-insensitive), it's not a palindrome\n",
        "        if left < right and s[left].lower() != s[right].lower():\n",
        "            return False\n",
        "\n",
        "        # Move pointers inwards\n",
        "        left += 1\n",
        "        right -= 1\n",
        "\n",
        "    return True\n",
        "\n",
        "# Example usage:\n",
        "string1 = \"A man, a plan, a canal: Panama\"\n",
        "print(f\"'{string1}' is a palindrome: {is_palindrome(string1)}\")\n",
        "\n",
        "string2 = \"race a car\"\n",
        "print(f\"'{string2}' is a palindrome: {is_palindrome(string2)}\")\n",
        "\n",
        "string3 = \" \"\n",
        "print(f\"'{string3}' is a palindrome: {is_palindrome(string3)}\")\n",
        "\n",
        "string4 = \"madam\"\n",
        "print(f\"'{string4}' is a palindrome: {is_palindrome(string4)}\")\n",
        "\n",
        "string5 = \"hello\"\n",
        "print(f\"'{string5}' is a palindrome: {is_palindrome(string5)}\")\n",
        "\n",
        "string6 = \"0P\" # Added an edge case with alphanumeric characters and non-alphanumeric\n",
        "print(f\"'{string6}' is a palindrome: {is_palindrome(string6)}\")"
      ],
      "execution_count": null,
      "outputs": [
        {
          "output_type": "stream",
          "name": "stdout",
          "text": [
            "'A man, a plan, a canal: Panama' is a palindrome: True\n",
            "'race a car' is a palindrome: False\n",
            "' ' is a palindrome: True\n",
            "'madam' is a palindrome: True\n",
            "'hello' is a palindrome: False\n",
            "'0P' is a palindrome: False\n"
          ]
        }
      ]
    },
    {
      "cell_type": "code",
      "metadata": {
        "id": "7f738368"
      },
      "source": [
        "# Example using zip with two lists\n",
        "names = [\"Alice\", \"Bob\", \"Charlie\"]\n",
        "ages = [25, 30, 35]\n",
        "\n",
        "# Using zip to combine the lists\n",
        "for name, age in zip(names, ages):\n",
        "  print(f\"{name} is {age} years old.\")\n",
        "\n",
        "# You can also convert the zip object to a list or tuple\n",
        "combined_list = list(zip(names, ages))\n",
        "print(f\"\\nCombined list of tuples: {combined_list}\")\n",
        "\n",
        "# Example using zip with three lists of different lengths\n",
        "colors = [\"red\", \"green\", \"blue\", \"yellow\"]\n",
        "sizes = [\"small\", \"medium\", \"large\"]\n",
        "styles = [\"modern\", \"classic\", \"vintage\", \"retro\"]\n",
        "\n",
        "# zip stops when the shortest iterable is exhausted\n",
        "for color, size, style in zip(colors, sizes, styles):\n",
        "    print(f\"Item: {color} {size} {style}\")"
      ],
      "execution_count": null,
      "outputs": []
    }
  ]
}