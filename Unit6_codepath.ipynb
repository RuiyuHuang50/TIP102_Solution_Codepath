{
  "nbformat": 4,
  "nbformat_minor": 0,
  "metadata": {
    "colab": {
      "provenance": [],
      "authorship_tag": "ABX9TyPXdLvtytyStjZIQUzHmqBy",
      "include_colab_link": true
    },
    "kernelspec": {
      "name": "python3",
      "display_name": "Python 3"
    },
    "language_info": {
      "name": "python"
    }
  },
  "cells": [
    {
      "cell_type": "markdown",
      "metadata": {
        "id": "view-in-github",
        "colab_type": "text"
      },
      "source": [
        "<a href=\"https://colab.research.google.com/github/RuiyuHuang50/TIP102_Solution_Codepath/blob/main/Unit6_codepath.ipynb\" target=\"_parent\"><img src=\"https://colab.research.google.com/assets/colab-badge.svg\" alt=\"Open In Colab\"/></a>"
      ]
    },
    {
      "cell_type": "markdown",
      "source": [
        "#cheatsheet\n"
      ],
      "metadata": {
        "id": "yFilR_AZxeHW"
      }
    },
    {
      "cell_type": "code",
      "execution_count": null,
      "metadata": {
        "id": "bSeEV0oWxZ7T",
        "colab": {
          "base_uri": "https://localhost:8080/"
        },
        "outputId": "e0c48ca5-aea8-454d-8d76-95fd243dac86"
      },
      "outputs": [
        {
          "output_type": "stream",
          "name": "stdout",
          "text": [
            "3\n",
            "3\n",
            "3\n"
          ]
        }
      ],
      "source": [
        "x = y = z = 3\n",
        "print(x) # Prints 3\n",
        "print(y) # Prints 3\n",
        "print(z) # Prints 3"
      ]
    },
    {
      "cell_type": "code",
      "source": [
        "# Example 1: While Loop\n",
        "count = 1\n",
        "while count <= 10:\n",
        "    if count == 5:\n",
        "        break  # Break the loop if count reaches 5\n",
        "    print(count)\n",
        "    count += 1\n",
        "\n",
        "# Example 2: For Loop\n",
        "numbers = [1, 3, 5, 7, 9, 2, 4]\n",
        "for number in numbers:\n",
        "    if number % 2 == 0:\n",
        "        print(f\"First even number found: {number}\")\n",
        "        break"
      ],
      "metadata": {
        "colab": {
          "base_uri": "https://localhost:8080/"
        },
        "id": "ZHAG0p-j7EFJ",
        "outputId": "d41c30a5-63e4-427f-e4ed-a558d0d726ca"
      },
      "execution_count": null,
      "outputs": [
        {
          "output_type": "stream",
          "name": "stdout",
          "text": [
            "1\n",
            "2\n",
            "3\n",
            "4\n",
            "First even number found: 2\n"
          ]
        }
      ]
    },
    {
      "cell_type": "code",
      "source": [
        "class Node:\n",
        "    def __init__(self, val, next=None):\n",
        "        self.value = val\n",
        "        self.next = next\n",
        "\n",
        "def pair_nodes(head):\n",
        "    # Check if the list is empty\n",
        "    if not head:\n",
        "        return None\n",
        "\n",
        "    # Pass 1: Get the length of the list\n",
        "    current = head\n",
        "    length = 0\n",
        "    while current:\n",
        "        length += 1\n",
        "        current = current.next\n",
        "\n",
        "    # If the length is odd, return None\n",
        "    if length % 2 != 0:\n",
        "        return None\n",
        "\n",
        "    # Pass 2: If the length is even, create tuples of pairs\n",
        "    pairs = []\n",
        "    current = head\n",
        "    while current:\n",
        "        # Since we know the list length is even, current.next should always be valid here\n",
        "        pairs.append((current.value, current.next.value))\n",
        "        current = current.next.next  # Move to the next pair\n",
        "\n",
        "    return pairs"
      ],
      "metadata": {
        "id": "WAaL7MfM8fRA"
      },
      "execution_count": null,
      "outputs": []
    },
    {
      "cell_type": "markdown",
      "source": [
        "temporate head\n"
      ],
      "metadata": {
        "id": "-dGM7YJT89dz"
      }
    },
    {
      "cell_type": "code",
      "source": [
        "class Node:\n",
        "    def __init__(self, val, next=None):\n",
        "        self.value = val\n",
        "        self.next = next\n",
        "\n",
        "def delete_node(head, val):\n",
        "    temp_head = Node(\"temp\") # Initialize a temporary head node\n",
        "    temp_head.next = head    # Point the temporary head at the input list\n",
        "\n",
        "    # Traverse the list\n",
        "    previous = temp_head\n",
        "    current = head\n",
        "    while current:\n",
        "        if current.value == val:          # If the current node is the node to delete\n",
        "            previous.next = current.next  # Delete the node\n",
        "            break                         # Break out of the loop\n",
        "\n",
        "        previous = current\n",
        "        current = current.next\n",
        "    return temp_head.next # Return the head of the input list"
      ],
      "metadata": {
        "id": "m9cnHFD4_onz"
      },
      "execution_count": null,
      "outputs": []
    },
    {
      "cell_type": "code",
      "source": [
        "#deleting a node w/o a temporary head\n",
        "def delete_node(head, val):\n",
        "    # Edge case 1: If the list is empty\n",
        "    if not head:\n",
        "        return head\n",
        "\n",
        "    # Edge case 2: If the head node needs to be removed\n",
        "    if head.value == val:\n",
        "        return head.next\n",
        "\n",
        "    # Now handle the general case\n",
        "    previous = None\n",
        "    current = head\n",
        "    while current:\n",
        "        if current.value == val:\n",
        "            previous.next = current.next\n",
        "            return head  # Return the head of the list after removal\n",
        "        previous = current\n",
        "        current = current.next\n",
        "\n",
        "    return head  # Return the head if no node was removed"
      ],
      "metadata": {
        "id": "tP4bcAVUAR38"
      },
      "execution_count": null,
      "outputs": []
    },
    {
      "cell_type": "code",
      "source": [
        "#slow and fast pointer\n",
        "class Node:\n",
        "    def __init__(self, val, next=None):\n",
        "        self.value = val\n",
        "        self.next = next\n",
        "\n",
        "def has_cycle(head):\n",
        "    if not head:\n",
        "        return False\n",
        "\n",
        "    slow = head  # Starts at the head\n",
        "    fast = head  # Also starts at the head\n",
        "\n",
        "    while fast and fast.next:\n",
        "        slow = slow.next          # Move slow pointer by one\n",
        "        fast = fast.next.next     # Move fast pointer by two\n",
        "\n",
        "        if slow == fast:          # If they meet, there's a cycle\n",
        "            return True\n",
        "\n",
        "    return False  # If fast reaches the end, no cycle"
      ],
      "metadata": {
        "id": "oBde7L4IA2UU"
      },
      "execution_count": null,
      "outputs": []
    },
    {
      "cell_type": "markdown",
      "source": [
        "#session1\n"
      ],
      "metadata": {
        "id": "Qe71ExIMxhX-"
      }
    },
    {
      "cell_type": "markdown",
      "source": [
        "##standard1\n"
      ],
      "metadata": {
        "id": "L-qpWbgRxtum"
      }
    },
    {
      "cell_type": "markdown",
      "source": [
        "###problem1\n",
        "\n",
        "\n"
      ],
      "metadata": {
        "id": "9bODolPmBp2M"
      }
    },
    {
      "cell_type": "code",
      "source": [
        "class SongNode:\n",
        "\tdef __init__(self, song, next=None):\n",
        "\t\tself.song = song\n",
        "\t\tself.next = next\n",
        "\n",
        "# For testing\n",
        "def print_linked_list(node):\n",
        "    current = node\n",
        "    while current:\n",
        "        print(current.song, end=\" -> \" if current.next else \"\")\n",
        "        current = current.next\n",
        "    print()\n",
        "\n",
        "top_hits_2010s = SongNode(\"Uptown Funk\", SongNode(\"Party Rock Anthem\", SongNode(\"Bad Romance\")))\n",
        "\n",
        "print_linked_list(top_hits_2010s)"
      ],
      "metadata": {
        "colab": {
          "base_uri": "https://localhost:8080/"
        },
        "id": "GhSL6vMoBpd8",
        "outputId": "c7660c62-7f97-4b02-ddb1-d6655cc2a7b3"
      },
      "execution_count": null,
      "outputs": [
        {
          "output_type": "stream",
          "name": "stdout",
          "text": [
            "Uptown Funk -> Party Rock Anthem -> Bad Romance\n"
          ]
        }
      ]
    },
    {
      "cell_type": "markdown",
      "source": [
        "###problem2\n"
      ],
      "metadata": {
        "id": "s7Eq6-OfCxr9"
      }
    },
    {
      "cell_type": "code",
      "source": [
        "class SongNode:\n",
        "  def __init__(self, song, artist, next= None):\n",
        "    self.song = song\n",
        "    self.artist = artist\n",
        "    self.next = next\n",
        "\n",
        "def print_linked_list(node):\n",
        "    current = node\n",
        "    while current:\n",
        "        print((current.song, current.artist), end=\" -> \" if current.next else \"\")\n",
        "        current = current.next\n",
        "    print()\n",
        "\n",
        "\n",
        "def get_artist_frequency(playlist):\n",
        "  freq = {}\n",
        "  curr = playlist\n",
        "\n",
        "  while curr:\n",
        "      if curr.artist in freq:\n",
        "        freq[curr.artist] += 1\n",
        "      else:\n",
        "        freq[curr.artist] = 1\n",
        "      curr = curr.next\n",
        "  return freq\n",
        "\n",
        "\n",
        "playlist = SongNode(\"Saturn\", \"SZA\", SongNode(\"Who\", \"Jimin\", SongNode(\"Espresso\", \"Sabrina Carpenter\", SongNode(\"Snooze\", \"SZA\"))))\n",
        "\n",
        "print(get_artist_frequency(playlist))"
      ],
      "metadata": {
        "colab": {
          "base_uri": "https://localhost:8080/"
        },
        "id": "6jH7HJXH-DkD",
        "outputId": "b82e7047-de79-461e-cc75-2e056bdda91e"
      },
      "execution_count": null,
      "outputs": [
        {
          "output_type": "stream",
          "name": "stdout",
          "text": [
            "{'SZA': 2, 'Jimin': 1, 'Sabrina Carpenter': 1}\n"
          ]
        }
      ]
    },
    {
      "cell_type": "code",
      "source": [
        "###problem3\n",
        "class SongNode:\n",
        "    def __init__(self, song, artist, next=None):\n",
        "        self.song = song\n",
        "        self.artist = artist\n",
        "        self.next = next\n",
        "\n",
        "# For testing\n",
        "def print_linked_list(node):\n",
        "    current = node\n",
        "    while current:\n",
        "        print((current.song, current.artist), end=\" -> \" if current.next else \"\")\n",
        "        current = current.next\n",
        "    print()\n",
        "\n",
        "\n",
        "# Function with a bug!\n",
        "def remove_song(playlist_head, song):\n",
        "    if not playlist_head:\n",
        "        return None\n",
        "    if playlist_head.song == song:\n",
        "        return playlist_head.next\n",
        "\n",
        "    current = playlist_head\n",
        "    while current.next:\n",
        "        # This is where the bug is: it will throw an error if current.next is None\n",
        "        if current.next.song == song:\n",
        "            current.next = current.next.next\n",
        "            return playlist_head\n",
        "        current = current.next\n",
        "\n",
        "    return playlist_head\n",
        "\n",
        "playlist = SongNode(\"SOS\", \"ABBA\",\n",
        "                SongNode(\"Simple Twist of Fate\", \"Bob Dylan\",\n",
        "                    SongNode(\"Dreams\", \"Fleetwood Mac\",\n",
        "                        SongNode(\"Lovely Day\", \"Bill Withers\"))))\n",
        "\n",
        "print_linked_list(remove_song(playlist, \"Dreams\"))"
      ],
      "metadata": {
        "colab": {
          "base_uri": "https://localhost:8080/"
        },
        "id": "mavUgN5uBiYJ",
        "outputId": "60a6f55d-de47-4639-cefd-e42e416da8bf"
      },
      "execution_count": null,
      "outputs": [
        {
          "output_type": "stream",
          "name": "stdout",
          "text": [
            "('SOS', 'ABBA') -> ('Simple Twist of Fate', 'Bob Dylan') -> ('Lovely Day', 'Bill Withers')\n"
          ]
        }
      ]
    },
    {
      "cell_type": "markdown",
      "source": [
        "\n",
        "\n",
        "### 🧩 Why `current = current.next.next` Doesn't Change the Linked List Structure\n",
        "\n",
        "This line:\n",
        "\n",
        "```python\n",
        "current = current.next.next\n",
        "```\n",
        "\n",
        "**only reassigns the local variable `current`** to point to a different node. It does **not** modify the actual structure of the linked list.\n",
        "\n",
        "#### 🔍 Analogy:\n",
        "Imagine you're reading a book and using your finger to follow the words. If you move your finger two lines down, the book doesn't change—**only your finger's position changes**. Similarly, `current = current.next.next` just moves your pointer; it doesn't alter the list.\n",
        "\n",
        "---\n",
        "\n",
        "### 🧱 What You *Should* Do to Modify the List\n",
        "\n",
        "To actually remove a node, you need to change the `next` pointer of the node *before* the one you want to remove:\n",
        "\n",
        "```python\n",
        "current.next = current.next.next\n",
        "```\n",
        "\n",
        "This says: “Hey current node, instead of pointing to the node with the song we want to remove, skip it and point to the one after it.”\n",
        "\n",
        "---\n",
        "\n",
        "### 🧪 Visual Example\n",
        "\n",
        "Let’s say we have this list:\n",
        "\n",
        "```\n",
        "A -> B -> C -> D\n",
        "```\n",
        "\n",
        "And we want to remove `C`.\n",
        "\n",
        "#### ❌ Buggy version:\n",
        "```python\n",
        "if current.next.song == \"C\":\n",
        "    current = current.next.next\n",
        "```\n",
        "\n",
        "This just moves `current` to `D`, but the list still looks like:\n",
        "\n",
        "```\n",
        "A -> B -> C -> D\n",
        "```\n",
        "\n",
        "#### ✅ Correct version:\n",
        "```python\n",
        "if current.next.song == \"C\":\n",
        "    current.next = current.next.next\n",
        "```\n",
        "\n",
        "Now the list becomes:\n",
        "\n",
        "```\n",
        "A -> B -> D\n",
        "```\n",
        "\n"
      ],
      "metadata": {
        "id": "QoX07c3rLT9v"
      }
    },
    {
      "cell_type": "markdown",
      "source": [
        "\n",
        "---\n",
        "\n",
        "### 🧠 Why `cur = cur.next` Doesn't Remove a Node\n",
        "\n",
        "```python\n",
        "cur = cur.next\n",
        "```\n",
        "\n",
        "This line **just moves your pointer** one step forward. It does **not** change the structure of the linked list at all. You're simply saying:  \n",
        "> “I’m done looking at this node, let me look at the next one.”\n",
        "\n",
        "So if your list is:\n",
        "\n",
        "```\n",
        "A → B → C → D\n",
        "```\n",
        "\n",
        "and `cur` is pointing to `B`, then after `cur = cur.next`, it now points to `C`. But the list is still:\n",
        "\n",
        "```\n",
        "A → B → C → D\n",
        "```\n",
        "\n",
        "Nothing is removed.\n",
        "\n",
        "---\n",
        "\n",
        "### Why `cur = cur.next.next` Also Doesn’t Remove Nodes\n",
        "\n",
        "```python\n",
        "cur = cur.next.next\n",
        "```\n",
        "\n",
        "This skips a node in your traversal, but again, it **does not change the list**. You're just moving your pointer two steps forward.\n",
        "\n",
        "If `cur` is at `B`, then after this line, `cur` points to `D`. But the list is still:\n",
        "\n",
        "```\n",
        "A → B → C → D\n",
        "```\n",
        "\n",
        "No nodes are removed—you're just skipping over them in your traversal.\n",
        "\n",
        "---\n",
        "\n",
        "### ✅ What Actually Removes a Node\n",
        "\n",
        "To remove a node, you must **change the `.next` pointer of the node before it**:\n",
        "\n",
        "```python\n",
        "cur.next = cur.next.next\n",
        "```\n",
        "\n",
        "This says:  \n",
        "> “Hey `cur`, instead of pointing to the node we want to remove, point to the one after it.”\n",
        "\n",
        "So if `cur` is at `B`, and you do:\n",
        "\n",
        "```python\n",
        "cur.next = cur.next.next\n",
        "```\n",
        "\n",
        "Then the list becomes:\n",
        "\n",
        "```\n",
        "A → B → D\n",
        "```\n",
        "\n",
        "Now `C` is no longer referenced—it's effectively removed from the list.\n",
        "\n",
        "---\n",
        "\n",
        "### 🧪 Summary Table\n",
        "\n",
        "| Code                     | What It Does                          | Modifies List? |\n",
        "|--------------------------|----------------------------------------|----------------|\n",
        "| `cur = cur.next`         | Moves pointer to next node             | ❌ No          |\n",
        "| `cur = cur.next.next`    | Skips one node in traversal            | ❌ No          |\n",
        "| `cur.next = cur.next.next` | Removes the next node from the list   | ✅ Yes         |\n",
        "\n",
        "---\n"
      ],
      "metadata": {
        "id": "GU3nkp2SQIzl"
      }
    },
    {
      "cell_type": "code",
      "source": [],
      "metadata": {
        "id": "B7gLvFJgLLL-"
      },
      "execution_count": null,
      "outputs": []
    },
    {
      "cell_type": "code",
      "source": [
        "###problem 4\n",
        "class SongNode:\n",
        "        def __init__(self, song, artist, next=None):\n",
        "                self.song = song\n",
        "                self.artist = artist\n",
        "                self.next = next\n",
        "\n",
        "def on_repeat(playlist_head):\n",
        "  if not playlist_head:\n",
        "    return False\n",
        "  slow = playlist_head\n",
        "  fast = playlist_head\n",
        "  while fast and fast.next:\n",
        "    slow = slow.next\n",
        "    fast = fast.next.next\n",
        "    if slow == fast:\n",
        "      return True\n",
        "  return False\n",
        "\n",
        "song1 = SongNode(\"GO!\", \"Common\")\n",
        "song2 = SongNode(\"N95\", \"Kendrick Lamar\")\n",
        "song3 = SongNode(\"WIN\", \"Jay Rock\")\n",
        "song4 = SongNode(\"ATM\", \"J. Cole\")\n",
        "song1.next = song2\n",
        "song2.next = song3\n",
        "song3.next = song4\n",
        "song4.next = song2\n",
        "\n",
        "print(on_repeat(song1))"
      ],
      "metadata": {
        "colab": {
          "base_uri": "https://localhost:8080/"
        },
        "id": "FYeccruGDVcL",
        "outputId": "3c4d8622-3ead-4504-80b8-c0b6375b23b4"
      },
      "execution_count": null,
      "outputs": [
        {
          "output_type": "stream",
          "name": "stdout",
          "text": [
            "True\n"
          ]
        }
      ]
    },
    {
      "cell_type": "code",
      "source": [
        "###problem5\n",
        "class SongNode:\n",
        "        def __init__(self, song, artist, next=None):\n",
        "                self.song = song\n",
        "                self.artist = artist\n",
        "                self.next = next\n",
        "\n",
        "# For testing\n",
        "def print_linked_list(node):\n",
        "    current = node\n",
        "    while current:\n",
        "        print((current.song, current.artist), end=\" -> \" if current.next else \"\")\n",
        "        current = current.next\n",
        "    print()\n",
        "\n",
        "def loop_length(playlist_head):\n",
        "  slow = playlist_head\n",
        "  fast = playlist_head\n",
        "\n",
        "  if not playlist_head:\n",
        "    return False\n",
        "# deteck the loop\n",
        "  while fast and fast.next:\n",
        "    slow = slow.next\n",
        "    fast = fast.next\n",
        "\n",
        "    if slow == fast:\n",
        "      break\n",
        "    else:\n",
        "      return 0\n",
        "# set the meet_point to count\n",
        "  meet_point = slow\n",
        "  curr = meet_point.next\n",
        "  cnt = 1\n",
        "\n",
        "  while curr != meet_point:\n",
        "    curr = curr.next\n",
        "    cnt += 1\n",
        "  return cnt\n",
        "\n",
        "\n",
        "song1 = SongNode(\"Wein\", \"AL SHAMI\")\n",
        "song2 = SongNode(\"Si Ai\", \"Tayna\")\n",
        "song3 = SongNode(\"Qalbi\", \"Yasser Abd Alwahab\")\n",
        "song4 = SongNode(\"La\", \"DYSTINCT\")\n",
        "song1.next = song2\n",
        "song2.next = song3\n",
        "song3.next = song4\n",
        "song4.next = song2\n",
        "\n",
        "print(loop_length(song1))"
      ],
      "metadata": {
        "colab": {
          "base_uri": "https://localhost:8080/"
        },
        "id": "HjqKRWtzP7ZO",
        "outputId": "1518ef85-b42c-4895-a00a-0da17e04e882"
      },
      "execution_count": null,
      "outputs": [
        {
          "output_type": "stream",
          "name": "stdout",
          "text": [
            "3\n"
          ]
        }
      ]
    },
    {
      "cell_type": "code",
      "source": [
        "##problem6 volumn control\n",
        "class Node:\n",
        "\tdef __init__(self, value, next=None):\n",
        "\t\tself.value = value\n",
        "\t\tself.next = next\n",
        "\n",
        "# For testing\n",
        "def print_linked_list(head):\n",
        "    current = head\n",
        "    while current:\n",
        "        print(current.value, end=\" -> \" if current.next else \"\\n\")\n",
        "        current = current.next\n",
        "\n",
        "def count_critical_points(song_audio):\n",
        "  if not song_audio or not song_audio.next:\n",
        "    return 0\n",
        "\n",
        "  cnt = 0\n",
        "  pre = song_audio\n",
        "  cur = song_audio.next\n",
        "\n",
        "  while cur and cur.next:\n",
        "    if cur.value > pre.value and cur.value > cur.next.value:\n",
        "      cnt += 1\n",
        "    elif cur.value < pre.value and cur.value < cur.next.value:\n",
        "      cnt +=1\n",
        "    pre = cur\n",
        "    cur = cur.next\n",
        "  return cnt\n",
        "\n",
        "song_audio = Node(5, Node(3, Node(1, Node(2, Node(5, Node(1, Node(2)))))))\n",
        "\n",
        "print(count_critical_points(song_audio))"
      ],
      "metadata": {
        "colab": {
          "base_uri": "https://localhost:8080/"
        },
        "id": "5N9UkSf7TvoG",
        "outputId": "ef0be6eb-2224-47de-f48b-25c58410a63b"
      },
      "execution_count": null,
      "outputs": [
        {
          "output_type": "stream",
          "name": "stdout",
          "text": [
            "3\n"
          ]
        }
      ]
    },
    {
      "cell_type": "markdown",
      "source": [
        "##standard2"
      ],
      "metadata": {
        "id": "rCtI7vpRxwXH"
      }
    },
    {
      "cell_type": "code",
      "source": [
        "#problem1\n",
        "class Node:\n",
        "\tdef __init__(self, value, next=None):\n",
        "\t\tself.value = value\n",
        "\t\tself.next = next\n",
        "\n",
        "# For testing\n",
        "def print_linked_list(head):\n",
        "    current = head\n",
        "    while current:\n",
        "        print(current.value, end=\" -> \" if current.next else \"\\n\")\n",
        "        current = current.next\n",
        "\n",
        "harry = Node(\"Harry\")\n",
        "ron = Node(\"Ron\")\n",
        "hermione = Node(\"Hermione\")\n",
        "harry.next = ron\n",
        "ron.next = hermione\n",
        "\n",
        "# head = Node(\"Harry\",Node(\"Ron\",Node(\"Hermione\")))\n",
        "\n",
        "print_linked_list(harry)\n"
      ],
      "metadata": {
        "id": "zc7BpDOpmWJC",
        "colab": {
          "base_uri": "https://localhost:8080/"
        },
        "outputId": "33b35d3c-2ead-4f77-d17a-bf6b97205972"
      },
      "execution_count": null,
      "outputs": [
        {
          "output_type": "stream",
          "name": "stdout",
          "text": [
            "Harry -> Ron -> Hermione\n"
          ]
        }
      ]
    },
    {
      "cell_type": "code",
      "source": [
        "class Node:\n",
        "  def __init__(self, house, score, next=None):\n",
        "   self.house = house\n",
        "   self.value = score\n",
        "   self.next = next\n",
        "\n",
        "# For testing\n",
        "def print_linked_list(head):\n",
        "  current = head\n",
        "  while current:\n",
        "      print((current.house, current.value), end=\" -> \" if current.next else \"\\n\")\n",
        "      current = current.next\n",
        "\n",
        "def count_element(house_points, score):\n",
        "  freq ={}\n",
        "  cur = house_points\n",
        "  while cur:\n",
        "    if cur.value in freq:\n",
        "      freq[cur.value] += 1\n",
        "    else:\n",
        "      freq[cur.value] = 1\n",
        "    cur = cur.next\n",
        "  return freq[score]\n",
        "\n",
        "\n",
        "house_points = Node(\"Gryffindor\", 600,\n",
        "                Node(\"Ravenclaw\", 300,\n",
        "                    Node(\"Slytherin\", 500,\n",
        "                        Node(\"Hufflepuff\", 600))))\n",
        "\n",
        "print(count_element(house_points, 600))"
      ],
      "metadata": {
        "colab": {
          "base_uri": "https://localhost:8080/"
        },
        "id": "rmNbJ8yKopgO",
        "outputId": "7c7798ac-04cd-4d86-c7a1-698295fe2dbb"
      },
      "execution_count": null,
      "outputs": [
        {
          "output_type": "stream",
          "name": "stdout",
          "text": [
            "2\n"
          ]
        }
      ]
    },
    {
      "cell_type": "code",
      "source": [
        "#problem 3\n",
        "class Node:\n",
        "    def __init__(self, potion, next=None):\n",
        "        self.potion = potion\n",
        "        self.next = next\n",
        "\n",
        "# For testing\n",
        "def print_linked_list(head):\n",
        "    current = head\n",
        "    while current:\n",
        "        print(current.potion, end=\" -> \" if current.next else \"\\n\")\n",
        "        current = current.next\n",
        "\n",
        "def find_middle_potion(potions):\n",
        "  slow = potions\n",
        "  fast = potions\n",
        "  if not potions:\n",
        "    return None\n",
        "  while fast and fast.next and fast.next.next:\n",
        "    slow = slow.next\n",
        "    fast = fast.next.next\n",
        "\n",
        "  return slow.potion\n",
        "\n",
        "\n",
        "\n",
        "potions1 = Node(\"Poison Antidote\", Node(\"Shrinking Solution\", Node(\"Trollblood Tincture\")))\n",
        "potions2 = Node(\"Elixir of Life\", Node(\"Sleeping Draught\", Node(\"Babbling Beverage\", Node(\"Aging Potion\"))))\n",
        "\n",
        "print(find_middle_potion(potions1))\n",
        "print(find_middle_potion(potions2))"
      ],
      "metadata": {
        "colab": {
          "base_uri": "https://localhost:8080/"
        },
        "id": "tHw4sorWrcLB",
        "outputId": "46dd09e8-d6ad-4d7d-ce13-ecf153cf3ec2"
      },
      "execution_count": null,
      "outputs": [
        {
          "output_type": "stream",
          "name": "stdout",
          "text": [
            "Shrinking Solution\n",
            "Sleeping Draught\n"
          ]
        }
      ]
    },
    {
      "cell_type": "code",
      "source": [
        "#problem4 reverse the linked list\n",
        "class Node:\n",
        "    def __init__(self, value, next=None):\n",
        "        self.value = value\n",
        "        self.next = next\n",
        "\n",
        "# For testing\n",
        "def print_linked_list(head):\n",
        "    current = head\n",
        "    while current:\n",
        "        print(current.value, end=\" -> \" if current.next else \"\\n\")\n",
        "        current = current.next\n",
        "\n",
        "def reverse(events):\n",
        "  prev = None\n",
        "  current = events\n",
        "  while current:\n",
        "    next_node = current.next  # Store the next node\n",
        "    current.next = prev       # Reverse the current node's pointer\n",
        "\n",
        "    prev = current            # Move prev to the current node, prev move to cur\n",
        "    current = next_node       # Move current to the next node, cur move to next node\n",
        "  return prev # prev is the new head of the reversed list\n",
        "\n",
        "\n",
        "\n",
        "events = Node(\"Potion Brewing\",\n",
        "            Node(\"Spell Casting\",\n",
        "                Node(\"Wand Making\",\n",
        "                    Node(\"Dragon Taming\",\n",
        "                        Node(\"Broomstick Flying\")))))\n",
        "\n",
        "print_linked_list(reverse(events))"
      ],
      "metadata": {
        "colab": {
          "base_uri": "https://localhost:8080/"
        },
        "id": "Exq4is24c2lv",
        "outputId": "b6786225-2f4d-46a6-e065-f5c65ffab33c"
      },
      "execution_count": null,
      "outputs": [
        {
          "output_type": "stream",
          "name": "stdout",
          "text": [
            "Broomstick Flying -> Dragon Taming -> Wand Making -> Spell Casting -> Potion Brewing\n"
          ]
        }
      ]
    },
    {
      "cell_type": "markdown",
      "source": [
        "\n",
        "\n",
        "```\n",
        "Let's imagine a simple linked list: A -> B -> C -> None\n",
        "\n",
        "We start with:\n",
        "\n",
        "prev = None\n",
        "current = A\n",
        "Step 1: Process node A\n",
        "\n",
        "next_node stores B (the node after A).\n",
        "A.next is changed from B to prev (which is None). Now A points to None.\n",
        "prev moves to A.\n",
        "current moves to B (the stored next_node).\n",
        "Now the situation is: None <- A B -> C -> None. Our pointers are:\n",
        "\n",
        "prev = A\n",
        "current = B\n",
        "Step 2: Process node B\n",
        "\n",
        "next_node stores C (the node after B).\n",
        "B.next is changed from C to prev (which is A). Now B points to A.\n",
        "prev moves to B.\n",
        "current moves to C (the stored next_node).\n",
        "Now the situation is: None <- A <- B C -> None. Our pointers are:\n",
        "\n",
        "prev = B\n",
        "current = C\n",
        "```\n",
        "\n"
      ],
      "metadata": {
        "id": "xvp5mqT3vSqr"
      }
    },
    {
      "cell_type": "code",
      "source": [
        "#problem5 Mirror, Mirror\n",
        "# Plan step:\n",
        "# Find the middle of the list.\n",
        "# Reverse the second half of the list.\n",
        "# Compare the two halves of the list.\n",
        "# Restore the list.\n",
        "# Return the reversed list.\n",
        "class Node:\n",
        "    def __init__(self, value, next=None):\n",
        "        self.value = value\n",
        "        self.next = next\n",
        "\n",
        "# For testing\n",
        "def print_linked_list(head):\n",
        "    current = head\n",
        "    while current:\n",
        "        print(current.value, end=\" -> \" if current.next else \"\\n\")\n",
        "        current = current.next\n",
        "def reverse(head):\n",
        "  prev = None\n",
        "  cur = head\n",
        "  while cur:\n",
        "    next_node = cur.next\n",
        "    cur.next = prev\n",
        "\n",
        "    prev = cur\n",
        "    cur = next_node\n",
        "  return prev\n",
        "def is_mirrored(head):\n",
        "  if not head or not head.next: #Empty or one node\n",
        "    return True\n",
        "  slow, fast = head, head\n",
        "  while fast and fast.next:\n",
        "    slow = slow.next\n",
        "    fast = fast.next.next\n",
        "  second_half = reverse(slow)\n",
        "  first_half = head\n",
        "  second_half_copy = second_half\n",
        "  while second_half:\n",
        "    if first_half.value != second_half.value:\n",
        "      return False\n",
        "    first_half = first_half.next\n",
        "    second_half = second_half.next\n",
        "  return True\n",
        "\n",
        "\n",
        "\n",
        "list1 = Node(\"Phoenix\", Node(\"Dragon\", Node(\"Phoenix\")))\n",
        "list2 = Node(\"Werewolf\", Node(\"Vampire\", Node(\"Griffin\")))\n",
        "\n",
        "print(is_mirrored(list1))\n",
        "print(is_mirrored(list2))"
      ],
      "metadata": {
        "id": "60uT2yTyvcA_",
        "colab": {
          "base_uri": "https://localhost:8080/"
        },
        "outputId": "b60169a6-b636-4ba3-a77c-e61459688706"
      },
      "execution_count": null,
      "outputs": [
        {
          "output_type": "stream",
          "name": "stdout",
          "text": [
            "True\n",
            "False\n"
          ]
        }
      ]
    },
    {
      "cell_type": "code",
      "source": [
        "#problem6 Find the start of the loop\n",
        "\n",
        "# 1) Initialize two pointers, slow and fast, both pointing to the head of the list.\n",
        "# 2) Traverse the list with the following steps:\n",
        "#     a) Move the slow pointer by one step.\n",
        "#     b) Move the fast pointer by two steps.\n",
        "#     c) If slow and fast pointers meet, a cycle is detected.\n",
        "# 3) If a cycle is detected:\n",
        "#     a) Reset one pointer (slow) to the start of the list.\n",
        "#     b) Move both pointers one step at a time.\n",
        "#     c) The point where they meet again is the start of the cycle.\n",
        "# 4) If no cycle is detected, return None.\n",
        "class Node:\n",
        "    def __init__(self, value, next=None):\n",
        "        self.value = value\n",
        "        self.next = next\n",
        "\n",
        "# For testing\n",
        "def print_linked_list(head):\n",
        "    current = head\n",
        "    while current:\n",
        "        print(current.value, end=\" -> \" if current.next else \"\\n\")\n",
        "        current = current.next\n",
        "\n",
        "def loop_start(path_start):\n",
        "    if not path_start:\n",
        "      return None\n",
        "    slow, fast = path_start, path_start\n",
        "    while fast and fast.next:\n",
        "      slow = slow.next\n",
        "      fast = fast.next.next # find the circle\n",
        "      if slow == fast:\n",
        "        slow = path_start\n",
        "        while slow != fast:\n",
        "          slow = slow.next\n",
        "          fast = fast.next #find the start of the circle\n",
        "        return slow.value\n",
        "    return None\n",
        "\n",
        "\n",
        "path_start = Node(\"Mystic Falls\")\n",
        "waypoint1 = Node(\"Troll's Bridge\")\n",
        "waypoint2 = Node(\"Elven Arbor\")\n",
        "waypoint3 = Node(\"Fairy Glade\")\n",
        "\n",
        "path_start.next = waypoint1\n",
        "waypoint1.next = waypoint2\n",
        "waypoint2.next = waypoint3\n",
        "waypoint3.next = waypoint1\n",
        "\n",
        "print(loop_start(path_start))"
      ],
      "metadata": {
        "colab": {
          "base_uri": "https://localhost:8080/"
        },
        "id": "9Vs1fC1e2H_I",
        "outputId": "777321cc-3bf7-48d1-f4a8-5f0b925d813c"
      },
      "execution_count": null,
      "outputs": [
        {
          "output_type": "stream",
          "name": "stdout",
          "text": [
            "Troll's Bridge\n"
          ]
        }
      ]
    },
    {
      "cell_type": "markdown",
      "metadata": {
        "id": "0fa57ada"
      },
      "source": [
        "## Task\n",
        "Explain the selected code. How can I check if the linked list would the same backwards and forwards?\n",
        "\n",
        "Unlike strings or lists where you can easily access elements by index from both the left and the right (or even reverse the entire structure simply), linked lists only allow traversal in one direction (from the head to the tail) using the next pointers."
      ]
    },
    {
      "cell_type": "markdown",
      "metadata": {
        "id": "d0fceab2"
      },
      "source": [
        "#### Implement `find middle` function\n",
        "\n",
        "#### Subtask:\n",
        "Create a helper function to find the middle node of the linked list using slow and fast pointers.\n"
      ]
    },
    {
      "cell_type": "markdown",
      "metadata": {
        "id": "394d4fc2"
      },
      "source": [
        "**Reasoning**:\n",
        "I need to create a function to find the middle node of a linked list using the slow and fast pointer approach, as described in the instructions.\n",
        "\n"
      ]
    },
    {
      "cell_type": "code",
      "metadata": {
        "id": "6086278b"
      },
      "source": [
        "class Node:\n",
        "    def __init__(self, value, next=None):\n",
        "        self.value = value\n",
        "        self.next = next\n",
        "\n",
        "def find_middle(head):\n",
        "  \"\"\"Finds the middle node of a linked list using slow and fast pointers.\"\"\"\n",
        "  if not head:\n",
        "    return None\n",
        "\n",
        "  slow = head\n",
        "  fast = head\n",
        "\n",
        "  while fast and fast.next:\n",
        "    slow = slow.next\n",
        "    fast = fast.next.next\n",
        "\n",
        "  return slow"
      ],
      "execution_count": null,
      "outputs": []
    },
    {
      "cell_type": "markdown",
      "metadata": {
        "id": "97fb5dfe"
      },
      "source": [
        "### Implement `reverse linked list` function\n",
        "\n",
        "### Subtask:\n",
        "Create a helper function to reverse a linked list.\n"
      ]
    },
    {
      "cell_type": "markdown",
      "metadata": {
        "id": "fcc62c63"
      },
      "source": [
        "**Reasoning**:\n",
        "The subtask is to create a helper function to reverse a linked list. I will define the function `reverse_linked_list` and implement the logic to reverse the list using three pointers: `prev`, `current`, and `next_node`.\n",
        "\n"
      ]
    },
    {
      "cell_type": "code",
      "metadata": {
        "id": "a4967c9f"
      },
      "source": [
        "class Node:\n",
        "    def __init__(self, value, next=None):\n",
        "        self.value = value\n",
        "        self.next = next\n",
        "\n",
        "def reverse_linked_list(head):\n",
        "  \"\"\"Reverses a linked list.\"\"\"\n",
        "  prev = None\n",
        "  current = head\n",
        "  while current:\n",
        "    next_node = current.next\n",
        "    current.next = prev\n",
        "    prev = current\n",
        "    current = next_node\n",
        "  return prev"
      ],
      "execution_count": null,
      "outputs": []
    },
    {
      "cell_type": "markdown",
      "metadata": {
        "id": "8119eebb"
      },
      "source": [
        "### Complete `is mirrored` function\n",
        "\n",
        "### Subtask:\n",
        "Complete the `is mirrored` function. This function should determine if a linked list is a palindrome by finding the middle, reversing the second half, comparing the halves, and then restoring the original list.\n"
      ]
    },
    {
      "cell_type": "markdown",
      "metadata": {
        "id": "93710eb2"
      },
      "source": [
        "**Reasoning**:\n",
        "Complete the `is_mirrored` function by implementing the logic to check if the linked list is a palindrome using the helper functions already defined.\n",
        "\n"
      ]
    },
    {
      "cell_type": "code",
      "metadata": {
        "colab": {
          "base_uri": "https://localhost:8080/"
        },
        "id": "77f5aab5",
        "outputId": "4e7849f2-d52c-4a54-ab3c-fd1af37a3ee1"
      },
      "source": [
        "class Node:\n",
        "    def __init__(self, value, next=None):\n",
        "        self.value = value\n",
        "        self.next = next\n",
        "\n",
        "# For testing\n",
        "def print_linked_list(head):\n",
        "    current = head\n",
        "    while current:\n",
        "        print(current.value, end=\" -> \" if current.next else \"\\n\")\n",
        "        current = current.next\n",
        "\n",
        "def find_middle(head):\n",
        "  \"\"\"Finds the middle node of a linked list using slow and fast pointers.\"\"\"\n",
        "  if not head:\n",
        "    return None\n",
        "\n",
        "  slow = head\n",
        "  fast = head\n",
        "\n",
        "  while fast and fast.next:\n",
        "    slow = slow.next\n",
        "    fast = fast.next.next\n",
        "\n",
        "  return slow\n",
        "\n",
        "def reverse_linked_list(head):\n",
        "  \"\"\"Reverses a linked list.\"\"\"\n",
        "  prev = None\n",
        "  current = head\n",
        "  while current:\n",
        "    next_node = current.next\n",
        "    current.next = prev\n",
        "    prev = current\n",
        "    current = next_node\n",
        "  return prev\n",
        "\n",
        "def is_mirrored(head):\n",
        "    if not head or not head.next:\n",
        "        return True\n",
        "\n",
        "    middle_node = find_middle(head)\n",
        "    second_half_head = reverse_linked_list(middle_node.next)\n",
        "\n",
        "    p1 = head\n",
        "    p2 = second_half_head\n",
        "\n",
        "    is_palindrome = True\n",
        "    while p2:\n",
        "        if p1.value != p2.value:\n",
        "            is_palindrome = False\n",
        "            break\n",
        "        p1 = p1.next\n",
        "        p2 = p2.next\n",
        "\n",
        "    # Restore the original list\n",
        "    reverse_linked_list(second_half_head)\n",
        "\n",
        "    return is_palindrome\n",
        "\n",
        "\n",
        "list1 = Node(\"Phoenix\", Node(\"Dragon\", Node(\"Phoenix\")))\n",
        "list2 = Node(\"Werewolf\", Node(\"Vampire\", Node(\"Griffin\")))\n",
        "list3 = Node(\"A\", Node(\"B\", Node(\"B\", Node(\"A\"))))\n",
        "list4 = Node(\"A\", Node(\"B\", Node(\"A\")))\n",
        "\n",
        "print(is_mirrored(list1))\n",
        "print(is_mirrored(list2))\n",
        "print(is_mirrored(list3))\n",
        "print(is_mirrored(list4))"
      ],
      "execution_count": null,
      "outputs": [
        {
          "output_type": "stream",
          "name": "stdout",
          "text": [
            "True\n",
            "False\n",
            "True\n",
            "True\n"
          ]
        }
      ]
    },
    {
      "cell_type": "markdown",
      "metadata": {
        "id": "4f8d1be2"
      },
      "source": [
        "### Test the `is mirrored` function\n",
        "\n",
        "### Subtask:\n",
        "Use the provided example lists to test the function.\n"
      ]
    },
    {
      "cell_type": "markdown",
      "metadata": {
        "id": "4b4ec0ae"
      },
      "source": [
        "**Reasoning**:\n",
        "Call the `is_mirrored` function with the provided example lists and print the results.\n",
        "\n"
      ]
    },
    {
      "cell_type": "code",
      "metadata": {
        "colab": {
          "base_uri": "https://localhost:8080/"
        },
        "id": "ab1fd253",
        "outputId": "9e7ce678-b728-4dc7-c871-6ee22c5bd2c4"
      },
      "source": [
        "# Call the is_mirrored function with the example lists\n",
        "result1 = is_mirrored(list1)\n",
        "result2 = is_mirrored(list2)\n",
        "result3 = is_mirrored(list3)\n",
        "result4 = is_mirrored(list4)\n",
        "\n",
        "# Print the results\n",
        "print(f\"Is list1 mirrored? {result1}\")\n",
        "print(f\"Is list2 mirrored? {result2}\")\n",
        "print(f\"Is list3 mirrored? {result3}\")\n",
        "print(f\"Is list4 mirrored? {result4}\")"
      ],
      "execution_count": null,
      "outputs": [
        {
          "output_type": "stream",
          "name": "stdout",
          "text": [
            "Is list1 mirrored? True\n",
            "Is list2 mirrored? False\n",
            "Is list3 mirrored? True\n",
            "Is list4 mirrored? True\n"
          ]
        }
      ]
    },
    {
      "cell_type": "markdown",
      "metadata": {
        "id": "b0bffc0a"
      },
      "source": [
        "### Summary:\n",
        "\n",
        "### Q&A\n",
        "*   How can I check if the linked list would be the same backwards and forwards?\n",
        "\n",
        "You can check if a linked list is the same backwards and forwards (i.e., if it is a palindrome) by:\n",
        "1.  Finding the middle node of the linked list.\n",
        "2.  Reversing the second half of the list starting from the node after the middle.\n",
        "3.  Comparing the first half of the original list with the reversed second half node by node.\n",
        "4.  Restoring the original list by reversing the second half back to its initial state.\n",
        "\n",
        "### Data Analysis Key Findings\n",
        "*   The `find_middle` function correctly identifies the middle node of a linked list using the slow and fast pointer approach.\n",
        "*   The `reverse_linked_list` function successfully reverses the order of nodes in a linked list.\n",
        "*   The `is_mirrored` function correctly determined whether the example linked lists were palindromes:\n",
        "    *   `list1` (`Phoenix -> Dragon -> Phoenix`) was identified as mirrored (`True`).\n",
        "    *   `list2` (`Werewolf -> Vampire -> Griffin`) was identified as not mirrored (`False`).\n",
        "    *   `list3` (`A -> B -> B -> A`) was identified as mirrored (`True`).\n",
        "    *   `list4` (`A -> B -> A`) was identified as mirrored (`True`).\n",
        "*   The `is_mirrored` function includes steps to restore the original linked list structure after checking for the palindrome property.\n",
        "\n",
        "### Insights or Next Steps\n",
        "*   The implemented `is_mirrored` function provides an efficient way to check for palindrome linked lists, utilizing O(N) time complexity and O(1) space complexity (excluding the input list itself) by modifying the list temporarily.\n",
        "*   For very large linked lists or scenarios where the list cannot be modified, an alternative approach using a stack or recursion could be considered, though this would involve O(N) space complexity.\n"
      ]
    },
    {
      "cell_type": "markdown",
      "source": [
        "#session2\n"
      ],
      "metadata": {
        "id": "qcOHszT2xna-"
      }
    },
    {
      "cell_type": "markdown",
      "source": [
        "##standard1\n"
      ],
      "metadata": {
        "id": "I2e8r-y-xy84"
      }
    },
    {
      "cell_type": "code",
      "source": [
        "#problem1\n",
        "class Node:\n",
        "    def __init__(self, value, next=None):\n",
        "        self.value = value\n",
        "        self.next = next\n",
        "\n",
        "def is_circular(clues):\n",
        "  slow, fast = clues, clues\n",
        "  while fast and fast.next:\n",
        "    slow = slow.next\n",
        "    fast = fast.next.next\n",
        "    if slow == fast:\n",
        "      return True\n",
        "  return False\n",
        "\n",
        "\n",
        "clue1 = Node(\"The stolen goods are at an abandoned warehouse\")\n",
        "clue2 = Node(\"The mayor is accepting bribes\")\n",
        "clue3 = Node(\"They dumped their disguise in the lake\")\n",
        "clue1.next = clue2\n",
        "clue2.next = clue3\n",
        "clue3.next = clue1\n",
        "\n",
        "print(is_circular(clue1))"
      ],
      "metadata": {
        "colab": {
          "base_uri": "https://localhost:8080/"
        },
        "id": "DIkNakoyhear",
        "outputId": "ca2b01d0-46a9-4025-c866-50a4e3006648"
      },
      "execution_count": null,
      "outputs": [
        {
          "output_type": "stream",
          "name": "stdout",
          "text": [
            "True\n"
          ]
        }
      ]
    },
    {
      "cell_type": "code",
      "source": [
        "#problem2\n",
        "class Node:\n",
        "    def __init__(self, value, next=None):\n",
        "        self.value = value\n",
        "        self.next = next\n",
        "\n",
        "def collect_false_evidence(evidence):\n",
        "  if not evidence:\n",
        "    return []\n",
        "  slow, fast = evidence, evidence\n",
        "  while fast and fast.next:\n",
        "    slow = slow.next\n",
        "    fast = fast.next.next\n",
        "    if slow == fast:\n",
        "      break\n",
        "  else:  # No cycle detected \"if slow != fast:\n",
        "    return []\n",
        "\n",
        "\n",
        "  slow = evidence\n",
        "  while slow != fast:\n",
        "    slow = slow.next\n",
        "    fast = fast.next\n",
        "  cycle_start = slow # start of the cycle\n",
        "  cycle_value = []\n",
        "  cur = cycle_start\n",
        "  while True:\n",
        "    cycle_value.append(cur.value)\n",
        "    cur = cur.next\n",
        "    if cur == cycle_start:\n",
        "      break\n",
        "  return cycle_value\n",
        "\n",
        "clue1 = Node(\"Unmarked sedan seen near the crime scene\")\n",
        "clue2 = Node(\"The stolen goods are at an abandoned warehouse\")\n",
        "clue3 = Node(\"The mayor is accepting bribes\")\n",
        "clue4 = Node(\"They dumped their disguise in the lake\")\n",
        "clue1.next = clue2\n",
        "clue2.next = clue3\n",
        "clue3.next = clue4\n",
        "clue4.next = clue2\n",
        "\n",
        "print(collect_false_evidence(clue1))\n",
        "\n",
        "\n",
        "\n",
        "clue5 = Node(\"A masked figure was seen fleeing the scene\")\n",
        "clue6 = Node(\"Footprints lead to the nearby woods\")\n",
        "clue7 = Node(\"A broken window was found at the back\")\n",
        "clue5.next = clue6\n",
        "clue6.next = clue7\n",
        "print(collect_false_evidence(clue5))\n",
        "\n"
      ],
      "metadata": {
        "colab": {
          "base_uri": "https://localhost:8080/"
        },
        "id": "SI3M8uCgjL10",
        "outputId": "a2b93fdd-4e78-45f5-d1a2-6e72a7e20788"
      },
      "execution_count": null,
      "outputs": [
        {
          "output_type": "stream",
          "name": "stdout",
          "text": [
            "['The stolen goods are at an abandoned warehouse', 'The mayor is accepting bribes', 'They dumped their disguise in the lake']\n",
            "[]\n"
          ]
        }
      ]
    },
    {
      "cell_type": "code",
      "source": [
        "#problem3\n",
        "'''\n",
        "You've identified a list of suspect, but time is limited and you won't be able to question all of them today. Write a function partition() to help prioritize the order in which you question suspects. Given the head of a linked list of integers suspect_ratings, where each integer represents the suspiciousness of the a given suspect and a value threshold, partition the linked list such that all nodes with values greater than threshold come before nodes with values less than or equal to threshold.\n",
        "\n",
        "Return the head of the partitioned list.\n",
        "'''\n",
        "class Node:\n",
        "  def __init__(self,value, next = None):\n",
        "    self.value = value\n",
        "    self.next = next\n",
        "def print_linked_list(head):\n",
        "  cur = head\n",
        "  while cur:\n",
        "    print(cur.val, end = \"->\" if cur.next else \"\\n\")\n",
        "    cur = cur.next\n",
        "def partition(suspect_ratings, threshold):\n",
        "  if not suspect_ratings:\n",
        "    return None\n",
        "  greater_head = Node(0)\n",
        "  less_\n",
        "\n",
        "suspect_ratings = Node(1, Node(4, Node(3, Node(2, Node(5, Node(2))))))\n",
        "\n",
        "print_linked_list(partition(suspect_ratings, 3))"
      ],
      "metadata": {
        "id": "5VykQvfsIcHn"
      },
      "execution_count": null,
      "outputs": []
    },
    {
      "cell_type": "markdown",
      "source": [
        "##standard2\n"
      ],
      "metadata": {
        "id": "LaZip5lIx2IH"
      }
    },
    {
      "cell_type": "code",
      "metadata": {
        "colab": {
          "base_uri": "https://localhost:8080/"
        },
        "id": "79c6c6bd",
        "outputId": "aeb69e62-4775-4fad-9802-0fde3a80050d"
      },
      "source": [
        "class Node:\n",
        "    def __init__(self, val, next=None):\n",
        "        self.value = val\n",
        "        self.next = next\n",
        "\n",
        "# Create a sample linked list: 1 -> 2 -> 3 -> 4\n",
        "head = Node(1, Node(2, Node(3, Node(4))))\n",
        "\n",
        "def iterative_traversal(head):\n",
        "    current = head # Start at the head\n",
        "    print(\"Iterative Traversal:\")\n",
        "    while current: # Continue as long as the current node is not None\n",
        "        print(current.value, end=\" -> \" if current.next else \"\")\n",
        "        current = current.next # Move to the next node\n",
        "    print(\"\\nEnd of traversal.\")\n",
        "\n",
        "iterative_traversal(head)"
      ],
      "execution_count": null,
      "outputs": [
        {
          "output_type": "stream",
          "name": "stdout",
          "text": [
            "Iterative Traversal:\n",
            "1 -> 2 -> 3 -> 4\n",
            "End of traversal.\n"
          ]
        }
      ]
    },
    {
      "cell_type": "code",
      "metadata": {
        "colab": {
          "base_uri": "https://localhost:8080/"
        },
        "id": "9cc92f5e",
        "outputId": "b9c80734-27d2-43c7-c461-d47769ab1048"
      },
      "source": [
        "class Node:\n",
        "    def __init__(self, val, next=None):\n",
        "        self.value = val\n",
        "        self.next = next\n",
        "\n",
        "# Create a sample linked list: A -> B -> C -> D\n",
        "head_recursive = Node('A', Node('B', Node('C', Node('D'))))\n",
        "\n",
        "def recursive_traversal(node):\n",
        "    if node is None:\n",
        "        print(\"\\nEnd of traversal (recursive).\")\n",
        "        return\n",
        "\n",
        "    print(node.value, end=\" -> \" if node.next else \"\")\n",
        "    recursive_traversal(node.next) # Recursively call the function on the next node\n",
        "\n",
        "print(\"Recursive Traversal:\")\n",
        "recursive_traversal(head_recursive)"
      ],
      "execution_count": null,
      "outputs": [
        {
          "output_type": "stream",
          "name": "stdout",
          "text": [
            "Recursive Traversal:\n",
            "A -> B -> C -> D\n",
            "End of traversal (recursive).\n"
          ]
        }
      ]
    },
    {
      "cell_type": "code",
      "source": [
        "class Node:\n",
        "    def __init__(self, value, next=None):\n",
        "        self.value = value\n",
        "        self.next = next\n",
        "\n",
        "def foo(head):\n",
        "  if not (head):\n",
        "    return\n",
        "  foo(head.next)\n",
        "  print(head.value)\n",
        "\n",
        "# Create a sample linked list\n",
        "head = Node(1, Node(2, Node(3, Node(4))))\n",
        "\n",
        "# Call the function to print the list in reverse\n",
        "print(\"Printing linked list in reverse:\")\n",
        "foo(head)"
      ],
      "metadata": {
        "colab": {
          "base_uri": "https://localhost:8080/"
        },
        "id": "5dFEW2UolJZY",
        "outputId": "604fbbdc-72ef-4fa2-f6e5-7b798cf086ff"
      },
      "execution_count": null,
      "outputs": [
        {
          "output_type": "stream",
          "name": "stdout",
          "text": [
            "Printing linked list in reverse:\n",
            "4\n",
            "3\n",
            "2\n",
            "1\n"
          ]
        }
      ]
    },
    {
      "cell_type": "code",
      "source": [],
      "metadata": {
        "id": "4osZjK0duUmG"
      },
      "execution_count": null,
      "outputs": []
    },
    {
      "cell_type": "code",
      "source": [
        "class Node:\n",
        "    def __init__(self, value, next=None):\n",
        "        self.value = value\n",
        "        self.next = next\n",
        "\n",
        "def collect_false_evidence(evidence):\n",
        "    if not evidence:\n",
        "        return []\n",
        "\n",
        "    # Checking if circle\n",
        "    slow, fast = evidence, evidence\n",
        "    while fast and fast.next:\n",
        "        slow = slow.next\n",
        "        fast = fast.next.next\n",
        "        if slow == fast:\n",
        "            break\n",
        "    # If the loop finished without finding a cycle, return an empty list\n",
        "    else:\n",
        "        return []\n",
        "\n",
        "    # Checks where circle starts\n",
        "    slow = evidence\n",
        "    while slow != fast:\n",
        "        slow = slow.next\n",
        "        fast = fast.next\n",
        "\n",
        "    # Adds the values to list\n",
        "    cycle_begin = slow #mark the begin\n",
        "    value = []\n",
        "    cur = cycle_begin\n",
        "\n",
        "    while True:\n",
        "        value.append(cur.value)\n",
        "        cur = cur.next\n",
        "        if cur == cycle_begin:\n",
        "            break\n",
        "    return value\n",
        "\n",
        "\n",
        "clue1 = Node(\"Unmarked sedan seen near the crime scene\")\n",
        "clue2 = Node(\"The stolen goods are at an abandoned warehouse\")\n",
        "clue3 = Node(\"The mayor is accepting bribes\")\n",
        "clue4 = Node(\"They dumped their disguise in the lake\")\n",
        "clue1.next = clue2\n",
        "clue2.next = clue3\n",
        "clue3.next = clue4\n",
        "clue4.next = clue2\n",
        "\n",
        "clue5 = Node(\"A masked figure was seen fleeing the scene\")\n",
        "clue6 = Node(\"Footprints lead to the nearby woods\")\n",
        "clue7 = Node(\"A broken window was found at the back\")\n",
        "clue5.next = clue6\n",
        "clue6.next = clue7\n",
        "\n",
        "print(collect_false_evidence(clue1))\n",
        "print(collect_false_evidence(clue5))"
      ],
      "metadata": {
        "colab": {
          "base_uri": "https://localhost:8080/"
        },
        "id": "_fL-byQsuUEq",
        "outputId": "587fd7b8-54f8-445c-dc9f-eb474f8dfa4c"
      },
      "execution_count": null,
      "outputs": [
        {
          "output_type": "stream",
          "name": "stdout",
          "text": [
            "['The stolen goods are at an abandoned warehouse', 'The mayor is accepting bribes', 'They dumped their disguise in the lake']\n",
            "[]\n"
          ]
        }
      ]
    },
    {
      "cell_type": "markdown",
      "source": [
        "##Assignment\n"
      ],
      "metadata": {
        "id": "6-H40XG3c8Tn"
      }
    },
    {
      "cell_type": "code",
      "source": [
        "#\n",
        "def remove_duplicates(head: ListNode) -> ListNode:\n",
        "    if not head:\n",
        "        return None\n",
        "\n",
        "    current = head\n",
        "    while current and current.next:\n",
        "        if current.val == current.next.val:\n",
        "            current.next = current.next.next  # skip the duplicate\n",
        "        else:\n",
        "            current = current.next  # move only when no deletion\n",
        "\n",
        "    return head"
      ],
      "metadata": {
        "id": "AIZqFwlrc4o_"
      },
      "execution_count": null,
      "outputs": []
    },
    {
      "cell_type": "code",
      "source": [
        "\n",
        "#insert_sorted() to insert a new node into a sorted singly linked list,\n",
        "\n",
        "class Node:\n",
        "    def __init__(self, val):\n",
        "        self.val = val\n",
        "        self.next = None\n",
        "\n",
        "def insert_sorted(head, value):\n",
        "    new = Node(value)\n",
        "\n",
        "    # Insert at beginning\n",
        "    if not head or value < head.val:\n",
        "        new.next = head\n",
        "        return new\n",
        "\n",
        "    cur = head\n",
        "    while cur.next and cur.next.val < value:\n",
        "        cur = cur.next\n",
        "\n",
        "    new.next = cur.next\n",
        "    cur.next = new\n",
        "\n",
        "    return head"
      ],
      "metadata": {
        "id": "MBDrP18be-oj"
      },
      "execution_count": null,
      "outputs": []
    },
    {
      "cell_type": "code",
      "source": [
        "#Longer List\n",
        "\n",
        "def longer_list(head1, head2):\n",
        "    cnt1 = 0\n",
        "    cnt2 = 0\n",
        "    cur1 = head1\n",
        "    cur2 = head2\n",
        "\n",
        "    while cur1:\n",
        "        cnt1 += 1\n",
        "        cur1 = cur1.next\n",
        "\n",
        "    while cur2:\n",
        "        cnt2 += 1\n",
        "        cur2 = cur2.next\n",
        "\n",
        "    if cnt1 >= cnt2:\n",
        "        return head1\n",
        "    else:\n",
        "        return head2"
      ],
      "metadata": {
        "id": "JGrR_Y2tgiOl"
      },
      "execution_count": null,
      "outputs": []
    },
    {
      "cell_type": "markdown",
      "source": [
        "\n",
        "✅ while cur1:\n",
        "\t•\tThis loop visits every node, including the last one.\n",
        "\t•\tIt continues as long as cur1 is not None.\n",
        "\t•\tCorrect when you want to count all nodes or perform an action on every node.\n",
        "\n",
        "❌ while cur1.next:\n",
        "\t•\tThis loop stops at the second-to-last node.\n",
        "\t•\tIt continues only while the next node exists, so the last node is not counted or processed.\n",
        "\t•\tUseful only when you want to peek ahead at cur1.next (e.g., for deleting or comparing two nodes)."
      ],
      "metadata": {
        "id": "QbioZCQOg74j"
      }
    },
    {
      "cell_type": "code",
      "source": [
        "#!/bin/python\n",
        "\n",
        "import math\n",
        "import os\n",
        "import random\n",
        "import re\n",
        "import sys\n",
        "import ast\n",
        "\n",
        "class ListNode:\n",
        "    def __init__(self, val=0, next=None):\n",
        "        self.val = val\n",
        "        self.next = next\n",
        "\n",
        "class SinglyLinkedList:\n",
        "    def __init__(self):\n",
        "        self.head = None\n",
        "        self.tail = None\n",
        "\n",
        "    def insert_node(self, val):\n",
        "        node = ListNode(val)\n",
        "\n",
        "        if not self.head:\n",
        "            self.head = node\n",
        "        else:\n",
        "            self.tail.next = node\n",
        "\n",
        "        self.tail = node\n",
        "\n",
        "def print_linked_list(head):\n",
        "    current = head\n",
        "    while current:\n",
        "        if current.next:\n",
        "            sys.stdout.write(str(current.val) + \" -> \")\n",
        "        else:\n",
        "            sys.stdout.write(str(current.val) + \"\\n\")\n",
        "        current = current.next\n",
        "\n",
        "\n",
        "#\n",
        "# Complete the 'create_linked_list' function below.\n",
        "#\n",
        "# The function is expected to return an INTEGER_SINGLY_LINKED_LIST.\n",
        "# The function accepts INTEGER_ARRAY values as parameter.\n",
        "#\n",
        "# class Node:\n",
        "#     def __init__(self,val):\n",
        "#         self.val = val\n",
        "#         self.next = next\n",
        "\n",
        "class Node:\n",
        "    def __init__(self, val):\n",
        "        self.val = val\n",
        "        self.next = None\n",
        "\n",
        "def create_linked_list(values):\n",
        "    if not values:\n",
        "        return None\n",
        "    head = Node(values[0])\n",
        "    cur = head\n",
        "    for val in values[1:]:\n",
        "        cur.next = Node(val)\n",
        "        cur = cur.next\n",
        "    return head\n",
        "\n",
        "\n",
        "\n",
        "if __name__ == '__main__':\n",
        "    outfile = open(os.environ['OUTPUT_PATH'], 'w')\n",
        "\n",
        "    def ll_to_str(head):\n",
        "        list_str = \"\"\n",
        "        curr = head\n",
        "        while curr:\n",
        "            list_str += str(curr.val)\n",
        "            if curr.next:\n",
        "                list_str += \" -> \"\n",
        "            curr = curr.next\n",
        "        if len(list_str) == 0:\n",
        "            return \"None\"\n",
        "        return list_str\n",
        "\n",
        "    input_data = input()\n",
        "    while(input_data != \"END\"):\n",
        "        param_list = ast.literal_eval(input_data)\n",
        "        result_raw = create_linked_list(param_list)\n",
        "        result = ll_to_str(result_raw)\n",
        "        outfile.write(str(result) + '\\n')\n",
        "        input_data = input()\n",
        "    outfile.close()"
      ],
      "metadata": {
        "id": "dWpxEYh0gtw2"
      },
      "execution_count": null,
      "outputs": []
    },
    {
      "cell_type": "code",
      "source": [
        "class Solution:\n",
        "  def removeElement(self, nums,val):\n",
        "      i= 0\n",
        "      for j in range(len(nums)):\n",
        "          if nums[j] != val:\n",
        "              nums[i] = nums[j]\n",
        "              i += 1\n",
        "\n",
        "      return i\n",
        "\n",
        "# Create an instance of the Solution class\n",
        "solution_instance = Solution()\n",
        "\n",
        "# Call the removeElement method on the instance\n",
        "print(solution_instance.removeElement([3,2,2,3],3))"
      ],
      "metadata": {
        "colab": {
          "base_uri": "https://localhost:8080/",
          "height": 106
        },
        "id": "qMLHaiHMl4Hk",
        "outputId": "35492fb5-24ae-436b-eb13-5b8da13c3fa4"
      },
      "execution_count": null,
      "outputs": [
        {
          "output_type": "error",
          "ename": "SyntaxError",
          "evalue": "invalid syntax (ipython-input-3-2191336083.py, line 17)",
          "traceback": [
            "\u001b[0;36m  File \u001b[0;32m\"/tmp/ipython-input-3-2191336083.py\"\u001b[0;36m, line \u001b[0;32m17\u001b[0m\n\u001b[0;31m    int[] nums = [...]; // Input array\u001b[0m\n\u001b[0m        ^\u001b[0m\n\u001b[0;31mSyntaxError\u001b[0m\u001b[0;31m:\u001b[0m invalid syntax\n"
          ]
        }
      ]
    },
    {
      "cell_type": "code",
      "metadata": {
        "colab": {
          "base_uri": "https://localhost:8080/"
        },
        "id": "09fc2979",
        "outputId": "4fe542f6-9193-4e70-a0ac-813a0d1a8c30"
      },
      "source": [
        "class Solution:\n",
        "  def removeElement(self, nums,val):\n",
        "      i= 0\n",
        "      for j in range(len(nums)):\n",
        "          if nums[j] != val:\n",
        "              nums[i] = nums[j]\n",
        "              i += 1\n",
        "\n",
        "      return i\n",
        "\n",
        "# Create an instance of the Solution class\n",
        "solution_instance = Solution()\n",
        "\n",
        "# Input array and value to remove\n",
        "nums = [3, 2, 2, 3]\n",
        "val = 3\n",
        "\n",
        "# Call the removeElement method\n",
        "k = solution_instance.removeElement(nums, val)\n",
        "\n",
        "# Expected output after removing elements\n",
        "expectedNums = [2, 2]\n",
        "\n",
        "# Assert the length of the modified list\n",
        "assert k == len(expectedNums)\n",
        "\n",
        "# Sort the first k elements of nums for comparison (optional, depending on whether order matters)\n",
        "nums[:k] = sorted(nums[:k])\n",
        "\n",
        "# Assert the elements of the modified list\n",
        "for i in range(k):\n",
        "    assert nums[i] == expectedNums[i]\n",
        "\n",
        "print(f\"The number of elements remaining is: {k}\")\n",
        "print(f\"The modified list is: {nums[:k]}\")"
      ],
      "execution_count": null,
      "outputs": [
        {
          "output_type": "stream",
          "name": "stdout",
          "text": [
            "The number of elements remaining is: 2\n",
            "The modified list is: [2, 2]\n"
          ]
        }
      ]
    },
    {
      "cell_type": "markdown",
      "source": [],
      "metadata": {
        "id": "3MKi-RxHosEo"
      }
    }
  ]
}