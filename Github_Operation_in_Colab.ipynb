{
  "nbformat": 4,
  "nbformat_minor": 0,
  "metadata": {
    "colab": {
      "provenance": [],
      "authorship_tag": "ABX9TyOfaX332mLi+WMzmUBRs8pT",
      "include_colab_link": true
    },
    "kernelspec": {
      "name": "python3",
      "display_name": "Python 3"
    },
    "language_info": {
      "name": "python"
    }
  },
  "cells": [
    {
      "cell_type": "markdown",
      "metadata": {
        "id": "view-in-github",
        "colab_type": "text"
      },
      "source": [
        "<a href=\"https://colab.research.google.com/github/RuiyuHuang50/TIP102_Solution_Codepath/blob/main/Github_Operation_in_Colab.ipynb\" target=\"_parent\"><img src=\"https://colab.research.google.com/assets/colab-badge.svg\" alt=\"Open In Colab\"/></a>"
      ]
    },
    {
      "cell_type": "markdown",
      "source": [
        "##Pre\n",
        "I found colab is more suitable for Codepath learner comparing with Visual studio cause Colab could run the code and then add the text.\n",
        "\n",
        "I have added the details about how to connect the github to Colab and also some of the operation."
      ],
      "metadata": {
        "id": "MgUB5TifPFuc"
      }
    },
    {
      "cell_type": "markdown",
      "source": [
        "To link your Colab notebook to a GitHub repository and push changes, you can follow these steps:\n",
        "\n",
        "1. Save a copy in GitHub: In Colab, go to File > Save a copy in GitHub. This will prompt you to authorize Colab to access your GitHub account if you haven't already.\n",
        "2. Choose your repository and file path: Select the GitHub repository you want to save the notebook to, and specify the file path within the repository.\n",
        "3. Commit changes: After saving the notebook to GitHub, you can continue working on it in Colab. When you are ready to push your changes, go to File > Save and pin revision. This will allow you to add a commit message and push the changes to the linked GitHub repository."
      ],
      "metadata": {
        "id": "AVep9MA0PwZd"
      }
    },
    {
      "cell_type": "markdown",
      "source": [
        "##Github Command in Colab"
      ],
      "metadata": {
        "id": "1DiYIxTOOxR0"
      }
    },
    {
      "cell_type": "markdown",
      "metadata": {
        "id": "f4b5c4ca"
      },
      "source": [
        "### Clone your GitHub repository\n",
        "\n",
        "Replace the placeholder URL with the HTTPS URL of your GitHub repository."
      ]
    },
    {
      "cell_type": "code",
      "metadata": {
        "id": "e0f3fc09"
      },
      "source": [
        "# @title Clone Repository\n",
        "!git clone <your_repository_https_url>"
      ],
      "execution_count": null,
      "outputs": []
    },
    {
      "cell_type": "markdown",
      "metadata": {
        "id": "694c0ade"
      },
      "source": [
        "### Navigate into the cloned repository directory\n",
        "\n",
        "Replace `<your_repository_name>` with the name of the directory created by cloning your repository."
      ]
    },
    {
      "cell_type": "code",
      "metadata": {
        "id": "61c289e2"
      },
      "source": [
        "%cd <your_repository_name>"
      ],
      "execution_count": null,
      "outputs": []
    },
    {
      "cell_type": "markdown",
      "metadata": {
        "id": "db483ad1"
      },
      "source": [
        "### Check the status of your repository\n",
        "\n",
        "This command shows you which files have been modified, staged, or are untracked."
      ]
    },
    {
      "cell_type": "code",
      "metadata": {
        "id": "2681ecea"
      },
      "source": [
        "!git status"
      ],
      "execution_count": null,
      "outputs": []
    },
    {
      "cell_type": "markdown",
      "metadata": {
        "id": "c6f79198"
      },
      "source": [
        "### Add changes to the staging area\n",
        "\n",
        "This command stages all changes in the current directory. You can replace '.' with specific filenames to stage only those files."
      ]
    },
    {
      "cell_type": "code",
      "metadata": {
        "id": "919313e1"
      },
      "source": [
        "!git add ."
      ],
      "execution_count": null,
      "outputs": []
    },
    {
      "cell_type": "markdown",
      "metadata": {
        "id": "8e10f1a4"
      },
      "source": [
        "### Commit your staged changes\n",
        "\n",
        "Replace `\"Your commit message here\"` with a meaningful message describing the changes you made."
      ]
    },
    {
      "cell_type": "code",
      "metadata": {
        "id": "75b06713"
      },
      "source": [
        "!git commit -m \"Your commit message here\""
      ],
      "execution_count": null,
      "outputs": []
    },
    {
      "cell_type": "markdown",
      "metadata": {
        "id": "76a208bb"
      },
      "source": [
        "### Push your committed changes to the remote repository\n",
        "\n",
        "This command pushes the changes in your current branch to the 'origin' remote. You might need to enter your GitHub credentials."
      ]
    },
    {
      "cell_type": "code",
      "metadata": {
        "id": "63330f71"
      },
      "source": [
        "!git push origin main # or the name of your branch"
      ],
      "execution_count": null,
      "outputs": []
    }
  ]
}