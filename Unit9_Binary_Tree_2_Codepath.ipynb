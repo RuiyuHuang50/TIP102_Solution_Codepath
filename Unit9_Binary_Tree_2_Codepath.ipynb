{
  "nbformat": 4,
  "nbformat_minor": 0,
  "metadata": {
    "colab": {
      "provenance": [],
      "authorship_tag": "ABX9TyMjsRgfgWki7FEt9x2kDnXp",
      "include_colab_link": true
    },
    "kernelspec": {
      "name": "python3",
      "display_name": "Python 3"
    },
    "language_info": {
      "name": "python"
    }
  },
  "cells": [
    {
      "cell_type": "markdown",
      "metadata": {
        "id": "view-in-github",
        "colab_type": "text"
      },
      "source": [
        "<a href=\"https://colab.research.google.com/github/RuiyuHuang50/TIP102_Solution_Codepath/blob/main/Unit9_Binary_Tree_2_Codepath.ipynb\" target=\"_parent\"><img src=\"https://colab.research.google.com/assets/colab-badge.svg\" alt=\"Open In Colab\"/></a>"
      ]
    },
    {
      "cell_type": "markdown",
      "source": [
        "#Cheatsheet\n"
      ],
      "metadata": {
        "id": "aqM5DSM_wYZJ"
      }
    },
    {
      "cell_type": "markdown",
      "source": [
        "##Breadth First Search\n",
        "BFS: Level Order Traversal, is a method for visting all the nodes in a tree. Level by Level\n",
        "The BFS is typically implemented iteratively using a queue.\n",
        "\n",
        "\n",
        "\n",
        "```\n",
        "If the tree is empty:\n",
        "    return an empty list\n",
        "\n",
        "Create an empty queue\n",
        "Create an empty list to store visited nodes\n",
        "\n",
        "Add the root into the queue\n",
        "\n",
        "While the queue is not empty:\n",
        "    Pop the next node off the queue\n",
        "    Add the popped node to the list of visited nodes\n",
        "\n",
        "    Add the popped node's left child to the queue\n",
        "    Add the popped node's right child to the queue\n",
        "```\n",
        "\n"
      ],
      "metadata": {
        "id": "c_H0G2A-wcdh"
      }
    },
    {
      "cell_type": "code",
      "execution_count": null,
      "metadata": {
        "colab": {
          "base_uri": "https://localhost:8080/",
          "height": 53
        },
        "id": "gNAwsxSavpfb",
        "outputId": "6a4fa134-7ba9-4807-9492-d93c1a1296a6"
      },
      "outputs": [
        {
          "output_type": "stream",
          "name": "stdout",
          "text": [
            "[1, 2, 3, 4, None, 5, 6]\n"
          ]
        },
        {
          "output_type": "execute_result",
          "data": {
            "text/plain": [
              "'Empty'"
            ],
            "application/vnd.google.colaboratory.intrinsic+json": {
              "type": "string"
            }
          },
          "metadata": {},
          "execution_count": 4
        }
      ],
      "source": [
        "#Print Binary Tree Function\n",
        "from collections import deque\n",
        "\n",
        "# Tree Node class\n",
        "class Node:\n",
        "    def __init__(self, value, left=None, right=None):\n",
        "        self.val = value\n",
        "        self.left = left\n",
        "        self.right = right\n",
        "\n",
        "def print_tree(root):\n",
        "    if not root:\n",
        "        return \"Empty\"\n",
        "    result = []\n",
        "    queue = deque([root])\n",
        "    while queue:\n",
        "        node = queue.popleft()\n",
        "        if node:\n",
        "            result.append(node.val)\n",
        "            queue.append(node.left)\n",
        "            queue.append(node.right)\n",
        "        else:\n",
        "            result.append(None)\n",
        "    while result and result[-1] is None:\n",
        "        result.pop()\n",
        "    print(result)\n",
        "\n",
        "\"\"\"\n",
        "          1\n",
        "        /   \\\n",
        "       2     3\n",
        "      /     / \\\n",
        "     4     5   6\n",
        "\"\"\"\n",
        "\n",
        "root = Node(1, Node(2, Node(4)), Node(3, Node(5), Node(6)))\n",
        "\n",
        "print_tree(root)\n",
        "print_tree(None)"
      ]
    },
    {
      "cell_type": "code",
      "source": [
        "#Build Binary Tree Function\n",
        "from collections import deque\n",
        "\n",
        "# Tree Node class\n",
        "class TreeNode:\n",
        "  def __init__(self, value, key=None, left=None, right=None):\n",
        "      self.key = key\n",
        "      self.val = value\n",
        "      self.left = left\n",
        "      self.right = right\n",
        "\n",
        "def build_tree(values):\n",
        "  if not values:\n",
        "      return None\n",
        "  # handle two types of input, if the item is tuple, it would return key, value. If only value, it would return key= None, value ='A'\n",
        "  def get_key_value(item):\n",
        "      if isinstance(item, tuple):\n",
        "          return item[0], item[1]\n",
        "      else:\n",
        "          return None, item\n",
        "  #extracts the key and value from the first item in the list\n",
        "  #create the root node\n",
        "  key, value = get_key_value(values[0])\n",
        "  root = TreeNode(value, key)\n",
        "  queue = deque([root])\n",
        "  index = 1 #start from the second element in the list\n",
        "\n",
        "  while queue:\n",
        "      node = queue.popleft()\n",
        "      if index < len(values) and values[index] is not None:\n",
        "          left_key, left_value = get_key_value(values[index])\n",
        "          node.left = TreeNode(left_value, left_key)\n",
        "          queue.append(node.left)\n",
        "      index += 1\n",
        "      if index < len(values) and values[index] is not None:\n",
        "          right_key, right_value = get_key_value(values[index])\n",
        "          node.right = TreeNode(right_value, right_key)\n",
        "          queue.append(node.right)\n",
        "      index += 1\n",
        "\n",
        "  return root\n",
        "\n",
        "\n",
        "\"\"\"\n",
        "          1\n",
        "        /   \\\n",
        "       2     3\n",
        "      /     / \\\n",
        "     4     5   6\n",
        "\"\"\"\n",
        "\n",
        "tree_with_just_values = [1, 2, 3, 4, None, 5, 6]\n",
        "val_tree = build_tree(tree_with_just_values)\n",
        "\n",
        "\"\"\"\n",
        "          (1, 'A')\n",
        "          /       \\\n",
        "       (2, 'B')   (3, 'C')\n",
        "      /           /      \\\n",
        "  (4, 'D')    (5, 'E')   (6, 'F')\n",
        "\"\"\"\n",
        "\n",
        "tree_with_keys_and_values = [(1, 'A'), (2, 'B'), (3, 'C'), (4, 'D'), None, (5, 'E'), (6, 'F')]\n",
        "key_val_tree = build_tree(tree_with_keys_and_values)\n",
        "\n",
        "# Using print_tree() function included above\n",
        "print_tree(val_tree)\n",
        "print_tree(key_val_tree) # Only values will be printed"
      ],
      "metadata": {
        "colab": {
          "base_uri": "https://localhost:8080/"
        },
        "id": "CY6poRo4yaoR",
        "outputId": "b2ad609d-7775-4ee9-96a6-2f0d98d25dd2"
      },
      "execution_count": null,
      "outputs": [
        {
          "output_type": "stream",
          "name": "stdout",
          "text": [
            "[1, 2, 3, 4, None, 5, 6]\n",
            "['A', 'B', 'C', 'D', None, 'E', 'F']\n"
          ]
        }
      ]
    },
    {
      "cell_type": "code",
      "source": [
        "#problem1 Merging cookie orders\n",
        "class TreeNode():\n",
        "     def __init__(self, quantity, left=None, right=None):\n",
        "        self.val = quantity\n",
        "        self.left = left\n",
        "        self.right = right\n",
        "def build_tree(values):\n",
        "  if not values:\n",
        "      return None\n",
        "  # handle two types of input, if the item is tuple, it would return key, value. If only value, it would return key= None, value ='A'\n",
        "  def get_key_value(item):\n",
        "      if isinstance(item, tuple):\n",
        "          return item[0], item[1]\n",
        "      else:\n",
        "          return None, item\n",
        "  #extracts the key and value from the first item in the list\n",
        "  #create the root node\n",
        "  key, value = get_key_value(values[0])\n",
        "  root = TreeNode(value, key)\n",
        "  queue = deque([root])\n",
        "  index = 1 #start from the second element in the list\n",
        "\n",
        "  while queue:\n",
        "      node = queue.popleft()\n",
        "      if index < len(values) and values[index] is not None:\n",
        "          left_key, left_value = get_key_value(values[index])\n",
        "          node.left = TreeNode(left_value, left_key)\n",
        "          queue.append(node.left)\n",
        "      index += 1\n",
        "      if index < len(values) and values[index] is not None:\n",
        "          right_key, right_value = get_key_value(values[index])\n",
        "          node.right = TreeNode(right_value, right_key)\n",
        "          queue.append(node.right)\n",
        "      index += 1\n",
        "\n",
        "  return root\n",
        "\n",
        "\n",
        "def merge_orders(order1, order2):\n",
        "    if not order1:\n",
        "      return order2\n",
        "    if not order2:\n",
        "      return order1\n",
        "    merged = TreeNode(order1.val + order2.val)\n",
        "    merged.left = merge_orders(order1.left, order2.left)\n",
        "    merged.right = merge_orders(order1.right, order2.right)\n",
        "\n",
        "    return merged\n",
        "\n",
        "\n",
        "\n",
        "\"\"\"\n",
        "     1             2\n",
        "    /  \\         /   \\\n",
        "   3    2       1     3\n",
        " /               \\      \\\n",
        "5                 4      7\n",
        "\"\"\"\n",
        "# Using build_tree() function included at top of page\n",
        "cookies1 = [1, 3, 2, 5]\n",
        "cookies2 = [2, 1, 3, None, 4, None, 7]\n",
        "order1 = build_tree(cookies1)\n",
        "order2 = build_tree(cookies2)\n",
        "\n",
        "# Using print_tree() function included at top of page\n",
        "print_tree(merge_orders(order1, order2))"
      ],
      "metadata": {
        "colab": {
          "base_uri": "https://localhost:8080/"
        },
        "id": "F8KL7QMd1wkU",
        "outputId": "ad2ffeb5-22ae-4941-e57d-0b7f9a4efcb9"
      },
      "execution_count": null,
      "outputs": [
        {
          "output_type": "stream",
          "name": "stdout",
          "text": [
            "[3, 4, 5, 5, 4, None, 7]\n"
          ]
        }
      ]
    },
    {
      "cell_type": "code",
      "source": [
        "class Puff():\n",
        "     def __init__(self, flavor, left=None, right=None):\n",
        "        self.val = flavor\n",
        "        self.left = left\n",
        "        self.right = right\n",
        "\n",
        "\n",
        "def print_design(design):\n",
        "    if not design:\n",
        "      return []\n",
        "    result = []\n",
        "    queue = deque([design])\n",
        "    while queue:\n",
        "      node = queue.popleft()\n",
        "      result.append(node.val)\n",
        "      if node.left:\n",
        "        queue.append(node.left)\n",
        "      if node.right:\n",
        "        queue.append(node.right)\n",
        "    print(result)\n",
        "\n",
        "\"\"\"\n",
        "            Vanilla\n",
        "           /       \\\n",
        "      Chocolate   Strawberry\n",
        "      /     \\\n",
        "  Vanilla   Matcha\n",
        "\"\"\"\n",
        "croquembouche = Puff(\"Vanilla\",\n",
        "                    Puff(\"Chocolate\", Puff(\"Vanilla\"), Puff(\"Matcha\")),\n",
        "                    Puff(\"Strawberry\"))\n",
        "print_design(croquembouche)"
      ],
      "metadata": {
        "colab": {
          "base_uri": "https://localhost:8080/"
        },
        "id": "IC89YFN_74VA",
        "outputId": "2f35e20a-ecc5-49ed-d59b-a179876eddd1"
      },
      "execution_count": null,
      "outputs": [
        {
          "output_type": "stream",
          "name": "stdout",
          "text": [
            "['Vanilla', 'Chocolate', 'Strawberry', 'Vanilla', 'Matcha']\n"
          ]
        }
      ]
    },
    {
      "cell_type": "code",
      "source": [
        "#problem3 Max length of the tree\n",
        "#tree is balanced\n",
        "#Time Complexity On, each node in the tree would be visited. space complexity of On, because the recursive call stack in the worst case\n",
        "class TreeNode():\n",
        "     def __init__(self, value, left=None, right=None):\n",
        "        self.val = value\n",
        "        self.left = left\n",
        "        self.right = right\n",
        "\n",
        "def max_tiers(cake):\n",
        "    if not cake:\n",
        "      return 0\n",
        "    left_depth = max_tiers(cake.left)\n",
        "    right_depth = max_tiers(cake.right)\n",
        "\n",
        "    return 1 + max(left_depth, right_depth)\n",
        "\n",
        "\"\"\"\n",
        "        Chocolate\n",
        "        /        \\\n",
        "    Vanilla    Strawberry\n",
        "                /     \\\n",
        "         Chocolate    Coffee\n",
        "\"\"\"\n",
        "# Using build_tree() function included at top of page\n",
        "cake_sections = [\"Chocolate\", \"Vanilla\", \"Strawberry\", None, None, \"Chocolate\", \"Coffee\"]\n",
        "cake = build_tree(cake_sections)\n",
        "\n",
        "print(max_tiers(cake))"
      ],
      "metadata": {
        "colab": {
          "base_uri": "https://localhost:8080/"
        },
        "id": "2vVsxI4s-cNe",
        "outputId": "cb965a61-da19-4065-efa1-36dae61a4674"
      },
      "execution_count": null,
      "outputs": [
        {
          "output_type": "stream",
          "name": "stdout",
          "text": [
            "3\n"
          ]
        }
      ]
    }
  ]
}