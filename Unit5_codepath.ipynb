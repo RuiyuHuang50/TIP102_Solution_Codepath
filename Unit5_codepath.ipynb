{
  "nbformat": 4,
  "nbformat_minor": 0,
  "metadata": {
    "colab": {
      "provenance": [],
      "authorship_tag": "ABX9TyP7zh9Uh0d96M5eLFDr/UEH",
      "include_colab_link": true
    },
    "kernelspec": {
      "name": "python3",
      "display_name": "Python 3"
    },
    "language_info": {
      "name": "python"
    }
  },
  "cells": [
    {
      "cell_type": "markdown",
      "metadata": {
        "id": "view-in-github",
        "colab_type": "text"
      },
      "source": [
        "<a href=\"https://colab.research.google.com/github/RuiyuHuang50/TIP102_Solution_Codepath/blob/main/Unit5_codepath.ipynb\" target=\"_parent\"><img src=\"https://colab.research.google.com/assets/colab-badge.svg\" alt=\"Open In Colab\"/></a>"
      ]
    },
    {
      "cell_type": "markdown",
      "source": [
        "#cheatsheet\n"
      ],
      "metadata": {
        "id": "yFilR_AZxeHW"
      }
    },
    {
      "cell_type": "markdown",
      "source": [
        "##OOP"
      ],
      "metadata": {
        "id": "ETJ1byk4Ymye"
      }
    },
    {
      "cell_type": "markdown",
      "source": [
        "Object-oriented programming (OOP) is a programming paradigm that uses 'objects' and their interactions to build applications and computer programs.\n",
        "\n",
        "the real magic of OOP is that it allows us to also create our own data types\n",
        "\n",
        "\n",
        "Classes\n",
        "\n",
        "Classes are the mechanism through which we can design our own custom data types. A class is a blueprint for our new data type/object and defines the characteristics and functionality that every object of that class will have. Classes are comprised of two things:\n",
        "\n",
        "**properties** variables that describe characteristics of our object(adj).\n",
        "\n",
        "**methods** functions that define behaviors of our object.(verb)\n"
      ],
      "metadata": {
        "id": "JAZx68R_WHD8"
      }
    },
    {
      "cell_type": "code",
      "execution_count": null,
      "metadata": {
        "id": "bSeEV0oWxZ7T"
      },
      "outputs": [],
      "source": [
        "class Dog:\n",
        "    def __init__(self, name, breed, owner):\n",
        "        self.name = name\n",
        "        self.breed = breed\n",
        "        self.owner = owner"
      ]
    },
    {
      "cell_type": "markdown",
      "source": [
        "The constructor (and all class methods) includes a special parameter self, which refers to the current instance of the class that is being created."
      ],
      "metadata": {
        "id": "6XPiF3lhXHzl"
      }
    },
    {
      "cell_type": "code",
      "source": [
        "my_dog = Dog('Fido', 'Cocker Spaniel', 'Ada Lovelace')\n",
        "# like the class Dog provide the pattern\n",
        "print(my_dog.name) # Prints Fido\n"
      ],
      "metadata": {
        "colab": {
          "base_uri": "https://localhost:8080/"
        },
        "id": "76E-Jo8OXUwd",
        "outputId": "b7ca7286-4efb-4d55-f964-69a06e9c305e"
      },
      "execution_count": null,
      "outputs": [
        {
          "output_type": "stream",
          "name": "stdout",
          "text": [
            "Fido\n"
          ]
        }
      ]
    },
    {
      "cell_type": "markdown",
      "source": [
        "We can access properties of an object using dot notation: object_name.property_name.\n",
        "\n"
      ],
      "metadata": {
        "id": "0rDDt5SiXek9"
      }
    },
    {
      "cell_type": "code",
      "source": [
        "print(my_dog.name) # Prints Fido\n"
      ],
      "metadata": {
        "id": "RTEweCrzXfE9"
      },
      "execution_count": null,
      "outputs": []
    },
    {
      "cell_type": "markdown",
      "source": [
        "Methods can take parameters in addition to self.\n",
        "\n"
      ],
      "metadata": {
        "id": "bqRfP9ABYjcm"
      }
    },
    {
      "cell_type": "code",
      "source": [
        "class Dog:\n",
        "    def __init__(self, name, breed, owner):\n",
        "        self.name = name\n",
        "        self.breed = breed\n",
        "        self.owner = owner\n",
        "\n",
        "    def call_dog(self):\n",
        "        print(f\"Here {self.name}!\")\n",
        "    def command_trick(self, trick):\n",
        "        print(f\"{self.name}, {trick}!\")\n",
        "\n",
        "my_dog = Dog('Fydo', 'Cocker Spaniel', 'Ada Lovelace')\n",
        "my_dog.call_dog() # Prints 'Here Fido!'\n",
        "\n",
        "my_dog.command_trick(\"roll over\") # Prints 'Fido, roll over!'\n",
        "\n"
      ],
      "metadata": {
        "colab": {
          "base_uri": "https://localhost:8080/"
        },
        "id": "yjWNtBYxX4m1",
        "outputId": "b4f63cd9-c479-41a3-ab81-c2415284fe76"
      },
      "execution_count": null,
      "outputs": [
        {
          "output_type": "stream",
          "name": "stdout",
          "text": [
            "Here Fydo!\n",
            "Fydo, roll over!\n"
          ]
        }
      ]
    },
    {
      "cell_type": "markdown",
      "source": [
        "##Linked Lists\n",
        "At a surface level, linked lists and Python lists are equivalent. They both allow us to store multiple items of any data type together as an ordered collection of data.\n",
        "\n",
        "**Linked lists and normal lists differ in how they store each item they contain within memory.**\n",
        "\n",
        "\n",
        "\n",
        "Normal Python lists store each consecutive element in an array\n",
        "\n",
        "Linked lists are not a built-in data type in Python, therefore we must define a class to build a linked list.\n",
        "\n",
        "Each element of a linked list is called a node. A node consists of a value equivalent to an element's value in a normal list, as well as a pointer or reference variable to the next node in the list."
      ],
      "metadata": {
        "id": "N2vo-qckYq5G"
      }
    },
    {
      "cell_type": "code",
      "source": [
        "class Node:\n",
        "    def __init__(self, value, next=None):\n",
        "        self.value = value\n",
        "        self.next = next"
      ],
      "metadata": {
        "id": "AYFyARtCaO7_"
      },
      "execution_count": null,
      "outputs": []
    },
    {
      "cell_type": "code",
      "source": [
        "class LinkedList:\n",
        "    # Constructor.\n",
        "    def __init__(self):\n",
        "        # The first node in the linked list.\n",
        "        # The head is either a Node object or None if the list is empty.\n",
        "        self.head = None\n",
        "\n",
        "    # Method. Adds a new node with the specific data value to the beginning of the linked list.\n",
        "    def add_first(self, value):\n",
        "        pass\n",
        "\n",
        "    # Method. Adds a node with specified value to the end of the list.\n",
        "    def append(self, value):\n",
        "        pass\n",
        "\n",
        "    # Method. Returns the length of the list.\n",
        "    def length(self):\n",
        "        pass\n",
        "\n",
        "    # Method. Returns the value at a given index in the linked list.\n",
        "    # Index count starts at 0.\n",
        "    # Returns None if there are fewer nodes in the linked list than the index value.\n",
        "    def get_at_index(self, index):\n",
        "        pass"
      ],
      "metadata": {
        "id": "V6hC3YqpaX43"
      },
      "execution_count": null,
      "outputs": []
    },
    {
      "cell_type": "code",
      "source": [
        "class Node:\n",
        "    def __init__(self, data):\n",
        "        self.data = data\n",
        "        self.next = None\n",
        "\n",
        "class CircularLinkedList:\n",
        "    def __init__(self):\n",
        "        self.head = None\n",
        "        self.length = 0\n",
        "\n",
        "    def append(self, data):\n",
        "        new_node = Node(data)\n",
        "        if self.head is None:\n",
        "            self.head = new_node\n",
        "            new_node.next = self.head # Points to itself for a single-node list\n",
        "        else:\n",
        "            current = self.head\n",
        "            while current.next != self.head: # Traverse until we find the last node\n",
        "                current = current.next\n",
        "            current.next = new_node\n",
        "            new_node.next = self.head # New node's next points back to head\n",
        "        self.length += 1\n",
        "\n",
        "    def display(self):\n",
        "        if self.head is None:\n",
        "            print(\"Circular List is empty.\")\n",
        "            return\n",
        "\n",
        "        elements = []\n",
        "        current = self.head\n",
        "        while True:\n",
        "            elements.append(current.data)\n",
        "            current = current.next\n",
        "            if current == self.head: # Stop when we return to the head\n",
        "                break\n",
        "        print(\" -> \".join(map(str, elements)) + \" (circularly back to head)\")\n",
        "\n",
        "# Example Usage:\n",
        "my_circular_list = CircularLinkedList()\n",
        "my_circular_list.append(1)\n",
        "my_circular_list.append(2)\n",
        "my_circular_list.append(3)\n",
        "my_circular_list.display() # Output: 1 -> 2 -> 3 (circularly back to head)"
      ],
      "metadata": {
        "colab": {
          "base_uri": "https://localhost:8080/"
        },
        "id": "_GKlTn4tXcqI",
        "outputId": "875a524d-4aac-4208-b63e-2900188a1b41"
      },
      "execution_count": null,
      "outputs": [
        {
          "output_type": "stream",
          "name": "stdout",
          "text": [
            "1 -> 2 -> 3 (circularly back to head)\n"
          ]
        }
      ]
    },
    {
      "cell_type": "markdown",
      "source": [
        "#session1\n"
      ],
      "metadata": {
        "id": "Qe71ExIMxhX-"
      }
    },
    {
      "cell_type": "markdown",
      "source": [
        "##standard1\n"
      ],
      "metadata": {
        "id": "L-qpWbgRxtum"
      }
    },
    {
      "cell_type": "markdown",
      "source": [
        "### problem1\n",
        "define the Villager class-- Implement the constructor to initialize 'name''species''catchphrase-instantiate a 'Villager' Object with the given attributes-- verify the attributes by print them out\n"
      ],
      "metadata": {
        "id": "hSC5WuAtj0jt"
      }
    },
    {
      "cell_type": "code",
      "source": [
        "class Villager:\n",
        "    def __init__(self, name, species, catchphrase):\n",
        "        self.name = name\n",
        "        self.species = species\n",
        "        self.catchphrase = catchphrase\n",
        "        self.furniture = []\n",
        "apollo = Villager(\"Apollo\",\"Eagle\",\"pah\")\n",
        "print(apollo.name)\n",
        "print(apollo.species)\n",
        "print(apollo.catchphrase)\n",
        "print(apollo.furniture)"
      ],
      "metadata": {
        "colab": {
          "base_uri": "https://localhost:8080/"
        },
        "id": "9qcZNgovjzs9",
        "outputId": "2f27d0ad-c5e2-4cb7-fba1-15c4c53febb1"
      },
      "execution_count": 2,
      "outputs": [
        {
          "output_type": "stream",
          "name": "stdout",
          "text": [
            "Apollo\n",
            "Eagle\n",
            "pah\n",
            "[]\n"
          ]
        }
      ]
    },
    {
      "cell_type": "markdown",
      "metadata": {
        "id": "322dacf8"
      },
      "source": [
        "In the code below:\n",
        "\n",
        "- `Villager` is the **class**. It's the blueprint for creating Villager objects.\n",
        "- `__init__` is the **constructor**. This special method is called when you create a new instance of the `Villager` class. It initializes the object's attributes (`name`, `species`, `catchphrase`, and `furniture`).\n",
        "- `my_villager` is an **instance** of the `Villager` class. It's a specific object created from the `Villager` blueprint."
      ]
    },
    {
      "cell_type": "code",
      "metadata": {
        "colab": {
          "base_uri": "https://localhost:8080/"
        },
        "id": "62cfd95a",
        "outputId": "2813cb85-fdf2-448c-b272-3641cc32006b"
      },
      "source": [
        "# This is the class definition (the blueprint)\n",
        "class Villager:\n",
        "    def __init__(self, name, species, catchphrase):\n",
        "        self.name = name\n",
        "        self.species = species\n",
        "        self.catchphrase = catchphrase\n",
        "        self.furniture = []\n",
        "\n",
        "# This is creating an instance of the Villager class\n",
        "my_villager = Villager(\"Raymond\", \"Cat\", \"Mon ami\")\n",
        "\n",
        "# You can access the attributes of the instance\n",
        "print(f\"Name: {my_villager.name}\")\n",
        "print(f\"Species: {my_villager.species}\")\n",
        "print(f\"Catchphrase: {my_villager.catchphrase}\")\n",
        "print(f\"Furniture: {my_villager.furniture}\")"
      ],
      "execution_count": 1,
      "outputs": [
        {
          "output_type": "stream",
          "name": "stdout",
          "text": [
            "Name: Raymond\n",
            "Species: Cat\n",
            "Catchphrase: Mon ami\n",
            "Furniture: []\n"
          ]
        }
      ]
    },
    {
      "cell_type": "markdown",
      "source": [
        "In Python, self is a convention (though not a keyword) that refers to the instance of the class itself.\n",
        "\n",
        "When you define a method within a class, the first parameter is always self. This parameter allows the method to access the attributes and other methods of the specific object that the method is being called on.\n",
        "\n",
        "Think of it like this: when you call my_villager.greet(), the self inside the greet method is referring to the my_villager object. This allows the greet method to access my_villager.name or any other attribute of that specific Villager instance.\n",
        "\n",
        "In essence, self connects the method to the data (attributes) of the individual object, enabling object-oriented programming where objects have both data and behavior."
      ],
      "metadata": {
        "id": "a8Z7YXkok4Wv"
      }
    },
    {
      "cell_type": "markdown",
      "source": [
        "###problem 2\n",
        "input:"
      ],
      "metadata": {
        "id": "fZmya59SlfM4"
      }
    },
    {
      "cell_type": "code",
      "source": [
        "class Villager:\n",
        "    def __init__(self, name, bones, species, catchphrase):\n",
        "        self.name = name\n",
        "        self.bones = bones\n",
        "        self.species = species\n",
        "        self.catchphrase = catchphrase\n",
        "        self.furniture = []\n",
        "    def greet_player(self,player_name):\n",
        "        return f\"{self.name}: Hey there, {player_name}! How's it going, {self.catchphrase}!\"\n",
        "\n",
        "bones = Villager(\"Bones\",'','Dog','yip yip')\n",
        "print(bones.greet_player('Ria'))\n",
        "\n",
        "print(bones.name)\n",
        "print(bones.species)\n",
        "print(bones.catchphrase)\n",
        "print(bones.furniture)"
      ],
      "metadata": {
        "colab": {
          "base_uri": "https://localhost:8080/"
        },
        "id": "ik3pe6sUopED",
        "outputId": "b0ce8fea-be7d-4490-abd9-02156240f3f4"
      },
      "execution_count": 13,
      "outputs": [
        {
          "output_type": "stream",
          "name": "stdout",
          "text": [
            "Bones: Hey there, Ria! How's it going, yip yip!\n",
            "Bones\n",
            "Dog\n",
            "yip yip\n",
            "[]\n"
          ]
        }
      ]
    },
    {
      "cell_type": "markdown",
      "metadata": {
        "id": "54f7533b"
      },
      "source": [
        "Class methods are methods that are bound to the class and not the instance of the class. They are defined using the `@classmethod` decorator. The first argument of a class method is conventionally named `cls`, which refers to the class itself."
      ]
    },
    {
      "cell_type": "markdown",
      "metadata": {
        "id": "59f8eb55"
      },
      "source": [
        "**Example 1: Alternative Constructors**\n",
        "\n",
        "Class methods are often used to create alternative constructors for a class. This can be useful when you want to create instances of the class in different ways."
      ]
    },
    {
      "cell_type": "code",
      "metadata": {
        "colab": {
          "base_uri": "https://localhost:8080/"
        },
        "id": "95365e1f",
        "outputId": "487899c3-27de-4296-a6fa-366ed61122c5"
      },
      "source": [
        "class MyClass:\n",
        "    def __init__(self, x, y):\n",
        "        self.x = x\n",
        "        self.y = y\n",
        "\n",
        "    @classmethod\n",
        "    def from_string(cls, data_string):\n",
        "        x, y = map(int, data_string.split('-'))\n",
        "        return cls(x, y)\n",
        "\n",
        "# Using the regular constructor\n",
        "obj1 = MyClass(1, 2)\n",
        "print(f\"Object 1: x = {obj1.x}, y = {obj1.y}\")\n",
        "\n",
        "# Using the class method as an alternative constructor\n",
        "obj2 = MyClass.from_string(\"10-20\")\n",
        "print(f\"Object 2: x = {obj2.x}, y = {obj2.y}\")"
      ],
      "execution_count": 6,
      "outputs": [
        {
          "output_type": "stream",
          "name": "stdout",
          "text": [
            "Object 1: x = 1, y = 2\n",
            "Object 2: x = 10, y = 20\n"
          ]
        }
      ]
    },
    {
      "cell_type": "markdown",
      "metadata": {
        "id": "f39c7100"
      },
      "source": [
        "**Explanation of Example 1:**\n",
        "\n",
        "- The `from_string` method is decorated with `@classmethod`, making it a class method.\n",
        "- It takes `cls` as the first argument, which represents the `MyClass` itself.\n",
        "- Inside `from_string`, we parse a string and then call `cls(x, y)`. This is equivalent to calling `MyClass(x, y)`, creating a new instance of the class using the regular constructor.\n",
        "- This allows us to create `MyClass` objects directly from a specially formatted string."
      ]
    },
    {
      "cell_type": "markdown",
      "metadata": {
        "id": "f5ad4fe3"
      },
      "source": [
        "**Example 2: Accessing Class Attributes**\n",
        "\n",
        "Class methods can be used to access and modify class attributes."
      ]
    },
    {
      "cell_type": "code",
      "metadata": {
        "colab": {
          "base_uri": "https://localhost:8080/"
        },
        "id": "bce7b13f",
        "outputId": "06ff9fee-1728-4f88-cb0d-cef8a41f6618"
      },
      "source": [
        "class Counter:\n",
        "    count = 0  # Class attribute\n",
        "\n",
        "    def __init__(self):\n",
        "        Counter.count += 1 # Increment count when a new instance is created\n",
        "\n",
        "    @classmethod\n",
        "    def get_instance_count(cls):\n",
        "        return cls.count\n",
        "\n",
        "# Create instances of Counter\n",
        "counter1 = Counter()\n",
        "counter2 = Counter()\n",
        "counter3 = Counter()\n",
        "\n",
        "# Use the class method to get the total instance count\n",
        "print(f\"Total instances created: {Counter.get_instance_count()}\")"
      ],
      "execution_count": 7,
      "outputs": [
        {
          "output_type": "stream",
          "name": "stdout",
          "text": [
            "Total instances created: 3\n"
          ]
        }
      ]
    },
    {
      "cell_type": "markdown",
      "metadata": {
        "id": "370371ea"
      },
      "source": [
        "**Explanation of Example 2:**\n",
        "\n",
        "- `count` is a class attribute, shared by all instances of `Counter`.\n",
        "- The `get_instance_count` class method uses `cls.count` to access the class attribute `count`.\n",
        "- This provides a way to get information about the class itself (in this case, how many instances have been created) without needing a specific instance."
      ]
    },
    {
      "cell_type": "markdown",
      "source": [
        "###problem3\n"
      ],
      "metadata": {
        "id": "Kuh0GVfLrrJk"
      }
    },
    {
      "cell_type": "code",
      "source": [
        "class Villager:\n",
        "    def __init__(self, name, bones, species, catchphrase):\n",
        "        self.name = name\n",
        "        self.bones = bones\n",
        "        self.species = species\n",
        "        self.catchphrase = catchphrase\n",
        "        self.furniture = []\n",
        "    def greet_player(self,player_name):\n",
        "        return f\"{self.name}: Hey there, {player_name}! How's it going, {self.catchphrase}!\"\n",
        "\n",
        "bones = Villager(\"Bones\",'','Dog','ruff it up')\n",
        "print(bones.greet_player('Ria'))\n"
      ],
      "metadata": {
        "colab": {
          "base_uri": "https://localhost:8080/"
        },
        "id": "25VSUNNrrq0s",
        "outputId": "e41fe0fc-edfb-47aa-dcbc-098ad1c109aa"
      },
      "execution_count": 14,
      "outputs": [
        {
          "output_type": "stream",
          "name": "stdout",
          "text": [
            "Bones: Hey there, Ria! How's it going, ruff it up!\n",
            "Bones\n",
            "Dog\n",
            "ruff it up\n",
            "[]\n"
          ]
        }
      ]
    },
    {
      "cell_type": "markdown",
      "source": [
        "###problem4 set character"
      ],
      "metadata": {
        "id": "fGisyRNWtMkE"
      }
    },
    {
      "cell_type": "code",
      "source": [
        "class Villager:\n",
        "    def __init__(self, name, species, catchphrase):\n",
        "        self.name = name\n",
        "        self.species = species\n",
        "        self.catchphrase = catchphrase\n",
        "        self.furniture = []\n",
        "\n",
        "    def set_catchphrase(self, new_catchphrase):\n",
        "      if len(new_catchphrase)<20:\n",
        "        for c in new_catchphrase:\n",
        "          if not(c.isalpha() or c.isspace()):\n",
        "            print(\"Invalid catchphrase\")\n",
        "            return\n",
        "\n",
        "        self.catchphrase = new_catchphrase\n",
        "        print(\"Catchphrase updated\")\n",
        "      else:\n",
        "        print(\"Invalid\")\n",
        "\n",
        "alice = Villager(\"Alice\", \"Koala\", \"guvnor\")\n",
        "\n",
        "alice.set_catchphrase(\"sweet dreams\")\n",
        "print(alice.catchphrase)\n",
        "alice.set_catchphrase(\"#?!\")\n",
        "print(alice.catchphrase)\n"
      ],
      "metadata": {
        "colab": {
          "base_uri": "https://localhost:8080/"
        },
        "id": "SbG6nYKmtQVc",
        "outputId": "1502b4d8-946c-4040-e791-e9926cf37ff3"
      },
      "execution_count": 20,
      "outputs": [
        {
          "output_type": "stream",
          "name": "stdout",
          "text": [
            "Catchphrase updated\n",
            "sweet dreams\n",
            " Invalid catchphrase\n",
            "sweet dreams\n"
          ]
        }
      ]
    },
    {
      "cell_type": "markdown",
      "source": [
        "The **return** statement here is crucial because it stops the execution of the set_catchphrase method as soon as an invalid character (something that is not an alphabet letter and not a space) is found in the new_catchphrase.\n",
        "\n"
      ],
      "metadata": {
        "id": "LhbdaiIDw3Q-"
      }
    },
    {
      "cell_type": "code",
      "source": [],
      "metadata": {
        "id": "5P921YIEvb-z"
      },
      "execution_count": null,
      "outputs": []
    }
  ]
}