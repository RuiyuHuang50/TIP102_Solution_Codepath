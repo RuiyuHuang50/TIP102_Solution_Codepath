{
  "nbformat": 4,
  "nbformat_minor": 0,
  "metadata": {
    "colab": {
      "provenance": [],
      "collapsed_sections": [
        "JSzF8jCNa8Sl"
      ],
      "authorship_tag": "ABX9TyPJP99tU0GmGvZ/l9lJFU2w",
      "include_colab_link": true
    },
    "kernelspec": {
      "name": "python3",
      "display_name": "Python 3"
    },
    "language_info": {
      "name": "python"
    }
  },
  "cells": [
    {
      "cell_type": "markdown",
      "metadata": {
        "id": "view-in-github",
        "colab_type": "text"
      },
      "source": [
        "<a href=\"https://colab.research.google.com/github/RuiyuHuang50/TIP102_Solution_Codepath/blob/main/Unit2_session1_standard2.ipynb\" target=\"_parent\"><img src=\"https://colab.research.google.com/assets/colab-badge.svg\" alt=\"Open In Colab\"/></a>"
      ]
    },
    {
      "cell_type": "markdown",
      "source": [
        "\n",
        "#Problem 1: Space Crew\n",
        "Given two lists of length n, crew and position, map the space station crew to their position on board the international space station.\n",
        "\n",
        "Each crew member crew[i] has job position[i] on board, where 0 <= i < n and len(crew) == len(position).\n",
        "\n",
        "Hint: Introduction to dictionaries"
      ],
      "metadata": {
        "id": "JSzF8jCNa8Sl"
      }
    },
    {
      "cell_type": "markdown",
      "source": [
        "**Zip object return tuple, not list. **"
      ],
      "metadata": {
        "id": "ofO269-AbKMO"
      }
    },
    {
      "cell_type": "code",
      "execution_count": null,
      "metadata": {
        "colab": {
          "base_uri": "https://localhost:8080/"
        },
        "id": "6SD-4TJNaqfO",
        "outputId": "d32c9d64-d1c3-4333-d8b2-d4e799adc52f"
      },
      "outputs": [
        {
          "output_type": "stream",
          "name": "stdout",
          "text": [
            "{'Andreas Mogensen': 'Commander', 'Jasmin Moghbeli': 'Flight Engineer', 'Satoshi Furukawa': 'Flight Engineer', \"Loral O'Hara\": ' Flight Engineer', 'Konstantin Borisov': 'Flight Engineer'}\n",
            "{'Michael Lopez-Alegria': 'Commander', 'Walter Villadei': 'Mission Pilot', 'Alper Gezeravci': 'Mission Specialist', 'Marcus Wandt': 'Mission Specialist'}\n"
          ]
        }
      ],
      "source": [
        "def space_crew(crew, position):\n",
        "    set = {}\n",
        "    for i in range(len(crew)):\n",
        "      set[crew[i]] = position[i]\n",
        "    return set\n",
        "    #set = list(zip(crew, position))\n",
        "exp70_crew = [\"Andreas Mogensen\", \"Jasmin Moghbeli\", \"Satoshi Furukawa\", \"Loral O'Hara\", \"Konstantin Borisov\"]\n",
        "exp70_positions = [\"Commander\", \"Flight Engineer\", \"Flight Engineer\", \" Flight Engineer\", \"Flight Engineer\"]\n",
        "\n",
        "ax3_crew = [\"Michael Lopez-Alegria\", \"Walter Villadei\", \"Alper Gezeravci\", \"Marcus Wandt\"]\n",
        "ax3_positions = [\"Commander\", \"Mission Pilot\", \"Mission Specialist\", \"Mission Specialist\"]\n",
        "\n",
        "print(space_crew(exp70_crew, exp70_positions))\n",
        "print(space_crew(ax3_crew, ax3_positions))"
      ]
    },
    {
      "cell_type": "markdown",
      "source": [
        "# problem 2\n"
      ],
      "metadata": {
        "id": "5Pnr4493bC5e"
      }
    },
    {
      "cell_type": "code",
      "source": [
        "def planet_lookup(planet_name):\n",
        "  planetary_info = {\n",
        "    \"Mercury\": {\n",
        "        \"Moons\": 0,\n",
        "        \"Orbital Period\": 88\n",
        "    },\n",
        "    \"Earth\": {\n",
        "        \"Moons\": 1,\n",
        "        \"Orbital Period\": 365.25\n",
        "    },\n",
        "    \"Mars\": {\n",
        "        \"Moons\": 2,\n",
        "        \"Orbital Period\": 687\n",
        "    },\n",
        "    \"Jupiter\": {\n",
        "        \"Moons\": 79,\n",
        "        \"Orbital Period\": 10592\n",
        "    }\n",
        "  }\n",
        "  if planet_name not in planetary_info:\n",
        "    return \" Sorry, I have no data on that planet\"\n",
        "  else:\n",
        "    orbital_period = planetary_info[planet_name].get(\"Orbital Period\", \"N/A\")\n",
        "    moons = planetary_info[planet_name].get(\"Moons\", \"N/A\")\n",
        "    return (f\"Planet {planet_name} has an orbital period of {orbital_period} Earth days and has {moons} moons.\" )\n",
        "\n",
        "\n",
        "print(planet_lookup(\"Jupiter\"))\n",
        "print(planet_lookup(\"Pluto\"))"
      ],
      "metadata": {
        "colab": {
          "base_uri": "https://localhost:8080/"
        },
        "id": "-2PAnTibeFJX",
        "outputId": "1d246daa-939d-4216-ae2d-608f316bb77b"
      },
      "execution_count": null,
      "outputs": [
        {
          "output_type": "stream",
          "name": "stdout",
          "text": [
            "Planet Jupiter has an orbital period of 10592 Earth days and has 79 moons.\n",
            " Sorry, I have no data on that planet\n"
          ]
        }
      ]
    },
    {
      "cell_type": "markdown",
      "metadata": {
        "id": "34fa6792"
      },
      "source": [
        "There are two primary ways to access values in a Python dictionary:\n",
        "\n",
        "1.  **Using square brackets `[]`:** This is the most common and direct way to access a value using its key."
      ]
    },
    {
      "cell_type": "code",
      "metadata": {
        "colab": {
          "base_uri": "https://localhost:8080/"
        },
        "id": "2032e30e",
        "outputId": "0104ec09-5c17-408c-866b-17c5967c1873"
      },
      "source": [
        "# Example dictionary\n",
        "my_dict = {\"apple\": 1, \"banana\": 2, \"cherry\": 3}\n",
        "\n",
        "# Accessing a value using square brackets\n",
        "apple_value = my_dict[\"apple\"]\n",
        "print(f\"Value for 'apple': {apple_value}\")\n",
        "\n",
        "# If the key does not exist, this will raise a KeyError\n",
        "# try:\n",
        "#     grape_value = my_dict[\"grape\"]\n",
        "# except KeyError as e:\n",
        "#     print(f\"Error: {e}\")"
      ],
      "execution_count": null,
      "outputs": [
        {
          "output_type": "stream",
          "name": "stdout",
          "text": [
            "Value for 'apple': 1\n"
          ]
        }
      ]
    },
    {
      "cell_type": "markdown",
      "metadata": {
        "id": "a4927747"
      },
      "source": [
        "2.  **Using the `.get()` method:** This method is a safer way to access values as it allows you to provide a default value to return if the key is not found, preventing a `KeyError`."
      ]
    },
    {
      "cell_type": "code",
      "metadata": {
        "colab": {
          "base_uri": "https://localhost:8080/"
        },
        "id": "7df86ac9",
        "outputId": "9b1244fd-7126-45b5-d81d-a616ac33b4fd"
      },
      "source": [
        "# Example dictionary\n",
        "my_dict = {\"apple\": 1, \"banana\": 2, \"cherry\": 3}\n",
        "\n",
        "# Accessing a value using the .get() method\n",
        "banana_value = my_dict.get(\"banana\")\n",
        "print(f\"Value for 'banana': {banana_value}\")\n",
        "\n",
        "# Using .get() with a default value for a non-existent key\n",
        "grape_value_safe = my_dict.get(\"grape\", \"Key not found\")\n",
        "print(f\"Value for 'grape' (using .get()): {grape_value_safe}\")\n",
        "\n",
        "# Using .get() without a default value for a non-existent key returns None\n",
        "mango_value_none = my_dict.get(\"mango\")\n",
        "print(f\"Value for 'mango' (using .get() without default): {mango_value_none}\")"
      ],
      "execution_count": null,
      "outputs": [
        {
          "output_type": "stream",
          "name": "stdout",
          "text": [
            "Value for 'banana': 2\n",
            "Value for 'grape' (using .get()): Key not found\n",
            "Value for 'mango' (using .get() without default): None\n"
          ]
        }
      ]
    },
    {
      "cell_type": "markdown",
      "metadata": {
        "id": "cfdc8a14"
      },
      "source": [
        "Both methods are useful, but `.get()` is often preferred when you're not absolutely sure if a key exists, as it provides a way to handle missing keys gracefully."
      ]
    },
    {
      "cell_type": "code",
      "source": [
        "def planet_lookup(planets, planet_name):\n",
        "    if planet_name in planets:\n",
        "        planet_info = planets[planet_name]\n",
        "        orbital_period = planet_info[\"Orbital Period\"]\n",
        "        moons = planet_info[\"Moons\"]\n",
        "        return f\"Planet {planet_name} has an orbital period of {orbital_period} Earth days and has {moons} moons.\"\n",
        "    else:\n",
        "        return \"Sorry, I have no data on that planet.\"\n",
        "planetary_info = {\n",
        "    \"Mercury\": {\n",
        "        \"Moons\": 0,\n",
        "        \"Orbital Period\": 88\n",
        "    },\n",
        "    \"Earth\": {\n",
        "        \"Moons\": 1,\n",
        "        \"Orbital Period\": 365.25\n",
        "    },\n",
        "    \"Mars\": {\n",
        "        \"Moons\": 2,\n",
        "        \"Orbital Period\": 687\n",
        "    },\n",
        "    \"Jupiter\": {\n",
        "        \"Moons\": 79,\n",
        "        \"Orbital Period\": 10592\n",
        "    }\n",
        "}\n",
        "\n",
        "print(planet_lookup(planetary_info,\"Jupiter\"))\n",
        "print(planet_lookup(planetary_info,\"Pluto\"))"
      ],
      "metadata": {
        "colab": {
          "base_uri": "https://localhost:8080/"
        },
        "id": "V1by4WiljCGU",
        "outputId": "2aa4f9f0-61dc-453c-d6c6-0a9e07c6994b"
      },
      "execution_count": null,
      "outputs": [
        {
          "output_type": "stream",
          "name": "stdout",
          "text": [
            "Planet Jupiter has an orbital period of 10592 Earth days and has 79 moons.\n",
            "Sorry, I have no data on that planet.\n"
          ]
        }
      ]
    },
    {
      "cell_type": "code",
      "source": [],
      "metadata": {
        "id": "FV2IukoijBnc"
      },
      "execution_count": null,
      "outputs": []
    },
    {
      "cell_type": "markdown",
      "source": [
        "#problem 3 breathing room\n",
        "As part of your job as an astronaut, you need to perform routine safety checks. You are given a dictionary oxygen_levels which maps room names to current oxygen levels and two integers min_val and max_val specifying the acceptable range of oxygen levels. Return a list of room names whose values are outside the range defined by min_val and max_val (inclusive).\n",
        "\n",
        "* Remember the output is a list"
      ],
      "metadata": {
        "id": "nax2UM2Xjcrs"
      }
    },
    {
      "cell_type": "code",
      "source": [
        "\n",
        "def check_oxygen_levels(oxygen_levels, min_val, max_val):\n",
        "  output = []\n",
        "  for place in oxygen_levels:\n",
        "    place_name = oxygen_levels[place]\n",
        "    if place_name < min_val or place_name > max_val:\n",
        "      output.append(place)\n",
        "  return output\n",
        "\n",
        "oxygen_levels = {\n",
        "    \"Command Module\": 21,\n",
        "    \"Habitation Module\": 22,\n",
        "    \"Laboratory Module\": 19,\n",
        "    \"Airlock\": 22,\n",
        "    \"Storage Bay\": 18\n",
        "}\n",
        "\n",
        "min_val = 19\n",
        "max_val = 22\n",
        "\n",
        "print(check_oxygen_levels(oxygen_levels, min_val, max_val))"
      ],
      "metadata": {
        "colab": {
          "base_uri": "https://localhost:8080/"
        },
        "id": "PoBfbbidjlhN",
        "outputId": "c0b098fc-688e-4fac-8eab-0a79d981124b"
      },
      "execution_count": null,
      "outputs": [
        {
          "output_type": "stream",
          "name": "stdout",
          "text": [
            "['Storage Bay']\n"
          ]
        }
      ]
    },
    {
      "cell_type": "markdown",
      "source": [
        "#Problem 5\n"
      ],
      "metadata": {
        "id": "uZZUBMttx7jD"
      }
    },
    {
      "cell_type": "code",
      "source": [
        "from collections import Counter\n",
        "\n",
        "def get_winner(votes):\n",
        "  vote_counts = Counter(votes)\n",
        "  # Find the item with the maximum count\n",
        "  # most_common(1) returns a list of the single most common element and its count\n",
        "  winner = vote_counts.most_common(1)[0][0]\n",
        "  return winner\n",
        "\n",
        "votes1 = [\"Colbert\", \"Serenity\", \"Serenity\", \"Tranquility\", \"Colbert\", \"Colbert\"]\n",
        "votes2 = [\"Colbert\", \"Serenity\", \"Serenity\", \"Tranquility\", \"Colbert\"]\n",
        "\n",
        "print(get_winner(votes1))\n",
        "print(get_winner(votes2))"
      ],
      "metadata": {
        "colab": {
          "base_uri": "https://localhost:8080/"
        },
        "id": "mMOuSZ3Yx9dT",
        "outputId": "616b41c0-6cc6-4366-ca4c-0354cfc3913b"
      },
      "execution_count": null,
      "outputs": [
        {
          "output_type": "stream",
          "name": "stdout",
          "text": [
            "Colbert\n",
            "Colbert\n"
          ]
        }
      ]
    },
    {
      "cell_type": "markdown",
      "source": [
        "The line winner = vote_counts.most_common(1)[0][0] is used to find the element with the highest frequency in the vote_counts Counter object. Here's how it works:\n",
        "\n",
        "vote_counts.most_common(1): The most_common() method of a Counter object returns a list of the most common elements and their counts, in descending order. By passing 1 as the argument, it returns a list containing only the single most common element and its count. The output of this part is a list of tuples, where each tuple is (element, count). For example, if \"Colbert\" had the most votes, vote_counts.most_common(1) would return [('Colbert', 3)].\n",
        "[0]: This accesses the first (and in this case, only) element of the list returned by most_common(1). So, from [('Colbert', 3)], it selects the tuple ('Colbert', 3).\n",
        "[0]: This accesses the first element of the tuple obtained in the previous step. From the tuple ('Colbert', 3), it selects the element at index 0, which is 'Colbert'.\n",
        "Therefore, winner is assigned the value of the most common element (the winner of the vote)."
      ],
      "metadata": {
        "id": "oztsC6Nq-KUI"
      }
    },
    {
      "cell_type": "code",
      "source": [
        "def get_winner(votes):\n",
        "    # Step 1: Initialize a frequency dictionary\n",
        "    vote_count = {}\n",
        "\n",
        "    # Step 2: Count the votes\n",
        "    for vote in votes:\n",
        "        if vote in vote_count:\n",
        "            vote_count[vote] += 1\n",
        "        else:\n",
        "            vote_count[vote] = 1\n",
        "\n",
        "    # Step 3: Find the suggestion with the highest count\n",
        "    max_votes = 0\n",
        "    winner = \"\"\n",
        "    for suggestion, count in vote_count.items():\n",
        "        if count > max_votes:\n",
        "            max_votes = count\n",
        "            winner = suggestion\n",
        "\n",
        "    return winner\n",
        "votes1 = [\"Colbert\", \"Serenity\", \"Serenity\", \"Tranquility\", \"Colbert\", \"Colbert\"]\n",
        "votes2 = [\"Colbert\", \"Serenity\", \"Serenity\", \"Tranquility\", \"Colbert\"]\n",
        "\n",
        "print(get_winner(votes1))\n",
        "print(get_winner(votes2))"
      ],
      "metadata": {
        "colab": {
          "base_uri": "https://localhost:8080/"
        },
        "id": "PUPtIwK60neD",
        "outputId": "9faaab70-000e-4841-9bfd-321f0488f01f"
      },
      "execution_count": null,
      "outputs": [
        {
          "output_type": "stream",
          "name": "stdout",
          "text": [
            "Colbert\n",
            "Colbert\n"
          ]
        }
      ]
    },
    {
      "cell_type": "markdown",
      "metadata": {
        "id": "7cd7c677"
      },
      "source": [
        "### Example 1: Counting Character Frequencies in a String\n",
        "\n",
        "This problem demonstrates how to use a frequency map (dictionary) to count the occurrences of each character in a given string."
      ]
    },
    {
      "cell_type": "code",
      "metadata": {
        "colab": {
          "base_uri": "https://localhost:8080/"
        },
        "id": "34f73976",
        "outputId": "d918d60b-7aa9-444b-8d49-99b07978b99f"
      },
      "source": [
        "from collections import Counter\n",
        "\n",
        "def count_char_frequencies(text):\n",
        "  \"\"\"Counts the frequency of each character in a string using a frequency map.\"\"\"\n",
        "  # Using collections.Counter is a convenient way to create a frequency map\n",
        "  char_counts = Counter(text)\n",
        "  return char_counts\n",
        "\n",
        "# Example usage\n",
        "string1 = \"hello world\"\n",
        "string2 = \"programming is fun\"\n",
        "\n",
        "print(f\"Frequency map for '{string1}': {count_char_frequencies(string1)}\")\n",
        "print(f\"Frequency map for '{string2}': {count_char_frequencies(string2)}\")"
      ],
      "execution_count": null,
      "outputs": [
        {
          "output_type": "stream",
          "name": "stdout",
          "text": [
            "Frequency map for 'hello world': Counter({'l': 3, 'o': 2, 'h': 1, 'e': 1, ' ': 1, 'w': 1, 'r': 1, 'd': 1})\n",
            "Frequency map for 'programming is fun': Counter({'r': 2, 'g': 2, 'm': 2, 'i': 2, 'n': 2, ' ': 2, 'p': 1, 'o': 1, 'a': 1, 's': 1, 'f': 1, 'u': 1})\n"
          ]
        }
      ]
    },
    {
      "cell_type": "markdown",
      "metadata": {
        "id": "c2e0018a"
      },
      "source": [
        "### Example 2: Checking for Anagrams\n",
        "\n",
        "This problem shows how to use frequency maps to determine if two strings are anagrams of each other. The idea is that if two strings are anagrams, their frequency maps should be identical."
      ]
    },
    {
      "cell_type": "code",
      "metadata": {
        "colab": {
          "base_uri": "https://localhost:8080/"
        },
        "id": "cb6433d9",
        "outputId": "d98c1c36-6ad9-476d-88a8-95a0af5ea65f"
      },
      "source": [
        "from collections import Counter\n",
        "\n",
        "def are_anagrams(str1, str2):\n",
        "  \"\"\"Checks if two strings are anagrams using frequency maps.\"\"\"\n",
        "  # If the lengths are different, they cannot be anagrams\n",
        "  if len(str1) != len(str2):\n",
        "    return False\n",
        "\n",
        "  # Create frequency maps for both strings\n",
        "  freq_map1 = Counter(str1)\n",
        "  freq_map2 = Counter(str2)\n",
        "\n",
        "  # Anagrams will have identical frequency maps\n",
        "  return freq_map1 == freq_map2\n",
        "\n",
        "# Example usage\n",
        "word1 = \"listen\"\n",
        "word2 = \"silent\"\n",
        "word3 = \"hello\"\n",
        "word4 = \"world\"\n",
        "\n",
        "print(f\"'{word1}' and '{word2}' are anagrams: {are_anagrams(word1, word2)}\")\n",
        "print(f\"'{word3}' and '{word4}' are anagrams: {are_anagrams(word3, word4)}\")"
      ],
      "execution_count": null,
      "outputs": [
        {
          "output_type": "stream",
          "name": "stdout",
          "text": [
            "'listen' and 'silent' are anagrams: True\n",
            "'hello' and 'world' are anagrams: False\n"
          ]
        }
      ]
    },
    {
      "cell_type": "markdown",
      "source": [
        "#session2  \n"
      ],
      "metadata": {
        "id": "vZjh8a_C6Qjr"
      }
    },
    {
      "cell_type": "markdown",
      "source": [
        "##standard1"
      ],
      "metadata": {
        "id": "RwCxpeAM6pOI"
      }
    },
    {
      "cell_type": "markdown",
      "source": [
        "###problem1"
      ],
      "metadata": {
        "id": "dGXwCGlX6uSm"
      }
    },
    {
      "cell_type": "code",
      "source": [
        "def most_endangered(species_list):\n",
        "  lowest_population = float('inf')\n",
        "  for species in species_list:\n",
        "    if species.get('population') < lowest_population:\n",
        "      lowest_population = species.get('population')\n",
        "      endangered_species = species.get('name')\n",
        "  return endangered_species\n",
        "\n",
        "species_list = [\n",
        "    {\"name\": \"Amur Leopard\",\n",
        "     \"habitat\": \"Temperate forests\",\n",
        "     \"population\": 84\n",
        "    },\n",
        "    {\"name\": \"Javan Rhino\",\n",
        "     \"habitat\": \"Tropical forests\",\n",
        "     \"population\": 72\n",
        "    },\n",
        "    {\"name\": \"Vaquita\",\n",
        "     \"habitat\": \"Marine\",\n",
        "     \"population\": 10\n",
        "    }\n",
        "]\n",
        "\n",
        "print(most_endangered(species_list))\n",
        "\n"
      ],
      "metadata": {
        "colab": {
          "base_uri": "https://localhost:8080/"
        },
        "id": "TDIjTfk-6P4u",
        "outputId": "5ccc9628-4fbe-403f-b5f5-263778f7f811"
      },
      "execution_count": null,
      "outputs": [
        {
          "output_type": "stream",
          "name": "stdout",
          "text": [
            "Vaquita\n"
          ]
        }
      ]
    },
    {
      "cell_type": "markdown",
      "source": [
        ".get()need to return the value"
      ],
      "metadata": {
        "id": "-h8OcJ408Z6P"
      }
    },
    {
      "cell_type": "markdown",
      "source": [
        "###problem2\n"
      ],
      "metadata": {
        "id": "ENOR7CZs-VJX"
      }
    },
    {
      "cell_type": "code",
      "source": [
        "def count_endangered_species(endangered_species, observed_species):\n",
        "  count ={}\n",
        "  for c in observed_species:\n",
        "    if c in endangered_species:\n",
        "      if c in count:\n",
        "        count[c]+=1\n",
        "      else:\n",
        "        count[c]=1\n",
        "\n",
        "  return sum(count.values())\n",
        "  #return count.values\n",
        "\n",
        "\n",
        "endangered_species1 = \"aA\"\n",
        "observed_species1 = \"aAAbbbb\"\n",
        "\n",
        "endangered_species2 = \"z\"\n",
        "observed_species2 = \"ZZ\"\n",
        "\n",
        "print(count_endangered_species(endangered_species1, observed_species1))\n",
        "print(count_endangered_species(endangered_species2, observed_species2))"
      ],
      "metadata": {
        "colab": {
          "base_uri": "https://localhost:8080/"
        },
        "id": "-Mu67wGX-XI-",
        "outputId": "bee38646-f165-40ac-d793-d57a6cdeb003"
      },
      "execution_count": null,
      "outputs": [
        {
          "output_type": "stream",
          "name": "stdout",
          "text": [
            "3\n",
            "0\n"
          ]
        }
      ]
    },
    {
      "cell_type": "code",
      "source": [
        "def count_endangered_species(endangered_species, observed_species):\n",
        "  count = 0\n",
        "  for c in observed_species:\n",
        "    if c in endangered_species:\n",
        "      count += 1\n",
        "  return count\n",
        "\n",
        "endangered_species1 = \"aA\"\n",
        "observed_species1 = \"aAAbbbb\"\n",
        "\n",
        "endangered_species2 = \"z\"\n",
        "observed_species2 = \"ZZ\"\n",
        "\n",
        "print(count_endangered_species(endangered_species1, observed_species1))\n",
        "print(count_endangered_species(endangered_species2, observed_species2))"
      ],
      "metadata": {
        "colab": {
          "base_uri": "https://localhost:8080/"
        },
        "id": "kwuVLmi8Be3D",
        "outputId": "df2aa305-3360-434d-d0d8-95d66a869076"
      },
      "execution_count": null,
      "outputs": [
        {
          "output_type": "stream",
          "name": "stdout",
          "text": [
            "3\n",
            "0\n"
          ]
        }
      ]
    },
    {
      "cell_type": "markdown",
      "source": [
        "###problem3\n",
        "?"
      ],
      "metadata": {
        "id": "e4JBiRpaB4C5"
      }
    },
    {
      "cell_type": "code",
      "source": [
        "def navigate_research_station(station_layout, observations):\n",
        "  return sum(abs(i - j) for i, c in enumerate(station_layout) for j, d in enumerate(observations) if c == d)\n",
        "\n",
        "\n",
        "\n",
        "station_layout1 = \"pqrstuvwxyzabcdefghijklmno\"\n",
        "observations1 = \"wildlife\"\n",
        "\n",
        "station_layout2 = \"abcdefghijklmnopqrstuvwxyz\"\n",
        "observations2 = \"cba\"\n",
        "\n",
        "print(navigate_research_station(station_layout1, observations1))\n",
        "print(navigate_research_station(station_layout2, observations2))"
      ],
      "metadata": {
        "colab": {
          "base_uri": "https://localhost:8080/"
        },
        "id": "QmQRbftmB8CG",
        "outputId": "8bfb7949-bd37-4ebe-f372-b0c10ea54372"
      },
      "execution_count": null,
      "outputs": [
        {
          "output_type": "stream",
          "name": "stdout",
          "text": [
            "45\n",
            "4\n"
          ]
        }
      ]
    },
    {
      "cell_type": "markdown",
      "source": [
        "###problem4\n",
        "In your work with a wildlife conservation database, you have two lists: observed_species and priority_species. The elements of priority_species are distinct, and all elements in priority_species are also in observed_species.\n",
        "\n",
        "Write a function prioritize_observations() that sorts the elements of observed_species such that the relative ordering of items in observed_species matches that of priority_species. Species that do not appear in priority_species should be placed at the end of observed_species in ascending order.\n",
        "\n"
      ],
      "metadata": {
        "id": "j8Tpa89SS6ji"
      }
    },
    {
      "cell_type": "code",
      "source": [
        "from collections import Counter\n",
        "def prioritize_observations(observed_species, priority_species):\n",
        "    cnt = Counter(observed_species)\n",
        "    priority_order = {species: i for i, species in enumerate(priority_species)}\n",
        "\n",
        "    priority_list = []  # Store priority species in correct order\n",
        "    non_priority_list = []  # Store species not in priority_species\n",
        "\n",
        "    for species in priority_species:\n",
        "        if species in cnt:\n",
        "            priority_list.extend([species]*cnt[species])\n",
        "            del cnt[species]  # Preserve priority order\n",
        "\n",
        "    remianing_species = sorted(cnt.keys())\n",
        "\n",
        "    # Merge both lists using extend()\n",
        "    priority_list.extend(remianing_species)\n",
        "\n",
        "    return priority_list\n",
        "\n",
        "\n",
        "\n",
        "observed_species1 = [\"🐯\", \"🦁\", \"🦌\", \"🦁\", \"🐯\", \"🐘\", \"🐍\", \"🦑\", \"🐻\", \"🐯\", \"🐼\"]\n",
        "priority_species1 = [\"🐯\", \"🦌\", \"🐘\", \"🦁\"]\n",
        "\n",
        "observed_species2 = [\"bluejay\", \"sparrow\", \"cardinal\", \"robin\", \"crow\", \"robin\"]\n",
        "priority_species2 = [\"cardinal\", \"sparrow\", \"bluejay\"]\n",
        "\n",
        "print(prioritize_observations(observed_species1, priority_species1))\n",
        "print(prioritize_observations(observed_species2, priority_species2))\n"
      ],
      "metadata": {
        "colab": {
          "base_uri": "https://localhost:8080/"
        },
        "id": "ZSs4yoKTTmpq",
        "outputId": "7743066a-24b0-4866-9a3c-bbf34c4baab8"
      },
      "execution_count": null,
      "outputs": [
        {
          "output_type": "stream",
          "name": "stdout",
          "text": [
            "['🐯', '🐯', '🐯', '🦌', '🐘', '🦁', '🦁', '🐍', '🐻', '🐼', '🦑']\n",
            "['cardinal', 'sparrow', 'bluejay', 'crow', 'robin']\n"
          ]
        }
      ]
    },
    {
      "cell_type": "markdown",
      "source": [
        "###problem 5\n",
        "You are given a 0-indexed integer array species_populations of even length, where each element represents the population of a particular species in a wildlife reserve.\n",
        "\n",
        "As long as species_populations is not empty, you must repetitively:\n",
        "\n",
        "Find the species with the minimum population and remove it.\n",
        "Find the species with the maximum population and remove it.\n",
        "Calculate the average population of the two removed species.\n",
        "The average of two numbers a and b is (a+b)/2.\n",
        "\n",
        "For example, the average of 200 and 300 is (200+300)/2=250.\n",
        "\n",
        "Return the number of distinct averages calculated using the above process.\n",
        "\n",
        "Note that when there is a tie for a minimum or maximum population, any can be removed.\n",
        "\n"
      ],
      "metadata": {
        "id": "XARrMj4kJrKg"
      }
    },
    {
      "cell_type": "code",
      "source": [
        "def distinct_averages(species_populations):\n",
        "  species_populations.sort()\n",
        "  averages = set()\n",
        "  while species_populations:\n",
        "    min_pop = species_populations.pop(0)\n",
        "    max_pop = species_populations.pop(-1)\n",
        "\n",
        "    average = (min_pop+max_pop)//2\n",
        "    averages.add(average)\n",
        "  return len(averages)\n",
        "\n",
        "\n",
        "species_populations1 = [4,1,4,0,3,5]\n",
        "species_populations2 = [1,100]\n",
        "\n",
        "print(distinct_averages(species_populations1))\n",
        "print(distinct_averages(species_populations2))\n"
      ],
      "metadata": {
        "colab": {
          "base_uri": "https://localhost:8080/"
        },
        "id": "P4l3g1X3JvYV",
        "outputId": "b5876ce6-ee50-448b-ae44-1d97c3140e63"
      },
      "execution_count": null,
      "outputs": [
        {
          "output_type": "stream",
          "name": "stdout",
          "text": [
            "2\n",
            "1\n"
          ]
        }
      ]
    },
    {
      "cell_type": "code",
      "metadata": {
        "colab": {
          "base_uri": "https://localhost:8080/"
        },
        "id": "c3c2b1fb",
        "outputId": "c3cb6ac7-6629-400e-bf12-cf86a7d59768"
      },
      "source": [
        "# Example of initializing min_pop and max_pop with infinity\n",
        "min_pop_initialized = float('inf')\n",
        "max_pop_initialized = float('-inf')\n",
        "\n",
        "print(f\"Initial min_pop: {min_pop_initialized}\")\n",
        "print(f\"Initial max_pop: {max_pop_initialized}\")\n",
        "\n",
        "# You would then iterate through your list and update min_pop and max_pop\n",
        "species_populations = [4, 1, 4, 0, 3, 5]\n",
        "\n",
        "current_min = float('inf')\n",
        "current_max = float('-inf')\n",
        "\n",
        "for population in species_populations:\n",
        "    if population < current_min:\n",
        "        current_min = population\n",
        "    if population > current_max:\n",
        "        current_max = population\n",
        "\n",
        "print(f\"Minimum population found: {current_min}\")\n",
        "print(f\"Maximum population found: {current_max}\")"
      ],
      "execution_count": null,
      "outputs": [
        {
          "output_type": "stream",
          "name": "stdout",
          "text": [
            "Initial min_pop: inf\n",
            "Initial max_pop: -inf\n",
            "Minimum population found: 0\n",
            "Maximum population found: 5\n"
          ]
        }
      ]
    },
    {
      "cell_type": "markdown",
      "source": [
        "###problem 6\n",
        "* Understand\n",
        "Input: two strings\n",
        "Output: integer, the max number of copies of target species\n",
        "* Plan : Count the frequency of each species in raised species-- initialize max_copies to infinity-- for each species in target_species, calculate how many items could be removed from the raised_species-- return the mini value from the above calculations\n"
      ],
      "metadata": {
        "id": "m_VaIYEyCu5O"
      }
    },
    {
      "cell_type": "code",
      "source": [
        "from collections import Counter\n",
        "def max_species_copies(raised_species, target_species):\n",
        "  cnt1 = Counter(raised_species)\n",
        "  cnt2 = Counter(target_species)\n",
        "  max_copies = float('inf')\n",
        "  for species in cnt2:\n",
        "    if species in cnt1:\n",
        "      # The number of copies is limited by the minimum ratio of available species\n",
        "      # in raised_species to the required species in target_species\n",
        "      max_copies = min(max_copies, cnt1[species] // cnt2[species])\n",
        "    else:\n",
        "      return 0  # Cannot form target_species if a required species is missing\n",
        "  return max_copies\n",
        "\n",
        "\n",
        "raised_species1 = \"abcba\"\n",
        "target_species1 = \"abc\"\n",
        "print(max_species_copies(raised_species1, target_species1))\n",
        "\n",
        "raised_species2 = \"aaaaabbbbcc\"\n",
        "target_species2 = \"abc\"\n",
        "print(max_species_copies(raised_species2, target_species2))"
      ],
      "metadata": {
        "colab": {
          "base_uri": "https://localhost:8080/"
        },
        "id": "0KWNoswLCxke",
        "outputId": "6f698efb-acac-49ff-badc-9911b81b7424"
      },
      "execution_count": null,
      "outputs": [
        {
          "output_type": "stream",
          "name": "stdout",
          "text": [
            "1\n",
            "2\n"
          ]
        }
      ]
    },
    {
      "cell_type": "markdown",
      "source": [
        "For example, if you have 5 'a's in raised_species (cnt1['a'] = 5) and target_species requires 2 'a's (cnt2['a'] = 2), then cnt1['a'] // cnt2['a'] would be 5 // 2 = 2. This means you have enough 'a's to form 2 copies of the target_species, with one 'a' left over."
      ],
      "metadata": {
        "id": "ios3AEg5IOSC"
      }
    },
    {
      "cell_type": "markdown",
      "source": [
        "###problem 7\n",
        "input: string\n",
        "output: integer, string number of unique species counts after replacing the non-digit c with a space and split the result\n",
        "\n",
        "iterate the string and replace the string letter of space--split the string--count the frequency of the string and then give the len of string\n"
      ],
      "metadata": {
        "id": "2oOUMCd7IXKK"
      }
    },
    {
      "cell_type": "code",
      "source": [
        "from collections import Counter\n",
        "def count_unique_species(ecosystem_data):\n",
        "  modified_string =[]\n",
        "  for c in ecosystem_data:\n",
        "    if c.isdigit():\n",
        "      modified_string.append(c)\n",
        "    else:\n",
        "      modified_string.append(' ')\n",
        "  modified_string=''.join(modified_string)\n",
        "\n",
        "  counts = modified_string.split()\n",
        "  #need to be unique digit\n",
        "  # unique_counts = set()\n",
        "  # for c in counts:\n",
        "  #   if c:\n",
        "  #     unique_counts.add(int(c))\n",
        "  unique_counts = Counter(int(c) for c in counts)\n",
        "  return len(unique_counts)\n",
        "\n",
        "\n",
        "ecosystem_data1 = \"f123de34g8hi34\"\n",
        "ecosystem_data2 = \"species1234forest234\"\n",
        "ecosystem_data3 = \"x1y01z001\"\n",
        "\n",
        "print(count_unique_species(ecosystem_data1))\n",
        "print(count_unique_species(ecosystem_data2))\n",
        "print(count_unique_species(ecosystem_data3))"
      ],
      "metadata": {
        "colab": {
          "base_uri": "https://localhost:8080/"
        },
        "id": "AdfIkaq3IODi",
        "outputId": "6b589cb3-7720-47f8-9296-38e55279c652"
      },
      "execution_count": null,
      "outputs": [
        {
          "output_type": "stream",
          "name": "stdout",
          "text": [
            "3\n",
            "2\n",
            "1\n"
          ]
        }
      ]
    },
    {
      "cell_type": "code",
      "source": [
        "def count_unique_species(ecosystem_data):\n",
        "    # Replace all non-digit characters with spaces\n",
        "    modified_data = []\n",
        "    for char in ecosystem_data:\n",
        "        if char.isdigit():\n",
        "            modified_data.append(char)\n",
        "        else:\n",
        "            modified_data.append(' ')\n",
        "    modified_data = ''.join(modified_data)\n",
        "\n",
        "    # Split the resulting string by spaces to get all species counts\n",
        "    counts = modified_data.split()\n",
        "\n",
        "    # Convert counts to integers to remove leading zeros and get unique counts\n",
        "    unique_counts = set()\n",
        "    for count in counts:\n",
        "        if count:  # Ensure the count is not an empty string\n",
        "            unique_counts.add(int(count))\n",
        "\n",
        "    # Return the number of unique counts\n",
        "    return len(unique_counts)\n",
        "\n",
        "\n",
        "ecosystem_data1 = \"f123de34g8hi34\"\n",
        "ecosystem_data2 = \"species1234forest234\"\n",
        "ecosystem_data3 = \"x1y01z001\"\n",
        "\n",
        "print(count_unique_species(ecosystem_data1))\n",
        "print(count_unique_species(ecosystem_data2))\n",
        "print(count_unique_species(ecosystem_data3))"
      ],
      "metadata": {
        "colab": {
          "base_uri": "https://localhost:8080/"
        },
        "id": "_tbiYe_RtVFu",
        "outputId": "4d044a39-69c9-48e8-9467-54c8530eae49"
      },
      "execution_count": null,
      "outputs": [
        {
          "output_type": "stream",
          "name": "stdout",
          "text": [
            "3\n",
            "2\n",
            "1\n"
          ]
        }
      ]
    },
    {
      "cell_type": "markdown",
      "source": [
        "**.isdigit()**"
      ],
      "metadata": {
        "id": "0xPJPApUJufj"
      }
    },
    {
      "cell_type": "code",
      "metadata": {
        "colab": {
          "base_uri": "https://localhost:8080/"
        },
        "id": "83625176",
        "outputId": "43255f8b-2ae8-4793-cff7-316a9148924e"
      },
      "source": [
        "string1 = \"12345\"\n",
        "string2 = \"123a4\"\n",
        "string3 = \" \"\n",
        "string4 = \"\"\n",
        "\n",
        "print(f\"'{string1}'.isdigit(): {string1.isdigit()}\")\n",
        "print(f\"'{string2}'.isdigit(): {string2.isdigit()}\")\n",
        "print(f\"'{string3}'.isdigit(): {string3.isdigit()}\")\n",
        "print(f\"'{string4}'.isdigit(): {string4.isdigit()}\")"
      ],
      "execution_count": null,
      "outputs": [
        {
          "output_type": "stream",
          "name": "stdout",
          "text": [
            "'12345'.isdigit(): True\n",
            "'123a4'.isdigit(): False\n",
            "' '.isdigit(): False\n",
            "''.isdigit(): False\n"
          ]
        }
      ]
    },
    {
      "cell_type": "code",
      "metadata": {
        "colab": {
          "base_uri": "https://localhost:8080/"
        },
        "id": "390fe3d5",
        "outputId": "1189c71d-20a8-4999-f387-e42493d430e3"
      },
      "source": [
        "string1 = \"HelloWorld\"\n",
        "string2 = \"Hello World\"\n",
        "string3 = \"12345\"\n",
        "string4 = \"\"\n",
        "\n",
        "print(f\"'{string1}'.isalpha(): {string1.isalpha()}\")\n",
        "print(f\"'{string2}'.isalpha(): {string2.isalpha()}\")\n",
        "print(f\"'{string3}'.isalpha(): {string3.isalpha()}\")\n",
        "print(f\"'{string4}'.isalpha(): {string4.isalpha()}\")"
      ],
      "execution_count": null,
      "outputs": [
        {
          "output_type": "stream",
          "name": "stdout",
          "text": [
            "'HelloWorld'.isalpha(): True\n",
            "'Hello World'.isalpha(): False\n",
            "'12345'.isalpha(): False\n",
            "''.isalpha(): False\n"
          ]
        }
      ]
    },
    {
      "cell_type": "markdown",
      "source": [
        "**Change the string's letter to space and keep the digit **"
      ],
      "metadata": {
        "id": "DKPuqZ2qKOkD"
      }
    },
    {
      "cell_type": "code",
      "metadata": {
        "colab": {
          "base_uri": "https://localhost:8080/"
        },
        "id": "7c7a843b",
        "outputId": "65d4fd19-e3b1-43c8-98b0-cebd50e20db6"
      },
      "source": [
        "def replace_letters_with_spaces(input_string):\n",
        "  \"\"\"Replaces all letter characters in a string with spaces, keeping digits.\"\"\"\n",
        "  new_string = \"\"\n",
        "  for char in input_string:\n",
        "    if char.isdigit():\n",
        "      new_string += char\n",
        "    else:\n",
        "      new_string += \" \"\n",
        "  return new_string\n",
        "\n",
        "# Example usage\n",
        "string1 = \"f123de34g8hi34\"\n",
        "string2 = \"species1234forest234\"\n",
        "string3 = \"x1y01z001\"\n",
        "string4 = \"HelloWorld123\"\n",
        "\n",
        "\n",
        "print(f\"Original string: '{string1}'\")\n",
        "print(f\"Modified string: '{replace_letters_with_spaces(string1)}'\")\n",
        "\n",
        "print(f\"\\nOriginal string: '{string2}'\")\n",
        "print(f\"Modified string: '{replace_letters_with_spaces(string2)}'\")\n",
        "\n",
        "print(f\"\\nOriginal string: '{string3}'\")\n",
        "print(f\"Modified string: '{replace_letters_with_spaces(string3)}'\")\n",
        "\n",
        "print(f\"\\nOriginal string: '{string4}'\")\n",
        "print(f\"Modified string: '{replace_letters_with_spaces(string4)}'\")"
      ],
      "execution_count": null,
      "outputs": [
        {
          "output_type": "stream",
          "name": "stdout",
          "text": [
            "Original string: 'f123de34g8hi34'\n",
            "Modified string: ' 123  34 8  34'\n",
            "\n",
            "Original string: 'species1234forest234'\n",
            "Modified string: '       1234      234'\n",
            "\n",
            "Original string: 'x1y01z001'\n",
            "Modified string: ' 1 01 001'\n",
            "\n",
            "Original string: 'HelloWorld123'\n",
            "Modified string: '          123'\n"
          ]
        }
      ]
    },
    {
      "cell_type": "markdown",
      "source": [
        "When you use ''.join(some_list), you are joining the elements ofsome_list` with an empty string as the separator. This effectively concatenates all the elements together without any characters in between them."
      ],
      "metadata": {
        "id": "bwTDw4TuLOq0"
      }
    },
    {
      "cell_type": "code",
      "metadata": {
        "colab": {
          "base_uri": "https://localhost:8080/"
        },
        "id": "c4837d5f",
        "outputId": "bd283852-4c50-45c9-c73d-a944e54068c5"
      },
      "source": [
        "# Example with a list of strings\n",
        "list_of_chars = ['h', 'e', 'l', 'l', 'o']\n",
        "joined_string = ' '.join(list_of_chars)\n",
        "print(f\"Joining {list_of_chars} with '': '{joined_string}'\")\n",
        "\n",
        "# Example with a different separator\n",
        "words = ['Hello', 'World']\n",
        "joined_with_space = ' '.join(words)\n",
        "print(f\"Joining {words} with ' ': '{joined_with_space}'\")\n",
        "\n",
        "# Example with a tuple\n",
        "tuple_of_chars = ('P', 'y', 't', 'h', 'o', 'n')\n",
        "joined_from_tuple = ''.join(tuple_of_chars)\n",
        "print(f\"Joining {tuple_of_chars} with '': '{joined_from_tuple}'\")\n",
        "\n",
        "# Example with a string (iterates over characters)\n",
        "a_string = \"Colab\"\n",
        "joined_from_string = '-'.join(a_string)\n",
        "print(f\"Joining '{a_string}' with '-': '{joined_from_string}'\")"
      ],
      "execution_count": null,
      "outputs": [
        {
          "output_type": "stream",
          "name": "stdout",
          "text": [
            "Joining ['h', 'e', 'l', 'l', 'o'] with '': 'h e l l o'\n",
            "Joining ['Hello', 'World'] with ' ': 'Hello World'\n",
            "Joining ('P', 'y', 't', 'h', 'o', 'n') with '': 'Python'\n",
            "Joining 'Colab' with '-': 'C-o-l-a-b'\n"
          ]
        }
      ]
    },
    {
      "cell_type": "markdown",
      "source": [
        "###problem 8\n",
        "input:list of list\n",
        "output:integer of the number which is paired\n",
        "\n"
      ],
      "metadata": {
        "id": "UNZ2t0U4Oco3"
      }
    },
    {
      "cell_type": "code",
      "source": [
        "def num_equiv_species_pairs(species_pairs):\n",
        "  cnt = 0\n",
        "  for i in range (len(species_pairs)):\n",
        "    for j in range(i+1, len(species_pairs)):\n",
        "      if (species_pairs[i][0] == species_pairs[j][1] and species_pairs[i][1] == species_pairs[j][0]) or (species_pairs[i][0] == species_pairs[j][0] and species_pairs[i][1] == species_pairs[j][1]):\n",
        "        cnt+=1\n",
        "  return cnt\n",
        "\n",
        "species_pairs1 = [[1,2],[2,1],[3,4],[5,6]]\n",
        "species_pairs2 = [[1,2],[1,2],[1,1],[1,2],[2,2]]\n",
        "\n",
        "print(num_equiv_species_pairs(species_pairs1))\n",
        "print(num_equiv_species_pairs(species_pairs2))\n",
        "\n",
        "\n",
        "#On2"
      ],
      "metadata": {
        "colab": {
          "base_uri": "https://localhost:8080/"
        },
        "id": "w7ZHBBv0SXn2",
        "outputId": "4689d249-0274-4979-90ff-85e5eaad60a5"
      },
      "execution_count": null,
      "outputs": [
        {
          "output_type": "stream",
          "name": "stdout",
          "text": [
            "1\n",
            "3\n"
          ]
        }
      ]
    },
    {
      "cell_type": "code",
      "source": [
        "from collections import Counter\n",
        "def num_equiv_species_pairs(species_pairs):\n",
        "  cnt = Counter(tuple(sorted(species)) for species in species_pairs)\n",
        "  pairs = 0\n",
        "  for c in cnt.values():\n",
        "      if c > 1:\n",
        "          pairs += c * (c - 1) // 2\n",
        "\n",
        "  return pairs\n",
        "\n",
        "species_pairs1 = [[1,2],[2,1],[3,4],[5,6]]\n",
        "species_pairs2 = [[1,2],[1,2],[1,1],[1,2],[2,2]]\n",
        "\n",
        "print(num_equiv_species_pairs(species_pairs1))\n",
        "print(num_equiv_species_pairs(species_pairs2))"
      ],
      "metadata": {
        "colab": {
          "base_uri": "https://localhost:8080/"
        },
        "id": "v3XZ-8KRUt-Z",
        "outputId": "2c4f77e2-200c-452b-c384-5af57d3ed28e"
      },
      "execution_count": null,
      "outputs": [
        {
          "output_type": "stream",
          "name": "stdout",
          "text": [
            "1\n",
            "3\n"
          ]
        }
      ]
    },
    {
      "cell_type": "markdown",
      "source": [
        "The line normalized = tuple(sorted(pair)) is used to create a consistent representation for each species pair, regardless of the order of the species within the pair.\n",
        "\n",
        "Here's how it works:\n",
        "\n",
        "sorted(pair): The sorted() function takes an iterable (in this case, a list representing a species pair, like [1, 2] or [2, 1]) and returns a new list with the elements in ascending order. So, sorted([1, 2]) would return [1, 2], and **sorted([2, 1]) would also return [1, 2].**\n",
        "tuple(...): The tuple() function converts the sorted list into a tuple. A tuple is used here because it is immutable, meaning its contents cannot be changed after it's created. This is important because we are using these normalized pairs as keys in the count dictionary, and dictionary keys must be immutable.\n",
        "\n",
        "**Ask yourself these questions:**\n",
        "1. Do I need to modify the collection after sorting? If yes, use list(). If no, tuple() or set() might be options.\n",
        "2. Does the order of elements matter? If yes, use list() or tuple(). If no, set() might be suitable (but remember sets are unordered).\n",
        "3. Do I need to store unique elements only? If yes, set() is the primary choice, but you might sort the original list/tuple first if you want to process unique elements in order.\n",
        "4. Do I need the result to be immutable (e.g., for a dictionary key or set element)? If yes, use tuple()."
      ],
      "metadata": {
        "id": "Vh85wycLXKRK"
      }
    },
    {
      "cell_type": "code",
      "source": [
        "'''\n",
        "For a species pair that appears n times, the number of equivalent pairs that can be formed is given by the formula the formula : c * (c - 1) // 2\n",
        "\n",
        "'''\n"
      ],
      "metadata": {
        "id": "KgzT1WjEV7rZ"
      },
      "execution_count": null,
      "outputs": []
    },
    {
      "cell_type": "code",
      "metadata": {
        "colab": {
          "base_uri": "https://localhost:8080/"
        },
        "id": "67c33c38",
        "outputId": "3667f412-eae1-461b-860b-0ccf39776957"
      },
      "source": [
        "from collections import Counter\n",
        "\n",
        "def num_equiv_species_pairs(species_pairs):\n",
        "  \"\"\"\n",
        "  Counts the number of equivalent species pairs in a list of pairs.\n",
        "\n",
        "  Args:\n",
        "    species_pairs: A list of lists, where each inner list represents a species pair.\n",
        "\n",
        "  Returns:\n",
        "    The number of equivalent species pairs.\n",
        "  \"\"\"\n",
        "  # Use Counter to count occurrences of each normalized species pair\n",
        "  # Normalizing ensures that the order of species within a pair doesn't matter\n",
        "  # (e.g., [1, 2] and [2, 1] are treated as the same pair)\n",
        "  count = Counter(tuple(sorted(pair)) for pair in species_pairs)\n",
        "\n",
        "  # Calculate the number of equivalent pairs\n",
        "  # For each normalized pair that appears 'c' times, the number of equivalent pairs\n",
        "  # is the number of combinations of choosing 2 pairs from 'c' pairs, which is c * (c - 1) // 2\n",
        "  num_pairs = 0\n",
        "  for c in count.values():\n",
        "    if c > 1:\n",
        "      num_pairs += c * (c - 1) // 2\n",
        "\n",
        "  return num_pairs\n",
        "\n",
        "# Example usage\n",
        "species_pairs1 = [[1,2],[2,1],[3,4],[5,6]]\n",
        "species_pairs2 = [[1,2],[1,2],[1,1],[1,2],[2,2]]\n",
        "\n",
        "print(num_equiv_species_pairs(species_pairs1))\n",
        "print(num_equiv_species_pairs(species_pairs2))"
      ],
      "execution_count": null,
      "outputs": [
        {
          "output_type": "stream",
          "name": "stdout",
          "text": [
            "Number of equivalent pairs in species_pairs1: 1\n",
            "Number of equivalent pairs in species_pairs2: 3\n"
          ]
        }
      ]
    },
    {
      "cell_type": "markdown",
      "source": [
        "##standard 2"
      ],
      "metadata": {
        "id": "yYM_rbNAeeGb"
      }
    },
    {
      "cell_type": "markdown",
      "source": [
        "###problem1\n"
      ],
      "metadata": {
        "id": "B9f1nWC5eg1b"
      }
    },
    {
      "cell_type": "code",
      "source": [
        "def remove_low_rated_destinations(destinations, rating_threshold):\n",
        "  result ={}\n",
        "  for destination, rating in destinations.items():\n",
        "    if destinations[destination] >= rating_threshold:\n",
        "      result[destination] = rating\n",
        "  return result\n",
        "\n",
        "\n",
        "destinations = {\"Paris\": 4.8, \"Berlin\": 3.5, \"Addis Ababa\": 4.9, \"Moscow\": 2.8}\n",
        "destinations2 = {\"Bogotá\": 4.8, \"Kansas City\": 3.9, \"Tokyo\": 4.5, \"Sydney\": 3.0}\n",
        "\n",
        "print(remove_low_rated_destinations(destinations, 4.0))\n",
        "print(remove_low_rated_destinations(destinations2, 4.9))"
      ],
      "metadata": {
        "colab": {
          "base_uri": "https://localhost:8080/"
        },
        "id": "oY2_y7x4ekcD",
        "outputId": "d120cddd-b878-4d00-b6af-a542f20357d8"
      },
      "execution_count": null,
      "outputs": [
        {
          "output_type": "stream",
          "name": "stdout",
          "text": [
            "{'Paris': 4.8, 'Addis Ababa': 4.9}\n",
            "{}\n"
          ]
        }
      ]
    },
    {
      "cell_type": "markdown",
      "source": [
        "The error AttributeError: 'dict' object has no attribute 'add' occurs because you are trying to use the .add() method on a dictionary (result). Dictionaries in Python do not have an .add() method. The .add() method is used with sets.\n",
        "\n",
        "To add a key-value pair to a dictionary, you use the syntax dictionary[key] = value\n",
        "\n",
        ".get(key, default)"
      ],
      "metadata": {
        "id": "3otY1tckgtQD"
      }
    },
    {
      "cell_type": "markdown",
      "source": [
        "###problem2"
      ],
      "metadata": {
        "id": "6AwulyPDhG0q"
      }
    },
    {
      "cell_type": "markdown",
      "source": [
        "For example, if souvenirs is [\"hat\", \"hat\", \"keychain\"], cnt would be Counter({'hat': 2, 'keychain': 1}).\n",
        "for num in cnt.values():: This loop iterates through the values of the cnt Counter object. The values are the counts of each unique souvenir (e.g., 2 and 1 in the example above)"
      ],
      "metadata": {
        "id": "Uv_YZeURlHbB"
      }
    },
    {
      "cell_type": "code",
      "source": [
        "from collections import Counter\n",
        "def unique_souvenir_counts(souvenirs):\n",
        "  seen_count = set()\n",
        "  cnt = Counter(souvenirs)\n",
        "  for num in cnt.values():\n",
        "    if num in seen_count:\n",
        "      return False\n",
        "    seen_count.add(num)\n",
        "  return True\n",
        "\n",
        "souvenirs1 = [\"keychain\", \"hat\", \"hat\", \"keychain\", \"keychain\", \"postcard\"]\n",
        "souvenirs2 = [\"postcard\", \"postcard\", \"postcard\", \"postcard\"]\n",
        "souvenirs3 = [\"keychain\", \"magnet\", \"hat\", \"candy\", \"postcard\", \"stuffed bear\"]\n",
        "\n",
        "print(unique_souvenir_counts(souvenirs1))\n",
        "print(unique_souvenir_counts(souvenirs2))\n",
        "print(unique_souvenir_counts(souvenirs3))"
      ],
      "metadata": {
        "colab": {
          "base_uri": "https://localhost:8080/"
        },
        "id": "EYK2V1oihIfa",
        "outputId": "380fa14f-7305-4e34-a3d2-e72f15bedff3"
      },
      "execution_count": null,
      "outputs": [
        {
          "output_type": "stream",
          "name": "stdout",
          "text": [
            "True\n",
            "True\n",
            "False\n"
          ]
        }
      ]
    },
    {
      "cell_type": "code",
      "metadata": {
        "colab": {
          "base_uri": "https://localhost:8080/"
        },
        "id": "4e339545",
        "outputId": "866c1784-b5b4-4249-b8e2-63ebd805b7c0"
      },
      "source": [
        "# Creating a set using curly braces {}\n",
        "my_set = {1, 2, 3, 4, 5}\n",
        "print(f\"Set created with curly braces: {my_set}\")\n",
        "\n",
        "# Creating a set from a list (duplicates are automatically removed)\n",
        "my_list = [1, 2, 2, 3, 4, 4, 5]\n",
        "set_from_list = set(my_list)\n",
        "print(f\"Set created from a list: {set_from_list}\")\n",
        "\n",
        "# Trying to add a duplicate element\n",
        "set_from_list.add(3)\n",
        "print(f\"Set after trying to add a duplicate (3): {set_from_list}\")\n",
        "\n",
        "# Adding a new element\n",
        "set_from_list.add(6)\n",
        "print(f\"Set after adding a new element (6): {set_from_list}\")\n",
        "\n",
        "# Creating an empty set (important: use set(), not {})\n",
        "empty_set = set()\n",
        "print(f\"Empty set: {empty_set}\")"
      ],
      "execution_count": null,
      "outputs": [
        {
          "output_type": "stream",
          "name": "stdout",
          "text": [
            "Set created with curly braces: {1, 2, 3, 4, 5}\n",
            "Set created from a list: {1, 2, 3, 4, 5}\n",
            "Set after trying to add a duplicate (3): {1, 2, 3, 4, 5}\n",
            "Set after adding a new element (6): {1, 2, 3, 4, 5, 6}\n",
            "Empty set: set()\n"
          ]
        }
      ]
    },
    {
      "cell_type": "code",
      "metadata": {
        "colab": {
          "base_uri": "https://localhost:8080/"
        },
        "id": "e1e37794",
        "outputId": "f53c124a-df7f-4ea8-f0d0-c50f25a21229"
      },
      "source": [
        "# Example of a List\n",
        "my_list = [\"apple\", \"banana\", \"cherry\", \"apple\"]\n",
        "print(f\"List: {my_list}\")\n",
        "print(f\"Accessing element by index (my_list[1]): {my_list[1]}\")\n",
        "my_list.append(\"date\")\n",
        "print(f\"List after adding an element: {my_list}\")"
      ],
      "execution_count": null,
      "outputs": [
        {
          "output_type": "stream",
          "name": "stdout",
          "text": [
            "List: ['apple', 'banana', 'cherry', 'apple']\n",
            "Accessing element by index (my_list[1]): banana\n",
            "List after adding an element: ['apple', 'banana', 'cherry', 'apple', 'date']\n"
          ]
        }
      ]
    },
    {
      "cell_type": "code",
      "metadata": {
        "colab": {
          "base_uri": "https://localhost:8080/"
        },
        "id": "c54c174a",
        "outputId": "2d4bc20d-4a93-4753-feb5-35836c1da07c"
      },
      "source": [
        "# Example of a Dictionary\n",
        "my_dict = {\"fruit\": \"apple\", \"color\": \"red\", \"count\": 3}\n",
        "print(f\"Dictionary: {my_dict}\")\n",
        "print(f\"Accessing value by key (my_dict['fruit']): {my_dict['fruit']}\")\n",
        "my_dict[\"taste\"] = \"sweet\"\n",
        "print(f\"Dictionary after adding a key-value pair: {my_dict}\")"
      ],
      "execution_count": null,
      "outputs": [
        {
          "output_type": "stream",
          "name": "stdout",
          "text": [
            "Dictionary: {'fruit': 'apple', 'color': 'red', 'count': 3}\n",
            "Accessing value by key (my_dict['fruit']): apple\n",
            "Dictionary after adding a key-value pair: {'fruit': 'apple', 'color': 'red', 'count': 3, 'taste': 'sweet'}\n"
          ]
        }
      ]
    },
    {
      "cell_type": "code",
      "metadata": {
        "colab": {
          "base_uri": "https://localhost:8080/"
        },
        "id": "802bb2e3",
        "outputId": "a9253c3a-faa1-492d-d658-3befc1e45af4"
      },
      "source": [
        "# Example of a Set\n",
        "my_set = {\"apple\", \"banana\", \"cherry\", \"apple\"} # Duplicates are automatically removed\n",
        "print(f\"Set: {my_set}\")\n",
        "my_set.add(\"date\")\n",
        "print(f\"Set after adding an element: {my_set}\")\n",
        "# Note: You cannot access elements by index in a set\n",
        "# print(my_set[0]) # This would raise a TypeError"
      ],
      "execution_count": null,
      "outputs": [
        {
          "output_type": "stream",
          "name": "stdout",
          "text": [
            "Set: {'cherry', 'banana', 'apple'}\n",
            "Set after adding an element: {'cherry', 'date', 'banana', 'apple'}\n"
          ]
        }
      ]
    },
    {
      "cell_type": "markdown",
      "source": [
        "###p3\n",
        "input: string\n",
        "output: string\n",
        "create the dictionary to map\n",
        "\n",
        "interate trough key and map each letter\n",
        "\n",
        "interate through message and use the\n",
        "\n",
        "substitution table to decode each chracter\n",
        "\n",
        "1) Create a dictionary `substitution_table` to map the letters in `key` to the English alphabet.\n",
        "2) Iterate through `key` and map each letter to the alphabet if it has not been mapped already.\n",
        "3) Iterate through `message` and use the substitution table to decode each character.\n",
        "4) Return the decoded message.\n",
        "Not correctly handling spaces or missing characters in the substitution table.\n",
        "\n"
      ],
      "metadata": {
        "id": "bIbFMZNrlPlh"
      }
    },
    {
      "cell_type": "code",
      "source": [
        "def decode_message(key, message):\n",
        "  substitution_table ={}\n",
        "  alphabet ='abcdefghijklmnopqrstuvwxyz'\n",
        "  used_chars = set()\n",
        "  index = 0\n",
        "  for c in key:\n",
        "    if c.isalpha() and c not in used_chars:\n",
        "      substitution_table[c] = alphabet[index]\n",
        "      used_chars.add(c)\n",
        "      index += 1\n",
        "      if index == 26:\n",
        "        break\n",
        "\n",
        "  decoded_message=[]\n",
        "  for c in message:\n",
        "    if c == ' ':\n",
        "      decoded_message.append(' ')\n",
        "    else:\n",
        "      decoded_message.append(substitution_table.get(c))\n",
        "  return ''.join(decoded_message)\n",
        "key1 = \"the quick brown fox jumps over the lazy dog\"\n",
        "message1 = \"vkbs bs t suepuv\"\n",
        "\n",
        "print(decode_message(key1, message1))\n",
        "\n",
        "key2 = \"eljuxhpwnyrdgtqkviszcfmabo\"\n",
        "message2 = \"hntu depcte lxejw lxwntu zwx piqfx\"\n",
        "\n",
        "print(decode_message(key2, message2))"
      ],
      "metadata": {
        "colab": {
          "base_uri": "https://localhost:8080/"
        },
        "id": "ZT2_hWoXlTLx",
        "outputId": "d43a1e77-220f-438c-93e6-1a85c74a597d"
      },
      "execution_count": null,
      "outputs": [
        {
          "output_type": "stream",
          "name": "stdout",
          "text": [
            "this is a secret\n",
            "find laguna beach behind the grove\n"
          ]
        }
      ]
    },
    {
      "cell_type": "markdown",
      "source": [
        "###p4\n"
      ],
      "metadata": {
        "id": "H0o957z0pUAn"
      }
    },
    {
      "cell_type": "code",
      "source": [
        "def find_longest_harmonious_travel_sequence(ratings):\n",
        "    # Initialize a dictionary to store the frequency of each rating\n",
        "    frequency = {}\n",
        "\n",
        "    # Count the occurrences of each rating\n",
        "    for rating in ratings:\n",
        "      if rating in frequency:\n",
        "        frequency[rating] += 1\n",
        "      else:\n",
        "        frequency[rating] = 1\n",
        "\n",
        "    max_length = 0\n",
        "\n",
        "    # Find the longest harmonious sequence\n",
        "    for rating in frequency:\n",
        "        if rating + 1 in frequency:\n",
        "          max_length = max(max_length, frequency[rating] + frequency[rating + 1])\n",
        "\n",
        "    return max_length\n",
        "\n",
        "durations1 = [1, 3, 2, 2, 5, 2, 3, 7]\n",
        "durations2 = [1, 2, 3, 4]\n",
        "durations3 = [1, 1, 1, 1]\n",
        "\n",
        "print(find_longest_harmonious_travel_sequence(durations1))\n",
        "print(find_longest_harmonious_travel_sequence(durations2))\n",
        "print(find_longest_harmonious_travel_sequence(durations3))"
      ],
      "metadata": {
        "colab": {
          "base_uri": "https://localhost:8080/"
        },
        "id": "EE9A8PXBp8Ku",
        "outputId": "3eee98cc-64f2-4c91-db27-6476b2b8cfd2"
      },
      "execution_count": null,
      "outputs": [
        {
          "output_type": "stream",
          "name": "stdout",
          "text": [
            "5\n",
            "2\n",
            "0\n"
          ]
        }
      ]
    },
    {
      "cell_type": "code",
      "metadata": {
        "id": "efef5742"
      },
      "source": [
        "# Assuming 'counts' is a list of strings like the one generated in your problem 7\n",
        "counts = [\"123\", \"34\", \"8\", \"34\", \"01\", \"001\"]\n",
        "\n",
        "# Method 1: Using a set comprehension\n",
        "unique_counts_set_comp = {int(count) for count in counts if count}\n",
        "print(f\"Unique counts using set comprehension: {unique_counts_set_comp}\")\n",
        "\n",
        "# Method 2: Iterating and adding to a set\n",
        "unique_counts_iter = set()\n",
        "for count in counts:\n",
        "    if count: # Check if the string is not empty\n",
        "        unique_counts_iter.add(int(count))\n",
        "print(f\"Unique counts using iteration: {unique_counts_iter}\")\n",
        "\n",
        "# The number of unique counts would then be the length of the set\n",
        "print(f\"Number of unique counts: {len(unique_counts_set_comp)}\")"
      ],
      "execution_count": null,
      "outputs": []
    }
  ]
}