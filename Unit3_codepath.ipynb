{
  "nbformat": 4,
  "nbformat_minor": 0,
  "metadata": {
    "colab": {
      "provenance": [],
      "authorship_tag": "ABX9TyPeQpCS0gwMZVinG469lRR7",
      "include_colab_link": true
    },
    "kernelspec": {
      "name": "python3",
      "display_name": "Python 3"
    },
    "language_info": {
      "name": "python"
    }
  },
  "cells": [
    {
      "cell_type": "markdown",
      "metadata": {
        "id": "view-in-github",
        "colab_type": "text"
      },
      "source": [
        "<a href=\"https://colab.research.google.com/github/RuiyuHuang50/TIP102_Solution_Codepath/blob/main/Unit3_codepath.ipynb\" target=\"_parent\"><img src=\"https://colab.research.google.com/assets/colab-badge.svg\" alt=\"Open In Colab\"/></a>"
      ]
    },
    {
      "cell_type": "markdown",
      "source": [
        "#cheatsheet\n"
      ],
      "metadata": {
        "id": "yFilR_AZxeHW"
      }
    },
    {
      "cell_type": "markdown",
      "source": [
        "* Stack are a special type of list where element are always added and removed in a certain order.\n",
        "*feature: LIFO\n",
        "\n"
      ],
      "metadata": {
        "id": "gBagW5gGy_aq"
      }
    },
    {
      "cell_type": "markdown",
      "source": [
        "append() and pop() both are both very fast functions (O(1) time complexity"
      ],
      "metadata": {
        "id": "Ve8MBprA0BIF"
      }
    },
    {
      "cell_type": "code",
      "execution_count": null,
      "metadata": {
        "colab": {
          "base_uri": "https://localhost:8080/"
        },
        "id": "bSeEV0oWxZ7T",
        "outputId": "c3acd6cb-2c7a-4932-8c03-3fb8bec3eba4"
      },
      "outputs": [
        {
          "output_type": "stream",
          "name": "stdout",
          "text": [
            "3\n",
            "[1, 2]\n"
          ]
        }
      ],
      "source": [
        "stack = []\n",
        "\n",
        "# Push new items onto the top of the stack\n",
        "stack.append(1)\n",
        "stack.append(2)\n",
        "stack.append(3)\n",
        "\n",
        "# Pop an item off the top of the stack\n",
        "popped_item = stack.pop()\n",
        "\n",
        "print(popped_item) # Prints: 3\n",
        "print(stack) # Prints: [1,2]"
      ]
    },
    {
      "cell_type": "markdown",
      "source": [
        "Queque\n",
        "\n"
      ],
      "metadata": {
        "id": "GcV5HjSR0F9l"
      }
    },
    {
      "cell_type": "code",
      "source": [
        "# 1. Import the deque module\n",
        "from collections import deque\n",
        "\n",
        "# 2. Initialize a new deque object (a new queue)\n",
        "queue = deque()\n",
        "\n",
        "#3. Add a new element, 1, to the end (right side) of the queue\n",
        "queue.append(2)\n",
        "queue.append(4)\n",
        "queue.append(6)\n",
        "\n",
        "#4. Remove an element from the beginning (left side) of the queue\n",
        "removed_elt = queue.popleft()\n",
        "print(removed_elt) # Prints 2"
      ],
      "metadata": {
        "colab": {
          "base_uri": "https://localhost:8080/"
        },
        "id": "kTpJzGwY0zSt",
        "outputId": "e0a29b6a-b30a-4b6c-f1d2-3be05bc9b238"
      },
      "execution_count": null,
      "outputs": [
        {
          "output_type": "stream",
          "name": "stdout",
          "text": [
            "2\n"
          ]
        }
      ]
    },
    {
      "cell_type": "code",
      "source": [
        "# Import the deque module\n",
        "from collections import deque\n",
        "\n",
        "# Initialize a new deque object (a new queue)\n",
        "queue = deque()\n",
        "\n",
        "#3. Add a new element, 1, to the left side of the queue\n",
        "queue.appendleft(4)\n",
        "\n",
        "#4. Remove an element from the right side queue\n",
        "removed_elt = queue.pop()\n",
        "print(removed_elt) # Prints 4"
      ],
      "metadata": {
        "colab": {
          "base_uri": "https://localhost:8080/"
        },
        "id": "PtmBR9VQ1J4u",
        "outputId": "62b77cf0-c26d-44b7-e3fd-e7e0c26dee11"
      },
      "execution_count": null,
      "outputs": [
        {
          "output_type": "stream",
          "name": "stdout",
          "text": [
            "4\n"
          ]
        }
      ]
    },
    {
      "cell_type": "markdown",
      "source": [
        "##Two pointer"
      ],
      "metadata": {
        "id": "r6DdCvy92E3A"
      }
    },
    {
      "cell_type": "markdown",
      "source": [
        "Opposite direction pointer"
      ],
      "metadata": {
        "id": "mB6PLD5w2Jig"
      }
    },
    {
      "cell_type": "code",
      "source": [
        "#TWO POINTER-opposite direction -example usage\n",
        "left_pointer = 0\n",
        "right_pointer = len(word) - 1\n",
        "while left_pointer < right_pointer:\n",
        "    pass\n",
        "    left_pointer += 1\n",
        "    right_pointer -= 1\n",
        "\n"
      ],
      "metadata": {
        "id": "Z7qWs9fD1ZdW"
      },
      "execution_count": null,
      "outputs": []
    },
    {
      "cell_type": "markdown",
      "source": [
        "Another common variation of the two-pointer approach is to point one pointer at the beginning of one string or list and a second pointer at the beginning of a second string or list, then increment each pointer conditionally to solve a problem. This allows us to keep track of values in two lists at the same time.\n",
        "\n",
        "For example, let's say we want to merge two sorted lists."
      ],
      "metadata": {
        "id": "KFsHxjrf2D3o"
      }
    },
    {
      "cell_type": "code",
      "source": [
        "#TWO POINTER-same direction pointer\n",
        "    nums1_pointer = 0\n",
        "    nums2_pointer = 0\n",
        "\n",
        "    while nums1_pointer < len(nums1) and nums2_pointer < len(nums2):\n",
        "        # <if conditional>\n",
        "            # <operation>\n",
        "            nums1_pointer += 1\n",
        "        else:\n",
        "            # <operation>\n",
        "            nums2_pointer += 1"
      ],
      "metadata": {
        "id": "sHPK76Lh10hP"
      },
      "execution_count": null,
      "outputs": []
    },
    {
      "cell_type": "markdown",
      "source": [
        "##Helper function\n",
        "If you find your functions getting too long or performing lots of different tasks, it might be a good indicator that you should add a helper function. Helper functions are functions we write to implement a subtask of our primary task.\n",
        "\n",
        "We can then call our function inside of our main function, to keep our main function shorter and easy to read.\n",
        "\n",
        "Creating helper functions helps us follow the Single Responsibility Principle (SRP) which says that a function should perform only a single task or action. SRP helps us create clean, readable, and maintainable code!\n",
        "\n"
      ],
      "metadata": {
        "id": "xHBbI2A-2kYw"
      }
    },
    {
      "cell_type": "code",
      "source": [
        "# Example: Calculating a Bill Total\n",
        "\n",
        "# Helper Function: Calculate the price of one item\n",
        "def calculate_price(item_price, quantity):\n",
        "    return item_price * quantity\n",
        "\n",
        "# Primary Function: Calculate total cost of bill\n",
        "def calculate_total(bill):\n",
        "    total = o\n",
        "    for item_price, quantity in bill.items():\n",
        "        # Call helper function\n",
        "        total += calculate_price(item_price, quantity)\n",
        "    return total"
      ],
      "metadata": {
        "id": "uGSlUyLH2o5o"
      },
      "execution_count": null,
      "outputs": []
    },
    {
      "cell_type": "markdown",
      "source": [
        "Unpacking"
      ],
      "metadata": {
        "id": "F72A-3gs3PYp"
      }
    },
    {
      "source": [
        "my_list = [1, 2, 3]\n",
        "a, b, c = my_list\n",
        "print(a) # Output: 1\n",
        "print(b) # Output: 2\n",
        "print(c) # Output: 3"
      ],
      "cell_type": "code",
      "metadata": {
        "colab": {
          "base_uri": "https://localhost:8080/"
        },
        "id": "asFN7lag3IiR",
        "outputId": "b904217d-4a9a-4837-95ab-5f57bd6d6446"
      },
      "execution_count": null,
      "outputs": [
        {
          "output_type": "stream",
          "name": "stdout",
          "text": [
            "1\n",
            "2\n",
            "3\n"
          ]
        }
      ]
    },
    {
      "source": [
        "my_list = [1, 2, 3, 4, 5]\n",
        "a, b, *rest = my_list\n",
        "print(a) # Output: 1\n",
        "print(b) # Output: 2\n",
        "print(rest) # Output: [3, 4, 5]"
      ],
      "cell_type": "code",
      "metadata": {
        "colab": {
          "base_uri": "https://localhost:8080/"
        },
        "id": "UYfS6N363JtR",
        "outputId": "fef4689b-9159-458e-ec85-801253200232"
      },
      "execution_count": null,
      "outputs": [
        {
          "output_type": "stream",
          "name": "stdout",
          "text": [
            "1\n",
            "2\n",
            "[3, 4, 5]\n"
          ]
        }
      ]
    },
    {
      "cell_type": "code",
      "source": [
        "inventory = [[\"apples\", 3], [\"carrots\", 5]]\n",
        "[[item, quantity], [item2, quantity2]] = inventory\n",
        "# [item, quantity] << [\"apples\", 3]\n",
        "# [item2, quantity2] << [\"carrots\", 5]"
      ],
      "metadata": {
        "id": "Tw9_89vx3UGh"
      },
      "execution_count": null,
      "outputs": []
    },
    {
      "cell_type": "markdown",
      "source": [
        "Inner/nested function\n",
        "**The inner function has access to any variables and parameters defined by the outer function**. In the example above, the inner function get_sum() has access to print_sum()'s parameters even though they are not passed in to get_sum().\n",
        "\n",
        "Inner functions are only available within the scope of the outer function. They are commonly used to define helper functions that will only be called by the main function, and won't be used anywhere else in the program."
      ],
      "metadata": {
        "id": "z9h0N6L23puZ"
      }
    },
    {
      "cell_type": "code",
      "source": [
        "# Outer function\n",
        "def print_sum(x, y):\n",
        "\n",
        "    # Inner function\n",
        "    def get_sum():\n",
        "        return x + y\n",
        "\n",
        "    total = get_sum()\n",
        "    print(f\"{x} + {y} is {total}\")\n",
        "\n",
        "print_sum(1, 2)"
      ],
      "metadata": {
        "colab": {
          "base_uri": "https://localhost:8080/"
        },
        "id": "YTJpKfvK3f-J",
        "outputId": "ee46bca6-6d07-4890-d50c-edd60b141db1"
      },
      "execution_count": null,
      "outputs": [
        {
          "output_type": "stream",
          "name": "stdout",
          "text": [
            "1 + 2 is 3\n"
          ]
        }
      ]
    },
    {
      "cell_type": "code",
      "source": [
        "def total_sum_of_digits(numbers):\n",
        "    # Inner function to calculate the sum of digits of a single number\n",
        "    def sum_of_digits(n):\n",
        "        total = 0\n",
        "        while n > 0:\n",
        "            total += n % 10\n",
        "            n //= 10\n",
        "        return total\n",
        "\n",
        "    # Main function logic\n",
        "    total_sum = 0\n",
        "    for number in numbers:\n",
        "        total_sum += sum_of_digits(number)\n",
        "\n",
        "    return total_sum\n",
        "\n",
        "numbers1=[2,5,3,6,8,9]\n",
        "print(total_sum_of_digits(numbers1))"
      ],
      "metadata": {
        "colab": {
          "base_uri": "https://localhost:8080/"
        },
        "id": "7uTGrL9x33fi",
        "outputId": "754a484b-255e-4b93-88c1-08588ca77cd2"
      },
      "execution_count": null,
      "outputs": [
        {
          "output_type": "stream",
          "name": "stdout",
          "text": [
            "33\n"
          ]
        }
      ]
    },
    {
      "cell_type": "markdown",
      "source": [
        "STACKS vs QUEUE\n",
        "Problems solved with a stack are often implement a **recursive solution**, because under the hood, computers use a stack data structure to track the sequence of recursive function calls. When we initiate a series of recursive calls, we are essentially making a stack.\n",
        "\n",
        "In contrast, problems solved using queues generally use an iterative solution involving a **while loop**.\n",
        "\n"
      ],
      "metadata": {
        "id": "rXzXN9fv4rZi"
      }
    },
    {
      "cell_type": "code",
      "source": [
        "# Reverse a string using a iterative stack solution\n",
        "def reverse_string_iterative(s):\n",
        "    stack = []\n",
        "\n",
        "    # Push all characters of the string onto the stack\n",
        "    for char in s:\n",
        "        stack.append(char)\n",
        "\n",
        "    reversed_string = \"\"\n",
        "\n",
        "    # Pop all characters from the stack and append to the result\n",
        "    while stack:\n",
        "        reversed_string += stack.pop()\n",
        "\n",
        "    return reversed_string\n",
        "\n",
        "# Reverse a string using a recursive stack solution\n",
        "def reverse_string_recursive(s):\n",
        "    # Base case: if the string is empty or has only one character\n",
        "    if len(s) <= 1:\n",
        "        return s\n",
        "\n",
        "    # Recursive case: reverse the rest of the string and append the first character to the end\n",
        "    # reverse_string_recursive(s[1:]) is added to call stack\n",
        "    return reverse_string_recursive(s[1:]) + s[0]"
      ],
      "metadata": {
        "id": "6RqyA19D46mT"
      },
      "execution_count": null,
      "outputs": []
    },
    {
      "cell_type": "markdown",
      "source": [
        "#session1\n"
      ],
      "metadata": {
        "id": "Qe71ExIMxhX-"
      }
    },
    {
      "cell_type": "markdown",
      "source": [
        "##standard1\n"
      ],
      "metadata": {
        "id": "L-qpWbgRxtum"
      }
    },
    {
      "cell_type": "markdown",
      "source": [
        "### problem 1\n",
        "input string\n",
        "output boolen of if the string is match: opening have the closing tag, close in the right order\n",
        "\n",
        "Plan:\n",
        "use stack\n",
        "set the match dict  \n",
        "pop() and append() function\n",
        "if empty return true\n",
        "else return false"
      ],
      "metadata": {
        "id": "zubvus446DPj"
      }
    },
    {
      "cell_type": "code",
      "source": [
        "def is_valid_post_format(posts):\n",
        "  stack =[]\n",
        "  matching_tags ={')':'(', ']':'[','}':'{'}\n",
        "  for c in posts:\n",
        "    if c in '([{':\n",
        "      stack.append(c)\n",
        "    elif c in ')]}':\n",
        "      if not stack or stack.pop() != matching_tags[c]:\n",
        "        return False\n",
        "  return len(stack)== 0\n",
        "\n",
        "\n",
        "\n",
        "print(is_valid_post_format(\"()\"))\n",
        "print(is_valid_post_format(\"()[]{}\"))\n",
        "print(is_valid_post_format(\"(]\"))\n",
        "\n",
        "\n"
      ],
      "metadata": {
        "colab": {
          "base_uri": "https://localhost:8080/"
        },
        "id": "iCjNk8eJ6tFD",
        "outputId": "6ff3d7fc-5ac7-4ab2-c8ad-d8194d890335"
      },
      "execution_count": null,
      "outputs": [
        {
          "output_type": "stream",
          "name": "stdout",
          "text": [
            "True\n",
            "True\n",
            "False\n"
          ]
        }
      ]
    },
    {
      "cell_type": "markdown",
      "source": [
        "if c in '([{': is equivalent to if c == '(' or c == '[' or c == '{':. The string '([{' is just a concise way to represent the set of opening brackets you are checking against."
      ],
      "metadata": {
        "id": "irULdALj-lI8"
      }
    },
    {
      "cell_type": "code",
      "source": [
        "def is_valid_post_format(posts):\n",
        "  stack =[]\n",
        "  matching_tags ={')':'(', ']':'[','}':'{'}\n",
        "  for c in posts:\n",
        "    if c in matching_tags.values():\n",
        "      stack.append(c)\n",
        "    elif c in matching_tags:\n",
        "      if not stack or stack[-1] != matching_tags[c]: #here if use the stack.pop()could remove the lower line of 'stack.pop()'\n",
        "        return False\n",
        "      stack.pop()\n",
        "  return len(stack)== 0\n",
        "\n",
        "\n",
        "\n",
        "print(is_valid_post_format(\"()\"))\n",
        "print(is_valid_post_format(\"()[]{}\"))\n",
        "print(is_valid_post_format(\"(]\"))"
      ],
      "metadata": {
        "colab": {
          "base_uri": "https://localhost:8080/"
        },
        "id": "cJtN1MP8VlHK",
        "outputId": "8c4cce5b-082d-46c5-da53-3fa47f570262"
      },
      "execution_count": null,
      "outputs": [
        {
          "output_type": "stream",
          "name": "stdout",
          "text": [
            "True\n",
            "True\n",
            "False\n"
          ]
        }
      ]
    },
    {
      "cell_type": "markdown",
      "metadata": {
        "id": "f65e61b4"
      },
      "source": [
        "#### Stacks in Python\n",
        "A stack is a data structure where the last element added is the first element removed (LIFO - Last-In, First-Out)."
      ]
    },
    {
      "cell_type": "code",
      "metadata": {
        "colab": {
          "base_uri": "https://localhost:8080/"
        },
        "id": "4b4112fb",
        "outputId": "6fe4bd28-adac-4b3b-e4b1-df9cf16a1fce"
      },
      "source": [
        "# Create an empty list to represent the stack\n",
        "my_stack = []\n",
        "\n",
        "# Add elements to the stack (push)\n",
        "my_stack.append(10)\n",
        "my_stack.append(20)\n",
        "my_stack.append(30)\n",
        "\n",
        "print(\"Stack after pushing elements:\", my_stack)\n",
        "\n",
        "# Remove an element from the stack (pop)\n",
        "popped_element = my_stack.pop()\n",
        "\n",
        "print(\"Popped element:\", popped_element)\n",
        "print(\"Stack after popping:\", my_stack)"
      ],
      "execution_count": null,
      "outputs": [
        {
          "output_type": "stream",
          "name": "stdout",
          "text": [
            "Stack after pushing elements: [10, 20, 30]\n",
            "Popped element: 30\n",
            "Stack after popping: [10, 20]\n"
          ]
        }
      ]
    },
    {
      "cell_type": "markdown",
      "metadata": {
        "id": "97f66c08"
      },
      "source": [
        "#### Lists in Python\n",
        "Lists are versatile and allow access, addition, and removal of elements at any index."
      ]
    },
    {
      "cell_type": "code",
      "metadata": {
        "colab": {
          "base_uri": "https://localhost:8080/"
        },
        "id": "9d6b4984",
        "outputId": "d7edaeef-ff5d-498c-d5db-3e4e42e11f39"
      },
      "source": [
        "# Create a list\n",
        "my_list = [1, 2, 3, 4, 5]\n",
        "\n",
        "# Access elements by index\n",
        "print(\"Element at index 0:\", my_list[0])\n",
        "\n",
        "# Add elements\n",
        "my_list.append(6) # Add to the end\n",
        "my_list.insert(0, 0) # Add to the beginning\n",
        "\n",
        "print(\"List after adding elements:\", my_list)\n",
        "\n",
        "# Remove elements\n",
        "my_list.remove(3) # Remove by value\n",
        "popped_element = my_list.pop(0) # Remove by index and get the element\n",
        "\n",
        "print(\"List after removing elements:\", my_list)\n",
        "print(\"Popped element:\", popped_element)"
      ],
      "execution_count": null,
      "outputs": [
        {
          "output_type": "stream",
          "name": "stdout",
          "text": [
            "Element at index 0: 1\n",
            "List after adding elements: [0, 1, 2, 3, 4, 5, 6]\n",
            "List after removing elements: [1, 2, 4, 5, 6]\n",
            "Popped element: 0\n"
          ]
        }
      ]
    },
    {
      "cell_type": "markdown",
      "metadata": {
        "id": "289ed615"
      },
      "source": [
        "#### Queues in Python\n",
        "Queues follow a FIFO (First-In, First-Out) principle. We typically use `collections.deque` for efficient queues."
      ]
    },
    {
      "cell_type": "code",
      "metadata": {
        "colab": {
          "base_uri": "https://localhost:8080/"
        },
        "id": "4294ebc8",
        "outputId": "5b09bf56-57ac-4c53-b0f0-b6f0b332e9d2"
      },
      "source": [
        "from collections import deque\n",
        "\n",
        "# Create a deque object (a queue)\n",
        "my_queue = deque()\n",
        "\n",
        "# Add elements to the right side of the queue (enqueue)\n",
        "my_queue.append(10)\n",
        "my_queue.append(20)\n",
        "my_queue.append(30)\n",
        "\n",
        "print(\"Queue after enqueuing elements:\", my_queue)\n",
        "\n",
        "# Remove elements from the left side of the queue (dequeue)\n",
        "dequeued_element = my_queue.popleft()\n",
        "\n",
        "print(\"Dequeued element:\", dequeued_element)\n",
        "print(\"Queue after dequeuing:\", my_queue)"
      ],
      "execution_count": null,
      "outputs": [
        {
          "output_type": "stream",
          "name": "stdout",
          "text": [
            "Queue after enqueuing elements: deque([10, 20, 30])\n",
            "Dequeued element: 10\n",
            "Queue after dequeuing: deque([20, 30])\n"
          ]
        }
      ]
    },
    {
      "cell_type": "markdown",
      "source": [
        "### problem2\n",
        "input: a list of string\n",
        "output: a list of string\n",
        "Plan:\n",
        "queue to make the reverse\n",
        "pop()\n",
        "popleft()\n",
        "\n",
        "because the stack is Last Input first out,\n",
        "so use two stack, one is pop the element, another empty stack to receive it.\n"
      ],
      "metadata": {
        "id": "4k-B64xp-0JM"
      }
    },
    {
      "cell_type": "code",
      "source": [
        "def reverse_comments_queue(comments):\n",
        "  stack =[]\n",
        "  reverse_comments =[]\n",
        "  for comment in comments:\n",
        "    stack.append(comment)\n",
        "  while stack:\n",
        "    reverse_comments.append(stack.pop())\n",
        "  return reverse_comments\n",
        "\n",
        "print(reverse_comments_queue([\"Great post!\", \"Love it!\", \"Thanks for sharing.\"]))\n"
      ],
      "metadata": {
        "colab": {
          "base_uri": "https://localhost:8080/"
        },
        "id": "1VZvBThz_DLW",
        "outputId": "074b0861-1107-4668-d47e-536f3dfd873a"
      },
      "execution_count": null,
      "outputs": [
        {
          "output_type": "stream",
          "name": "stdout",
          "text": [
            "['Thanks for sharing.', 'Love it!', 'Great post!']\n"
          ]
        }
      ]
    },
    {
      "cell_type": "markdown",
      "source": [
        "What is the difference of List and stack:\n",
        "\n",
        "A list is like a Swiss Army knife – it has many tools and can be used for various purposes, including adding, removing, and accessing elements at any position.\n",
        "A stack is a specific way of using a list (or other underlying data structures) to enforce the LIFO (Last-In, First-Out) behavior. When you use a list as a stack, you are intentionally limiting yourself to using only the append() method for adding (pushing) and the pop() method for removing (popping) from the end of the list.\n",
        "\n",
        "\n",
        "How it was built: You built reverse_comments by appending elements one by one using reverse_comments.append(). This is a typical list operation.\n",
        "How you can interact with it: You can access elements in reverse_comments by their index (e.g., reverse_comments[0]), insert elements in the middle, or remove elements from anywhere. These are all characteristics of a list, not a stack (where you primarily interact with the top element).\n",
        "\n",
        "**All stacks implemented using Python's built-in data structures are lists, but not all lists are stacks.\"**"
      ],
      "metadata": {
        "id": "K6ecuv8IBMZ8"
      }
    },
    {
      "cell_type": "markdown",
      "source": [
        "###problem 3\n",
        "input: string\n",
        "\n",
        "output: boolen if symmetrical\n",
        "ignore the spaces\n",
        "\n",
        "two pointer method\n",
        "\n",
        "Attention:\n",
        " 'A' and 'a' as different characters.\n"
      ],
      "metadata": {
        "id": "jE7mOJt4BusF"
      }
    },
    {
      "cell_type": "code",
      "source": [
        "def is_symmetrical_title(title):\n",
        "  new_title = title.replace(\" \", \"\").lower()\n",
        "\n",
        "  left = 0\n",
        "  right = len(new_title)-1\n",
        "  while left< right:\n",
        "    if new_title[left] != new_title[right]:\n",
        "      return False\n",
        "    left +=1\n",
        "    right -=1\n",
        "  return True\n",
        "\n",
        "\n",
        "\n",
        "\n",
        "print(is_symmetrical_title(\"A Santa at NASA\"))\n",
        "print(is_symmetrical_title(\"Social Media\"))"
      ],
      "metadata": {
        "colab": {
          "base_uri": "https://localhost:8080/"
        },
        "id": "w4VRabNPB6UE",
        "outputId": "ec9c0db6-09db-4fe4-f2d7-352f4c4b35dd"
      },
      "execution_count": null,
      "outputs": [
        {
          "output_type": "stream",
          "name": "stdout",
          "text": [
            "True\n",
            "False\n"
          ]
        }
      ]
    },
    {
      "cell_type": "markdown",
      "source": [
        "remove the space in string\n",
        "\n",
        "A common and efficient way to do this is using a list comprehension and join(), or as shown in the previous example (cell bdcf1bb1), the replace() method is even simpler for just removing spaces."
      ],
      "metadata": {
        "id": "b8Gw5NCrDIhU"
      }
    },
    {
      "cell_type": "code",
      "metadata": {
        "colab": {
          "base_uri": "https://localhost:8080/"
        },
        "id": "bdcf1bb1",
        "outputId": "54bb2f12-3833-4b78-9354-bf3efd3db335"
      },
      "source": [
        "my_string = \"A Santa at NASA\"\n",
        "string_without_spaces = my_string.replace(\" \", \"\")\n",
        "print(string_without_spaces)"
      ],
      "execution_count": null,
      "outputs": [
        {
          "output_type": "stream",
          "name": "stdout",
          "text": [
            "ASantaatNASA\n"
          ]
        }
      ]
    },
    {
      "cell_type": "code",
      "metadata": {
        "colab": {
          "base_uri": "https://localhost:8080/"
        },
        "id": "acea1ac6",
        "outputId": "4406a40e-53e3-400d-ce38-27c6b165ae27"
      },
      "source": [
        "my_string = \"A Santa at NASA\"\n",
        "\n",
        "# Use a list comprehension to keep only non-space characters\n",
        "characters_without_spaces = [char for char in my_string if char != \" \"]\n",
        "\n",
        "# Join the characters back into a string\n",
        "string_without_spaces_lc = \"\".join(characters_without_spaces)\n",
        "\n",
        "print(string_without_spaces_lc)"
      ],
      "execution_count": null,
      "outputs": [
        {
          "output_type": "stream",
          "name": "stdout",
          "text": [
            "ASantaatNASA\n"
          ]
        }
      ]
    },
    {
      "cell_type": "markdown",
      "source": [
        "###problem4\n"
      ],
      "metadata": {
        "id": "YUPyAuv_1GS8"
      }
    },
    {
      "cell_type": "code",
      "source": [
        "def engagement_boost(engagements):\n",
        "    squared_engagements = []\n",
        "    # calculate the square\n",
        "    for i in range(len(engagements)):\n",
        "        squared_engagement = engagements[i] * engagements[i]\n",
        "        squared_engagements.append((squared_engagement, i))\n",
        "    # get the (square, i) list in decreasing way\n",
        "    squared_engagements.sort(reverse=True)\n",
        "\n",
        "    print(squared_engagements)\n",
        "\n",
        "    result = [0] * len(engagements) # create the result list\n",
        "    position = len(engagements) - 1 # set length\n",
        "\n",
        "    for square, original_index in squared_engagements:\n",
        "        result[position] = square #match\n",
        "        position -= 1\n",
        "\n",
        "    return result\n",
        "\n",
        "print(engagement_boost([-4, -1, 0, 3, 10]))\n"
      ],
      "metadata": {
        "colab": {
          "base_uri": "https://localhost:8080/"
        },
        "id": "6BQIG4qz2Rws",
        "outputId": "0c05f184-3b93-45da-da03-70901026c95d"
      },
      "execution_count": null,
      "outputs": [
        {
          "output_type": "stream",
          "name": "stdout",
          "text": [
            "[(100, 4), (16, 0), (9, 3), (1, 1), (0, 2)]\n",
            "[0, 1, 9, 16, 100]\n"
          ]
        }
      ]
    },
    {
      "cell_type": "code",
      "source": [
        "def engagement_boost(nums):\n",
        "  left = 0\n",
        "  right = len(nums)-1\n",
        "  result = [0] * len(nums) # Initialize result list with zeros\n",
        "  position = len(nums) - 1 # Start filling the result from the end\n",
        "  while left <= right:\n",
        "    left_square = nums[left] ** 2\n",
        "    right_square = nums[right] ** 2\n",
        "\n",
        "    if left_square > right_square:\n",
        "      result[position] = left_square\n",
        "      left += 1\n",
        "    else:\n",
        "      result[position] = right_square\n",
        "      right -= 1\n",
        "    position -= 1 # Move to the next position in the result list\n",
        "\n",
        "  return result\n",
        "\n",
        "print(engagement_boost([-5, -1, 0, 7, 10]))\n",
        "print(engagement_boost([-7, -3, 2, 3, 11]))\n"
      ],
      "metadata": {
        "colab": {
          "base_uri": "https://localhost:8080/"
        },
        "id": "vp81qpVV3dNz",
        "outputId": "c968bfeb-4bea-4422-e368-2027d0c3e51f"
      },
      "execution_count": null,
      "outputs": [
        {
          "output_type": "stream",
          "name": "stdout",
          "text": [
            "[0, 1, 25, 49, 100]\n",
            "[4, 9, 9, 49, 121]\n"
          ]
        }
      ]
    },
    {
      "cell_type": "code",
      "metadata": {
        "colab": {
          "base_uri": "https://localhost:8080/"
        },
        "id": "186bf476",
        "outputId": "8ef6a7c5-be25-4cef-be4a-9c35611417c4"
      },
      "source": [
        "def engagement_boost_alternative(nums):\n",
        "  \"\"\"\n",
        "  Squares each number in a list and returns the squared numbers in ascending order.\n",
        "\n",
        "  Args:\n",
        "    nums: A list of integers.\n",
        "\n",
        "  Returns:\n",
        "    A new list containing the squares of the input numbers, sorted in ascending order.\n",
        "  \"\"\"\n",
        "  squared_nums = [num ** 2 for num in nums]\n",
        "  squared_nums.sort()\n",
        "  return squared_nums\n",
        "\n",
        "print(engagement_boost_alternative([-4, -1, 0, 3, 10]))\n",
        "print(engagement_boost([-7, -3, 2, 3, 11]))\n"
      ],
      "execution_count": null,
      "outputs": [
        {
          "output_type": "stream",
          "name": "stdout",
          "text": [
            "[0, 1, 9, 16, 100]\n",
            "[4, 9, 9, 49, 121]\n"
          ]
        }
      ]
    },
    {
      "cell_type": "markdown",
      "source": [
        "###prblem5\n",
        "input:"
      ],
      "metadata": {
        "id": "dk4uTM_o_TCl"
      }
    },
    {
      "cell_type": "code",
      "source": [
        "def clean_post(post):\n",
        "  stack =[]\n",
        "  for c in post:\n",
        "    if stack and (stack[-1] == c.swapcase()):\n",
        "      stack.pop()\n",
        "    else:\n",
        "      stack.append(c)\n",
        "  return ''.join(stack)\n",
        "\n",
        "\n",
        "print(clean_post(\"poOost\"))\n",
        "print(clean_post(\"abBAcC\"))\n",
        "print(clean_post(\"s\"))\n"
      ],
      "metadata": {
        "colab": {
          "base_uri": "https://localhost:8080/"
        },
        "id": "A6H3MPQLXuoj",
        "outputId": "02a706dc-21a3-4540-e4bb-c6220c9be609"
      },
      "execution_count": null,
      "outputs": [
        {
          "output_type": "stream",
          "name": "stdout",
          "text": [
            "post\n",
            "\n",
            "s\n"
          ]
        }
      ]
    },
    {
      "cell_type": "markdown",
      "source": [
        "###problem6\n",
        "input: a list of string\n",
        "output: reverse of the string in the list\n",
        "Plan:\n",
        "use queque to reverse\n",
        "deque()\n"
      ],
      "metadata": {
        "id": "UJqzBijaZQSj"
      }
    },
    {
      "cell_type": "code",
      "source": [
        "from collections import deque\n",
        "\n",
        "def edit_post(post):\n",
        "  queue = deque()\n",
        "  # Reverse the entire input string before adding to the queue\n",
        "  reversed_post = post[::-1]\n",
        "  for c in reversed_post:\n",
        "    queue.append(c)\n",
        "  # Join all elements in the queue\n",
        "  return ''.join(queue)\n",
        "\n",
        "print(edit_post(\"Boost your engagement with these tips\"))\n",
        "\n"
      ],
      "metadata": {
        "colab": {
          "base_uri": "https://localhost:8080/"
        },
        "id": "74e1rNqKZOuK",
        "outputId": "0a6b8a11-7868-4726-a524-290b22047aa6"
      },
      "execution_count": null,
      "outputs": [
        {
          "output_type": "stream",
          "name": "stdout",
          "text": [
            "spit eseht htiw tnemegagne ruoy tsooB\n"
          ]
        }
      ]
    },
    {
      "cell_type": "code",
      "source": [
        "from collections import deque\n",
        "\n",
        "def edit_post(post):\n",
        "    words = post.split()\n",
        "    reversed_words = []\n",
        "\n",
        "    for word in words:\n",
        "        queue = deque(word)\n",
        "        reversed_word = ''.join(queue.pop() for _ in range(len(queue)))\n",
        "        reversed_words.append(reversed_word)\n",
        "\n",
        "    return ' '.join(reversed_words)\n",
        "\n",
        "# Example Usage\n",
        "print(edit_post(\"Boost your engagement with these tips\"))\n",
        "print(edit_post(\"Check out my latest vlog\"))\n"
      ],
      "metadata": {
        "colab": {
          "base_uri": "https://localhost:8080/"
        },
        "id": "PETfkVmfc1fK",
        "outputId": "18483ef6-73f5-4389-9687-956639fc6309"
      },
      "execution_count": null,
      "outputs": [
        {
          "output_type": "stream",
          "name": "stdout",
          "text": [
            "tsooB ruoy tnemegagne htiw eseht spit\n",
            "kcehC tuo ym tsetal golv\n"
          ]
        }
      ]
    },
    {
      "cell_type": "markdown",
      "source": [
        "### problem 7\n",
        "input: two strings\n",
        "ouput:boolean if they are equal\n",
        "method: stack to remove, pop()\n",
        "if string1 equal to string2, return true,else return false\n"
      ],
      "metadata": {
        "id": "pKiUs7KTdgS4"
      }
    },
    {
      "cell_type": "code",
      "source": [
        "def post_compare(draft1, draft2):\n",
        "  stack1 =[]\n",
        "  stack2 = []\n",
        "  for c in draft1:\n",
        "    if stack1 and c =='#':\n",
        "      stack1.pop()\n",
        "    else:\n",
        "      stack1.append(c)\n",
        "  return1 = ''.join(stack1)\n",
        "  for d in draft2:\n",
        "    if stack2 and d =='#':\n",
        "      stack2.pop()\n",
        "    else:\n",
        "      stack2.append(d)\n",
        "  return2 = ''.join(stack2)\n",
        "  return True if return1 == return2 else False\n",
        "\n",
        "print(post_compare(\"ab#c\", \"ad#c\"))\n",
        "print(post_compare(\"ab##\", \"c#d#\"))\n",
        "print(post_compare(\"a#c\", \"b\"))\n"
      ],
      "metadata": {
        "colab": {
          "base_uri": "https://localhost:8080/"
        },
        "id": "vTPwZc0feGt5",
        "outputId": "38c545ad-d388-4e23-9940-3ef9f5df439c"
      },
      "execution_count": null,
      "outputs": [
        {
          "output_type": "stream",
          "name": "stdout",
          "text": [
            "True\n",
            "True\n",
            "False\n"
          ]
        }
      ]
    },
    {
      "cell_type": "code",
      "source": [
        "#Helper\n",
        "def build_final_string(draft):\n",
        "    stack = []\n",
        "    for char in draft:\n",
        "        if char == '#':\n",
        "            if stack:\n",
        "                stack.pop()  # Simulate backspace\n",
        "        else:\n",
        "            stack.append(char)  # Add the character to the stack\n",
        "    return stack\n",
        "\n",
        "def post_compare(draft1, draft2):\n",
        "    # Build the final strings after considering backspaces\n",
        "    final_draft1 = build_final_string(draft1)\n",
        "    final_draft2 = build_final_string(draft2)\n",
        "\n",
        "    # Compare the resulting stacks\n",
        "    return final_draft1 == final_draft2\n",
        "print(post_compare(\"ab##\", \"c#d#\"))\n"
      ],
      "metadata": {
        "colab": {
          "base_uri": "https://localhost:8080/"
        },
        "id": "ks3aVUJkhVmf",
        "outputId": "ac9f4f44-c3c3-486b-a2df-ae40fbab9eaa"
      },
      "execution_count": null,
      "outputs": [
        {
          "output_type": "stream",
          "name": "stdout",
          "text": [
            "True\n"
          ]
        }
      ]
    },
    {
      "cell_type": "markdown",
      "source": [
        "##standard2\n"
      ],
      "metadata": {
        "id": "4whZEMJfGFB0"
      }
    },
    {
      "cell_type": "markdown",
      "source": [
        "###problem 1\n",
        "input: string\n"
      ],
      "metadata": {
        "id": "UNDDayU8PPdt"
      }
    },
    {
      "cell_type": "code",
      "source": [
        "def time_required_to_stream(movies, k):\n",
        "  queue = deque()\n",
        "  for i in range(len(movies)):\n",
        "    queue.append((i, movies[i]))\n",
        "  time =0\n",
        "  while queue:\n",
        "    i, movie_count = queue.popleft()\n",
        "    time += 1\n",
        "    if i == k and movie_count ==1:\n",
        "      return time\n",
        "    if movie_count >1:\n",
        "      queue.append((i, movie_count- 1))\n",
        "  return time\n",
        "\n",
        "print(time_required_to_stream([2, 3, 2], 2))\n",
        "print(time_required_to_stream([5, 1, 1, 1], 0))\n"
      ],
      "metadata": {
        "colab": {
          "base_uri": "https://localhost:8080/"
        },
        "id": "4Jekw0UVLVRh",
        "outputId": "b2bb1525-75d7-4c75-e35a-4fbfb746c466"
      },
      "execution_count": null,
      "outputs": [
        {
          "output_type": "stream",
          "name": "stdout",
          "text": [
            "6\n",
            "8\n"
          ]
        }
      ]
    },
    {
      "cell_type": "markdown",
      "source": [
        "i, movie_count = ...: This part is called tuple unpacking. Python allows you to assign the elements of an iterable (like a tuple) to multiple variables on the left side of the equals sign.\n",
        "The first element of the tuple returned by queue.popleft() is assigned to the variable i.\n",
        "The second element of the tuple is assigned to the variable movie_count.\n",
        "So, the entire line i, movie_count = queue.popleft() means:\n",
        "\n",
        "\"Take the tuple from the front of the queue, remove it from the queue, and then put the first value from that tuple into the variable i and the second value from that tuple into the variable movie_count.\""
      ],
      "metadata": {
        "id": "jtePATOtOvSM"
      }
    },
    {
      "cell_type": "markdown",
      "source": [
        "\n",
        "\n",
        "```\n",
        " let's trace how the queue process works for the input movies = [2, 3, 2] and k = 2 (the user at index 2). The user at index 2 initially wants to watch 2 movies.\n",
        "\n",
        "Here's a step-by-step breakdown:\n",
        "\n",
        "Initial Queue: [User0 (2 movies), User1 (3 movies), User2 (2 movies)] (Time: 0)\n",
        "Time 1:\n",
        "User0 watches 1 movie.\n",
        "User0 still has movies left (2 - 1 = 1).\n",
        "User0 moves to the back of the queue.\n",
        "Queue: [User1 (3 movies), User2 (2 movies), User0 (1 movie)]\n",
        "Time 2:\n",
        "User1 watches 1 movie.\n",
        "User1 still has movies left (3 - 1 = 2).\n",
        "User1 moves to the back of the queue.\n",
        "Queue: [User2 (2 movies), User0 (1 movie), User1 (2 movies)]\n",
        "Time 3:\n",
        "User2 watches 1 movie.\n",
        "User2 still has movies left (2 - 1 = 1).\n",
        "User2 moves to the back of the queue.\n",
        "Queue: [User0 (1 movie), User1 (2 movies), User2 (1 movie)]\n",
        "Time 4:\n",
        "User0 watches 1 movie.\n",
        "User0 has no movies left (1 - 1 = 0).\n",
        "User0 leaves the queue.\n",
        "Queue: [User1 (2 movies), User2 (1 movie)]\n",
        "Time 5:\n",
        "User1 watches 1 movie.\n",
        "User1 still has movies left (2 - 1 = 1).\n",
        "User1 moves to the back of the queue.\n",
        "Queue: [User2 (1 movie), User1 (1 movie)]\n",
        "Time 6:\n",
        "User2 watches 1 movie.\n",
        "User2 has no movies left (1 - 1 = 0).\n",
        "User2 leaves the queue.\n",
        "User2 (the user at initial position k=2) has finished all their movies.\n",
        "The total time taken for the user at initial position k=2 to finish their movies is 6 seconds.\n",
        "```\n",
        "\n"
      ],
      "metadata": {
        "id": "HJmEGXdQM3sz"
      }
    },
    {
      "cell_type": "markdown",
      "metadata": {
        "id": "76737fe1"
      },
      "source": [
        "#### Queues in Python\n",
        "Queues follow a FIFO (First-In, First-Out) principle. We typically use `collections.deque` for efficient queues."
      ]
    },
    {
      "cell_type": "code",
      "metadata": {
        "colab": {
          "base_uri": "https://localhost:8080/"
        },
        "id": "244302aa",
        "outputId": "8329fd2a-7a37-4918-eb85-c50f9fbbb09a"
      },
      "source": [
        "from collections import deque\n",
        "\n",
        "# Create a deque object (a queue)\n",
        "my_queue = deque()\n",
        "\n",
        "# Add elements to the right side of the queue (enqueue)\n",
        "my_queue.append(10)\n",
        "my_queue.append(20)\n",
        "my_queue.append(30)\n",
        "\n",
        "print(\"Queue after enqueuing elements:\", my_queue)\n",
        "\n",
        "# Remove elements from the left side of the queue (dequeue)\n",
        "dequeued_element = my_queue.popleft()\n",
        "\n",
        "print(\"Dequeued element:\", dequeued_element)\n",
        "print(\"Queue after dequeuing:\", my_queue)"
      ],
      "execution_count": null,
      "outputs": [
        {
          "output_type": "stream",
          "name": "stdout",
          "text": [
            "Queue after enqueuing elements: deque([10, 20, 30])\n",
            "Dequeued element: 10\n",
            "Queue after dequeuing: deque([20, 30])\n"
          ]
        }
      ]
    },
    {
      "cell_type": "markdown",
      "metadata": {
        "id": "1aa75d2c"
      },
      "source": [
        "Here's why stacks are useful for equation evaluation:\n",
        "\n",
        "1.  **Handling Operator Precedence:** Stacks help manage the order in which operators are applied. When converting an infix expression (like `2 + 3 * 4`) to a postfix expression (like `2 3 4 * +`), a stack is used to temporarily hold operators. Operators with higher precedence are processed before those with lower precedence.\n",
        "\n",
        "2.  **Managing Parentheses:** Parentheses dictate the order of operations. When an opening parenthesis `(` is encountered, it's pushed onto the stack. When a closing parenthesis `)` is met, operators are popped from the stack until the matching opening parenthesis is found, ensuring that the operations within the parentheses are evaluated first.\n",
        "\n",
        "3.  **Converting Infix to Postfix/Prefix:** Stacks are fundamental to the algorithms for converting infix expressions (where operators are between operands) to postfix (operators after operands) or prefix (operators before operands) notations. These notations make evaluation straightforward as they remove the need for parentheses and explicit precedence rules during evaluation.\n",
        "\n",
        "4.  **Evaluating Postfix/Prefix Expressions:** Once an expression is in postfix or prefix form, a stack can be used for simple evaluation. For postfix evaluation, operands are pushed onto the stack. When an operator is encountered, the top two operands are popped, the operation is performed, and the result is pushed back onto the stack.\n",
        "\n",
        "In essence, the LIFO (Last-In, First-Out) nature of a stack mirrors the hierarchical structure of mathematical expressions and the need to process certain operations before others."
      ]
    },
    {
      "cell_type": "markdown",
      "metadata": {
        "id": "8c68d7b1"
      },
      "source": [
        "Queues are essential to the Breadth-First Search (BFS) algorithm. Here's why:\n",
        "\n",
        "1.  **FIFO (First-In, First-Out) Nature:** BFS explores a graph or tree level by level. It starts at a root node, visits all its immediate neighbors, then visits all the neighbors of those neighbors, and so on. A queue naturally supports this level-by-level traversal because nodes are added to the *end* of the queue when they are discovered, and then processed from the *beginning* of the queue in the order they were added. This ensures that all nodes at a certain depth are visited before moving on to the next depth.\n",
        "\n",
        "2.  **Maintaining Order of Exploration:** As BFS discovers new nodes, it adds them to the queue. The queue maintains the order in which these nodes were found. When a node is dequeued, its neighbors are explored and added to the queue. This process guarantees that nodes are visited in increasing order of their distance from the starting node.\n",
        "\n",
        "3.  **Ensuring Completeness:** By processing nodes in the order they were added to the queue, BFS ensures that it explores all reachable nodes in the graph or tree. It won't get stuck going down a single path like Depth-First Search (DFS) might (which typically uses a stack, either explicitly or implicitly through recursion).\n",
        "\n",
        "In summary, the queue in BFS acts as a waiting line for nodes that need to be visited. It ensures that the exploration expands outwards from the starting node in a systematic, level-by-level manner, which is the defining characteristic of BFS."
      ]
    },
    {
      "cell_type": "markdown",
      "metadata": {
        "id": "0630775a"
      },
      "source": [
        "### Differences Between Lists and Strings in Python\n",
        "\n",
        "While both lists and strings are sequences, they have some fundamental differences:\n",
        "\n",
        "1.  **Mutability:**\n",
        "    *   **Lists are mutable:** You can change, add, or remove elements from a list after it has been created.\n",
        "    *   **Strings are immutable:** You cannot change individual characters or modify a string in place after it has been created. Any operation that seems to modify a string actually creates a *new* string.\n",
        "\n",
        "2.  **Data Types of Elements:**\n",
        "    *   **Lists can contain elements of different data types:** A single list can hold integers, strings, other lists, objects, etc.\n",
        "    *   **Strings contain only characters:** Strings are sequences of Unicode characters.\n",
        "\n",
        "3.  **Syntax:**\n",
        "    *   **Lists are defined using square brackets `[]`:** Elements are separated by commas.\n",
        "    *   **Strings are defined using quotes (`'` or `\"`):**\n",
        "\n",
        "### Examples:\n",
        "\n",
        "**Mutability:**"
      ]
    },
    {
      "cell_type": "code",
      "metadata": {
        "colab": {
          "base_uri": "https://localhost:8080/"
        },
        "id": "32dbac0f",
        "outputId": "8fe47966-fac5-4042-a2cb-1836f482d1f4"
      },
      "source": [
        "# List is mutable\n",
        "my_list = [1, 2, 3]\n",
        "my_list[0] = 10 # Modify an element\n",
        "my_list.append(4) # Add an element\n",
        "print(f\"Modified list: {my_list}\")\n",
        "\n",
        "# String is immutable\n",
        "my_string = \"hello\"\n",
        "# my_string[0] = 'H' # This would raise a TypeError\n",
        "\n",
        "new_string = my_string.replace('h', 'H') # Creates a new string\n",
        "print(f\"Original string: {my_string}\")\n",
        "print(f\"New string after replace: {new_string}\")"
      ],
      "execution_count": null,
      "outputs": [
        {
          "output_type": "stream",
          "name": "stdout",
          "text": [
            "Modified list: [10, 2, 3, 4]\n",
            "Original string: hello\n",
            "New string after replace: Hello\n"
          ]
        }
      ]
    },
    {
      "cell_type": "markdown",
      "metadata": {
        "id": "b308f77f"
      },
      "source": [
        "**Data Types of Elements:**"
      ]
    },
    {
      "cell_type": "code",
      "metadata": {
        "colab": {
          "base_uri": "https://localhost:8080/"
        },
        "id": "d7b0f184",
        "outputId": "469aa25f-a0c1-45dc-aef1-93980391a350"
      },
      "source": [
        "# List with mixed data types\n",
        "mixed_list = [1, \"hello\", True, [4, 5]]\n",
        "print(f\"List with mixed types: {mixed_list}\")\n",
        "\n",
        "# String contains only characters\n",
        "my_string_of_numbers = \"12345\" # These are characters, not numbers"
      ],
      "execution_count": null,
      "outputs": [
        {
          "output_type": "stream",
          "name": "stdout",
          "text": [
            "List with mixed types: [1, 'hello', True, [4, 5]]\n"
          ]
        }
      ]
    },
    {
      "cell_type": "markdown",
      "metadata": {
        "id": "3679ae4e"
      },
      "source": [
        "**Common Operations:**\n",
        "Both lists and strings support many common sequence operations like indexing, slicing, concatenation, and iteration, but the results might differ due to mutability."
      ]
    },
    {
      "cell_type": "code",
      "metadata": {
        "colab": {
          "base_uri": "https://localhost:8080/"
        },
        "id": "249bf932",
        "outputId": "1c672e82-3316-4ce9-c6c3-82c95565ab3f"
      },
      "source": [
        "# Indexing and Slicing\n",
        "my_list = [10, 20, 30, 40, 50]\n",
        "my_string = \"abcde\"\n",
        "\n",
        "print(f\"List element at index 1: {my_list[1]}\")\n",
        "print(f\"String character at index 1: {my_string[1]}\")\n",
        "\n",
        "print(f\"List slice [1:3]: {my_list[1:3]}\")\n",
        "print(f\"String slice [1:3]: {my_string[1:3]}\")\n",
        "\n",
        "# Concatenation\n",
        "list1 = [1, 2]\n",
        "list2 = [3, 4]\n",
        "combined_list = list1 + list2\n",
        "print(f\"Concatenated list: {combined_list}\")\n",
        "\n",
        "string1 = \"hello\"\n",
        "string2 = \" world\"\n",
        "combined_string = string1 + string2\n",
        "print(f\"Concatenated string: {combined_string}\")\n",
        "\n",
        "# Iteration\n",
        "print(\"Iterating through list:\")\n",
        "for item in my_list:\n",
        "  print(item)\n",
        "\n",
        "print(\"Iterating through string:\")\n",
        "for char in my_string:\n",
        "  print(char)"
      ],
      "execution_count": null,
      "outputs": [
        {
          "output_type": "stream",
          "name": "stdout",
          "text": [
            "List element at index 1: 20\n",
            "String character at index 1: b\n",
            "List slice [1:3]: [20, 30]\n",
            "String slice [1:3]: bc\n",
            "Concatenated list: [1, 2, 3, 4]\n",
            "Concatenated string: hello world\n",
            "Iterating through list:\n",
            "10\n",
            "20\n",
            "30\n",
            "40\n",
            "50\n",
            "Iterating through string:\n",
            "a\n",
            "b\n",
            "c\n",
            "d\n",
            "e\n"
          ]
        }
      ]
    },
    {
      "cell_type": "markdown",
      "source": [],
      "metadata": {
        "id": "aVRO8nKOl8sM"
      }
    },
    {
      "cell_type": "markdown",
      "source": [
        "### problem 2\n",
        "input a list of string\n",
        "\n",
        "output: reverse the list\n",
        "\n",
        "method: stack, push all of them into stack then pop it out\n"
      ],
      "metadata": {
        "id": "JM9il6HnnXXL"
      }
    },
    {
      "cell_type": "code",
      "source": [
        "def reverse_watchlist(watchlist):\n",
        "  stack = []\n",
        "  reverse_watchlist = [] # Renamed to avoid confusion with input\n",
        "\n",
        "  # Push all items onto the stack\n",
        "  for item in watchlist:\n",
        "    stack.append(item)\n",
        "\n",
        "  # Pop all items from the stack into the new list (this reverses the order)\n",
        "  while stack:\n",
        "    reverse_watchlist.append(stack.pop())\n",
        "\n",
        "  return reverse_watchlist\n",
        "\n",
        "watchlist = [\"Breaking Bad\", \"Stranger Things\", \"The Crown\", \"The Witcher\"]\n",
        "\n",
        "print(reverse_watchlist(watchlist))"
      ],
      "metadata": {
        "colab": {
          "base_uri": "https://localhost:8080/"
        },
        "id": "k3lcCGhZpDEr",
        "outputId": "f7c37ff2-f2c2-4e12-dbad-7ad1dd15c41a"
      },
      "execution_count": null,
      "outputs": [
        {
          "output_type": "stream",
          "name": "stdout",
          "text": [
            "['The Witcher', 'The Crown', 'Stranger Things', 'Breaking Bad']\n"
          ]
        }
      ]
    },
    {
      "cell_type": "code",
      "source": [
        "def reverse_watchlist(watchlist):\n",
        "  left = 0\n",
        "  right = len(watchlist)-1\n",
        "  temp =[]\n",
        "  while left< right:\n",
        "    temp.append(watchlist[left])\n",
        "    watchlist[left] = watchlist[right]\n",
        "    watchlist[right]= temp.pop()\n",
        "    left+=1\n",
        "    right-=1\n",
        "  return watchlist\n",
        "watchlist = [\"Breaking Bad\", \"Stranger Things\", \"The Crown\", \"The Witcher\"]\n",
        "\n",
        "print(reverse_watchlist(watchlist))"
      ],
      "metadata": {
        "id": "Hkx7izY_rmFh",
        "colab": {
          "base_uri": "https://localhost:8080/"
        },
        "outputId": "cd8e8a29-0910-4991-89aa-b9493f0b8c9c"
      },
      "execution_count": null,
      "outputs": [
        {
          "output_type": "stream",
          "name": "stdout",
          "text": [
            "['The Witcher', 'The Crown', 'Stranger Things', 'Breaking Bad']\n"
          ]
        }
      ]
    },
    {
      "cell_type": "code",
      "source": [
        "def reverse_watchlist(watchlist):\n",
        "  left = 0\n",
        "  right = len(watchlist)-1\n",
        "  while left< right:\n",
        "    # Swap the elements at the left and right pointers\n",
        "    watchlist[left], watchlist[right] = watchlist[right], watchlist[left]\n",
        "    # Move the pointers towards the center\n",
        "    left += 1\n",
        "    right -= 1\n",
        "  return watchlist\n",
        "watchlist = [\"Breaking Bad\", \"Stranger Things\", \"The Crown\", \"The Witcher\"]\n",
        "\n",
        "print(reverse_watchlist(watchlist))"
      ],
      "metadata": {
        "colab": {
          "base_uri": "https://localhost:8080/"
        },
        "id": "uUdgnm_21gLO",
        "outputId": "6d5549ff-88b5-449d-a439-d68b72a54184"
      },
      "execution_count": null,
      "outputs": [
        {
          "output_type": "stream",
          "name": "stdout",
          "text": [
            "['The Witcher', 'The Crown', 'Stranger Things', 'Breaking Bad']\n"
          ]
        }
      ]
    },
    {
      "cell_type": "markdown",
      "source": [
        "###problem3\n",
        "input: a string\n",
        "\n",
        "output: not duplicate adjacent chracter string\n",
        "\n",
        "method: stack"
      ],
      "metadata": {
        "id": "5PYTOpaz1lLT"
      }
    },
    {
      "cell_type": "code",
      "source": [
        "def remove_duplicate_shows(schedule):\n",
        "  stack =[]\n",
        "  for c in schedule:\n",
        "    if stack and stack[-1] == c:\n",
        "      stack.pop()\n",
        "    else:\n",
        "      stack.append(c)\n",
        "  return ''.join(stack)\n",
        "\n",
        "print(remove_duplicate_shows(\"abbaca\"))\n",
        "print(remove_duplicate_shows(\"azxxzy\"))"
      ],
      "metadata": {
        "colab": {
          "base_uri": "https://localhost:8080/"
        },
        "id": "CsWCk75a2Ms-",
        "outputId": "a2d192bf-37b7-4bbe-9aca-c025c758dd1f"
      },
      "execution_count": null,
      "outputs": [
        {
          "output_type": "stream",
          "name": "stdout",
          "text": [
            "ca\n",
            "ay\n"
          ]
        }
      ]
    },
    {
      "cell_type": "markdown",
      "source": [
        "###problem4\n",
        "Understand:\n",
        "input: a list of integers\n",
        "\n",
        "output: the average of min and max\n",
        "\n",
        "edge case: empty list\n",
        "\n",
        "Plan:\n",
        "1. Initiate the stack for average view count, for loop in n/2 lengh, sort the original list and then move the output to the stack.\n",
        "\n",
        "Tip: (left +right)/2\n",
        "\n"
      ],
      "metadata": {
        "id": "B4s8OtWc31qM"
      }
    },
    {
      "cell_type": "code",
      "source": [
        "def minimum_average_view_count(view_counts):\n",
        "  new_view = sorted(view_counts)\n",
        "  left = 0\n",
        "  right = len(view_counts)-1\n",
        "  stack =[]\n",
        "  while left< right:\n",
        "    avg = (new_view[left]+new_view[right])/2\n",
        "    stack.append(avg)\n",
        "    left +=1\n",
        "    right -=1\n",
        "  return min(stack)\n",
        "\n",
        "\n",
        "print(minimum_average_view_count([7, 8, 3, 4, 15, 13, 4, 1]))\n",
        "print(minimum_average_view_count([1, 9, 8, 3, 10, 5]))\n",
        "print(minimum_average_view_count([1, 2, 3, 7, 8, 9]))"
      ],
      "metadata": {
        "colab": {
          "base_uri": "https://localhost:8080/"
        },
        "id": "Fr3pB_cq5Ykl",
        "outputId": "92cb0719-7154-44c8-f6a1-d040c645b19a"
      },
      "execution_count": null,
      "outputs": [
        {
          "output_type": "stream",
          "name": "stdout",
          "text": [
            "5.5\n",
            "5.5\n",
            "5.0\n"
          ]
        }
      ]
    },
    {
      "cell_type": "markdown",
      "source": [
        "###problem 4\n",
        "input: a string of uppercase letters.\n",
        "\n",
        "output: integer about the numbers left.\n",
        "\n",
        "edge case: empty.\n",
        "\n",
        "Plan:\n",
        "1. use the stack\n",
        "2. if B meet the A or D meet C, pop(), else append()\n",
        "3. return len(stack)\n"
      ],
      "metadata": {
        "id": "KERt1kyA7Gbl"
      }
    },
    {
      "cell_type": "code",
      "source": [
        "def min_remaining_watchlist(watchlist):\n",
        "  stack =[]\n",
        "  for c in watchlist:\n",
        "    if (stack and c == 'B' and stack[-1]== 'A') or (stack and c == 'D' and stack[-1]== 'C') :\n",
        "      stack.pop()\n",
        "    else:\n",
        "      stack.append(c)\n",
        "  return len(stack)\n",
        "\n",
        "print(min_remaining_watchlist(\"ABFCACDB\"))\n",
        "print(min_remaining_watchlist(\"ACBBD\"))"
      ],
      "metadata": {
        "colab": {
          "base_uri": "https://localhost:8080/"
        },
        "id": "3hRVdiJW8Q-8",
        "outputId": "59292d1e-2125-4e36-dd94-d315219c162b"
      },
      "execution_count": null,
      "outputs": [
        {
          "output_type": "stream",
          "name": "stdout",
          "text": [
            "2\n",
            "5\n"
          ]
        }
      ]
    },
    {
      "cell_type": "markdown",
      "source": [
        "###problem6\n",
        "\n",
        "input: a list of integer\n",
        "\n",
        "output: a list after rearrangement and operation\n",
        "\n",
        "edge case: empty\n",
        "\n",
        "Plan:\n",
        "1. for loop the list and then operate in place and then initiate the stack for the shifting operation\n",
        "2. temp stack, if  num is 0, append(), combine two stack together\n",
        "\n"
      ],
      "metadata": {
        "id": "3lhQ7Uwj9Ydr"
      }
    },
    {
      "cell_type": "code",
      "source": [
        "def apply_rating_operations(ratings):\n",
        "  n=len(ratings)\n",
        "  for i in range(n-1):\n",
        "    if ratings[i] == ratings[i+1]:\n",
        "      ratings[i] = ratings[i]*2\n",
        "      ratings[i+1] = 0\n",
        "\n",
        "  left = 0\n",
        "  right = 0\n",
        "  while right<n:\n",
        "    if ratings[right] != 0:\n",
        "      ratings[left],ratings[right] = ratings[right],ratings[left]\n",
        "      left +=1\n",
        "    right +=1\n",
        "  return ratings\n",
        "\n",
        "\n",
        "print(apply_rating_operations([1, 2, 2, 1, 1, 0]))\n",
        "print(apply_rating_operations([0, 1]))"
      ],
      "metadata": {
        "colab": {
          "base_uri": "https://localhost:8080/"
        },
        "id": "fkDndrMJ-qvS",
        "outputId": "bb6b9a14-6abd-4bc7-d59b-b5f318032483"
      },
      "execution_count": null,
      "outputs": [
        {
          "output_type": "stream",
          "name": "stdout",
          "text": [
            "[1, 4, 2, 0, 0, 0]\n",
            "[1, 0]\n"
          ]
        }
      ]
    },
    {
      "cell_type": "markdown",
      "source": [
        "\n",
        "= is the assignment operator: It is used to assign a value to a variable or, in this case, to perform simultaneous assignment (tuple unpacking). When you use ratings[left], ratings[right] = ratings[right], ratings[left], you are telling Python to take the values on the right side (ratings[right] and ratings[left]) and assign them to the variables on the left side (ratings[left] and ratings[right]) respectively. This effectively swaps the values at those indices in the list.\n",
        "== is the equality comparison operator: It is used to check if two values are equal. When you use ratings[left], ratings[right] == ratings[right], ratings[left], Python is evaluating a boolean expression. It's comparing the tuple (ratings[left], ratings[right]) with the tuple (ratings[right], ratings[left]). This comparison will return True if the tuples are identical (meaning the elements at left and right were already the same) and False otherwise. This operation does not modify the list at all; it only returns a boolean value."
      ],
      "metadata": {
        "id": "39imvkjsET_3"
      }
    },
    {
      "cell_type": "markdown",
      "source": [
        "###problem7\n"
      ],
      "metadata": {
        "id": "y_CUGpMeEntj"
      }
    },
    {
      "cell_type": "code",
      "source": [
        "def make_smallest_watchlist(watchlist):\n",
        "  # Convert the input string to a list to make it mutable\n",
        "  watchlist_list = list(watchlist)\n",
        "  left = 0\n",
        "  right = len(watchlist_list)-1\n",
        "  while left < right:\n",
        "    if watchlist_list[left] != watchlist_list[right]:\n",
        "      if watchlist_list[left] < watchlist_list[right]:\n",
        "        watchlist_list[right] = watchlist_list[left]\n",
        "      else:\n",
        "        watchlist_list[left] = watchlist_list[right]\n",
        "    left +=1\n",
        "    right -=1\n",
        "  # Join the list back into a string before returning\n",
        "  return ''.join(watchlist_list)\n",
        "\n",
        "print(make_smallest_watchlist(\"egcfe\"))\n",
        "print(make_smallest_watchlist(\"abcd\"))\n",
        "print(make_smallest_watchlist(\"seven\"))"
      ],
      "metadata": {
        "colab": {
          "base_uri": "https://localhost:8080/"
        },
        "id": "op36znU6EsPp",
        "outputId": "4dfccc78-8b16-4cf8-80a1-0851b8bdee52"
      },
      "execution_count": null,
      "outputs": [
        {
          "output_type": "stream",
          "name": "stdout",
          "text": [
            "efcfe\n",
            "abba\n",
            "neven\n"
          ]
        }
      ]
    },
    {
      "cell_type": "markdown",
      "source": [
        "#session2\n"
      ],
      "metadata": {
        "id": "iIFDOwnt99zx"
      }
    },
    {
      "cell_type": "markdown",
      "source": [
        "## standard1\n"
      ],
      "metadata": {
        "id": "Kg5bG4bA-A_R"
      }
    },
    {
      "cell_type": "markdown",
      "source": [
        "###problem1\n",
        "input: a list of string\n",
        "\n",
        "ouput: a list of ID X\n",
        "\n",
        "Plan:  \n",
        "1. Use two stack, one is reschdule stack, one is put the final result.\n",
        "2. spilt the words, and then get the second one push into the stack\n",
        "2. 'Cancel', pop(), if 'Reschedule', append the final result stack with the reschedule stack.pop()  \n",
        "3. return the final result stack\n",
        "\n",
        "\n"
      ],
      "metadata": {
        "id": "iueQWCZu-DnR"
      }
    },
    {
      "cell_type": "code",
      "source": [
        "def manage_stage_changes(changes):\n",
        "  result =[]\n",
        "  rescheduled =[]\n",
        "  for c in changes:\n",
        "    words = c.split()\n",
        "    if len(words)>1:\n",
        "      id = words[1]\n",
        "      if words[0] == 'Schedule':\n",
        "        result.append(id)\n",
        "    elif c == 'Cancel' and result:\n",
        "      rescheduled.append(result.pop())\n",
        "    elif c == 'Reschedule' and rescheduled:\n",
        "      result.append(rescheduled.pop())\n",
        "  return result\n",
        "\n",
        "\n",
        "\n",
        "print(manage_stage_changes([\"Schedule A\", \"Schedule B\", \"Cancel\", \"Schedule C\", \"Reschedule\", \"Schedule D\"]))\n",
        "print(manage_stage_changes([\"Schedule A\", \"Cancel\", \"Schedule B\", \"Cancel\", \"Reschedule\", \"Cancel\"]))\n",
        "print(manage_stage_changes([\"Schedule X\", \"Schedule Y\", \"Cancel\", \"Cancel\", \"Schedule Z\"]))"
      ],
      "metadata": {
        "colab": {
          "base_uri": "https://localhost:8080/"
        },
        "id": "hk6m_0c2_L6a",
        "outputId": "27af8e2b-37eb-485c-85c4-89a51fc6ad0a"
      },
      "execution_count": null,
      "outputs": [
        {
          "output_type": "stream",
          "name": "stdout",
          "text": [
            "['A', 'C', 'B', 'D']\n",
            "[]\n",
            "['Z']\n"
          ]
        }
      ]
    },
    {
      "cell_type": "code",
      "metadata": {
        "colab": {
          "base_uri": "https://localhost:8080/"
        },
        "id": "db6afac5",
        "outputId": "442acd52-3e06-4b1d-bcd9-e3c13f24b79c"
      },
      "source": [
        "def manage_stage_changes(changes):\n",
        "  result = []\n",
        "  rescheduled_stack = [] # Renamed for clarity\n",
        "\n",
        "  for change in changes:\n",
        "    words = change.split() # Split the string into a list of words\n",
        "    if len(words) > 1: # Check if there's a second word\n",
        "      stage_id = words[1] # Get the second word (index 1)\n",
        "      # Now you can decide which stack to push to based on the first word\n",
        "      # For example, if the first word is \"Schedule\":\n",
        "      if words[0] == \"Schedule\":\n",
        "        rescheduled_stack.append(stage_id)\n",
        "      # Add more conditions for \"Cancel\", \"Reschedule\", etc.\n",
        "\n",
        "  return rescheduled_stack # Or the final result stack, depending on the logic\n",
        "\n",
        "print(manage_stage_changes([\"Schedule A\", \"Schedule B\", \"Cancel\", \"Schedule C\", \"Reschedule\", \"Schedule D\"]))\n",
        "print(manage_stage_changes([\"Schedule A\", \"Cancel\", \"Schedule B\", \"Cancel\", \"Reschedule\", \"Cancel\"]))\n",
        "print(manage_stage_changes([\"Schedule X\", \"Schedule Y\", \"Cancel\", \"Cancel\", \"Schedule Z\"]))"
      ],
      "execution_count": null,
      "outputs": [
        {
          "output_type": "stream",
          "name": "stdout",
          "text": [
            "['A', 'B', 'C', 'D']\n",
            "['A', 'B']\n",
            "['X', 'Y', 'Z']\n"
          ]
        }
      ]
    },
    {
      "cell_type": "code",
      "source": [
        "def manage_stage_changes(changes):\n",
        "    stack = []\n",
        "    canceled = []\n",
        "\n",
        "    for change in changes:\n",
        "        if change.startswith(\"Schedule\"):\n",
        "            _, performance_id = change.split()\n",
        "            stack.append(performance_id)\n",
        "        elif change == \"Cancel\" and stack:\n",
        "            canceled.append(stack.pop())\n",
        "        elif change == \"Reschedule\" and canceled:\n",
        "            stack.append(canceled.pop())\n",
        "\n",
        "    return stack\n",
        "\n",
        "# Example usage\n",
        "print(manage_stage_changes([\"Schedule A\", \"Schedule B\", \"Cancel\", \"Schedule C\", \"Reschedule\", \"Schedule D\"]))\n",
        "# Output: [\"A\", \"C\", \"B\", \"D\"]\n",
        "\n",
        "print(manage_stage_changes([\"Schedule A\", \"Cancel\", \"Schedule B\", \"Cancel\", \"Reschedule\", \"Cancel\"]))\n",
        "# Output: []\n",
        "\n",
        "print(manage_stage_changes([\"Schedule X\", \"Schedule Y\", \"Cancel\", \"Cancel\", \"Schedule Z\"]))\n",
        "# Output: [\"Z\"]"
      ],
      "metadata": {
        "colab": {
          "base_uri": "https://localhost:8080/"
        },
        "id": "be3cLG7WD6H8",
        "outputId": "be1a9202-b30a-4708-c2c4-a9463000275a"
      },
      "execution_count": null,
      "outputs": [
        {
          "output_type": "stream",
          "name": "stdout",
          "text": [
            "['A', 'C', 'B', 'D']\n",
            "[]\n",
            "['Z']\n"
          ]
        }
      ]
    },
    {
      "cell_type": "markdown",
      "source": [
        "###problem2\n",
        "input: a list\n",
        "\n",
        "Output: the performance with decending priority\n",
        "\n",
        "Implement"
      ],
      "metadata": {
        "id": "W9pmCUs1fMDY"
      }
    },
    {
      "cell_type": "code",
      "source": [
        "from collections import deque\n",
        "\n",
        "def process_performance_requests(requests):\n",
        "  # Sort the list of requests based on the first element (priority)\n",
        "  sorted_requests = sorted(requests, reverse=True)\n",
        "  queue = deque()\n",
        "  for request in sorted_requests:\n",
        "    # Append the second element (performance name) to the queue\n",
        "    queue.append(request[1])\n",
        "  return list(queue)\n",
        "\n",
        "\n",
        "print(process_performance_requests([(3, 'Dance'), (5, 'Music'), (1, 'Drama')]))\n",
        "print(process_performance_requests([(2, 'Poetry'), (1, 'Magic Show'), (4, 'Concert'), (3, 'Stand-up Comedy')]))\n",
        "print(process_performance_requests([(1, 'Art Exhibition'), (3, 'Film Screening'), (2, 'Workshop'), (5, 'Keynote Speech'), (4, 'Panel Discussion')]))"
      ],
      "metadata": {
        "colab": {
          "base_uri": "https://localhost:8080/"
        },
        "id": "yU2zBlx0yJgR",
        "outputId": "766282dd-9b43-49fc-8233-f26b5a205180"
      },
      "execution_count": null,
      "outputs": [
        {
          "output_type": "stream",
          "name": "stdout",
          "text": [
            "['Music', 'Dance', 'Drama']\n",
            "['Concert', 'Stand-up Comedy', 'Poetry', 'Magic Show']\n",
            "['Keynote Speech', 'Panel Discussion', 'Film Screening', 'Workshop', 'Art Exhibition']\n"
          ]
        }
      ]
    },
    {
      "cell_type": "code",
      "source": [
        "from collections import deque\n",
        "\n",
        "def process_performance_requests(requests):\n",
        "    # Step 1: Sort the requests by priority in descending order\n",
        "    queue = deque(sorted(requests, reverse=True))\n",
        "\n",
        "    # Step 2: Initialize the result list\n",
        "    result = []\n",
        "\n",
        "    # Step 3: Process each request in order of priority\n",
        "    while queue:\n",
        "        priority, performance = queue.popleft()\n",
        "        result.append(performance)\n",
        "\n",
        "    # Step 4: Return the final order of performances\n",
        "    return result\n",
        "\n",
        "# Example usage\n",
        "print(process_performance_requests([(3, 'Dance'), (5, 'Music'), (1, 'Drama')]))\n",
        "# Output: ['Music', 'Dance', 'Drama']\n"
      ],
      "metadata": {
        "colab": {
          "base_uri": "https://localhost:8080/"
        },
        "id": "FwnwGhWG0yH6",
        "outputId": "10889ec0-98a5-4126-fc66-534a6c5f9251"
      },
      "execution_count": null,
      "outputs": [
        {
          "output_type": "stream",
          "name": "stdout",
          "text": [
            "['Music', 'Dance', 'Drama']\n"
          ]
        }
      ]
    },
    {
      "cell_type": "markdown",
      "source": [
        "When  use sorted() on a list of tuples without specifying a key, Python sorts the list based on the elements of the tuples sequentially. This means it first compares the first elements of the tuples. If the first elements are the same, it then compares the second elements, and so on.\n",
        "\n",
        "In your example tuples like (3, 'Dance'), the first element is a number (the priority) and the second is a string (the performance name).\n",
        "\n",
        "Since you used reverse=True, the list will be sorted in descending order based on the first element of each tuple, which is the digit representing the priority."
      ],
      "metadata": {
        "id": "6dAj3sdp0YVp"
      }
    },
    {
      "source": [
        "requests = [('Dance', 3), ('Music', 5), ('Drama', 1)]\n",
        "\n",
        "# Sort based on the second element (index 1) of each tuple in descending order\n",
        "sorted_requests = sorted(requests, key=lambda item: item[1], reverse=True)\n",
        "\n",
        "print(sorted_requests)"
      ],
      "cell_type": "code",
      "metadata": {
        "id": "hs75CWzn0pch"
      },
      "execution_count": null,
      "outputs": []
    },
    {
      "cell_type": "markdown",
      "source": [
        "###problem3\n",
        "input: a list of integers\n",
        "\n",
        "output: the interger of sum\n",
        "\n",
        "Plan:\n",
        "1. use a stack to collect\n",
        "2. for loop to sum up all of the numbers\n",
        "3. return the sum\n"
      ],
      "metadata": {
        "id": "aZfpufC809La"
      }
    },
    {
      "cell_type": "code",
      "source": [
        "def collect_festival_points(points):\n",
        "  stack =[]\n",
        "  sum =0\n",
        "  for point in points:\n",
        "    sum += point\n",
        "    stack.append(sum)\n",
        "  return stack.pop()\n",
        "\n",
        "print(collect_festival_points([5, 8, 3, 10]))\n",
        "print(collect_festival_points([2, 7, 4, 6]))\n",
        "print(collect_festival_points([1, 5, 9, 2, 8]))"
      ],
      "metadata": {
        "colab": {
          "base_uri": "https://localhost:8080/"
        },
        "id": "Qxss3I6C1AWz",
        "outputId": "344d3c01-ef79-4761-b858-09d0714913b2"
      },
      "execution_count": null,
      "outputs": [
        {
          "output_type": "stream",
          "name": "stdout",
          "text": [
            "26\n",
            "19\n",
            "25\n"
          ]
        }
      ]
    },
    {
      "cell_type": "markdown",
      "source": [
        "### problem4\n",
        "input: a list of combined elements including digit and number\n",
        "\n",
        "output: a list of digit\n",
        "\n",
        "Plan:\n",
        "1. Use stack to store the elements\n",
        "2. if meet 'back', pop() the stack element\n",
        "3. return the stack"
      ],
      "metadata": {
        "id": "N9w-2XVJ174K"
      }
    },
    {
      "cell_type": "code",
      "source": [
        "def booth_navigation(clues):\n",
        "  stack=[]\n",
        "  for clue in clues:\n",
        "    if clue == \"back\":\n",
        "      if stack:\n",
        "        stack.pop()\n",
        "    else:\n",
        "      stack.append(clue)\n",
        "  return stack\n",
        "\n",
        "\n",
        "\n",
        "clues = [1, 2, \"back\", 3, 4]\n",
        "print(booth_navigation(clues))\n",
        "\n",
        "clues = [5, 3, 2, \"back\", \"back\", 7]\n",
        "print(booth_navigation(clues))\n",
        "\n",
        "clues = [1, \"back\", 2, \"back\", \"back\", 3]\n",
        "print(booth_navigation(clues))"
      ],
      "metadata": {
        "colab": {
          "base_uri": "https://localhost:8080/"
        },
        "id": "usLinEu53bsi",
        "outputId": "d9755af6-a5f0-4243-cdd3-d5aa66b8d862"
      },
      "execution_count": null,
      "outputs": [
        {
          "output_type": "stream",
          "name": "stdout",
          "text": [
            "[1, 3, 4]\n",
            "[5, 7]\n",
            "[3]\n"
          ]
        }
      ]
    },
    {
      "cell_type": "markdown",
      "source": [
        "if use the \" if clue== \"back\" and stack:\n",
        "\n",
        "Process clue = \"back\":\n",
        "clue is \"back\".\n",
        "The stack is empty ([]).\n",
        "The condition clue == \"back\" and stack is True and False, which is False.\n",
        "Nothing is popped from the stack.\n",
        "The else block is executed: stack.append(clue).\n",
        "stack becomes ['back'].\n",
        "\n",
        "if use the \"\n",
        "\n",
        "```\n",
        "if clue == \"back\":\n",
        "  if stack:\n",
        "    \n",
        "```\n",
        "\n",
        "\n",
        "clue == \"back\" is True.\n",
        "The inner if stack: is False (stack is []).\n",
        "The code inside the inner if block (stack.pop()) is skipped.\n",
        "Crucially, there is no else associated with the outer if clue == \"back\": in this nested structure to handle the case where clue is \"back\" but the stack is empty. Therefore, this \"back\" is simply ignored and not added to the stack."
      ],
      "metadata": {
        "id": "txtBCHUA9eWR"
      }
    },
    {
      "cell_type": "markdown",
      "source": [
        "### problem 5\n",
        "input: two  string\n",
        "\n",
        "output: a string that combine them together\n"
      ],
      "metadata": {
        "id": "aeWT1X-FACnX"
      }
    },
    {
      "cell_type": "code",
      "source": [
        "def merge_schedules(schedule1, schedule2):\n",
        "  merged= []\n",
        "  i, j = 0, 0\n",
        "\n",
        "  while i< len(schedule1) and j< len(schedule2):\n",
        "    merged.append(schedule1[i])\n",
        "    merged.append(schedule2[j])\n",
        "    i += 1\n",
        "    j += 1\n",
        "\n",
        "  if i < len(schedule1):\n",
        "    merged.append(schedule1[i:])\n",
        "  if j< len(schedule2):\n",
        "    merged.append(schedule2[j:])\n",
        "  return ''.join(merged)\n",
        "\n",
        "\n",
        "\n",
        "\n",
        "print(merge_schedules(\"abc\", \"pqr\"))\n",
        "print(merge_schedules(\"ab\", \"pqrs\"))\n",
        "print(merge_schedules(\"abcd\", \"pq\"))"
      ],
      "metadata": {
        "id": "w0GjtyuLUDVy",
        "colab": {
          "base_uri": "https://localhost:8080/"
        },
        "outputId": "bfca7108-a315-469f-9e86-bf7414880584"
      },
      "execution_count": null,
      "outputs": [
        {
          "output_type": "stream",
          "name": "stdout",
          "text": [
            "apbqcr\n",
            "apbqrs\n",
            "apbqcd\n"
          ]
        }
      ]
    },
    {
      "cell_type": "markdown",
      "source": [
        "###problem6\n",
        "input: two lists\n",
        "\n",
        "output: changed schedule1 with popularity score\n",
        "\n",
        "Plan:\n",
        "\n",
        "1. use the stack to determine the new greater event for each element in schedule2, store the result in the dictionary and use the dictionary to build the result for schedule1"
      ],
      "metadata": {
        "id": "28NIciB_WoBW"
      }
    },
    {
      "cell_type": "code",
      "source": [
        "def next_greater_event(schedule1, schedule2):\n",
        "  next_greater={}\n",
        "  stack = []\n",
        "  for event in schedule2:\n",
        "    while stack and stack[-1] < event:\n",
        "      next_greater[stack.pop()] = event\n",
        "    stack.append(event)\n",
        "\n",
        "  for event in stack:\n",
        "    next_greater[event] = -1\n",
        "\n",
        "  return [ next_greater[event] for event in schedule1]\n",
        "\n",
        "\n",
        "\n",
        "\n",
        "\n",
        "print(next_greater_event([4, 1, 2], [1, 3, 4, 2]))\n",
        "print(next_greater_event([2, 4], [1, 2, 3, 4]))"
      ],
      "metadata": {
        "colab": {
          "base_uri": "https://localhost:8080/"
        },
        "id": "VfsZRDPpYYXF",
        "outputId": "6d8c4665-3ebe-4871-c3be-048f8bd814a2"
      },
      "execution_count": null,
      "outputs": [
        {
          "output_type": "stream",
          "name": "stdout",
          "text": [
            "[-1, 3, -1]\n",
            "[3, -1]\n"
          ]
        }
      ]
    },
    {
      "cell_type": "markdown",
      "source": [
        "Notes:In the line next_greater[stack.pop()] = event, the stack.pop() method does two things:\n",
        "\n",
        "It removes the top element from the stack.\n",
        "It returns the value of that removed element.\n",
        "So, at this step, the element that was previously at the top of the stack is removed from the stack and then used as the key in the next_greater dictionary"
      ],
      "metadata": {
        "id": "NgI0wrcteqpm"
      }
    },
    {
      "cell_type": "markdown",
      "source": [
        "###problem7\n",
        "input: a list of integer\n",
        "\n",
        "output: a list with the even numbers first and then follow with the odd numbers\n",
        "\n",
        "Plan:\n",
        "1. use two lists to store the even and the odd numbers\n",
        "2. finally add them together into a list"
      ],
      "metadata": {
        "id": "P9jkY4xnew5C"
      }
    },
    {
      "cell_type": "code",
      "source": [
        "def sort_performances_by_type(performances):\n",
        "  even = []\n",
        "  odd = []\n",
        "  for num in performances:\n",
        "    if num % 2 == 0:\n",
        "      even.append(num)\n",
        "    else:\n",
        "      odd.append(num)\n",
        "  # if you want to get the result reverse in odd and even\n",
        "  # even.sort(reverse=True)\n",
        "  # odd.sort(reverse=True)\n",
        "  return even + odd\n",
        "\n",
        "\n",
        "\n",
        "print(sort_performances_by_type([3, 1, 2, 4]))\n",
        "print(sort_performances_by_type([0]))"
      ],
      "metadata": {
        "colab": {
          "base_uri": "https://localhost:8080/"
        },
        "id": "kRBDtKgif5Rw",
        "outputId": "2cc9e469-d2b4-4679-9472-a3042134317d"
      },
      "execution_count": null,
      "outputs": [
        {
          "output_type": "stream",
          "name": "stdout",
          "text": [
            "[4, 2, 3, 1]\n",
            "[0]\n"
          ]
        }
      ]
    },
    {
      "cell_type": "markdown",
      "source": [
        "## Standard2\n",
        "\n"
      ],
      "metadata": {
        "id": "vw9un3JAhMGZ"
      }
    },
    {
      "cell_type": "markdown",
      "source": [
        "###problem1\n",
        "input: a list of integers\n",
        "\n",
        "output: a list of integers that minus the mini discount\n"
      ],
      "metadata": {
        "id": "tpIyPbV5hY9C"
      }
    },
    {
      "cell_type": "code",
      "source": [
        "def final_supply_costs(costs):\n",
        "  final =[]\n",
        "  n = len(costs)\n",
        "  for i in range(n):\n",
        "    if i < n - 1:\n",
        "      # For elements before the last one, find the minimum of the remaining elements\n",
        "      if min(costs[i+1:])<= costs[i]:\n",
        "        final_cost = costs[i] - min(costs[i+1:])\n",
        "      else:\n",
        "      # For the last element, there is no discount\n",
        "        final_cost = costs[i]\n",
        "    else:\n",
        "      final_cost =costs[i]\n",
        "    final.append(final_cost)\n",
        "  return final\n",
        "\n",
        "print(final_supply_costs([8,5, 4, 6, 2, 3]))\n",
        "print(final_supply_costs([1, 2, 3, 4, 5]))\n",
        "print(final_supply_costs([10, 1, 1, 6]))"
      ],
      "metadata": {
        "colab": {
          "base_uri": "https://localhost:8080/"
        },
        "id": "Wz6s_f6MhTQg",
        "outputId": "c4d8dc45-5134-40c2-f82b-e2ff29496abf"
      },
      "execution_count": null,
      "outputs": [
        {
          "output_type": "stream",
          "name": "stdout",
          "text": [
            "[6, 3, 2, 4, 2, 3]\n",
            "[1, 2, 3, 4, 5]\n",
            "[9, 0, 1, 6]\n"
          ]
        }
      ]
    },
    {
      "cell_type": "markdown",
      "source": [
        "Time complexity: O(n^2), cause use min()would calculate each loop (n-1)+(n-2)+...+1, and the outsize loop would be n time.\n",
        "\n",
        "Space complexity: create a list, so it is O(n)"
      ],
      "metadata": {
        "id": "S0sENqDs010u"
      }
    },
    {
      "cell_type": "code",
      "source": [
        "def final_supply_costs(costs):\n",
        "    n = len(costs)\n",
        "    final_costs = costs[:]\n",
        "    stack = []\n",
        "\n",
        "    for i in range(n):\n",
        "        while stack and costs[stack[-1]] >= costs[i]:\n",
        "            j = stack.pop()\n",
        "            final_costs[j] -= costs[i]\n",
        "        stack.append(i)\n",
        "\n",
        "    return final_costs\n",
        "\n",
        "# Example usage\n",
        "print(final_supply_costs([8, 5, 4, 6, 2, 3]))  # Output: [4, 2, 4, 2, 3]\n",
        "print(final_supply_costs([1, 2, 3, 4, 5]))  # Output: [1, 2, 3, 4, 5]\n",
        "print(final_supply_costs([10, 1, 1, 6]))    # Output: [9, 0, 1, 6]"
      ],
      "metadata": {
        "colab": {
          "base_uri": "https://localhost:8080/"
        },
        "id": "a6a6y_gEzYIF",
        "outputId": "5327d9e3-3692-4e3b-df81-bfc412224d43"
      },
      "execution_count": null,
      "outputs": [
        {
          "output_type": "stream",
          "name": "stdout",
          "text": [
            "[3, 1, 2, 4, 2, 3]\n",
            "[1, 2, 3, 4, 5]\n",
            "[9, 0, 1, 6]\n"
          ]
        }
      ]
    },
    {
      "cell_type": "markdown",
      "source": [
        "###problem2\n",
        "\n",
        "input: a list of array\n",
        "\n",
        "output: string of the fiest symmetrical\n",
        "\n",
        "Plan: split the word and then use two pointers to check if they are symmetrical"
      ],
      "metadata": {
        "id": "sdDG3rUy1TzF"
      }
    },
    {
      "cell_type": "code",
      "source": [
        "def is_palindrome(word):\n",
        "  left = 0\n",
        "  right = len(word)-1\n",
        "  while left < right:\n",
        "    if word[left] != word[right]:\n",
        "      return False\n",
        "    left += 1\n",
        "    right -= 1\n",
        "  return True\n",
        "def first_symmetrical_landmark(landmarks):\n",
        "  for word in landmarks:\n",
        "    if is_palindrome(word):\n",
        "      return word\n",
        "  return \"\"\n",
        "\n",
        "\n",
        "\n",
        "\n",
        "print(first_symmetrical_landmark([\"canyon\",\"forest\",\"rotor\",\"mountain\"]))\n",
        "print(first_symmetrical_landmark([\"plateau\",\"valley\",\"cliff\", \"abba\"]))"
      ],
      "metadata": {
        "colab": {
          "base_uri": "https://localhost:8080/"
        },
        "id": "ctEbHkOc1xp6",
        "outputId": "8a66b73e-b243-42bc-b69c-f1878e5b580c"
      },
      "execution_count": null,
      "outputs": [
        {
          "output_type": "stream",
          "name": "stdout",
          "text": [
            "rotor\n",
            "abba\n"
          ]
        }
      ]
    },
    {
      "cell_type": "markdown",
      "source": [
        "###prbolem3\n"
      ],
      "metadata": {
        "id": "H0P7C6EMxSnn"
      }
    },
    {
      "cell_type": "code",
      "source": [
        "def terrain_elevation_match(terrain):\n",
        "    low, high = 0, len(terrain)\n",
        "    elevation = []\n",
        "\n",
        "    for char in terrain:\n",
        "        if char == 'I':\n",
        "            elevation.append(low)\n",
        "            low += 1\n",
        "        else:\n",
        "            elevation.append(high)\n",
        "            high -= 1\n",
        "\n",
        "    elevation.append(low)  # or high, as low and high should be equal here\n",
        "    return elevation\n",
        "\n",
        "# Example usage\n",
        "print(terrain_elevation_match(\"IDID\"))  # Output: [0, 4, 1, 3, 2]\n",
        "print(terrain_elevation_match(\"III\"))   # Output: [0, 1, 2, 3]\n",
        "print(terrain_elevation_match(\"DDDDD\"))"
      ],
      "metadata": {
        "colab": {
          "base_uri": "https://localhost:8080/"
        },
        "id": "mCPlVirExXRZ",
        "outputId": "6ce6856b-521a-434b-d590-1a4b22168029"
      },
      "execution_count": null,
      "outputs": [
        {
          "output_type": "stream",
          "name": "stdout",
          "text": [
            "[0, 4, 1, 3, 2]\n",
            "[0, 1, 2, 3]\n",
            "[5, 4, 3, 2, 1, 0]\n"
          ]
        }
      ]
    },
    {
      "cell_type": "markdown",
      "source": [
        "###problem4\n",
        "input: a list of integer\n",
        "output: the result of the concatenation\n",
        "\n",
        "plan:\n",
        "1. use two pointers to loop through the whole list.\n",
        "2. if the left pointer equal to the right pointer, add it to the result.\n",
        "3. else, combine the left pointer and right pointer and remove them from the result\n",
        "4.return the result\n",
        "\n"
      ],
      "metadata": {
        "id": "ErLfXLdmIhyp"
      }
    },
    {
      "cell_type": "code",
      "source": [
        "def find_the_log_conc_val(logs):\n",
        "  left  =0\n",
        "  right = len(logs)-1\n",
        "  result = 0\n",
        "  while left <= right:\n",
        "    if left == right:\n",
        "      result += logs[left]\n",
        "    else:\n",
        "      result += int( str(logs[left]) + str(logs[right]))\n",
        "    left += 1\n",
        "    right -= 1\n",
        "  return result\n",
        "\n",
        "\n",
        "print(find_the_log_conc_val([7, 52, 2, 4]))\n",
        "print(find_the_log_conc_val([5, 14, 13, 8, 12]))"
      ],
      "metadata": {
        "colab": {
          "base_uri": "https://localhost:8080/"
        },
        "id": "IZXFU5_wK6R9",
        "outputId": "35cec924-a5d3-4339-f788-57851d858439"
      },
      "execution_count": null,
      "outputs": [
        {
          "output_type": "stream",
          "name": "stdout",
          "text": [
            "596\n",
            "673\n"
          ]
        }
      ]
    },
    {
      "cell_type": "markdown",
      "source": [
        "###problem5\n",
        "\n",
        "input: two integer array, one is explorers, one is supplies.\n",
        "\n",
        "output:the integer which is the number of explorers who are unable to gather the supplies\n",
        "\n",
        "Plan:\n",
        "1. queue for th explorers; stack for the resource\n",
        "2. if stack.pop() == deque.front():\n",
        "  dequeue()\n",
        "  else: dequeue() and then enqueue()\n",
        "  count+ 1\n",
        "3. return cnt\n"
      ],
      "metadata": {
        "id": "rb5DxviZNAGe"
      }
    },
    {
      "cell_type": "code",
      "source": [
        "from collections import deque\n",
        "\n",
        "def count_explorers(explorers, supplies):\n",
        "    explorer_queue = deque(explorers)\n",
        "\n",
        "    for supply in supplies:\n",
        "        size = len(explorer_queue)\n",
        "        matched = False\n",
        "\n",
        "        for _ in range(size):\n",
        "            explorer = explorer_queue.popleft() #remove the left\n",
        "            if explorer == supply:\n",
        "                matched = True\n",
        "                break\n",
        "            else:\n",
        "                explorer_queue.append(explorer) # Add to the right\n",
        "        if not matched:\n",
        "            break\n",
        "\n",
        "    return len(explorer_queue)\n",
        "\n",
        "# Example usage\n",
        "print(count_explorers([1, 1, 0, 0], [0, 1, 0, 1]))\n",
        "print(count_explorers([1, 1, 1, 0, 0, 1], [1, 0, 0, 0, 1, 1]))"
      ],
      "metadata": {
        "colab": {
          "base_uri": "https://localhost:8080/"
        },
        "id": "rAaXZiLDSHbl",
        "outputId": "ed0d009c-4555-4d19-d6e8-5990cfb25002"
      },
      "execution_count": null,
      "outputs": [
        {
          "output_type": "stream",
          "name": "stdout",
          "text": [
            "0\n",
            "3\n"
          ]
        }
      ]
    },
    {
      "cell_type": "markdown",
      "metadata": {
        "id": "8254e526"
      },
      "source": [
        "Let's see some of the `collections.deque` methods in action."
      ]
    },
    {
      "cell_type": "code",
      "metadata": {
        "colab": {
          "base_uri": "https://localhost:8080/"
        },
        "id": "21de5f96",
        "outputId": "3111e257-0778-400a-b831-2215d33716d7"
      },
      "source": [
        "from collections import deque\n",
        "\n",
        "# Create a deque\n",
        "my_deque = deque([1, 2, 3, 4, 5])\n",
        "print(f\"Initial deque: {my_deque}\")\n",
        "\n",
        "# Using clear()\n",
        "# my_deque.clear()\n",
        "# print(f\"After clear(): {my_deque}\") # Uncomment to see the effect\n",
        "\n",
        "# Using copy()\n",
        "deque_copy = my_deque.copy()\n",
        "print(f\"Copy of the deque: {deque_copy}\")\n",
        "\n",
        "# Using count()\n",
        "my_deque.extend([1, 2])\n",
        "print(f\"Deque after extending with [1, 2]: {my_deque}\")\n",
        "print(f\"Count of 1: {my_deque.count(1)}\")\n",
        "\n",
        "# Using extend()\n",
        "my_deque.extend([6, 7, 8])\n",
        "print(f\"After extend([6, 7, 8]): {my_deque}\")\n",
        "\n",
        "# Using extendleft()\n",
        "my_deque.extendleft([0, -1])\n",
        "print(f\"After extendleft([0, -1]): {my_deque}\") # Note the order of 0 and -1\n",
        "\n",
        "# Using index()\n",
        "print(f\"Index of 3: {my_deque.index(3)}\")\n",
        "# print(f\"Index of 1 from index 3: {my_deque.index(1, 3)}\") # Find 1 starting from index 3\n",
        "\n",
        "# Using insert()\n",
        "my_deque.insert(5, 99) # Insert 99 at index 5\n",
        "print(f\"After insert(5, 99): {my_deque}\")\n",
        "\n",
        "# Using remove()\n",
        "my_deque.remove(1) # Removes the first occurrence of 1\n",
        "print(f\"After remove(1): {my_deque}\")\n",
        "\n",
        "# Using reverse()\n",
        "my_deque.reverse()\n",
        "print(f\"After reverse(): {my_deque}\")\n",
        "\n",
        "# Using rotate()\n",
        "my_deque.rotate(2) # Rotate 2 steps to the right\n",
        "print(f\"After rotate(2): {my_deque}\")\n",
        "\n",
        "my_deque.rotate(-1) # Rotate 1 step to the left\n",
        "print(f\"After rotate(-1): {my_deque}\")"
      ],
      "execution_count": null,
      "outputs": [
        {
          "output_type": "stream",
          "name": "stdout",
          "text": [
            "Initial deque: deque([1, 2, 3, 4, 5])\n",
            "Copy of the deque: deque([1, 2, 3, 4, 5])\n",
            "Deque after extending with [1, 2]: deque([1, 2, 3, 4, 5, 1, 2])\n",
            "Count of 1: 2\n",
            "After extend([6, 7, 8]): deque([1, 2, 3, 4, 5, 1, 2, 6, 7, 8])\n",
            "After extendleft([0, -1]): deque([-1, 0, 1, 2, 3, 4, 5, 1, 2, 6, 7, 8])\n",
            "Index of 3: 4\n",
            "After insert(5, 99): deque([-1, 0, 1, 2, 3, 99, 4, 5, 1, 2, 6, 7, 8])\n",
            "After remove(1): deque([-1, 0, 2, 3, 99, 4, 5, 1, 2, 6, 7, 8])\n",
            "After reverse(): deque([8, 7, 6, 2, 1, 5, 4, 99, 3, 2, 0, -1])\n",
            "After rotate(2): deque([0, -1, 8, 7, 6, 2, 1, 5, 4, 99, 3, 2])\n",
            "After rotate(-1): deque([-1, 8, 7, 6, 2, 1, 5, 4, 99, 3, 2, 0])\n"
          ]
        }
      ]
    },
    {
      "cell_type": "markdown",
      "metadata": {
        "id": "7a655b67"
      },
      "source": [
        "Here are examples of using `append()`, `popleft()`, `appendleft()`, and `pop()` with `collections.deque`.\n",
        "\n",
        "*   `append(x)`: Adds `x` to the right end of the deque (enqueue).\n",
        "*   `popleft()`: Removes and returns an element from the left end of the deque (dequeue).\n",
        "*   `appendleft(x)`: Adds `x` to the left end of the deque.\n",
        "*   `pop()`: Removes and returns an element from the right end of the deque."
      ]
    },
    {
      "cell_type": "code",
      "metadata": {
        "colab": {
          "base_uri": "https://localhost:8080/"
        },
        "id": "9aba50ce",
        "outputId": "e3924ba4-65c4-4e2f-c8ce-791ab20d75d9"
      },
      "source": [
        "from collections import deque\n",
        "\n",
        "# Create a deque\n",
        "my_deque = deque()\n",
        "print(f\"Initial deque: {my_deque}\")\n",
        "\n",
        "# --- Enqueue (add to the right) using append() ---\n",
        "my_deque.append(10)\n",
        "my_deque.append(20)\n",
        "my_deque.append(30)\n",
        "print(f\"After append(10, 20, 30): {my_deque}\") # Deque looks like: deque([10, 20, 30])\n",
        "\n",
        "# --- Dequeue (remove from the left) using popleft() ---\n",
        "dequeued_item = my_deque.popleft()\n",
        "print(f\"Dequeued item (popleft()): {dequeued_item}\") # Output: 10\n",
        "print(f\"After popleft(): {my_deque}\") # Deque looks like: deque([20, 30])\n",
        "\n",
        "dequeued_item = my_deque.popleft()\n",
        "print(f\"Dequeued item (popleft()): {dequeued_item}\") # Output: 20\n",
        "print(f\"After popleft(): {my_deque}\") # Deque looks like: deque([30])\n",
        "\n",
        "# --- Add to the left using appendleft() ---\n",
        "my_deque.appendleft(40)\n",
        "my_deque.appendleft(50)\n",
        "print(f\"After appendleft(40, 50): {my_deque}\") # Deque looks like: deque([50, 40, 30])\n",
        "\n",
        "# --- Remove from the right using pop() ---\n",
        "popped_item = my_deque.pop()\n",
        "print(f\"Popped item (pop()): {popped_item}\") # Output: 30\n",
        "print(f\"After pop(): {my_deque}\") # Deque looks like: deque([50, 40])\n",
        "\n",
        "popped_item = my_deque.pop()\n",
        "print(f\"Popped item (pop()): {popped_item}\") # Output: 40\n",
        "print(f\"After pop(): {my_deque}\") # Deque looks like: deque([50])"
      ],
      "execution_count": null,
      "outputs": [
        {
          "output_type": "stream",
          "name": "stdout",
          "text": [
            "Initial deque: deque([])\n",
            "After append(10, 20, 30): deque([10, 20, 30])\n",
            "Dequeued item (popleft()): 10\n",
            "After popleft(): deque([20, 30])\n",
            "Dequeued item (popleft()): 20\n",
            "After popleft(): deque([30])\n",
            "After appendleft(40, 50): deque([50, 40, 30])\n",
            "Popped item (pop()): 30\n",
            "After pop(): deque([50, 40])\n",
            "Popped item (pop()): 40\n",
            "After pop(): deque([50])\n"
          ]
        }
      ]
    },
    {
      "cell_type": "markdown",
      "source": [
        "###prolem6\n",
        "Input: binary, 0--> valley 1--> hill\n",
        "Output: the integer that balanced subsectios\n",
        "\n",
        "Plan:\n",
        "1. set the count =0, set the same direction two pointers, if [left] == [right](which is left + 1), cnt +1\n",
        "2. return the cnt\n",
        "3. caution: the right should not exit the range\n",
        "\n",
        "terrain 地形\n",
        "\n",
        "String: Immutable, \"chracter\"\n",
        "Array(list in python): mutable, could add remove or change elements after the array.list being created"
      ],
      "metadata": {
        "id": "1pKB8C9_hOdu"
      }
    },
    {
      "cell_type": "code",
      "source": [
        "def count_balanced_terrain_subsections(terrain):\n",
        "    count = 0\n",
        "    for i in range(len(terrain) - 1):\n",
        "        # Check for adjacent differing characters\n",
        "        if terrain[i] != terrain[i+1]:\n",
        "            # Expand outwards from the pair\n",
        "            left = i\n",
        "            right = i + 1\n",
        "            while left >= 0 and right < len(terrain) and terrain[left] == terrain[i] and terrain[right] == terrain[i+1]:\n",
        "                count += 1\n",
        "                left -= 1\n",
        "                right += 1\n",
        "    return count\n",
        "\n",
        "\n",
        "print(count_balanced_terrain_subsections(\"00110011\"))\n",
        "print(count_balanced_terrain_subsections(\"10101\"))\n",
        "print(count_balanced_terrain_subsections(\"000111000\"))"
      ],
      "metadata": {
        "colab": {
          "base_uri": "https://localhost:8080/"
        },
        "id": "9No8eYoxjk4e",
        "outputId": "70f37c9e-d6fe-40bd-b80f-25244926c10c"
      },
      "execution_count": null,
      "outputs": [
        {
          "output_type": "stream",
          "name": "stdout",
          "text": [
            "6\n",
            "4\n",
            "6\n"
          ]
        }
      ]
    },
    {
      "cell_type": "code",
      "source": [
        "def count_balanced_terrain_subsections(terrain):\n",
        "    stack = []\n",
        "    count = 0\n",
        "    curr_count = 1\n",
        "\n",
        "    for i in range(1, len(terrain)):\n",
        "        if terrain[i] == terrain[i - 1]:\n",
        "            curr_count += 1\n",
        "        else:\n",
        "            if stack:\n",
        "                count += min(stack.pop(), curr_count)\n",
        "            stack.append(curr_count)\n",
        "            curr_count = 1\n",
        "\n",
        "    if stack:\n",
        "        count += min(stack.pop(), curr_count)\n",
        "\n",
        "    return count\n",
        "\n",
        "# Example usage\n",
        "print(count_balanced_terrain_subsections(\"00110011\"))  # Output: 6\n",
        "print(count_balanced_terrain_subsections(\"10101\"))     # Output: 4\n",
        "print(count_balanced_terrain_subsections(\"000111000\"))\n",
        "print(count_balanced_terrain_subsections(\"000010\"))"
      ],
      "metadata": {
        "id": "hE-XihR1vBFn",
        "colab": {
          "base_uri": "https://localhost:8080/"
        },
        "outputId": "91e51210-76d6-469c-991c-9f4df9177101"
      },
      "execution_count": null,
      "outputs": [
        {
          "output_type": "stream",
          "name": "stdout",
          "text": [
            "6\n",
            "4\n",
            "6\n",
            "2\n"
          ]
        }
      ]
    },
    {
      "cell_type": "code",
      "source": [
        "# prompt: if use stack to solve the terrain problem how it would like\n",
        "\n",
        "def trap(height):\n",
        "    \"\"\"\n",
        "    Calculates the amount of trapped rainwater using a stack-based approach.\n",
        "\n",
        "    Args:\n",
        "        height: A list of integers representing the elevation map.\n",
        "\n",
        "    Returns:\n",
        "        The total amount of trapped rainwater.\n",
        "    \"\"\"\n",
        "    stack = []\n",
        "    water = 0\n",
        "    for i in range(len(height)):\n",
        "        while stack and height[i] > height[stack[-1]]:\n",
        "            top = stack.pop()\n",
        "            if not stack:\n",
        "                break\n",
        "            distance = i - stack[-1] - 1\n",
        "            bounded_height = min(height[i], height[stack[-1]]) - height[top]\n",
        "            water += distance * bounded_height\n",
        "        stack.append(i)\n",
        "    return water\n",
        "\n",
        "# Example Usage:\n",
        "print(trap([0, 1, 0, 2, 1, 0, 1, 3, 2, 1, 2, 1])) # Output: 6\n",
        "print(trap([4, 2, 0, 3, 2, 5])) # Output: 9\n"
      ],
      "metadata": {
        "id": "5OuQg2f7th2_"
      },
      "execution_count": null,
      "outputs": []
    },
    {
      "cell_type": "markdown",
      "source": [
        "###problem 7\n",
        "\n",
        "input: a list of string\n",
        "output: the position of the index of the target in the input\n",
        "\n",
        "Plan:Two pointers or stack\n",
        "1. two pointer, left and right at the same position which is 0, and if the character meet, move right one step, if at the end, left and right have the len of target, return true\n",
        "2. stack, store the target in the stack, if all of the element pop up and then stack is empty, return true.\n"
      ],
      "metadata": {
        "id": "FmCkzDF32YNv"
      }
    },
    {
      "cell_type": "code",
      "source": [
        "#\n",
        "def is_prefix_of_signal(transmission, searchSignal):\n",
        "  words = transmission.split()\n",
        "  for i, word in enumerate(words):\n",
        "    if word.startswith(searchSignal):\n",
        "      return i+1\n",
        "\n",
        "  return -1\n",
        "\n",
        "print(is_prefix_of_signal(\"i love eating burger\", \"burg\"))\n",
        "print(is_prefix_of_signal(\"this problem is an easy problem\", \"pro\"))\n",
        "print(is_prefix_of_signal(\"i am tired\", \"you\"))"
      ],
      "metadata": {
        "colab": {
          "base_uri": "https://localhost:8080/"
        },
        "id": "yxDyi73i2hD_",
        "outputId": "6cf92d4e-48ba-4978-cb6b-4d851080c0e3"
      },
      "execution_count": null,
      "outputs": [
        {
          "output_type": "stream",
          "name": "stdout",
          "text": [
            "4\n",
            "2\n",
            "-1\n"
          ]
        }
      ]
    },
    {
      "cell_type": "code",
      "metadata": {
        "colab": {
          "base_uri": "https://localhost:8080/"
        },
        "id": "096639a0",
        "outputId": "15e65ed3-6bc1-402e-de23-726eee86f42a"
      },
      "source": [
        "my_string = \"Boost your engagement with these tips\"\n",
        "\n",
        "# Check if the string starts with \"Boost\"\n",
        "print(my_string.startswith(\"Boost\"))\n",
        "\n",
        "# Check if the string starts with \"boost\" (case-sensitive)\n",
        "print(my_string.startswith(\"boost\"))\n",
        "\n",
        "# Check if the string starts with \"Engage\"\n",
        "print(my_string.startswith(\"Engage\"))\n",
        "\n",
        "# Check with a starting position\n",
        "print(my_string.startswith(\"your\", 6)) # Check if it starts with \"your\" from index 6\n",
        "\n",
        "# Check with a tuple of prefixes\n",
        "print(my_string.startswith((\"Boost\", \"Check\")))\n",
        "print(my_string.startswith((\"Check\", \"Verify\")))"
      ],
      "execution_count": null,
      "outputs": [
        {
          "output_type": "stream",
          "name": "stdout",
          "text": [
            "True\n",
            "False\n",
            "False\n",
            "True\n",
            "True\n",
            "False\n"
          ]
        }
      ]
    },
    {
      "cell_type": "code",
      "metadata": {
        "colab": {
          "base_uri": "https://localhost:8080/"
        },
        "id": "bae1ae16",
        "outputId": "1bdccbf5-2694-4a7e-89c2-baec5a7f71f9"
      },
      "source": [
        "my_string = \"This is a sample string.txt\"\n",
        "\n",
        "# Check if the string ends with \".txt\"\n",
        "print(my_string.endswith(\".txt\"))\n",
        "\n",
        "# Check if the string ends with \".csv\"\n",
        "print(my_string.endswith(\".csv\"))\n",
        "\n",
        "# Check with a tuple of suffixes\n",
        "print(my_string.endswith((\".txt\", \".csv\")))\n",
        "# the line print(my_string.endswith((\".txt\", \".csv\"))) is checking if the my_string variable ends with either \".txt\" OR \".csv\".\n",
        "\n",
        "# Check with a specific range (from index 0 up to, but not including, index 20)\n",
        "print(my_string.endswith(\"string\", 0, 20))\n",
        "\n",
        "# Check with a specific range (from index 0 up to, but not including, index 21)\n",
        "print(my_string.endswith(\"string\", 0, 21))"
      ],
      "execution_count": null,
      "outputs": [
        {
          "output_type": "stream",
          "name": "stdout",
          "text": [
            "True\n",
            "False\n",
            "True\n",
            "False\n",
            "False\n"
          ]
        }
      ]
    },
    {
      "cell_type": "markdown",
      "source": [
        "### Assignment standardB test"
      ],
      "metadata": {
        "id": "wH6j8Z8xHGrE"
      }
    },
    {
      "cell_type": "markdown",
      "source": [],
      "metadata": {
        "id": "I1hdbUAaHKpR"
      }
    },
    {
      "source": [
        "my_list = [3, 1, 4, 1, 5, 9, 2]\n",
        "my_list.sort() # Sorts the list in place\n",
        "print(my_list) # Output: [1, 1, 2, 3, 4, 5, 9]"
      ],
      "cell_type": "code",
      "metadata": {
        "id": "RkbyOaKpIym_"
      },
      "execution_count": null,
      "outputs": []
    },
    {
      "source": [
        "my_list = [3, 1, 4, 1, 5, 9, 2]\n",
        "new_sorted_list = sorted(my_list) # Returns a new sorted list\n",
        "print(my_list) # Output: [3, 1, 4, 1, 5, 9, 2] (Original list is unchanged)\n",
        "print(new_sorted_list) # Output: [1, 1, 2, 3, 4, 5, 9]"
      ],
      "cell_type": "code",
      "metadata": {
        "id": "k5eIdKnyIzak"
      },
      "execution_count": null,
      "outputs": []
    },
    {
      "cell_type": "code",
      "metadata": {
        "colab": {
          "base_uri": "https://localhost:8080/"
        },
        "id": "ca43fbac",
        "outputId": "ed031530-b189-4f0e-bd05-91a0a89a58d0"
      },
      "source": [
        "def remove_duplicates_sorted(nums):\n",
        "  \"\"\"\n",
        "  Removes duplicate elements from a sorted list in-place using two pointers.\n",
        "  The function modifies the input list and returns the number of unique elements.\n",
        "\n",
        "  Args:\n",
        "    nums: A sorted list of integers.\n",
        "\n",
        "  Returns:\n",
        "    The number of unique elements in the modified list.\n",
        "  \"\"\"\n",
        "  if not nums:\n",
        "    return 0\n",
        "\n",
        "  write_idx = 0 # Pointer for the position of the next unique element\n",
        "\n",
        "  # The read_idx iterates through all elements starting from the second one\n",
        "  for read_idx in range(1, len(nums)):\n",
        "    # If the current element is different from the last unique element found\n",
        "    if nums[read_idx] != nums[write_idx]:\n",
        "      write_idx += 1 # Move the write pointer forward\n",
        "      nums[write_idx] = nums[read_idx] # Place the unique element at the write pointer's position\n",
        "\n",
        "  # The number of unique elements is write_idx + 1\n",
        "  return write_idx + 1\n",
        "\n",
        "# Example Usage:\n",
        "nums1 = [1, 1, 2]\n",
        "unique_count1 = remove_duplicates_sorted(nums1)\n",
        "print(f\"Original list: [1, 1, 2]\")\n",
        "print(f\"List after removing duplicates (first {unique_count1} elements are unique): {nums1[:unique_count1]}\")\n",
        "print(f\"Number of unique elements: {unique_count1}\")\n",
        "\n",
        "print(\"-\" * 20)\n",
        "\n",
        "nums2 = [0, 0, 1, 1, 1, 2, 2, 3, 3, 4]\n",
        "unique_count2 = remove_duplicates_sorted(nums2)\n",
        "print(f\"Original list: [0, 0, 1, 1, 1, 2, 2, 3, 3, 4]\")\n",
        "print(f\"List after removing duplicates (first {unique_count2} elements are unique): {nums2[:unique_count2]}\")\n",
        "print(f\"Number of unique elements: {unique_count2}\")\n",
        "\n",
        "print(\"-\" * 20)\n",
        "\n",
        "nums3 = [1, 2, 3, 4, 5]\n",
        "unique_count3 = remove_duplicates_sorted(nums3)\n",
        "print(f\"Original list: [1, 2, 3, 4, 5]\")\n",
        "print(f\"List after removing duplicates (first {unique_count3} elements are unique): {nums3[:unique_count3]}\")\n",
        "print(f\"Number of unique elements: {unique_count3}\")"
      ],
      "execution_count": null,
      "outputs": [
        {
          "output_type": "stream",
          "name": "stdout",
          "text": [
            "Original list: [1, 1, 2]\n",
            "List after removing duplicates (first 2 elements are unique): [1, 2]\n",
            "Number of unique elements: 2\n",
            "--------------------\n",
            "Original list: [0, 0, 1, 1, 1, 2, 2, 3, 3, 4]\n",
            "List after removing duplicates (first 5 elements are unique): [0, 1, 2, 3, 4]\n",
            "Number of unique elements: 5\n",
            "--------------------\n",
            "Original list: [1, 2, 3, 4, 5]\n",
            "List after removing duplicates (first 5 elements are unique): [1, 2, 3, 4, 5]\n",
            "Number of unique elements: 5\n"
          ]
        }
      ]
    },
    {
      "cell_type": "code",
      "metadata": {
        "colab": {
          "base_uri": "https://localhost:8080/"
        },
        "id": "926b7f8c",
        "outputId": "3ba3650e-b2d0-4021-dcba-41be5c0f1f7a"
      },
      "source": [
        "def intersection_two_arrays(nums1, nums2):\n",
        "  \"\"\"\n",
        "  Finds the unique intersection of two sorted arrays using the two-pointer technique.\n",
        "\n",
        "  Args:\n",
        "    nums1: The first sorted list of integers.\n",
        "    nums2: The second sorted list of integers.\n",
        "\n",
        "  Returns:\n",
        "    A list containing the unique elements present in both input lists.\n",
        "  \"\"\"\n",
        "  # Ensure both arrays are sorted (if they aren't already)\n",
        "  nums1.sort() # In-place sort, O(N log N)\n",
        "  nums2.sort() # In-place sort, O(M log M)\n",
        "\n",
        "  intersection = []\n",
        "  pointer1 = 0\n",
        "  pointer2 = 0\n",
        "\n",
        "  while pointer1 < len(nums1) and pointer2 < len(nums2):\n",
        "    # Skip duplicates in nums1\n",
        "    while pointer1 > 0 and pointer1 < len(nums1) and nums1[pointer1] == nums1[pointer1 - 1]:\n",
        "        pointer1 += 1\n",
        "    if pointer1 == len(nums1): break # Added check after skipping duplicates\n",
        "\n",
        "    # Skip duplicates in nums2\n",
        "    while pointer2 > 0 and pointer2 < len(nums2) and nums2[pointer2] == nums2[pointer2 - 1]:\n",
        "        pointer2 += 1\n",
        "    if pointer2 == len(nums2): break # Added check after skipping duplicates\n",
        "\n",
        "\n",
        "    if nums1[pointer1] < nums2[pointer2]:\n",
        "      pointer1 += 1\n",
        "    elif nums1[pointer1] > nums2[pointer2]:\n",
        "      pointer2 += 1\n",
        "    else: # elements are equal\n",
        "      # Add the element only if it's not the same as the last element added (for uniqueness)\n",
        "      # However, with the duplicate skipping logic above, we can just append.\n",
        "      # The check `while pointer1 > 0 and ...` ensures we are at the first occurrence of a unique element.\n",
        "      intersection.append(nums1[pointer1])\n",
        "      pointer1 += 1\n",
        "      pointer2 += 1\n",
        "\n",
        "  return intersection\n",
        "\n",
        "# Example Usage:\n",
        "nums1_example1 = [1, 2, 2, 1]\n",
        "nums2_example1 = [2, 2]\n",
        "print(f\"Unique intersection of {nums1_example1} and {nums2_example1}: {intersection_two_arrays(nums1_example1, nums2_example1)}\")\n",
        "\n",
        "nums1_example2 = [4, 9, 5]\n",
        "nums2_example2 = [9, 4, 9, 8, 4]\n",
        "print(f\"Unique intersection of {nums1_example2} and {nums2_example2}: {intersection_two_arrays(nums1_example2, nums2_example2)}\")\n",
        "\n",
        "nums1_example3 = [1, 1, 1, 2, 2, 3, 4, 4]\n",
        "nums2_example3 = [1, 2, 2, 4, 5, 5]\n",
        "print(f\"Unique intersection of {nums1_example3} and {nums2_example3}: {intersection_two_arrays(nums1_example3, nums2_example3)}\")"
      ],
      "execution_count": null,
      "outputs": [
        {
          "output_type": "stream",
          "name": "stdout",
          "text": [
            "Unique intersection of [1, 2, 2, 1] and [2, 2]: [2]\n",
            "Unique intersection of [4, 9, 5] and [9, 4, 9, 8, 4]: [4, 9]\n",
            "Unique intersection of [1, 1, 1, 2, 2, 3, 4, 4] and [1, 2, 2, 4, 5, 5]: [1, 2, 4]\n"
          ]
        }
      ]
    }
  ]
}