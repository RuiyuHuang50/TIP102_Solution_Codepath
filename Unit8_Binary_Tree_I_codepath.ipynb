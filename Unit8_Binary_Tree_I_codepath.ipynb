{
  "nbformat": 4,
  "nbformat_minor": 0,
  "metadata": {
    "colab": {
      "provenance": [],
      "authorship_tag": "ABX9TyMxS+qIrfVE5nEQRkiDvHWw",
      "include_colab_link": true
    },
    "kernelspec": {
      "name": "python3",
      "display_name": "Python 3"
    },
    "language_info": {
      "name": "python"
    }
  },
  "cells": [
    {
      "cell_type": "markdown",
      "metadata": {
        "id": "view-in-github",
        "colab_type": "text"
      },
      "source": [
        "<a href=\"https://colab.research.google.com/github/RuiyuHuang50/TIP102_Solution_Codepath/blob/main/Unit8_Binary_Tree_I_codepath.ipynb\" target=\"_parent\"><img src=\"https://colab.research.google.com/assets/colab-badge.svg\" alt=\"Open In Colab\"/></a>"
      ]
    },
    {
      "cell_type": "markdown",
      "source": [
        "#Cheatsheet\n"
      ],
      "metadata": {
        "id": "orzj1zyFRC1t"
      }
    },
    {
      "cell_type": "markdown",
      "source": [
        "##Binary Trees\n",
        "* Non-linear data structure\n",
        "* Like LL, trees are made up of nodes that store a piece of data"
      ],
      "metadata": {
        "id": "8uYz_c25UeyX"
      }
    },
    {
      "cell_type": "markdown",
      "source": [
        "\n",
        "\n",
        "### Binary tree stracture\n",
        "- Each node in binary tree can point up to two other nodes\n",
        "- Child and parent node\n",
        "\n",
        "```\n",
        "class TreeNode():\n",
        "  def __init__(self, value,left = None, right = None):\n",
        "    self.value = value\n",
        "    self.left = left\n",
        "    self.right = right\n",
        "\n",
        "```\n",
        "\n",
        "###Tree Terminology\n",
        "* root\n",
        "* leaf: a node with no children\n",
        "- edge: the reference or pointer(path) between a parent and child node\n",
        "- height: the maximum number of edges it taks to travel from a leaf node to the root\n",
        "- level: al the node at the same height in the tree\n",
        "- descendent : a node in the current node's subtree\n",
        "- sibling: two nodes that share a parent\n",
        "\n",
        "### Balanced trees\n",
        " a tree which the height difference between the left and right is at most one and both subtrees are also balanced\n",
        "\n",
        "### Tree Traversal\n",
        "Preorder: current- left - right\n",
        "Inorder : left - cur - right\n",
        "Postorder: left - right - cur\n",
        "\n",
        "\n",
        "\n"
      ],
      "metadata": {
        "id": "y0OIpoygRiUj"
      }
    },
    {
      "cell_type": "markdown",
      "source": [
        "###Binary Search Trees\n",
        "BST is a type of binary tree that organized nodes in a specific way to make search, insert and delete nodes from the tree in a O of logn time\n",
        "\n",
        "* All nodes in the left subtree of a node contain values less than the node's value\n",
        "* All nodes in the rigtht subtree of a node greater than the node's value\n",
        "\n"
      ],
      "metadata": {
        "id": "hxOWSRHkUiMb"
      }
    },
    {
      "cell_type": "code",
      "execution_count": null,
      "metadata": {
        "id": "g6YzTP0aQvXC"
      },
      "outputs": [],
      "source": [
        "class Node():\n",
        "     def __init__(self, key, value=0, left=None, right=None):\n",
        "        self.key = key\n",
        "        self.value = value\n",
        "        self.left = left\n",
        "        self.right = right\n",
        "\n",
        "# Creates the following tree :\n",
        "# By Key:        By Value:\n",
        "#     1              Yoda\n",
        "#    / \\            /   \\\n",
        "#   2   3         Luke  R2D2\n",
        "\n",
        "\n",
        "z = Node(2, 'Yoda')\n",
        "x = Node(1, 'Luke')\n",
        "y = Node(3, 'R2D2')\n",
        "\n"
      ]
    },
    {
      "cell_type": "code",
      "source": [
        "class TreeNode():\n",
        "     def __init__(self, key, value=0, left=None, right=None):\n",
        "        self.key = key\n",
        "        self.value = value\n",
        "        self.left = left\n",
        "        self.right = right\n",
        "\n",
        "def search_bst(node, key):\n",
        "    # Base case: node is None or we find the key\n",
        "    if node is None or node.key == key:\n",
        "        return node\n",
        "\n",
        "    # If the key to be found is less than the current node's key, search in the left subtree\n",
        "    if key < node.key:\n",
        "        return search_bst(node.left, key)\n",
        "\n",
        "    # If the key to be found is greater than the current node's key, search in the right subtree\n",
        "    return search_bst(node.right, key)"
      ],
      "metadata": {
        "id": "AXMDJeHGVkOG"
      },
      "execution_count": null,
      "outputs": []
    },
    {
      "cell_type": "markdown",
      "source": [
        "### Underscore\n",
        "Single underscore after the name, avoid the cconflict between python default keyword. Like ' class_'\n",
        "\n",
        "Before the name, it is intended to be private or for internal use only.\n",
        "\n"
      ],
      "metadata": {
        "id": "5zSttTynVzyI"
      }
    },
    {
      "cell_type": "code",
      "source": [
        "# Single Underscore is used as the placehold in loopo, ignore the values, store the result\n",
        "\n",
        "# Ignore a value of specific location/index\n",
        "for _ in range(10):\n",
        "    print (\"Test\")\n"
      ],
      "metadata": {
        "colab": {
          "base_uri": "https://localhost:8080/"
        },
        "id": "9AlFm4pLV2Gm",
        "outputId": "3f523c23-19bf-45fd-a635-d205200c5b63"
      },
      "execution_count": null,
      "outputs": [
        {
          "output_type": "stream",
          "name": "stdout",
          "text": [
            "Test\n",
            "Test\n",
            "Test\n",
            "Test\n",
            "Test\n",
            "Test\n",
            "Test\n",
            "Test\n",
            "Test\n",
            "Test\n"
          ]
        }
      ]
    },
    {
      "cell_type": "markdown",
      "source": [
        "#Session 1\n"
      ],
      "metadata": {
        "id": "kZ1dencsqk55"
      }
    },
    {
      "cell_type": "markdown",
      "source": [
        "##Standard 1\n"
      ],
      "metadata": {
        "id": "Vq-pFAYUqm58"
      }
    },
    {
      "cell_type": "code",
      "source": [
        "#problem1 Grafting Apples\n",
        "class TreeNode:\n",
        "    def __init__(self, value, left=None, right=None):\n",
        "        self.val = value\n",
        "        self.left = left\n",
        "        self.right = right\n",
        "\n",
        "root = TreeNode(\"Trunk\")\n",
        "root.left = TreeNode(\"MC\")\n",
        "root.right = TreeNode(\"GR\")\n",
        "root.left.left = TreeNode(\"Fuji\")\n",
        "root.left.right = TreeNode(\"OP\")\n",
        "root.right.left = TreeNode(\"Cr\")\n",
        "root.right.right = TreeNode(\"GA\")\n"
      ],
      "metadata": {
        "id": "I-9E8iAOWYq5"
      },
      "execution_count": null,
      "outputs": []
    },
    {
      "cell_type": "code",
      "source": [
        "#Problem2 Calculating Yield\n",
        "#The root have the string of mathematrical sign\n",
        "# The left node represent integer\n",
        "class TreeNode:\n",
        "    def __init__(self, value, left=None, right=None):\n",
        "        self.val = value\n",
        "        self.left = left\n",
        "        self.right = right\n",
        "\n",
        "def calculate_yield(root):\n",
        "  if root.val == \"+\":\n",
        "    return root.left.val + root.right.val\n",
        "  elif root.val == '-':\n",
        "    return root.left.val - root.right.val\n",
        "  elif root.val == '*':\n",
        "    return root.left.val * root.right.val\n",
        "  elif root.val == '/':\n",
        "    return root.left.vla / root.right.val\n",
        "\n",
        "\"\"\"\n",
        "    +\n",
        "  /   \\\n",
        " 7     5\n",
        "\"\"\"\n",
        "apple_tree = TreeNode(\"+\", TreeNode(7), TreeNode(5))\n",
        "\n",
        "print(calculate_yield(apple_tree))"
      ],
      "metadata": {
        "colab": {
          "base_uri": "https://localhost:8080/"
        },
        "id": "RCZ0ey0zsFvC",
        "outputId": "67824daf-b5a7-4d27-f226-cbbf3de53458"
      },
      "execution_count": null,
      "outputs": [
        {
          "output_type": "stream",
          "name": "stdout",
          "text": [
            "12\n"
          ]
        }
      ]
    },
    {
      "cell_type": "code",
      "source": [
        "#problem3 Ivy Cutting\n",
        "#Input\n",
        "class TreeNode:\n",
        "    def __init__(self, value, left=None, right=None):\n",
        "        self.val = value\n",
        "        self.left = left\n",
        "        self.right = right\n",
        "\n",
        "def right_vine(root):\n",
        "  result = []\n",
        "  cur = root\n",
        "  while cur:\n",
        "    result.append(cur.val)\n",
        "    if cur.right:\n",
        "      cur = cur.right\n",
        "    else:\n",
        "      break\n",
        "  return result\n",
        "\n",
        "\n",
        "\"\"\"\n",
        "        Root\n",
        "      /      \\\n",
        "    Node1    Node2\n",
        "  /         /    \\\n",
        "Leaf1    Leaf2  Leaf3\n",
        "\"\"\"\n",
        "ivy1 = TreeNode(\"Root\",\n",
        "                TreeNode(\"Node1\", TreeNode(\"Leaf1\")),\n",
        "                TreeNode(\"Node2\", TreeNode(\"Leaf2\"), TreeNode(\"Leaf3\")))\n",
        "\n",
        "\"\"\"\n",
        "      Root\n",
        "      /\n",
        "    Node1\n",
        "    /\n",
        "  Leaf1\n",
        "\"\"\"\n",
        "ivy2 = TreeNode(\"Root\", TreeNode(\"Node1\", TreeNode(\"Leaf1\")))\n",
        "\n",
        "print(right_vine(ivy1))\n",
        "print(right_vine(ivy2))"
      ],
      "metadata": {
        "colab": {
          "base_uri": "https://localhost:8080/"
        },
        "id": "g_1W50kmteeU",
        "outputId": "0d2d2fed-67de-427d-88a4-fe71d7fe6826"
      },
      "execution_count": null,
      "outputs": [
        {
          "output_type": "stream",
          "name": "stdout",
          "text": [
            "['Root', 'Node2', 'Leaf3']\n",
            "['Root']\n"
          ]
        }
      ]
    },
    {
      "cell_type": "markdown",
      "metadata": {
        "id": "f5283a7e"
      },
      "source": [
        "To illustrate, let's first define a helper function to calculate the height of a binary tree. Remember, the height is the maximum number of edges from the root to a leaf node."
      ]
    },
    {
      "cell_type": "code",
      "metadata": {
        "id": "ba0c6c6d"
      },
      "source": [
        "class TreeNode:\n",
        "    def __init__(self, value, left=None, right=None):\n",
        "        self.val = value\n",
        "        self.left = left\n",
        "        self.right = right\n",
        "\n",
        "def tree_height(root):\n",
        "    if root is None:\n",
        "        return -1 # Height of an empty tree is -1\n",
        "    return 1 + max(tree_height(root.left), tree_height(root.right))"
      ],
      "execution_count": null,
      "outputs": []
    },
    {
      "cell_type": "markdown",
      "metadata": {
        "id": "7e470152"
      },
      "source": [
        "Now, let's create some example trees – one balanced and one unbalanced – and calculate their heights."
      ]
    },
    {
      "cell_type": "code",
      "metadata": {
        "colab": {
          "base_uri": "https://localhost:8080/"
        },
        "id": "a237e678",
        "outputId": "59793402-0118-4f59-f030-76c7c108bdce"
      },
      "source": [
        "# Example 1: A balanced binary tree\n",
        "#      4\n",
        "#     / \\\n",
        "#    2   6\n",
        "#   / \\ / \\\n",
        "#  1  3 5  7\n",
        "balanced_root = TreeNode(4)\n",
        "balanced_root.left = TreeNode(2, TreeNode(1), TreeNode(3))\n",
        "balanced_root.right = TreeNode(6, TreeNode(5), TreeNode(7))\n",
        "\n",
        "print(\"Height of balanced tree:\", tree_height(balanced_root))\n",
        "\n",
        "# Example 2: An unbalanced binary tree (skewed to the left)\n",
        "#        5\n",
        "#       /\n",
        "#      4\n",
        "#     /\n",
        "#    3\n",
        "#   /\n",
        "#  2\n",
        "# /\n",
        "# 1\n",
        "unbalanced_root = TreeNode(5)\n",
        "unbalanced_root.left = TreeNode(4)\n",
        "unbalanced_root.left.left = TreeNode(3)\n",
        "unbalanced_root.left.left.left = TreeNode(2)\n",
        "unbalanced_root.left.left.left.left = TreeNode(1)\n",
        "\n",
        "print(\"Height of unbalanced tree:\", tree_height(unbalanced_root))"
      ],
      "execution_count": null,
      "outputs": [
        {
          "output_type": "stream",
          "name": "stdout",
          "text": [
            "Height of balanced tree: 2\n",
            "Height of unbalanced tree: 4\n"
          ]
        }
      ]
    },
    {
      "cell_type": "markdown",
      "metadata": {
        "id": "a5182f21"
      },
      "source": [
        "As you can see from the output, the balanced tree has a significantly smaller height compared to the unbalanced tree, even with a similar number of nodes.\n",
        "\n",
        "Now, let's write a function to check if a binary tree is balanced. This function will recursively check the height difference of the left and right subtrees for every node."
      ]
    },
    {
      "cell_type": "code",
      "metadata": {
        "id": "bc39d3bc"
      },
      "source": [
        "def is_balanced(root):\n",
        "    if root is None:\n",
        "        return True # An empty tree is balanced\n",
        "\n",
        "    left_height = tree_height(root.left)\n",
        "    right_height = tree_height(root.right)\n",
        "\n",
        "    # Check if the current node is balanced and if its subtrees are also balanced\n",
        "    if abs(left_height - right_height) <= 1 and \\\n",
        "       is_balanced(root.left) and \\\n",
        "       is_balanced(root.right):\n",
        "        return True\n",
        "\n",
        "    return False"
      ],
      "execution_count": null,
      "outputs": []
    },
    {
      "cell_type": "markdown",
      "metadata": {
        "id": "83190b02"
      },
      "source": [
        "Finally, let's test our `is_balanced` function on the example trees we created earlier."
      ]
    },
    {
      "cell_type": "code",
      "metadata": {
        "colab": {
          "base_uri": "https://localhost:8080/"
        },
        "id": "79949373",
        "outputId": "fccfcb31-ca6c-491e-db82-636b1111f4a4"
      },
      "source": [
        "print(\"Is the balanced tree balanced?\", is_balanced(balanced_root))\n",
        "print(\"Is the unbalanced tree balanced?\", is_balanced(unbalanced_root))"
      ],
      "execution_count": null,
      "outputs": [
        {
          "output_type": "stream",
          "name": "stdout",
          "text": [
            "Is the balanced tree balanced? True\n",
            "Is the unbalanced tree balanced? False\n"
          ]
        }
      ]
    },
    {
      "cell_type": "code",
      "source": [
        "#problem4 Ivy Cutting2 Recursive way\n",
        "#Time complexity: OH\n",
        "#Space Complexity: O(H)\n",
        "\n",
        "class TreeNode:\n",
        "    def __init__(self, value, left=None, right=None):\n",
        "        self.val = value\n",
        "        self.left = left\n",
        "        self.right = right\n",
        "\n",
        "def right_vine(root):\n",
        "  if root is None:\n",
        "    return []\n",
        "  return [root.val] + right_vine(root.right)\n",
        "\n",
        "\n",
        "\"\"\"\n",
        "        Root\n",
        "      /      \\\n",
        "    Node1    Node2\n",
        "  /         /    \\\n",
        "Leaf1    Leaf2  Leaf3\n",
        "\"\"\"\n",
        "ivy1 = TreeNode(\"Root\",\n",
        "                TreeNode(\"Node1\", TreeNode(\"Leaf1\")),\n",
        "                TreeNode(\"Node2\", TreeNode(\"Leaf2\"), TreeNode(\"Leaf3\")))\n",
        "\n",
        "\"\"\"\n",
        "      Root\n",
        "      /\n",
        "    Node1\n",
        "    /\n",
        "  Leaf1\n",
        "\"\"\"\n",
        "ivy2 = TreeNode(\"Root\", TreeNode(\"Node1\", TreeNode(\"Leaf1\")))\n",
        "\n",
        "print(right_vine(ivy1))\n",
        "print(right_vine(ivy2))"
      ],
      "metadata": {
        "colab": {
          "base_uri": "https://localhost:8080/"
        },
        "id": "rwEftb4Yua01",
        "outputId": "23a16475-0368-4247-a14e-c36ad71de4b5"
      },
      "execution_count": null,
      "outputs": [
        {
          "output_type": "stream",
          "name": "stdout",
          "text": [
            "['Root', 'Node2', 'Leaf3']\n",
            "['Root']\n"
          ]
        }
      ]
    },
    {
      "cell_type": "markdown",
      "source": [
        "##Assignment\n"
      ],
      "metadata": {
        "id": "gAjlstBvUGTx"
      }
    },
    {
      "cell_type": "code",
      "source": [
        "#Assignment 1 Inorder traversal\n",
        "class TreeNode:\n",
        "    def __init__(self, val=0, left =None, right =None):\n",
        "        self.val = val\n",
        "        self.left = left\n",
        "        self.right = right\n",
        "\n",
        "def inorder_traversal(root):\n",
        "    result =[]\n",
        "    def traversal(node):\n",
        "        if not node:\n",
        "            return\n",
        "        traversal(node.left)\n",
        "        result.append(node.val)\n",
        "        traversal(node.right)\n",
        "    traversal(root)\n",
        "    return result"
      ],
      "metadata": {
        "id": "IadI-_dvUIyZ"
      },
      "execution_count": null,
      "outputs": []
    }
  ]
}